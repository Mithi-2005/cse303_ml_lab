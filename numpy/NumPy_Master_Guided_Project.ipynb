{
 "cells": [
  {
   "cell_type": "markdown",
   "id": "20dc80e4",
   "metadata": {},
   "source": [
    "# 🧑‍💻 NumPy Complete Guided Project\n",
    "**Instructor / Student Colab Notebook** – covers *all* key concepts from `Numpy‑1` to `Numpy‑5`.\n",
    "\n",
    "*Generated: 08 Aug 2025*"
   ]
  },
  {
   "cell_type": "markdown",
   "id": "e8b8b6cf",
   "metadata": {},
   "source": [
    "\n",
    "**Table of Contents**\n",
    "\n",
    "1. [Setup](#setup)  \n",
    "2. [Array Creation & Dtypes](#creation)  \n",
    "3. [Array Attributes & Inspection](#attributes)  \n",
    "4. [Indexing, Slicing, Fancy Indexing](#indexing)  \n",
    "5. [Reshaping, Transpose & Copies vs Views](#reshape)  \n",
    "6. [Joining, Splitting, Set & Sorting Ops](#join)  \n",
    "7. [Arithmetic Ops, Universal Functions](#arithmetic)  \n",
    "8. [Broadcasting (Rules + Examples)](#broadcast)  \n",
    "9. [Statistics & Aggregations](#stats)  \n",
    "10. [Random Numbers & Reproducibility](#random)  \n",
    "11. [Structured / Recarrays](#structured)  \n",
    "12. [Linear Algebra Essentials](#linalg)  \n",
    "13. [File I/O (`npy`, `npz`, `txt`)](#io)  \n",
    "14. [Datetime64 & Timedelta64](#datetime)  \n",
    "15. [Masked Arrays & NaNs](#mask)  \n",
    "16. [Mini‑Project — Fitness Data Analysis](#project)  \n",
    "17. [Conclusion & Next Steps](#conclusion)  \n"
   ]
  },
  {
   "cell_type": "markdown",
   "id": "9170f3ee",
   "metadata": {},
   "source": [
    "## <a name='setup'></a>1️⃣ Setup"
   ]
  },
  {
   "cell_type": "code",
   "execution_count": 1,
   "id": "4f54988f",
   "metadata": {},
   "outputs": [
    {
     "name": "stdout",
     "output_type": "stream",
     "text": [
      "NumPy version: 2.2.6\n"
     ]
    }
   ],
   "source": [
    "import numpy as np, math, os, pathlib, types, textwrap, random\n",
    "print('NumPy version:', np.__version__)"
   ]
  },
  {
   "cell_type": "markdown",
   "id": "c7f7b2c8",
   "metadata": {},
   "source": [
    "## <a name='creation'></a>2️⃣ Array Creation & Dtypes"
   ]
  },
  {
   "cell_type": "markdown",
   "id": "47405152",
   "metadata": {},
   "source": [
    "Key functions: `np.array`, `np.arange`, `np.linspace`, `zeros`, `ones`, `full`, `eye`, `identity`, `diag`, `empty`"
   ]
  },
  {
   "cell_type": "code",
   "execution_count": 2,
   "id": "801e99ad",
   "metadata": {},
   "outputs": [
    {
     "name": "stdout",
     "output_type": "stream",
     "text": [
      "[1 2 3]\n",
      "[0.  0.2 0.4 0.6 0.8 1. ]\n",
      "[[7.5 7.5 7.5]\n",
      " [7.5 7.5 7.5]]\n",
      "dtypes: int32 float64\n"
     ]
    }
   ],
   "source": [
    "# EXAMPLE\n",
    "arr1 = np.array([1, 2, 3], dtype=np.int32)\n",
    "arr2 = np.linspace(0, 1, 6)\n",
    "arr3 = np.full((2,3), 7.5)\n",
    "print(arr1, arr2, arr3, sep=\"\\n\")\n",
    "print(\"dtypes:\", arr1.dtype, arr2.dtype)\n"
   ]
  },
  {
   "cell_type": "code",
   "execution_count": 6,
   "id": "dc63d076",
   "metadata": {},
   "outputs": [
    {
     "data": {
      "text/plain": [
       "array([[1, 0, 1, 0, 1, 0, 1, 0, 1, 0],\n",
       "       [0, 1, 0, 1, 0, 1, 0, 1, 0, 1],\n",
       "       [1, 0, 1, 0, 1, 0, 1, 0, 1, 0],\n",
       "       [0, 1, 0, 1, 0, 1, 0, 1, 0, 1],\n",
       "       [1, 0, 1, 0, 1, 0, 1, 0, 1, 0],\n",
       "       [0, 1, 0, 1, 0, 1, 0, 1, 0, 1],\n",
       "       [1, 0, 1, 0, 1, 0, 1, 0, 1, 0],\n",
       "       [0, 1, 0, 1, 0, 1, 0, 1, 0, 1],\n",
       "       [1, 0, 1, 0, 1, 0, 1, 0, 1, 0],\n",
       "       [0, 1, 0, 1, 0, 1, 0, 1, 0, 1]])"
      ]
     },
     "execution_count": 6,
     "metadata": {},
     "output_type": "execute_result"
    }
   ],
   "source": [
    "# 🖊️ TODO: create a 10×10 chessboard pattern using zeros & ones\n",
    "row_idx,col_idx=np.indices((10,10))\n",
    "arr=np.where((row_idx+col_idx)%2==0,1,0)\n",
    "arr\n"
   ]
  },
  {
   "cell_type": "markdown",
   "id": "925be762",
   "metadata": {},
   "source": [
    "## <a name='attributes'></a>3️⃣ Array Attributes & Inspection"
   ]
  },
  {
   "cell_type": "markdown",
   "id": "f103bb36",
   "metadata": {},
   "source": [
    "`shape`, `ndim`, `size`, `dtype`, `itemsize`, `nbytes`"
   ]
  },
  {
   "cell_type": "code",
   "execution_count": 9,
   "id": "ad3eeda1",
   "metadata": {},
   "outputs": [
    {
     "name": "stdout",
     "output_type": "stream",
     "text": [
      "shape (3, 4) ndim 2 size 12 itemsize 8 total bytes 96\n"
     ]
    }
   ],
   "source": [
    "M = np.arange(12).reshape(3,4)\n",
    "print('shape', M.shape, 'ndim', M.ndim, 'size', M.size, 'itemsize', M.itemsize, 'total bytes', M.nbytes)\n"
   ]
  },
  {
   "cell_type": "code",
   "execution_count": 11,
   "id": "5875fefe",
   "metadata": {},
   "outputs": [
    {
     "name": "stdout",
     "output_type": "stream",
     "text": [
      "shape (1000, 1000) ndim 2 size 1000000 itemsize 8 total bytes 8000000\n"
     ]
    }
   ],
   "source": [
    "# 🖊️ TODO: check memory footprint of a 1000×1000 float64 array\n",
    "arr1=np.full((1000,1000),fill_value=1.2,dtype=np.float64)\n",
    "print('shape', arr1.shape, 'ndim', arr1.ndim, 'size', arr1.size, 'itemsize', arr1.itemsize, 'total bytes', arr1.nbytes)"
   ]
  },
  {
   "cell_type": "markdown",
   "id": "bd895660",
   "metadata": {},
   "source": [
    "## <a name='indexing'></a>4️⃣ Indexing, Slicing & Fancy Indexing"
   ]
  },
  {
   "cell_type": "code",
   "execution_count": 13,
   "id": "5dc7d4c1",
   "metadata": {},
   "outputs": [
    {
     "name": "stdout",
     "output_type": "stream",
     "text": [
      "[ 1  6 11 16 21]\n",
      "[[ 1  3  5]\n",
      " [11 13 15]\n",
      " [21 23 25]]\n",
      "multiples of 3: [ 3  6  9 12 15 18 21 24]\n"
     ]
    },
    {
     "data": {
      "text/plain": [
       "array([[ 1,  2,  3,  4,  5],\n",
       "       [ 6,  7,  8,  9, 10],\n",
       "       [11, 12, 13, 14, 15],\n",
       "       [16, 17, 18, 19, 20],\n",
       "       [21, 22, 23, 24, 25]])"
      ]
     },
     "execution_count": 13,
     "metadata": {},
     "output_type": "execute_result"
    }
   ],
   "source": [
    "a = np.arange(1,26).reshape(5,5)\n",
    "print(a[:, 0])     # first column\n",
    "print(a[::2, ::2]) # every 2nd row/col\n",
    "mask = (a % 3 == 0)\n",
    "print('multiples of 3:', a[mask])\n",
    "a\n"
   ]
  },
  {
   "cell_type": "code",
   "execution_count": null,
   "id": "9c4bd5f4",
   "metadata": {},
   "outputs": [
    {
     "data": {
      "text/plain": [
       "array([[21, 22, 23, 24, 25],\n",
       "       [ 6,  7,  8,  9, 10],\n",
       "       [11, 12, 13, 14, 15],\n",
       "       [16, 17, 18, 19, 20],\n",
       "       [ 1,  2,  3,  4,  5]])"
      ]
     },
     "execution_count": 24,
     "metadata": {},
     "output_type": "execute_result"
    }
   ],
   "source": [
    "# 🖊️ TODO: use fancy indexing to swap first and last rows of `a`\n",
    "a[[0, -1]] = a[[-1, 0]]\n",
    "a"
   ]
  },
  {
   "cell_type": "markdown",
   "id": "8f4de1d5",
   "metadata": {},
   "source": [
    "## <a name='reshape'></a>5️⃣ Reshaping, Transpose & Copies vs Views"
   ]
  },
  {
   "cell_type": "code",
   "execution_count": null,
   "id": "053b4ff4",
   "metadata": {},
   "outputs": [],
   "source": [
    "b = np.arange(8)\n",
    "B = b.reshape(2,4)\n",
    "B[0,0] = 99\n",
    "print('b is modified:', b)\n",
    "C = b.reshape(2,4).copy()\n",
    "C[0,0] = -1\n",
    "print('b unchanged with copy:', b)\n"
   ]
  },
  {
   "cell_type": "code",
   "execution_count": null,
   "id": "a3e599bd",
   "metadata": {},
   "outputs": [
    {
     "name": "stdout",
     "output_type": "stream",
     "text": [
      "[[[1 2]\n",
      "  [3 4]]\n",
      "\n",
      " [[5 6]\n",
      "  [7 8]]]\n",
      "-------------------\n",
      "[[[6 2]\n",
      "  [3 4]]\n",
      "\n",
      " [[5 6]\n",
      "  [7 8]]]\n"
     ]
    }
   ],
   "source": [
    "# 🖊️ TODO: Flatten a 3‑D array into 1‑D using both `ravel` and `flatten`; observe copy vs view.\n",
    "a = np.array([[[1, 2], [3, 4]],\n",
    "              [[5, 6], [7, 8]]])\n",
    "f=a.flatten()\n",
    "f[0]=5\n",
    "print(a)\n",
    "print(\"-------------------\")\n",
    "r=a.ravel() ## returned view\n",
    "r[0]=6\n",
    "print(a)"
   ]
  },
  {
   "cell_type": "markdown",
   "id": "2390c4ae",
   "metadata": {},
   "source": [
    "## <a name='join'></a>6️⃣ Joining, Splitting, Set & Sorting Ops"
   ]
  },
  {
   "cell_type": "code",
   "execution_count": 32,
   "id": "a53f640a",
   "metadata": {},
   "outputs": [
    {
     "name": "stdout",
     "output_type": "stream",
     "text": [
      "union [1 2 3 4 5 6]\n",
      "intersect [1 2]\n",
      "sorted descending [6 5 4 3 2 1]\n",
      "[1 3 5 2 4 6]\n"
     ]
    }
   ],
   "source": [
    "x = np.array([1,3,5]); y = np.array([2,4,6])\n",
    "xy = np.concatenate([x,y])\n",
    "print('union', np.union1d(x,y))\n",
    "print('intersect', np.intersect1d(xy,[1,2,10]))\n",
    "print('sorted descending', np.sort(xy)[::-1])\n",
    "print(xy)"
   ]
  },
  {
   "cell_type": "code",
   "execution_count": 35,
   "id": "4231e729",
   "metadata": {},
   "outputs": [
    {
     "name": "stdout",
     "output_type": "stream",
     "text": [
      "[1 3 5] [2 4 6]\n"
     ]
    }
   ],
   "source": [
    "# 🖊️ TODO: split `xy` back into two equal halves using `np.array_split`\n",
    "a,b=np.array_split(xy,(3,))\n",
    "print(a,b)"
   ]
  },
  {
   "cell_type": "markdown",
   "id": "e6ebeb68",
   "metadata": {},
   "source": [
    "## <a name='arithmetic'></a>7️⃣ Arithmetic Ops & Universal Functions"
   ]
  },
  {
   "cell_type": "code",
   "execution_count": null,
   "id": "04a6eda9",
   "metadata": {},
   "outputs": [],
   "source": [
    "v = np.arange(5)\n",
    "print('exp', np.exp(v))\n",
    "print('sin', np.sin(v))\n",
    "print('vectorised addition', v + 10)\n"
   ]
  },
  {
   "cell_type": "code",
   "execution_count": 36,
   "id": "c011f422",
   "metadata": {},
   "outputs": [
    {
     "name": "stdout",
     "output_type": "stream",
     "text": [
      "[ 0.         -0.98803162  0.85090352 -0.30481062  0.89399666]\n",
      "[0.         0.52359878 0.78539816 1.04719755 1.57079633]\n"
     ]
    }
   ],
   "source": [
    "# 🖊️ TODO: given degrees [0,30,45,60,90], compute radians and sin values.\n",
    "a=[0,30,45,60,90]\n",
    "print(np.sin(a))\n",
    "print(np.radians(a))"
   ]
  },
  {
   "cell_type": "markdown",
   "id": "7c9a5d70",
   "metadata": {},
   "source": [
    "## <a name='broadcast'></a>8️⃣ Broadcasting Rules"
   ]
  },
  {
   "cell_type": "markdown",
   "id": "aba2764d",
   "metadata": {},
   "source": [
    "Rules: compare dimensions from right → left; stretch size 1 dims; mismatch error."
   ]
  },
  {
   "cell_type": "code",
   "execution_count": null,
   "id": "6313899c",
   "metadata": {},
   "outputs": [],
   "source": [
    "row = np.arange(5)\n",
    "col = np.arange(3).reshape(3,1)\n",
    "matrix = row + col  # broadcast to 3×5\n",
    "print(matrix)\n"
   ]
  },
  {
   "cell_type": "code",
   "execution_count": null,
   "id": "de718119",
   "metadata": {},
   "outputs": [],
   "source": [
    "# 🖊️ TODO: use broadcasting to create a 10×10 multiplication table.\n"
   ]
  },
  {
   "cell_type": "markdown",
   "id": "38a618c8",
   "metadata": {},
   "source": [
    "## <a name='stats'></a>9️⃣ Statistics & Aggregations"
   ]
  },
  {
   "cell_type": "code",
   "execution_count": 38,
   "id": "af9ac70d",
   "metadata": {},
   "outputs": [
    {
     "name": "stdout",
     "output_type": "stream",
     "text": [
      "data\n",
      " [[85 64 51 27]\n",
      " [31  5  8  2]\n",
      " [18 81 65 91]\n",
      " [50 61 97 73]\n",
      " [63 54 56 93]]\n",
      "row sums [227  46 255 281 266]\n",
      "col means [49.4 53.  55.4 57.2]\n"
     ]
    }
   ],
   "source": [
    "data = np.random.default_rng(0).integers(1, 100, size=(5,4))\n",
    "print('data\\n', data)\n",
    "print('row sums', data.sum(axis=1))\n",
    "print('col means', data.mean(axis=0))\n"
   ]
  },
  {
   "cell_type": "code",
   "execution_count": 39,
   "id": "63adf5be",
   "metadata": {},
   "outputs": [
    {
     "name": "stdout",
     "output_type": "stream",
     "text": [
      "30.0 58.5 75.0\n"
     ]
    }
   ],
   "source": [
    "# 🖊️ TODO: compute `np.percentile` (25th, 50th, 75th) of flattened `data`.\n",
    "f=data.flatten()\n",
    "print(np.percentile(f,25),np.percentile(f,50),np.percentile(f,75))"
   ]
  },
  {
   "cell_type": "markdown",
   "id": "8f3c00d7",
   "metadata": {},
   "source": [
    "## <a name='random'></a>🔟 Random Numbers & Reproducibility"
   ]
  },
  {
   "cell_type": "code",
   "execution_count": null,
   "id": "98016975",
   "metadata": {},
   "outputs": [],
   "source": [
    "rng = np.random.default_rng(42)\n",
    "rand_floats = rng.random(5)\n",
    "rand_ints = rng.integers(low=10, high=50, size=5)\n",
    "print(rand_floats, rand_ints)\n",
    "rng2 = np.random.default_rng(42)\n",
    "assert np.allclose(rand_floats, rng2.random(5))\n"
   ]
  },
  {
   "cell_type": "code",
   "execution_count": null,
   "id": "35dbadba",
   "metadata": {},
   "outputs": [],
   "source": [
    "# 🖊️ TODO: simulate rolling a fair six‑sided die 100 times; estimate proportion of 6s.\n"
   ]
  },
  {
   "cell_type": "markdown",
   "id": "6cdb04b2",
   "metadata": {},
   "source": [
    "## <a name='structured'></a>1️⃣1️⃣ Structured / Record Arrays"
   ]
  },
  {
   "cell_type": "code",
   "execution_count": null,
   "id": "d8f64e42",
   "metadata": {},
   "outputs": [],
   "source": [
    "people = np.array([('Alice', 25, 55.0), ('Bob', 30, 85.5)],\n",
    "                   dtype=[('name','U10'), ('age','i4'), ('weight','f4')])\n",
    "print(people['name'], people['age'].mean())\n"
   ]
  },
  {
   "cell_type": "code",
   "execution_count": null,
   "id": "7a65fe1d",
   "metadata": {},
   "outputs": [],
   "source": [
    "# 🖊️ TODO: add a new field 'height' to the structured array using `np.lib.recfunctions.append_fields` (hint: pip install?).\n"
   ]
  },
  {
   "cell_type": "markdown",
   "id": "df5b617b",
   "metadata": {},
   "source": [
    "## <a name='linalg'></a>1️⃣2️⃣ Linear Algebra Essentials"
   ]
  },
  {
   "cell_type": "code",
   "execution_count": null,
   "id": "3f7fb475",
   "metadata": {},
   "outputs": [],
   "source": [
    "A = np.random.random((3,3))\n",
    "b = np.random.random(3)\n",
    "x = np.linalg.solve(A, b)\n",
    "print('A·x ≈ b?', np.allclose(A.dot(x), b))\n"
   ]
  },
  {
   "cell_type": "code",
   "execution_count": null,
   "id": "a8fb02d7",
   "metadata": {},
   "outputs": [],
   "source": [
    "# 🖊️ TODO: compute eigenvalues of `A` using `np.linalg.eig`.\n"
   ]
  },
  {
   "cell_type": "markdown",
   "id": "e8fd753c",
   "metadata": {},
   "source": [
    "## <a name='io'></a>1️⃣3️⃣ File I/O (`npy`, `npz`, `txt`)"
   ]
  },
  {
   "cell_type": "code",
   "execution_count": null,
   "id": "bd6dc026",
   "metadata": {},
   "outputs": [],
   "source": [
    "np.save('array.npy', A)\n",
    "loaded = np.load('array.npy')\n",
    "print('loaded equals A?', np.allclose(loaded, A))\n",
    "np.savez('multi_arrays.npz', A=A, b=b)\n"
   ]
  },
  {
   "cell_type": "code",
   "execution_count": null,
   "id": "d9552893",
   "metadata": {},
   "outputs": [],
   "source": [
    "# 🖊️ TODO: Use `np.savetxt` to write `data` (from stats section) to CSV then reload with `np.loadtxt`.\n"
   ]
  },
  {
   "cell_type": "markdown",
   "id": "f24f33e3",
   "metadata": {},
   "source": [
    "## <a name='datetime'></a>1️⃣4️⃣ Datetime64 & Timedelta64"
   ]
  },
  {
   "cell_type": "code",
   "execution_count": null,
   "id": "3ce7b543",
   "metadata": {},
   "outputs": [],
   "source": [
    "dates = np.arange('2023-01', '2023-04', dtype='datetime64[D]')\n",
    "delta = dates[1:] - dates[:-1]\n",
    "print(dates[:5], delta[0])\n"
   ]
  },
  {
   "cell_type": "code",
   "execution_count": null,
   "id": "e493d6f8",
   "metadata": {},
   "outputs": [],
   "source": [
    "# 🖊️ TODO: find how many Mondays appear in `dates` array.\n"
   ]
  },
  {
   "cell_type": "markdown",
   "id": "636116b9",
   "metadata": {},
   "source": [
    "## <a name='mask'></a>1️⃣5️⃣ Masked Arrays & NaNs"
   ]
  },
  {
   "cell_type": "code",
   "execution_count": null,
   "id": "ec30b3ee",
   "metadata": {},
   "outputs": [],
   "source": [
    "arr = np.array([1, 2, np.nan, 4, np.nan])\n",
    "masked = np.ma.masked_invalid(arr)\n",
    "print(masked.mean())\n"
   ]
  },
  {
   "cell_type": "code",
   "execution_count": null,
   "id": "1ead3a9c",
   "metadata": {},
   "outputs": [],
   "source": [
    "# 🖊️ TODO: replace NaNs with column means in a 2‑D array containing NaNs.\n"
   ]
  },
  {
   "cell_type": "markdown",
   "id": "509e6104",
   "metadata": {},
   "source": [
    "## <a name='project'></a>1️⃣6️⃣ Mini‑Project: Fitness Data Analysis"
   ]
  },
  {
   "cell_type": "markdown",
   "id": "d867d3a6",
   "metadata": {},
   "source": [
    "Load `fitness.txt` (tab‑separated) then follow prompts."
   ]
  },
  {
   "cell_type": "code",
   "execution_count": null,
   "id": "593e50db",
   "metadata": {},
   "outputs": [],
   "source": [
    "fitness = np.genfromtxt('fitness.txt', delimiter='\\t', dtype=None, encoding=None, names=True)\n",
    "print('columns:', fitness.dtype.names, 'rows:', len(fitness))\n"
   ]
  },
  {
   "cell_type": "code",
   "execution_count": null,
   "id": "32e514d2",
   "metadata": {},
   "outputs": [],
   "source": [
    "# 🖊️ TODO: Monthly step count, sleep vs mood correlation, weekly summary, etc.\n"
   ]
  },
  {
   "cell_type": "markdown",
   "id": "e7c0e1dc",
   "metadata": {},
   "source": [
    "## <a name='conclusion'></a>1️⃣7️⃣ Conclusion & Further Practice\n",
    "Congrats on covering **all core NumPy topics** from your five lecture notebooks!\n",
    "\n",
    "*Keep experimenting, read the official docs, and try converting your NumPy pipelines into Pandas or JAX for more fun.*"
   ]
  }
 ],
 "metadata": {
  "kernelspec": {
   "display_name": "cse303_ml",
   "language": "python",
   "name": "python3"
  },
  "language_info": {
   "codemirror_mode": {
    "name": "ipython",
    "version": 3
   },
   "file_extension": ".py",
   "mimetype": "text/x-python",
   "name": "python",
   "nbconvert_exporter": "python",
   "pygments_lexer": "ipython3",
   "version": "3.10.18"
  }
 },
 "nbformat": 4,
 "nbformat_minor": 5
}

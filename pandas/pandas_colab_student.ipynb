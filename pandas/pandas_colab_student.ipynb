{
 "cells": [
  {
   "cell_type": "markdown",
   "metadata": {},
   "source": [
    "# 🧑‍🎓 Student Version — Solutions Removed\n",
    "- Use the reflection prompts and hints.\n",
    "- Your instructor will share solutions separately."
   ]
  },
  {
   "cell_type": "code",
   "execution_count": 2,
   "id": "b1700471",
   "metadata": {},
   "outputs": [
    {
     "name": "stdout",
     "output_type": "stream",
     "text": [
      "Solutions are hidden in the Student Version.\n"
     ]
    }
   ],
   "source": [
    "REVEAL_SOLUTIONS = False\n",
    "print('Solutions are hidden in the Student Version.')"
   ]
  },
  {
   "cell_type": "markdown",
   "id": "7e3b6c7b",
   "metadata": {},
   "source": [
    "# Pandas in Google Colab — 2-Hour Hands-On (+ Advanced & Capstone)\n",
    "**With Reflection Prompts After Each Section**\n",
    "**Last updated:** 2025-08-15\n",
    "\n",
    "Run top-to-bottom. Attempt **Exercises**, then write your **✍️ Analysis** under each section."
   ]
  },
  {
   "cell_type": "markdown",
   "id": "0770d290",
   "metadata": {},
   "source": [
    "## 0) Setup & Load the **tips** dataset (10m)"
   ]
  },
  {
   "cell_type": "code",
   "execution_count": 3,
   "id": "2061e34b",
   "metadata": {},
   "outputs": [
    {
     "data": {
      "text/html": [
       "<div>\n",
       "<style scoped>\n",
       "    .dataframe tbody tr th:only-of-type {\n",
       "        vertical-align: middle;\n",
       "    }\n",
       "\n",
       "    .dataframe tbody tr th {\n",
       "        vertical-align: top;\n",
       "    }\n",
       "\n",
       "    .dataframe thead th {\n",
       "        text-align: right;\n",
       "    }\n",
       "</style>\n",
       "<table border=\"1\" class=\"dataframe\">\n",
       "  <thead>\n",
       "    <tr style=\"text-align: right;\">\n",
       "      <th></th>\n",
       "      <th>total_bill</th>\n",
       "      <th>tip</th>\n",
       "      <th>sex</th>\n",
       "      <th>smoker</th>\n",
       "      <th>day</th>\n",
       "      <th>time</th>\n",
       "      <th>size</th>\n",
       "    </tr>\n",
       "  </thead>\n",
       "  <tbody>\n",
       "    <tr>\n",
       "      <th>0</th>\n",
       "      <td>16.99</td>\n",
       "      <td>1.01</td>\n",
       "      <td>Female</td>\n",
       "      <td>No</td>\n",
       "      <td>Sun</td>\n",
       "      <td>Dinner</td>\n",
       "      <td>2</td>\n",
       "    </tr>\n",
       "    <tr>\n",
       "      <th>1</th>\n",
       "      <td>10.34</td>\n",
       "      <td>1.66</td>\n",
       "      <td>Male</td>\n",
       "      <td>No</td>\n",
       "      <td>Sun</td>\n",
       "      <td>Dinner</td>\n",
       "      <td>3</td>\n",
       "    </tr>\n",
       "    <tr>\n",
       "      <th>2</th>\n",
       "      <td>21.01</td>\n",
       "      <td>3.50</td>\n",
       "      <td>Male</td>\n",
       "      <td>No</td>\n",
       "      <td>Sun</td>\n",
       "      <td>Dinner</td>\n",
       "      <td>3</td>\n",
       "    </tr>\n",
       "    <tr>\n",
       "      <th>3</th>\n",
       "      <td>23.68</td>\n",
       "      <td>3.31</td>\n",
       "      <td>Male</td>\n",
       "      <td>No</td>\n",
       "      <td>Sun</td>\n",
       "      <td>Dinner</td>\n",
       "      <td>2</td>\n",
       "    </tr>\n",
       "    <tr>\n",
       "      <th>4</th>\n",
       "      <td>24.59</td>\n",
       "      <td>3.61</td>\n",
       "      <td>Female</td>\n",
       "      <td>No</td>\n",
       "      <td>Sun</td>\n",
       "      <td>Dinner</td>\n",
       "      <td>4</td>\n",
       "    </tr>\n",
       "  </tbody>\n",
       "</table>\n",
       "</div>"
      ],
      "text/plain": [
       "   total_bill   tip     sex smoker  day    time  size\n",
       "0       16.99  1.01  Female     No  Sun  Dinner     2\n",
       "1       10.34  1.66    Male     No  Sun  Dinner     3\n",
       "2       21.01  3.50    Male     No  Sun  Dinner     3\n",
       "3       23.68  3.31    Male     No  Sun  Dinner     2\n",
       "4       24.59  3.61  Female     No  Sun  Dinner     4"
      ]
     },
     "execution_count": 3,
     "metadata": {},
     "output_type": "execute_result"
    }
   ],
   "source": [
    "import pandas as pd, numpy as np, matplotlib.pyplot as plt\n",
    "pd.set_option('display.max_rows', 10); pd.set_option('display.precision', 3)\n",
    "url = \"https://raw.githubusercontent.com/mwaskom/seaborn-data/master/tips.csv\"\n",
    "tips = pd.read_csv(url); tips.head()"
   ]
  },
  {
   "cell_type": "code",
   "execution_count": 4,
   "metadata": {},
   "outputs": [
    {
     "name": "stdout",
     "output_type": "stream",
     "text": [
      "Shape: (244, 7)\n",
      "\n",
      "Info:\n",
      "<class 'pandas.core.frame.DataFrame'>\n",
      "RangeIndex: 244 entries, 0 to 243\n",
      "Data columns (total 7 columns):\n",
      " #   Column      Non-Null Count  Dtype  \n",
      "---  ------      --------------  -----  \n",
      " 0   total_bill  244 non-null    float64\n",
      " 1   tip         244 non-null    float64\n",
      " 2   sex         244 non-null    object \n",
      " 3   smoker      244 non-null    object \n",
      " 4   day         244 non-null    object \n",
      " 5   time        244 non-null    object \n",
      " 6   size        244 non-null    int64  \n",
      "dtypes: float64(2), int64(1), object(4)\n",
      "memory usage: 13.5+ KB\n",
      "None\n",
      "\n",
      "Describe:\n"
     ]
    },
    {
     "data": {
      "text/html": [
       "<div>\n",
       "<style scoped>\n",
       "    .dataframe tbody tr th:only-of-type {\n",
       "        vertical-align: middle;\n",
       "    }\n",
       "\n",
       "    .dataframe tbody tr th {\n",
       "        vertical-align: top;\n",
       "    }\n",
       "\n",
       "    .dataframe thead th {\n",
       "        text-align: right;\n",
       "    }\n",
       "</style>\n",
       "<table border=\"1\" class=\"dataframe\">\n",
       "  <thead>\n",
       "    <tr style=\"text-align: right;\">\n",
       "      <th></th>\n",
       "      <th>total_bill</th>\n",
       "      <th>tip</th>\n",
       "      <th>sex</th>\n",
       "      <th>smoker</th>\n",
       "      <th>day</th>\n",
       "      <th>time</th>\n",
       "      <th>size</th>\n",
       "    </tr>\n",
       "  </thead>\n",
       "  <tbody>\n",
       "    <tr>\n",
       "      <th>count</th>\n",
       "      <td>244.000</td>\n",
       "      <td>244.000</td>\n",
       "      <td>244</td>\n",
       "      <td>244</td>\n",
       "      <td>244</td>\n",
       "      <td>244</td>\n",
       "      <td>244.00</td>\n",
       "    </tr>\n",
       "    <tr>\n",
       "      <th>unique</th>\n",
       "      <td>NaN</td>\n",
       "      <td>NaN</td>\n",
       "      <td>2</td>\n",
       "      <td>2</td>\n",
       "      <td>4</td>\n",
       "      <td>2</td>\n",
       "      <td>NaN</td>\n",
       "    </tr>\n",
       "    <tr>\n",
       "      <th>top</th>\n",
       "      <td>NaN</td>\n",
       "      <td>NaN</td>\n",
       "      <td>Male</td>\n",
       "      <td>No</td>\n",
       "      <td>Sat</td>\n",
       "      <td>Dinner</td>\n",
       "      <td>NaN</td>\n",
       "    </tr>\n",
       "    <tr>\n",
       "      <th>freq</th>\n",
       "      <td>NaN</td>\n",
       "      <td>NaN</td>\n",
       "      <td>157</td>\n",
       "      <td>151</td>\n",
       "      <td>87</td>\n",
       "      <td>176</td>\n",
       "      <td>NaN</td>\n",
       "    </tr>\n",
       "    <tr>\n",
       "      <th>mean</th>\n",
       "      <td>19.786</td>\n",
       "      <td>2.998</td>\n",
       "      <td>NaN</td>\n",
       "      <td>NaN</td>\n",
       "      <td>NaN</td>\n",
       "      <td>NaN</td>\n",
       "      <td>2.57</td>\n",
       "    </tr>\n",
       "    <tr>\n",
       "      <th>...</th>\n",
       "      <td>...</td>\n",
       "      <td>...</td>\n",
       "      <td>...</td>\n",
       "      <td>...</td>\n",
       "      <td>...</td>\n",
       "      <td>...</td>\n",
       "      <td>...</td>\n",
       "    </tr>\n",
       "    <tr>\n",
       "      <th>min</th>\n",
       "      <td>3.070</td>\n",
       "      <td>1.000</td>\n",
       "      <td>NaN</td>\n",
       "      <td>NaN</td>\n",
       "      <td>NaN</td>\n",
       "      <td>NaN</td>\n",
       "      <td>1.00</td>\n",
       "    </tr>\n",
       "    <tr>\n",
       "      <th>25%</th>\n",
       "      <td>13.348</td>\n",
       "      <td>2.000</td>\n",
       "      <td>NaN</td>\n",
       "      <td>NaN</td>\n",
       "      <td>NaN</td>\n",
       "      <td>NaN</td>\n",
       "      <td>2.00</td>\n",
       "    </tr>\n",
       "    <tr>\n",
       "      <th>50%</th>\n",
       "      <td>17.795</td>\n",
       "      <td>2.900</td>\n",
       "      <td>NaN</td>\n",
       "      <td>NaN</td>\n",
       "      <td>NaN</td>\n",
       "      <td>NaN</td>\n",
       "      <td>2.00</td>\n",
       "    </tr>\n",
       "    <tr>\n",
       "      <th>75%</th>\n",
       "      <td>24.127</td>\n",
       "      <td>3.562</td>\n",
       "      <td>NaN</td>\n",
       "      <td>NaN</td>\n",
       "      <td>NaN</td>\n",
       "      <td>NaN</td>\n",
       "      <td>3.00</td>\n",
       "    </tr>\n",
       "    <tr>\n",
       "      <th>max</th>\n",
       "      <td>50.810</td>\n",
       "      <td>10.000</td>\n",
       "      <td>NaN</td>\n",
       "      <td>NaN</td>\n",
       "      <td>NaN</td>\n",
       "      <td>NaN</td>\n",
       "      <td>6.00</td>\n",
       "    </tr>\n",
       "  </tbody>\n",
       "</table>\n",
       "<p>11 rows × 7 columns</p>\n",
       "</div>"
      ],
      "text/plain": [
       "        total_bill      tip   sex smoker  day    time    size\n",
       "count      244.000  244.000   244    244  244     244  244.00\n",
       "unique         NaN      NaN     2      2    4       2     NaN\n",
       "top            NaN      NaN  Male     No  Sat  Dinner     NaN\n",
       "freq           NaN      NaN   157    151   87     176     NaN\n",
       "mean        19.786    2.998   NaN    NaN  NaN     NaN    2.57\n",
       "...            ...      ...   ...    ...  ...     ...     ...\n",
       "min          3.070    1.000   NaN    NaN  NaN     NaN    1.00\n",
       "25%         13.348    2.000   NaN    NaN  NaN     NaN    2.00\n",
       "50%         17.795    2.900   NaN    NaN  NaN     NaN    2.00\n",
       "75%         24.127    3.562   NaN    NaN  NaN     NaN    3.00\n",
       "max         50.810   10.000   NaN    NaN  NaN     NaN    6.00\n",
       "\n",
       "[11 rows x 7 columns]"
      ]
     },
     "metadata": {},
     "output_type": "display_data"
    }
   ],
   "source": [
    "print(\"Shape:\", tips.shape)\n",
    "print(\"\\nInfo:\"); print(tips.info())\n",
    "print(\"\\nDescribe:\"); display(tips.describe(include='all'))"
   ]
  },
  {
   "cell_type": "markdown",
   "metadata": {},
   "source": [
    "**Columns**: `total_bill` (float), `tip` (float), `sex` (str), `smoker` (str), `day` (str), `time` (str), `size` (int)"
   ]
  },
  {
   "cell_type": "markdown",
   "metadata": {},
   "source": [
    "### ✅ Exercise 0\n",
    "1) Unique `day`, `time`. 2) Count duplicates. 3) Averages of `total_bill`, `tip`."
   ]
  },
  {
   "cell_type": "markdown",
   "metadata": {},
   "source": [
    "**Hints:**\n",
    "- Concept: inspect levels and duplicates.\n",
    "- API: `unique`, `duplicated`, `mean`.\n"
   ]
  },
  {
   "cell_type": "code",
   "execution_count": 5,
   "metadata": {},
   "outputs": [
    {
     "name": "stdout",
     "output_type": "stream",
     "text": [
      "Unique day: ['Sun' 'Sat' 'Thur' 'Fri']\n",
      "Unique time: ['Dinner' 'Lunch']\n",
      "Duplicate rows count: 1\n",
      "Average total_bill, tip:\n",
      " total_bill    19.786\n",
      "tip            2.998\n",
      "dtype: float64\n"
     ]
    }
   ],
   "source": [
    "print(\"Unique day:\", tips[\"day\"].unique())\n",
    "print(\"Unique time:\", tips[\"time\"].unique())\n",
    "\n",
    "print(\"Duplicate rows count:\", tips.duplicated().sum())\n",
    "\n",
    "print(\"Average total_bill, tip:\\n\",tips[[\"total_bill\", \"tip\"]].mean())\n"
   ]
  },
  {
   "cell_type": "markdown",
   "metadata": {},
   "source": [
    "### ✍️ Analysis (Setup & Load) — 3–5 sentences\n",
    "- What columns and dtypes did you observe? Any surprises?\n",
    "- Is the dataset balanced across `day` and `time`? Cite one count.\n",
    "- One risk if you skip an initial audit here.\n",
    "\n",
    "### 🔎 Quick checks\n",
    "- Report the shape (rows, cols).\n",
    "- Name 1 non-numeric dtype and why it matters.\n",
    "\n",
    "### ➕ Extension (pick one)\n",
    "- Tweak display options and note the effect.\n",
    "- Compute `value_counts()` on `day` or `time`.\n",
    "\n",
    "**Rubric (10 pts):** Correctness 3 • Evidence 2 • Clarity 2 • Reproducibility 2 • Exploration 1"
   ]
  },
  {
   "cell_type": "markdown",
   "metadata": {},
   "source": [
    "## 1) Import & Core Manipulation (20m)"
   ]
  },
  {
   "cell_type": "code",
   "execution_count": 6,
   "metadata": {},
   "outputs": [
    {
     "data": {
      "text/html": [
       "<div>\n",
       "<style scoped>\n",
       "    .dataframe tbody tr th:only-of-type {\n",
       "        vertical-align: middle;\n",
       "    }\n",
       "\n",
       "    .dataframe tbody tr th {\n",
       "        vertical-align: top;\n",
       "    }\n",
       "\n",
       "    .dataframe thead th {\n",
       "        text-align: right;\n",
       "    }\n",
       "</style>\n",
       "<table border=\"1\" class=\"dataframe\">\n",
       "  <thead>\n",
       "    <tr style=\"text-align: right;\">\n",
       "      <th></th>\n",
       "      <th>total_bill</th>\n",
       "      <th>tip</th>\n",
       "    </tr>\n",
       "  </thead>\n",
       "  <tbody>\n",
       "    <tr>\n",
       "      <th>0</th>\n",
       "      <td>16.99</td>\n",
       "      <td>1.01</td>\n",
       "    </tr>\n",
       "    <tr>\n",
       "      <th>1</th>\n",
       "      <td>10.34</td>\n",
       "      <td>1.66</td>\n",
       "    </tr>\n",
       "    <tr>\n",
       "      <th>2</th>\n",
       "      <td>21.01</td>\n",
       "      <td>3.50</td>\n",
       "    </tr>\n",
       "    <tr>\n",
       "      <th>3</th>\n",
       "      <td>23.68</td>\n",
       "      <td>3.31</td>\n",
       "    </tr>\n",
       "    <tr>\n",
       "      <th>4</th>\n",
       "      <td>24.59</td>\n",
       "      <td>3.61</td>\n",
       "    </tr>\n",
       "  </tbody>\n",
       "</table>\n",
       "</div>"
      ],
      "text/plain": [
       "   total_bill   tip\n",
       "0       16.99  1.01\n",
       "1       10.34  1.66\n",
       "2       21.01  3.50\n",
       "3       23.68  3.31\n",
       "4       24.59  3.61"
      ]
     },
     "execution_count": 6,
     "metadata": {},
     "output_type": "execute_result"
    }
   ],
   "source": [
    "tips[['total_bill','tip']].head()"
   ]
  },
  {
   "cell_type": "code",
   "execution_count": 7,
   "metadata": {},
   "outputs": [
    {
     "data": {
      "text/html": [
       "<div>\n",
       "<style scoped>\n",
       "    .dataframe tbody tr th:only-of-type {\n",
       "        vertical-align: middle;\n",
       "    }\n",
       "\n",
       "    .dataframe tbody tr th {\n",
       "        vertical-align: top;\n",
       "    }\n",
       "\n",
       "    .dataframe thead th {\n",
       "        text-align: right;\n",
       "    }\n",
       "</style>\n",
       "<table border=\"1\" class=\"dataframe\">\n",
       "  <thead>\n",
       "    <tr style=\"text-align: right;\">\n",
       "      <th></th>\n",
       "      <th>total_bill</th>\n",
       "      <th>tip</th>\n",
       "      <th>sex</th>\n",
       "      <th>smoker</th>\n",
       "      <th>day</th>\n",
       "      <th>time</th>\n",
       "      <th>size</th>\n",
       "    </tr>\n",
       "  </thead>\n",
       "  <tbody>\n",
       "    <tr>\n",
       "      <th>0</th>\n",
       "      <td>16.99</td>\n",
       "      <td>1.01</td>\n",
       "      <td>Female</td>\n",
       "      <td>No</td>\n",
       "      <td>Sun</td>\n",
       "      <td>Dinner</td>\n",
       "      <td>2</td>\n",
       "    </tr>\n",
       "    <tr>\n",
       "      <th>1</th>\n",
       "      <td>10.34</td>\n",
       "      <td>1.66</td>\n",
       "      <td>Male</td>\n",
       "      <td>No</td>\n",
       "      <td>Sun</td>\n",
       "      <td>Dinner</td>\n",
       "      <td>3</td>\n",
       "    </tr>\n",
       "    <tr>\n",
       "      <th>2</th>\n",
       "      <td>21.01</td>\n",
       "      <td>3.50</td>\n",
       "      <td>Male</td>\n",
       "      <td>No</td>\n",
       "      <td>Sun</td>\n",
       "      <td>Dinner</td>\n",
       "      <td>3</td>\n",
       "    </tr>\n",
       "    <tr>\n",
       "      <th>3</th>\n",
       "      <td>23.68</td>\n",
       "      <td>3.31</td>\n",
       "      <td>Male</td>\n",
       "      <td>No</td>\n",
       "      <td>Sun</td>\n",
       "      <td>Dinner</td>\n",
       "      <td>2</td>\n",
       "    </tr>\n",
       "    <tr>\n",
       "      <th>4</th>\n",
       "      <td>24.59</td>\n",
       "      <td>3.61</td>\n",
       "      <td>Female</td>\n",
       "      <td>No</td>\n",
       "      <td>Sun</td>\n",
       "      <td>Dinner</td>\n",
       "      <td>4</td>\n",
       "    </tr>\n",
       "  </tbody>\n",
       "</table>\n",
       "</div>"
      ],
      "text/plain": [
       "   total_bill   tip     sex smoker  day    time  size\n",
       "0       16.99  1.01  Female     No  Sun  Dinner     2\n",
       "1       10.34  1.66    Male     No  Sun  Dinner     3\n",
       "2       21.01  3.50    Male     No  Sun  Dinner     3\n",
       "3       23.68  3.31    Male     No  Sun  Dinner     2\n",
       "4       24.59  3.61  Female     No  Sun  Dinner     4"
      ]
     },
     "execution_count": 7,
     "metadata": {},
     "output_type": "execute_result"
    }
   ],
   "source": [
    "tips.iloc[0:5]"
   ]
  },
  {
   "cell_type": "code",
   "execution_count": 8,
   "metadata": {},
   "outputs": [
    {
     "data": {
      "text/html": [
       "<div>\n",
       "<style scoped>\n",
       "    .dataframe tbody tr th:only-of-type {\n",
       "        vertical-align: middle;\n",
       "    }\n",
       "\n",
       "    .dataframe tbody tr th {\n",
       "        vertical-align: top;\n",
       "    }\n",
       "\n",
       "    .dataframe thead th {\n",
       "        text-align: right;\n",
       "    }\n",
       "</style>\n",
       "<table border=\"1\" class=\"dataframe\">\n",
       "  <thead>\n",
       "    <tr style=\"text-align: right;\">\n",
       "      <th></th>\n",
       "      <th>total_bill</th>\n",
       "      <th>tip</th>\n",
       "      <th>size</th>\n",
       "    </tr>\n",
       "  </thead>\n",
       "  <tbody>\n",
       "    <tr>\n",
       "      <th>0</th>\n",
       "      <td>16.99</td>\n",
       "      <td>1.01</td>\n",
       "      <td>2</td>\n",
       "    </tr>\n",
       "    <tr>\n",
       "      <th>1</th>\n",
       "      <td>10.34</td>\n",
       "      <td>1.66</td>\n",
       "      <td>3</td>\n",
       "    </tr>\n",
       "    <tr>\n",
       "      <th>2</th>\n",
       "      <td>21.01</td>\n",
       "      <td>3.50</td>\n",
       "      <td>3</td>\n",
       "    </tr>\n",
       "    <tr>\n",
       "      <th>3</th>\n",
       "      <td>23.68</td>\n",
       "      <td>3.31</td>\n",
       "      <td>2</td>\n",
       "    </tr>\n",
       "    <tr>\n",
       "      <th>4</th>\n",
       "      <td>24.59</td>\n",
       "      <td>3.61</td>\n",
       "      <td>4</td>\n",
       "    </tr>\n",
       "  </tbody>\n",
       "</table>\n",
       "</div>"
      ],
      "text/plain": [
       "   total_bill   tip  size\n",
       "0       16.99  1.01     2\n",
       "1       10.34  1.66     3\n",
       "2       21.01  3.50     3\n",
       "3       23.68  3.31     2\n",
       "4       24.59  3.61     4"
      ]
     },
     "execution_count": 8,
     "metadata": {},
     "output_type": "execute_result"
    }
   ],
   "source": [
    "tips.loc[tips['day']=='Sun', ['total_bill','tip','size']].head()"
   ]
  },
  {
   "cell_type": "code",
   "execution_count": 9,
   "metadata": {},
   "outputs": [
    {
     "data": {
      "text/html": [
       "<div>\n",
       "<style scoped>\n",
       "    .dataframe tbody tr th:only-of-type {\n",
       "        vertical-align: middle;\n",
       "    }\n",
       "\n",
       "    .dataframe tbody tr th {\n",
       "        vertical-align: top;\n",
       "    }\n",
       "\n",
       "    .dataframe thead th {\n",
       "        text-align: right;\n",
       "    }\n",
       "</style>\n",
       "<table border=\"1\" class=\"dataframe\">\n",
       "  <thead>\n",
       "    <tr style=\"text-align: right;\">\n",
       "      <th></th>\n",
       "      <th>total_bill</th>\n",
       "      <th>tip</th>\n",
       "      <th>sex</th>\n",
       "      <th>smoker</th>\n",
       "      <th>day</th>\n",
       "      <th>time</th>\n",
       "      <th>size</th>\n",
       "    </tr>\n",
       "  </thead>\n",
       "  <tbody>\n",
       "    <tr>\n",
       "      <th>80</th>\n",
       "      <td>19.44</td>\n",
       "      <td>3.00</td>\n",
       "      <td>Male</td>\n",
       "      <td>Yes</td>\n",
       "      <td>Thur</td>\n",
       "      <td>Lunch</td>\n",
       "      <td>2</td>\n",
       "    </tr>\n",
       "    <tr>\n",
       "      <th>83</th>\n",
       "      <td>32.68</td>\n",
       "      <td>5.00</td>\n",
       "      <td>Male</td>\n",
       "      <td>Yes</td>\n",
       "      <td>Thur</td>\n",
       "      <td>Lunch</td>\n",
       "      <td>2</td>\n",
       "    </tr>\n",
       "    <tr>\n",
       "      <th>138</th>\n",
       "      <td>16.00</td>\n",
       "      <td>2.00</td>\n",
       "      <td>Male</td>\n",
       "      <td>Yes</td>\n",
       "      <td>Thur</td>\n",
       "      <td>Lunch</td>\n",
       "      <td>2</td>\n",
       "    </tr>\n",
       "    <tr>\n",
       "      <th>191</th>\n",
       "      <td>19.81</td>\n",
       "      <td>4.19</td>\n",
       "      <td>Female</td>\n",
       "      <td>Yes</td>\n",
       "      <td>Thur</td>\n",
       "      <td>Lunch</td>\n",
       "      <td>2</td>\n",
       "    </tr>\n",
       "    <tr>\n",
       "      <th>192</th>\n",
       "      <td>28.44</td>\n",
       "      <td>2.56</td>\n",
       "      <td>Male</td>\n",
       "      <td>Yes</td>\n",
       "      <td>Thur</td>\n",
       "      <td>Lunch</td>\n",
       "      <td>2</td>\n",
       "    </tr>\n",
       "  </tbody>\n",
       "</table>\n",
       "</div>"
      ],
      "text/plain": [
       "     total_bill   tip     sex smoker   day   time  size\n",
       "80        19.44  3.00    Male    Yes  Thur  Lunch     2\n",
       "83        32.68  5.00    Male    Yes  Thur  Lunch     2\n",
       "138       16.00  2.00    Male    Yes  Thur  Lunch     2\n",
       "191       19.81  4.19  Female    Yes  Thur  Lunch     2\n",
       "192       28.44  2.56    Male    Yes  Thur  Lunch     2"
      ]
     },
     "execution_count": 9,
     "metadata": {},
     "output_type": "execute_result"
    }
   ],
   "source": [
    "tips.query(\"time=='Lunch' and smoker=='Yes'\").head()"
   ]
  },
  {
   "cell_type": "code",
   "execution_count": 10,
   "metadata": {},
   "outputs": [
    {
     "data": {
      "text/html": [
       "<div>\n",
       "<style scoped>\n",
       "    .dataframe tbody tr th:only-of-type {\n",
       "        vertical-align: middle;\n",
       "    }\n",
       "\n",
       "    .dataframe tbody tr th {\n",
       "        vertical-align: top;\n",
       "    }\n",
       "\n",
       "    .dataframe thead th {\n",
       "        text-align: right;\n",
       "    }\n",
       "</style>\n",
       "<table border=\"1\" class=\"dataframe\">\n",
       "  <thead>\n",
       "    <tr style=\"text-align: right;\">\n",
       "      <th></th>\n",
       "      <th>total_bill</th>\n",
       "      <th>tip</th>\n",
       "      <th>sex</th>\n",
       "      <th>smoker</th>\n",
       "      <th>day</th>\n",
       "      <th>time</th>\n",
       "      <th>size</th>\n",
       "    </tr>\n",
       "  </thead>\n",
       "  <tbody>\n",
       "    <tr>\n",
       "      <th>170</th>\n",
       "      <td>50.81</td>\n",
       "      <td>10.00</td>\n",
       "      <td>Male</td>\n",
       "      <td>Yes</td>\n",
       "      <td>Sat</td>\n",
       "      <td>Dinner</td>\n",
       "      <td>3</td>\n",
       "    </tr>\n",
       "    <tr>\n",
       "      <th>212</th>\n",
       "      <td>48.33</td>\n",
       "      <td>9.00</td>\n",
       "      <td>Male</td>\n",
       "      <td>No</td>\n",
       "      <td>Sat</td>\n",
       "      <td>Dinner</td>\n",
       "      <td>4</td>\n",
       "    </tr>\n",
       "    <tr>\n",
       "      <th>59</th>\n",
       "      <td>48.27</td>\n",
       "      <td>6.73</td>\n",
       "      <td>Male</td>\n",
       "      <td>No</td>\n",
       "      <td>Sat</td>\n",
       "      <td>Dinner</td>\n",
       "      <td>4</td>\n",
       "    </tr>\n",
       "    <tr>\n",
       "      <th>156</th>\n",
       "      <td>48.17</td>\n",
       "      <td>5.00</td>\n",
       "      <td>Male</td>\n",
       "      <td>No</td>\n",
       "      <td>Sun</td>\n",
       "      <td>Dinner</td>\n",
       "      <td>6</td>\n",
       "    </tr>\n",
       "    <tr>\n",
       "      <th>182</th>\n",
       "      <td>45.35</td>\n",
       "      <td>3.50</td>\n",
       "      <td>Male</td>\n",
       "      <td>Yes</td>\n",
       "      <td>Sun</td>\n",
       "      <td>Dinner</td>\n",
       "      <td>3</td>\n",
       "    </tr>\n",
       "  </tbody>\n",
       "</table>\n",
       "</div>"
      ],
      "text/plain": [
       "     total_bill    tip   sex smoker  day    time  size\n",
       "170       50.81  10.00  Male    Yes  Sat  Dinner     3\n",
       "212       48.33   9.00  Male     No  Sat  Dinner     4\n",
       "59        48.27   6.73  Male     No  Sat  Dinner     4\n",
       "156       48.17   5.00  Male     No  Sun  Dinner     6\n",
       "182       45.35   3.50  Male    Yes  Sun  Dinner     3"
      ]
     },
     "execution_count": 10,
     "metadata": {},
     "output_type": "execute_result"
    }
   ],
   "source": [
    "tips.sort_values(['total_bill','tip'], ascending=[False, True]).head()"
   ]
  },
  {
   "cell_type": "code",
   "execution_count": 11,
   "metadata": {},
   "outputs": [
    {
     "data": {
      "text/html": [
       "<div>\n",
       "<style scoped>\n",
       "    .dataframe tbody tr th:only-of-type {\n",
       "        vertical-align: middle;\n",
       "    }\n",
       "\n",
       "    .dataframe tbody tr th {\n",
       "        vertical-align: top;\n",
       "    }\n",
       "\n",
       "    .dataframe thead th {\n",
       "        text-align: right;\n",
       "    }\n",
       "</style>\n",
       "<table border=\"1\" class=\"dataframe\">\n",
       "  <thead>\n",
       "    <tr style=\"text-align: right;\">\n",
       "      <th></th>\n",
       "      <th>total_bill</th>\n",
       "      <th>tip</th>\n",
       "      <th>sex</th>\n",
       "      <th>smoker</th>\n",
       "      <th>day</th>\n",
       "      <th>time</th>\n",
       "      <th>size</th>\n",
       "      <th>tip_pct</th>\n",
       "      <th>tip_per_person</th>\n",
       "    </tr>\n",
       "  </thead>\n",
       "  <tbody>\n",
       "    <tr>\n",
       "      <th>0</th>\n",
       "      <td>16.99</td>\n",
       "      <td>1.01</td>\n",
       "      <td>Female</td>\n",
       "      <td>No</td>\n",
       "      <td>Sun</td>\n",
       "      <td>Dinner</td>\n",
       "      <td>2</td>\n",
       "      <td>0.059</td>\n",
       "      <td>0.505</td>\n",
       "    </tr>\n",
       "    <tr>\n",
       "      <th>1</th>\n",
       "      <td>10.34</td>\n",
       "      <td>1.66</td>\n",
       "      <td>Male</td>\n",
       "      <td>No</td>\n",
       "      <td>Sun</td>\n",
       "      <td>Dinner</td>\n",
       "      <td>3</td>\n",
       "      <td>0.161</td>\n",
       "      <td>0.553</td>\n",
       "    </tr>\n",
       "    <tr>\n",
       "      <th>2</th>\n",
       "      <td>21.01</td>\n",
       "      <td>3.50</td>\n",
       "      <td>Male</td>\n",
       "      <td>No</td>\n",
       "      <td>Sun</td>\n",
       "      <td>Dinner</td>\n",
       "      <td>3</td>\n",
       "      <td>0.167</td>\n",
       "      <td>1.167</td>\n",
       "    </tr>\n",
       "    <tr>\n",
       "      <th>3</th>\n",
       "      <td>23.68</td>\n",
       "      <td>3.31</td>\n",
       "      <td>Male</td>\n",
       "      <td>No</td>\n",
       "      <td>Sun</td>\n",
       "      <td>Dinner</td>\n",
       "      <td>2</td>\n",
       "      <td>0.140</td>\n",
       "      <td>1.655</td>\n",
       "    </tr>\n",
       "    <tr>\n",
       "      <th>4</th>\n",
       "      <td>24.59</td>\n",
       "      <td>3.61</td>\n",
       "      <td>Female</td>\n",
       "      <td>No</td>\n",
       "      <td>Sun</td>\n",
       "      <td>Dinner</td>\n",
       "      <td>4</td>\n",
       "      <td>0.147</td>\n",
       "      <td>0.902</td>\n",
       "    </tr>\n",
       "  </tbody>\n",
       "</table>\n",
       "</div>"
      ],
      "text/plain": [
       "   total_bill   tip     sex smoker  day    time  size  tip_pct  tip_per_person\n",
       "0       16.99  1.01  Female     No  Sun  Dinner     2    0.059           0.505\n",
       "1       10.34  1.66    Male     No  Sun  Dinner     3    0.161           0.553\n",
       "2       21.01  3.50    Male     No  Sun  Dinner     3    0.167           1.167\n",
       "3       23.68  3.31    Male     No  Sun  Dinner     2    0.140           1.655\n",
       "4       24.59  3.61  Female     No  Sun  Dinner     4    0.147           0.902"
      ]
     },
     "execution_count": 11,
     "metadata": {},
     "output_type": "execute_result"
    }
   ],
   "source": [
    "tips = tips.assign(tip_pct = tips['tip']/tips['total_bill'],\n",
    "                         tip_per_person = tips['tip']/tips['size']); tips.head()"
   ]
  },
  {
   "cell_type": "markdown",
   "metadata": {},
   "source": [
    "### ✅ Exercise 1\n",
    "Filter `day='Sat' & size≥3`, add `bill_per_person`, sort desc, show top 5."
   ]
  },
  {
   "cell_type": "markdown",
   "metadata": {},
   "source": [
    "**Hints:**\n",
    "- Concept: filter → compute → sort.\n",
    "- API: boolean mask / `.query`, `.assign`, `.sort_values`.\n"
   ]
  },
  {
   "cell_type": "code",
   "execution_count": 12,
   "metadata": {},
   "outputs": [
    {
     "data": {
      "text/html": [
       "<div>\n",
       "<style scoped>\n",
       "    .dataframe tbody tr th:only-of-type {\n",
       "        vertical-align: middle;\n",
       "    }\n",
       "\n",
       "    .dataframe tbody tr th {\n",
       "        vertical-align: top;\n",
       "    }\n",
       "\n",
       "    .dataframe thead th {\n",
       "        text-align: right;\n",
       "    }\n",
       "</style>\n",
       "<table border=\"1\" class=\"dataframe\">\n",
       "  <thead>\n",
       "    <tr style=\"text-align: right;\">\n",
       "      <th></th>\n",
       "      <th>total_bill</th>\n",
       "      <th>tip</th>\n",
       "      <th>sex</th>\n",
       "      <th>smoker</th>\n",
       "      <th>day</th>\n",
       "      <th>time</th>\n",
       "      <th>size</th>\n",
       "      <th>tip_pct</th>\n",
       "      <th>tip_per_person</th>\n",
       "      <th>bill_per_person</th>\n",
       "    </tr>\n",
       "  </thead>\n",
       "  <tbody>\n",
       "    <tr>\n",
       "      <th>170</th>\n",
       "      <td>50.81</td>\n",
       "      <td>10.00</td>\n",
       "      <td>Male</td>\n",
       "      <td>Yes</td>\n",
       "      <td>Sat</td>\n",
       "      <td>Dinner</td>\n",
       "      <td>3</td>\n",
       "      <td>0.197</td>\n",
       "      <td>3.333</td>\n",
       "      <td>16.937</td>\n",
       "    </tr>\n",
       "    <tr>\n",
       "      <th>102</th>\n",
       "      <td>44.30</td>\n",
       "      <td>2.50</td>\n",
       "      <td>Female</td>\n",
       "      <td>Yes</td>\n",
       "      <td>Sat</td>\n",
       "      <td>Dinner</td>\n",
       "      <td>3</td>\n",
       "      <td>0.056</td>\n",
       "      <td>0.833</td>\n",
       "      <td>14.767</td>\n",
       "    </tr>\n",
       "    <tr>\n",
       "      <th>212</th>\n",
       "      <td>48.33</td>\n",
       "      <td>9.00</td>\n",
       "      <td>Male</td>\n",
       "      <td>No</td>\n",
       "      <td>Sat</td>\n",
       "      <td>Dinner</td>\n",
       "      <td>4</td>\n",
       "      <td>0.186</td>\n",
       "      <td>2.250</td>\n",
       "      <td>12.082</td>\n",
       "    </tr>\n",
       "    <tr>\n",
       "      <th>59</th>\n",
       "      <td>48.27</td>\n",
       "      <td>6.73</td>\n",
       "      <td>Male</td>\n",
       "      <td>No</td>\n",
       "      <td>Sat</td>\n",
       "      <td>Dinner</td>\n",
       "      <td>4</td>\n",
       "      <td>0.139</td>\n",
       "      <td>1.683</td>\n",
       "      <td>12.068</td>\n",
       "    </tr>\n",
       "    <tr>\n",
       "      <th>238</th>\n",
       "      <td>35.83</td>\n",
       "      <td>4.67</td>\n",
       "      <td>Female</td>\n",
       "      <td>No</td>\n",
       "      <td>Sat</td>\n",
       "      <td>Dinner</td>\n",
       "      <td>3</td>\n",
       "      <td>0.130</td>\n",
       "      <td>1.557</td>\n",
       "      <td>11.943</td>\n",
       "    </tr>\n",
       "  </tbody>\n",
       "</table>\n",
       "</div>"
      ],
      "text/plain": [
       "     total_bill    tip     sex smoker  day    time  size  tip_pct  \\\n",
       "170       50.81  10.00    Male    Yes  Sat  Dinner     3    0.197   \n",
       "102       44.30   2.50  Female    Yes  Sat  Dinner     3    0.056   \n",
       "212       48.33   9.00    Male     No  Sat  Dinner     4    0.186   \n",
       "59        48.27   6.73    Male     No  Sat  Dinner     4    0.139   \n",
       "238       35.83   4.67  Female     No  Sat  Dinner     3    0.130   \n",
       "\n",
       "     tip_per_person  bill_per_person  \n",
       "170           3.333           16.937  \n",
       "102           0.833           14.767  \n",
       "212           2.250           12.082  \n",
       "59            1.683           12.068  \n",
       "238           1.557           11.943  "
      ]
     },
     "execution_count": 12,
     "metadata": {},
     "output_type": "execute_result"
    }
   ],
   "source": [
    "df1 = tips.query(\"day == 'Sat' and size >= 3\")\n",
    "\n",
    "df1 = df1.assign(bill_per_person=df1[\"total_bill\"] / df1[\"size\"])\n",
    "\n",
    "df1 = df1.sort_values(\"bill_per_person\", ascending=False)\n",
    "\n",
    "df1.head()\n"
   ]
  },
  {
   "cell_type": "markdown",
   "metadata": {},
   "source": [
    "### ✍️ Analysis (Import & Manipulation) — 3–5 sentences\n",
    "- Which 2 columns seem most associated with `tip`? Support with a stat.\n",
    "- Explain one filter you wrote in plain English.\n",
    "- One thing you might compute next.\n",
    "\n",
    "### 🔎 Quick checks\n",
    "- Show first 3 rows of your filtered frame.\n",
    "- Name one new column and its formula.\n",
    "\n",
    "### ➕ Extension (pick one)\n",
    "- Rewrite a filter via `.query` vs mask; compare readability.\n",
    "- Change a sort order and predict effect.\n",
    "\n",
    "**Rubric (10 pts):** Correctness 3 • Evidence 2 • Clarity 2 • Reproducibility 2 • Exploration 1"
   ]
  },
  {
   "cell_type": "markdown",
   "metadata": {},
   "source": [
    "## 2) Cleaning & Preprocessing (15m)"
   ]
  },
  {
   "cell_type": "code",
   "execution_count": 13,
   "metadata": {},
   "outputs": [
    {
     "data": {
      "text/plain": [
       "total_bill         float64\n",
       "tip                float64\n",
       "sex               category\n",
       "smoker            category\n",
       "day               category\n",
       "time              category\n",
       "size                 int64\n",
       "tip_pct            float64\n",
       "tip_per_person     float64\n",
       "dtype: object"
      ]
     },
     "execution_count": 13,
     "metadata": {},
     "output_type": "execute_result"
    }
   ],
   "source": [
    "tips['sex']=tips['sex'].astype('category')\n",
    "tips['smoker']=tips['smoker'].astype('category')\n",
    "tips['day']=tips['day'].astype('category')\n",
    "tips['time']=tips['time'].astype('category'); tips.dtypes"
   ]
  },
  {
   "cell_type": "code",
   "execution_count": 14,
   "metadata": {},
   "outputs": [
    {
     "data": {
      "text/plain": [
       "0    Alice\n",
       "1      Bob\n",
       "2    Alice\n",
       "3      Bob\n",
       "4    Alice\n",
       "Name: server_name, dtype: object"
      ]
     },
     "execution_count": 14,
     "metadata": {},
     "output_type": "execute_result"
    }
   ],
   "source": [
    "tips['server_name'] = [' Alice ', 'Bob', 'ALICE', 'bob', ' Alice ', 'Bob'] * (len(tips)//6) + ['Alice']*(len(tips)%6)\n",
    "tips['server_name'] = tips['server_name'].str.strip().str.title()\n",
    "tips['server_name'].head()"
   ]
  },
  {
   "cell_type": "code",
   "execution_count": 15,
   "metadata": {},
   "outputs": [
    {
     "name": "stdout",
     "output_type": "stream",
     "text": [
      "Before: (246, 10) After: (243, 10)\n"
     ]
    }
   ],
   "source": [
    "demo = tips.copy()\n",
    "demo = pd.concat([demo, demo.iloc[0:2]], ignore_index=True)\n",
    "print(\"Before:\", demo.shape, \"After:\", demo.drop_duplicates().shape)"
   ]
  },
  {
   "cell_type": "markdown",
   "metadata": {},
   "source": [
    "### ✅ Exercise 2\n",
    "1) Ensure `size` is int64. 2) Build `tips_clean` with selected cols. 3) Verify no duplicates."
   ]
  },
  {
   "cell_type": "markdown",
   "metadata": {},
   "source": [
    "**Hints:**\n",
    "- Concept: enforce types, subset columns, dedup.\n",
    "- API: `.astype`, column lists, `.drop_duplicates`.\n"
   ]
  },
  {
   "cell_type": "code",
   "execution_count": 16,
   "metadata": {},
   "outputs": [
    {
     "name": "stdout",
     "output_type": "stream",
     "text": [
      "Duplicates in tips_clean: 0\n"
     ]
    }
   ],
   "source": [
    "tips[\"size\"] = tips[\"size\"].astype(\"int64\")\n",
    "\n",
    "tips_clean = tips[[\"total_bill\", \"tip\", \"sex\", \"smoker\", \"day\", \"time\", \"size\"]].copy()\n",
    "tips_clean = tips_clean.drop_duplicates()\n",
    "\n",
    "print(\"Duplicates in tips_clean:\", tips_clean.duplicated().sum())\n"
   ]
  },
  {
   "cell_type": "markdown",
   "metadata": {},
   "source": [
    "### ✍️ Analysis (Cleaning & Preprocessing) — 3–5 sentences\n",
    "- Which dtype changes did you apply and why?\n",
    "- Did you handle duplicates? How many?\n",
    "- One naming or string normalization you made.\n",
    "\n",
    "### 🔎 Quick checks\n",
    "- Print memory usage pre/post for 1 cast.\n",
    "- Confirm duplicates=0 in `tips_clean`.\n",
    "\n",
    "### ➕ Extension (pick one)\n",
    "- Cast another column and report memory delta.\n",
    "- Show `.value_counts()` pre/post string cleanup.\n",
    "\n",
    "**Rubric (10 pts):** Correctness 3 • Evidence 2 • Clarity 2 • Reproducibility 2 • Exploration 1"
   ]
  },
  {
   "cell_type": "markdown",
   "metadata": {},
   "source": [
    "## 3) Handling Missing Data (15m)"
   ]
  },
  {
   "cell_type": "code",
   "execution_count": 17,
   "metadata": {},
   "outputs": [
    {
     "data": {
      "text/plain": [
       "total_bill     0\n",
       "tip           21\n",
       "sex            0\n",
       "smoker         0\n",
       "day            0\n",
       "time           0\n",
       "size          21\n",
       "dtype: int64"
      ]
     },
     "execution_count": 17,
     "metadata": {},
     "output_type": "execute_result"
    }
   ],
   "source": [
    "rng = np.random.default_rng(42)\n",
    "tips_na = tips_clean.copy()\n",
    "mask = rng.choice([True, False], size=len(tips_na), p=[0.1, 0.9])\n",
    "tips_na.loc[mask, 'tip'] = np.nan; tips_na.loc[mask, 'size'] = np.nan\n",
    "tips_na.isna().sum()"
   ]
  },
  {
   "cell_type": "code",
   "execution_count": 18,
   "metadata": {},
   "outputs": [
    {
     "data": {
      "text/plain": [
       "(222, 7)"
      ]
     },
     "execution_count": 18,
     "metadata": {},
     "output_type": "execute_result"
    }
   ],
   "source": [
    "dropped = tips_na.dropna(); dropped.shape"
   ]
  },
  {
   "cell_type": "code",
   "execution_count": 19,
   "metadata": {},
   "outputs": [
    {
     "data": {
      "text/plain": [
       "total_bill    0\n",
       "tip           0\n",
       "sex           0\n",
       "smoker        0\n",
       "day           0\n",
       "time          0\n",
       "size          0\n",
       "dtype: int64"
      ]
     },
     "execution_count": 19,
     "metadata": {},
     "output_type": "execute_result"
    }
   ],
   "source": [
    "filled = tips_na.fillna({'tip': tips_na['tip'].median(), 'size': tips_na['size'].median()}); filled.isna().sum()"
   ]
  },
  {
   "cell_type": "code",
   "execution_count": 20,
   "metadata": {},
   "outputs": [
    {
     "name": "stderr",
     "output_type": "stream",
     "text": [
      "C:\\Users\\kvmit\\AppData\\Local\\Temp\\ipykernel_6888\\1629360651.py:2: FutureWarning: The default of observed=False is deprecated and will be changed to True in a future version of pandas. Pass observed=False to retain current behavior or observed=True to adopt the future default and silence this warning.\n",
      "  tips_group_fill['tip'] = tips_group_fill.groupby(['day','time'])['tip'].transform(lambda s: s.fillna(s.median()))\n"
     ]
    },
    {
     "data": {
      "text/plain": [
       "total_bill     0\n",
       "tip            0\n",
       "sex            0\n",
       "smoker         0\n",
       "day            0\n",
       "time           0\n",
       "size          21\n",
       "dtype: int64"
      ]
     },
     "execution_count": 20,
     "metadata": {},
     "output_type": "execute_result"
    }
   ],
   "source": [
    "tips_group_fill = tips_na.copy()\n",
    "tips_group_fill['tip'] = tips_group_fill.groupby(['day','time'])['tip'].transform(lambda s: s.fillna(s.median()))\n",
    "tips_group_fill.isna().sum()"
   ]
  },
  {
   "cell_type": "code",
   "execution_count": 21,
   "metadata": {},
   "outputs": [
    {
     "ename": "NotImplementedError",
     "evalue": "Categorical does not implement interpolate",
     "output_type": "error",
     "traceback": [
      "\u001b[1;31m---------------------------------------------------------------------------\u001b[0m",
      "\u001b[1;31mNotImplementedError\u001b[0m                       Traceback (most recent call last)",
      "Cell \u001b[1;32mIn[21], line 1\u001b[0m\n\u001b[1;32m----> 1\u001b[0m tips_interp \u001b[38;5;241m=\u001b[39m \u001b[43mtips_na\u001b[49m\u001b[38;5;241;43m.\u001b[39;49m\u001b[43msort_values\u001b[49m\u001b[43m(\u001b[49m\u001b[38;5;124;43m'\u001b[39;49m\u001b[38;5;124;43mtotal_bill\u001b[39;49m\u001b[38;5;124;43m'\u001b[39;49m\u001b[43m)\u001b[49m\u001b[38;5;241;43m.\u001b[39;49m\u001b[43minterpolate\u001b[49m\u001b[43m(\u001b[49m\u001b[43mnumeric_only\u001b[49m\u001b[38;5;241;43m=\u001b[39;49m\u001b[38;5;28;43;01mTrue\u001b[39;49;00m\u001b[43m)\u001b[49m; tips_interp\u001b[38;5;241m.\u001b[39misna()\u001b[38;5;241m.\u001b[39msum()\n",
      "File \u001b[1;32md:\\anaconda3\\envs\\cse303_ml\\lib\\site-packages\\pandas\\core\\generic.py:8518\u001b[0m, in \u001b[0;36mNDFrame.interpolate\u001b[1;34m(self, method, axis, limit, inplace, limit_direction, limit_area, downcast, **kwargs)\u001b[0m\n\u001b[0;32m   8516\u001b[0m \u001b[38;5;28;01melse\u001b[39;00m:\n\u001b[0;32m   8517\u001b[0m     index \u001b[38;5;241m=\u001b[39m missing\u001b[38;5;241m.\u001b[39mget_interp_index(method, obj\u001b[38;5;241m.\u001b[39mindex)\n\u001b[1;32m-> 8518\u001b[0m     new_data \u001b[38;5;241m=\u001b[39m obj\u001b[38;5;241m.\u001b[39m_mgr\u001b[38;5;241m.\u001b[39minterpolate(\n\u001b[0;32m   8519\u001b[0m         method\u001b[38;5;241m=\u001b[39mmethod,\n\u001b[0;32m   8520\u001b[0m         index\u001b[38;5;241m=\u001b[39mindex,\n\u001b[0;32m   8521\u001b[0m         limit\u001b[38;5;241m=\u001b[39mlimit,\n\u001b[0;32m   8522\u001b[0m         limit_direction\u001b[38;5;241m=\u001b[39mlimit_direction,\n\u001b[0;32m   8523\u001b[0m         limit_area\u001b[38;5;241m=\u001b[39mlimit_area,\n\u001b[0;32m   8524\u001b[0m         inplace\u001b[38;5;241m=\u001b[39minplace,\n\u001b[0;32m   8525\u001b[0m         downcast\u001b[38;5;241m=\u001b[39mdowncast,\n\u001b[0;32m   8526\u001b[0m         \u001b[38;5;241m*\u001b[39m\u001b[38;5;241m*\u001b[39mkwargs,\n\u001b[0;32m   8527\u001b[0m     )\n\u001b[0;32m   8529\u001b[0m result \u001b[38;5;241m=\u001b[39m \u001b[38;5;28mself\u001b[39m\u001b[38;5;241m.\u001b[39m_constructor_from_mgr(new_data, axes\u001b[38;5;241m=\u001b[39mnew_data\u001b[38;5;241m.\u001b[39maxes)\n\u001b[0;32m   8530\u001b[0m \u001b[38;5;28;01mif\u001b[39;00m should_transpose:\n",
      "File \u001b[1;32md:\\anaconda3\\envs\\cse303_ml\\lib\\site-packages\\pandas\\core\\internals\\base.py:291\u001b[0m, in \u001b[0;36mDataManager.interpolate\u001b[1;34m(self, inplace, **kwargs)\u001b[0m\n\u001b[0;32m    290\u001b[0m \u001b[38;5;28;01mdef\u001b[39;00m\u001b[38;5;250m \u001b[39m\u001b[38;5;21minterpolate\u001b[39m(\u001b[38;5;28mself\u001b[39m, inplace: \u001b[38;5;28mbool\u001b[39m, \u001b[38;5;241m*\u001b[39m\u001b[38;5;241m*\u001b[39mkwargs) \u001b[38;5;241m-\u001b[39m\u001b[38;5;241m>\u001b[39m Self:\n\u001b[1;32m--> 291\u001b[0m     \u001b[38;5;28;01mreturn\u001b[39;00m \u001b[38;5;28mself\u001b[39m\u001b[38;5;241m.\u001b[39mapply_with_block(\n\u001b[0;32m    292\u001b[0m         \u001b[38;5;124m\"\u001b[39m\u001b[38;5;124minterpolate\u001b[39m\u001b[38;5;124m\"\u001b[39m,\n\u001b[0;32m    293\u001b[0m         inplace\u001b[38;5;241m=\u001b[39minplace,\n\u001b[0;32m    294\u001b[0m         \u001b[38;5;241m*\u001b[39m\u001b[38;5;241m*\u001b[39mkwargs,\n\u001b[0;32m    295\u001b[0m         using_cow\u001b[38;5;241m=\u001b[39musing_copy_on_write(),\n\u001b[0;32m    296\u001b[0m         already_warned\u001b[38;5;241m=\u001b[39m_AlreadyWarned(),\n\u001b[0;32m    297\u001b[0m     )\n",
      "File \u001b[1;32md:\\anaconda3\\envs\\cse303_ml\\lib\\site-packages\\pandas\\core\\internals\\managers.py:363\u001b[0m, in \u001b[0;36mBaseBlockManager.apply\u001b[1;34m(self, f, align_keys, **kwargs)\u001b[0m\n\u001b[0;32m    361\u001b[0m         applied \u001b[38;5;241m=\u001b[39m b\u001b[38;5;241m.\u001b[39mapply(f, \u001b[38;5;241m*\u001b[39m\u001b[38;5;241m*\u001b[39mkwargs)\n\u001b[0;32m    362\u001b[0m     \u001b[38;5;28;01melse\u001b[39;00m:\n\u001b[1;32m--> 363\u001b[0m         applied \u001b[38;5;241m=\u001b[39m \u001b[38;5;28mgetattr\u001b[39m(b, f)(\u001b[38;5;241m*\u001b[39m\u001b[38;5;241m*\u001b[39mkwargs)\n\u001b[0;32m    364\u001b[0m     result_blocks \u001b[38;5;241m=\u001b[39m extend_blocks(applied, result_blocks)\n\u001b[0;32m    366\u001b[0m out \u001b[38;5;241m=\u001b[39m \u001b[38;5;28mtype\u001b[39m(\u001b[38;5;28mself\u001b[39m)\u001b[38;5;241m.\u001b[39mfrom_blocks(result_blocks, \u001b[38;5;28mself\u001b[39m\u001b[38;5;241m.\u001b[39maxes)\n",
      "File \u001b[1;32md:\\anaconda3\\envs\\cse303_ml\\lib\\site-packages\\pandas\\core\\internals\\blocks.py:1863\u001b[0m, in \u001b[0;36mBlock.interpolate\u001b[1;34m(self, method, index, inplace, limit, limit_direction, limit_area, downcast, using_cow, already_warned, **kwargs)\u001b[0m\n\u001b[0;32m   1860\u001b[0m copy, refs \u001b[38;5;241m=\u001b[39m \u001b[38;5;28mself\u001b[39m\u001b[38;5;241m.\u001b[39m_get_refs_and_copy(using_cow, inplace)\n\u001b[0;32m   1862\u001b[0m \u001b[38;5;66;03m# Dispatch to the EA method.\u001b[39;00m\n\u001b[1;32m-> 1863\u001b[0m new_values \u001b[38;5;241m=\u001b[39m \u001b[38;5;28mself\u001b[39m\u001b[38;5;241m.\u001b[39marray_values\u001b[38;5;241m.\u001b[39minterpolate(\n\u001b[0;32m   1864\u001b[0m     method\u001b[38;5;241m=\u001b[39mmethod,\n\u001b[0;32m   1865\u001b[0m     axis\u001b[38;5;241m=\u001b[39m\u001b[38;5;28mself\u001b[39m\u001b[38;5;241m.\u001b[39mndim \u001b[38;5;241m-\u001b[39m \u001b[38;5;241m1\u001b[39m,\n\u001b[0;32m   1866\u001b[0m     index\u001b[38;5;241m=\u001b[39mindex,\n\u001b[0;32m   1867\u001b[0m     limit\u001b[38;5;241m=\u001b[39mlimit,\n\u001b[0;32m   1868\u001b[0m     limit_direction\u001b[38;5;241m=\u001b[39mlimit_direction,\n\u001b[0;32m   1869\u001b[0m     limit_area\u001b[38;5;241m=\u001b[39mlimit_area,\n\u001b[0;32m   1870\u001b[0m     copy\u001b[38;5;241m=\u001b[39mcopy,\n\u001b[0;32m   1871\u001b[0m     \u001b[38;5;241m*\u001b[39m\u001b[38;5;241m*\u001b[39mkwargs,\n\u001b[0;32m   1872\u001b[0m )\n\u001b[0;32m   1873\u001b[0m data \u001b[38;5;241m=\u001b[39m extract_array(new_values, extract_numpy\u001b[38;5;241m=\u001b[39m\u001b[38;5;28;01mTrue\u001b[39;00m)\n\u001b[0;32m   1875\u001b[0m \u001b[38;5;28;01mif\u001b[39;00m (\n\u001b[0;32m   1876\u001b[0m     \u001b[38;5;129;01mnot\u001b[39;00m copy\n\u001b[0;32m   1877\u001b[0m     \u001b[38;5;129;01mand\u001b[39;00m warn_copy_on_write()\n\u001b[0;32m   1878\u001b[0m     \u001b[38;5;129;01mand\u001b[39;00m already_warned \u001b[38;5;129;01mis\u001b[39;00m \u001b[38;5;129;01mnot\u001b[39;00m \u001b[38;5;28;01mNone\u001b[39;00m\n\u001b[0;32m   1879\u001b[0m     \u001b[38;5;129;01mand\u001b[39;00m \u001b[38;5;129;01mnot\u001b[39;00m already_warned\u001b[38;5;241m.\u001b[39mwarned_already\n\u001b[0;32m   1880\u001b[0m ):\n",
      "File \u001b[1;32md:\\anaconda3\\envs\\cse303_ml\\lib\\site-packages\\pandas\\core\\arrays\\base.py:956\u001b[0m, in \u001b[0;36mExtensionArray.interpolate\u001b[1;34m(self, method, axis, index, limit, limit_direction, limit_area, copy, **kwargs)\u001b[0m\n\u001b[0;32m    936\u001b[0m \u001b[38;5;250m\u001b[39m\u001b[38;5;124;03m\"\"\"\u001b[39;00m\n\u001b[0;32m    937\u001b[0m \u001b[38;5;124;03mSee DataFrame.interpolate.__doc__.\u001b[39;00m\n\u001b[0;32m    938\u001b[0m \n\u001b[1;32m   (...)\u001b[0m\n\u001b[0;32m    953\u001b[0m \u001b[38;5;124;03mLength: 4, dtype: float64\u001b[39;00m\n\u001b[0;32m    954\u001b[0m \u001b[38;5;124;03m\"\"\"\u001b[39;00m\n\u001b[0;32m    955\u001b[0m \u001b[38;5;66;03m# NB: we return type(self) even if copy=False\u001b[39;00m\n\u001b[1;32m--> 956\u001b[0m \u001b[38;5;28;01mraise\u001b[39;00m \u001b[38;5;167;01mNotImplementedError\u001b[39;00m(\n\u001b[0;32m    957\u001b[0m     \u001b[38;5;124mf\u001b[39m\u001b[38;5;124m\"\u001b[39m\u001b[38;5;132;01m{\u001b[39;00m\u001b[38;5;28mtype\u001b[39m(\u001b[38;5;28mself\u001b[39m)\u001b[38;5;241m.\u001b[39m\u001b[38;5;18m__name__\u001b[39m\u001b[38;5;132;01m}\u001b[39;00m\u001b[38;5;124m does not implement interpolate\u001b[39m\u001b[38;5;124m\"\u001b[39m\n\u001b[0;32m    958\u001b[0m )\n",
      "\u001b[1;31mNotImplementedError\u001b[0m: Categorical does not implement interpolate"
     ]
    }
   ],
   "source": [
    "tips_interp = tips_na.sort_values('total_bill').interpolate(numeric_only=True); tips_interp.isna().sum()"
   ]
  },
  {
   "cell_type": "markdown",
   "metadata": {},
   "source": [
    "### ✅ Exercise 3\n",
    "Drop rows where both `tip` & `size` are NaN; fill `size` by rounded mean per `day`."
   ]
  },
  {
   "cell_type": "markdown",
   "metadata": {},
   "source": [
    "**Hints:**\n",
    "- Concept: selective drop, grouped fill.\n",
    "- API: boolean masks, `groupby().transform`, `.fillna`.\n"
   ]
  },
  {
   "cell_type": "code",
   "execution_count": null,
   "metadata": {},
   "outputs": [
    {
     "name": "stdout",
     "output_type": "stream",
     "text": [
      "total_bill        0\n",
      "tip               0\n",
      "sex               0\n",
      "smoker            0\n",
      "day               0\n",
      "time              0\n",
      "size              0\n",
      "tip_pct           0\n",
      "tip_per_person    0\n",
      "server_name       0\n",
      "dtype: int64\n"
     ]
    },
    {
     "name": "stderr",
     "output_type": "stream",
     "text": [
      "C:\\Users\\kvmit\\AppData\\Local\\Temp\\ipykernel_2756\\2258008604.py:5: FutureWarning: The default of observed=False is deprecated and will be changed to True in a future version of pandas. Pass observed=False to retain current behavior or observed=True to adopt the future default and silence this warning.\n",
      "  tips2[\"size\"] = tips2.groupby(\"day\")[\"size\"].transform(\n"
     ]
    }
   ],
   "source": [
    "# YOUR WORK: Exercise 3\n",
    "\n",
    "tips2 = tips.dropna(subset=[\"tip\", \"size\"], how=\"all\")\n",
    "\n",
    "tips2[\"size\"] = tips2.groupby(\"day\")[\"size\"].transform(\n",
    "    lambda x: x.fillna(round(x.mean()))\n",
    ")\n",
    "\n",
    "print(tips2.isna().sum())\n"
   ]
  },
  {
   "cell_type": "markdown",
   "metadata": {},
   "source": [
    "### ✍️ Analysis (Missing Data) — 3–5 sentences\n",
    "- Compare `dropna` vs groupwise fill—who shifts distribution more?\n",
    "- What assumption does your fill strategy make?\n",
    "- When would interpolation be inappropriate here?\n",
    "\n",
    "### 🔎 Quick checks\n",
    "- Report NaN counts before vs after.\n",
    "- Cite one numeric change for `tip`.\n",
    "\n",
    "### ➕ Extension (pick one)\n",
    "- Try a different group key for fill and compare MAE.\n",
    "- Plot hist pre/post fill for `tip`.\n",
    "\n",
    "**Rubric (10 pts):** Correctness 3 • Evidence 2 • Clarity 2 • Reproducibility 2 • Exploration 1"
   ]
  },
  {
   "cell_type": "markdown",
   "metadata": {},
   "source": [
    "## 4) Analysis & Visualization (20m)"
   ]
  },
  {
   "cell_type": "code",
   "execution_count": null,
   "metadata": {},
   "outputs": [],
   "source": [
    "print(\"Overall tip %:\", (tips['tip'].sum()/tips['total_bill'].sum()).round(3))"
   ]
  },
  {
   "cell_type": "code",
   "execution_count": null,
   "metadata": {},
   "outputs": [],
   "source": [
    "plt.figure(); plt.hist(tips['total_bill'].dropna(), bins=20)\n",
    "plt.title('Histogram: total_bill'); plt.xlabel('total_bill'); plt.ylabel('Frequency'); plt.show()"
   ]
  },
  {
   "cell_type": "code",
   "execution_count": null,
   "metadata": {},
   "outputs": [],
   "source": [
    "plt.figure()\n",
    "data = [tips.loc[tips['day']==d, 'tip'].dropna().values for d in tips['day'].cat.categories]\n",
    "plt.boxplot(data, labels=list(tips['day'].cat.categories))\n",
    "plt.title('Boxplot: tip by day'); plt.xlabel('day'); plt.ylabel('tip'); plt.show()"
   ]
  },
  {
   "cell_type": "code",
   "execution_count": null,
   "metadata": {},
   "outputs": [],
   "source": [
    "plt.figure(); plt.scatter(tips['total_bill'], tips['tip'], s=tips['size']*10, alpha=0.6)\n",
    "plt.title('Scatter: total_bill vs tip'); plt.xlabel('total_bill'); plt.ylabel('tip'); plt.show()"
   ]
  },
  {
   "cell_type": "code",
   "execution_count": null,
   "metadata": {},
   "outputs": [],
   "source": [
    "avg_tip_pct = tips.groupby('day')['tip_pct'].mean()\n",
    "plt.figure(); plt.bar(avg_tip_pct.index.astype(str), avg_tip_pct.values)\n",
    "plt.title('Average tip_pct by day'); plt.xlabel('day'); plt.ylabel('mean tip_pct'); plt.show()"
   ]
  },
  {
   "cell_type": "markdown",
   "metadata": {},
   "source": [
    "### ✅ Exercise 4\n",
    "1) Scatter: `total_bill` vs `tip_pct`. 2) Bar: median `total_bill` by `time`."
   ]
  },
  {
   "cell_type": "markdown",
   "metadata": {},
   "source": [
    "**Hints:**\n",
    "- Concept: relate vars via scatter; summarize via bar.\n",
    "- API: `plt.scatter`, `groupby().median` + `plt.bar`.\n"
   ]
  },
  {
   "cell_type": "code",
   "execution_count": null,
   "metadata": {},
   "outputs": [
    {
     "data": {
      "image/png": "[encoded data removed]",
      "text/plain": [
       "<Figure size 640x480 with 1 Axes>"
      ]
     },
     "metadata": {},
     "output_type": "display_data"
    },
    {
     "name": "stderr",
     "output_type": "stream",
     "text": [
      "C:\\Users\\kvmit\\AppData\\Local\\Temp\\ipykernel_2756\\2608115194.py:12: FutureWarning: The default of observed=False is deprecated and will be changed to True in a future version of pandas. Pass observed=False to retain current behavior or observed=True to adopt the future default and silence this warning.\n",
      "  median_bill = tips.groupby(\"time\")[\"total_bill\"].median()\n"
     ]
    },
    {
     "data": {
      "image/png": "[encoded data removed]",
      "text/plain": [
       "<Figure size 640x480 with 1 Axes>"
      ]
     },
     "metadata": {},
     "output_type": "display_data"
    }
   ],
   "source": [
    "# YOUR WORK: Exercise 4\n",
    "tips2 = tips.assign(tip_pct=tips[\"tip\"] / tips[\"total_bill\"])\n",
    "\n",
    "# 1) Scatter plot\n",
    "plt.scatter(tips2[\"total_bill\"], tips2[\"tip_pct\"])\n",
    "plt.xlabel(\"Total Bill\")\n",
    "plt.ylabel(\"Tip %\")\n",
    "plt.title(\"Total Bill vs Tip %\")\n",
    "plt.show()\n",
    "\n",
    "# 2) Bar plot\n",
    "median_bill = tips.groupby(\"time\")[\"total_bill\"].median()\n",
    "median_bill.plot(kind=\"bar\")\n",
    "plt.ylabel(\"Median Total Bill\")\n",
    "plt.title(\"Median Total Bill by Time\")\n",
    "plt.show()\n"
   ]
  },
  {
   "cell_type": "markdown",
   "metadata": {},
   "source": [
    "### ✍️ Analysis (Analysis & Visualization) — 3–5 sentences\n",
    "- State one pattern that holds across days and one that differs Lunch vs Dinner.\n",
    "- Interpret scatter: linear? heteroscedastic?\n",
    "- What would you plot next?\n",
    "\n",
    "### 🔎 Quick checks\n",
    "- Quote one `.describe()` stat that supports your claim.\n",
    "- Ensure axes labels/titles are informative.\n",
    "\n",
    "### ➕ Extension (pick one)\n",
    "- Add a follow-up chart (e.g., tip% by party size) and describe it.\n",
    "- Bucket `total_bill` and compare medians.\n",
    "\n",
    "**Rubric (10 pts):** Correctness 3 • Evidence 2 • Clarity 2 • Reproducibility 2 • Exploration 1"
   ]
  },
  {
   "cell_type": "markdown",
   "metadata": {},
   "source": [
    "## 5) Grouping & Merging (20m)"
   ]
  },
  {
   "cell_type": "code",
   "execution_count": null,
   "metadata": {},
   "outputs": [],
   "source": [
    "g = (tips.groupby(['day','time'])\n",
    "       .agg(count=('total_bill','size'), avg_bill=('total_bill','mean'),\n",
    "            avg_tip=('tip','mean'), avg_tip_pct=('tip_pct','mean'))); g.head()"
   ]
  },
  {
   "cell_type": "code",
   "execution_count": null,
   "metadata": {},
   "outputs": [],
   "source": [
    "def pct_above_20(s): return (s>0.20).mean()\n",
    "\n",
    "tips.groupby('day')['tip_pct'].apply(pct_above_20)"
   ]
  },
  {
   "cell_type": "code",
   "execution_count": null,
   "metadata": {},
   "outputs": [],
   "source": [
    "day_lookup = pd.DataFrame({'day':['Thur','Fri','Sat','Sun'],'is_weekend':[False,False,True,True]})\n",
    "tips_merge = tips.merge(day_lookup, on='day', how='left')\n",
    "tips_merge[['day','is_weekend']].drop_duplicates().sort_values('day')"
   ]
  },
  {
   "cell_type": "markdown",
   "metadata": {},
   "source": [
    "### ✅ Exercise 5\n",
    "1) Sum `total_bill` & `tip` by `smoker,sex`. 2) Map `time`→L/D and show pairs."
   ]
  },
  {
   "cell_type": "markdown",
   "metadata": {},
   "source": [
    "**Hints:**\n",
    "- Concept: summarize by groups; enrich via merge.\n",
    "- API: `groupby().agg`, `.merge`.\n"
   ]
  },
  {
   "cell_type": "code",
   "execution_count": null,
   "metadata": {},
   "outputs": [
    {
     "name": "stdout",
     "output_type": "stream",
     "text": [
      "               total_bill     tip\n",
      "smoker sex                       \n",
      "No     Female      977.68  149.77\n",
      "       Male       1919.75  302.00\n",
      "Yes    Female      593.27   96.74\n",
      "       Male       1337.07  183.07\n"
     ]
    },
    {
     "name": "stderr",
     "output_type": "stream",
     "text": [
      "C:\\Users\\kvmit\\AppData\\Local\\Temp\\ipykernel_2756\\2452880941.py:2: FutureWarning: The default of observed=False is deprecated and will be changed to True in a future version of pandas. Pass observed=False to retain current behavior or observed=True to adopt the future default and silence this warning.\n",
      "  sum_table=tips.groupby([\"smoker\",\"sex\"])[[\"total_bill\",\"tip\"]].sum()\n"
     ]
    },
    {
     "data": {
      "text/html": [
       "<div>\n",
       "<style scoped>\n",
       "    .dataframe tbody tr th:only-of-type {\n",
       "        vertical-align: middle;\n",
       "    }\n",
       "\n",
       "    .dataframe tbody tr th {\n",
       "        vertical-align: top;\n",
       "    }\n",
       "\n",
       "    .dataframe thead th {\n",
       "        text-align: right;\n",
       "    }\n",
       "</style>\n",
       "<table border=\"1\" class=\"dataframe\">\n",
       "  <thead>\n",
       "    <tr style=\"text-align: right;\">\n",
       "      <th></th>\n",
       "      <th>time</th>\n",
       "      <th>time_abbr</th>\n",
       "    </tr>\n",
       "  </thead>\n",
       "  <tbody>\n",
       "    <tr>\n",
       "      <th>0</th>\n",
       "      <td>Dinner</td>\n",
       "      <td>D</td>\n",
       "    </tr>\n",
       "    <tr>\n",
       "      <th>77</th>\n",
       "      <td>Lunch</td>\n",
       "      <td>L</td>\n",
       "    </tr>\n",
       "  </tbody>\n",
       "</table>\n",
       "</div>"
      ],
      "text/plain": [
       "      time time_abbr\n",
       "0   Dinner         D\n",
       "77   Lunch         L"
      ]
     },
     "execution_count": 34,
     "metadata": {},
     "output_type": "execute_result"
    }
   ],
   "source": [
    "# YOUR WORK: Exercise 5\n",
    "sum_table=tips.groupby([\"smoker\",\"sex\"])[[\"total_bill\",\"tip\"]].sum()\n",
    "print(sum_table)\n",
    "\n",
    "time_map={\"Lunch\":\"L\",\"Dinner\":\"D\"}\n",
    "tips2=tips.assign(time_abbr=tips[\"time\"].map(time_map))\n",
    "tips2[[\"time\",\"time_abbr\"]].drop_duplicates()\n"
   ]
  },
  {
   "cell_type": "markdown",
   "metadata": {},
   "source": [
    "### ✍️ Analysis (Grouping & Merging) — 3–5 sentences\n",
    "- Translate one grouped table into a business insight.\n",
    "- How does `tip_pct` vs `tip` change ranking?\n",
    "- What join-key assumptions are you making?\n",
    "\n",
    "### 🔎 Quick checks\n",
    "- Show index/columns of grouped result.\n",
    "- Check row counts before/after a merge.\n",
    "\n",
    "### ➕ Extension (pick one)\n",
    "- Add `avg_tip_pp` and re-rank groups.\n",
    "- Outer join with `_indicator` and explain one mismatch.\n",
    "\n",
    "**Rubric (10 pts):** Correctness 3 • Evidence 2 • Clarity 2 • Reproducibility 2 • Exploration 1"
   ]
  },
  {
   "cell_type": "markdown",
   "metadata": {},
   "source": [
    "## 6) Reshaping & Pivoting (15m)"
   ]
  },
  {
   "cell_type": "code",
   "execution_count": null,
   "metadata": {},
   "outputs": [],
   "source": [
    "piv = tips.pivot_table(index='day', columns='time', values='tip_pct', aggfunc='mean'); piv"
   ]
  },
  {
   "cell_type": "code",
   "execution_count": null,
   "metadata": {},
   "outputs": [],
   "source": [
    "long = tips[['day','time','total_bill','tip']].melt(id_vars=['day','time'], var_name='metric', value_name='value'); long.head()"
   ]
  },
  {
   "cell_type": "markdown",
   "metadata": {},
   "source": [
    "### ✅ Exercise 6\n",
    "1) Pivot mean `total_bill` by `size`×`day`. 2) Melt back to long with `size` as id."
   ]
  },
  {
   "cell_type": "markdown",
   "metadata": {},
   "source": [
    "**Hints:**\n",
    "- Concept: reshape wide↔long.\n",
    "- API: `pivot_table`, `melt`.\n"
   ]
  },
  {
   "cell_type": "code",
   "execution_count": null,
   "metadata": {},
   "outputs": [
    {
     "name": "stdout",
     "output_type": "stream",
     "text": [
      "day      Fri     Sat     Sun    Thur\n",
      "size                                \n",
      "1      8.580   5.160     NaN  10.070\n",
      "2     16.322  16.837  17.560  15.157\n",
      "3     15.980  25.509  22.184  19.160\n",
      "4     40.170  29.876  26.688  29.950\n",
      "5        NaN  28.150  27.000  41.190\n",
      "6        NaN     NaN  48.170  30.383\n"
     ]
    },
    {
     "name": "stderr",
     "output_type": "stream",
     "text": [
      "C:\\Users\\kvmit\\AppData\\Local\\Temp\\ipykernel_2756\\4293729877.py:2: FutureWarning: The default value of observed=False is deprecated and will change to observed=True in a future version of pandas. Specify observed=False to silence this warning and retain the current behavior\n",
      "  pivot_tbl=tips.pivot_table(index=\"size\",columns=\"day\",values=\"total_bill\",aggfunc=\"mean\")\n"
     ]
    },
    {
     "data": {
      "text/html": [
       "<div>\n",
       "<style scoped>\n",
       "    .dataframe tbody tr th:only-of-type {\n",
       "        vertical-align: middle;\n",
       "    }\n",
       "\n",
       "    .dataframe tbody tr th {\n",
       "        vertical-align: top;\n",
       "    }\n",
       "\n",
       "    .dataframe thead th {\n",
       "        text-align: right;\n",
       "    }\n",
       "</style>\n",
       "<table border=\"1\" class=\"dataframe\">\n",
       "  <thead>\n",
       "    <tr style=\"text-align: right;\">\n",
       "      <th></th>\n",
       "      <th>size</th>\n",
       "      <th>day</th>\n",
       "      <th>mean_bill</th>\n",
       "    </tr>\n",
       "  </thead>\n",
       "  <tbody>\n",
       "    <tr>\n",
       "      <th>0</th>\n",
       "      <td>1</td>\n",
       "      <td>Fri</td>\n",
       "      <td>8.580</td>\n",
       "    </tr>\n",
       "    <tr>\n",
       "      <th>1</th>\n",
       "      <td>2</td>\n",
       "      <td>Fri</td>\n",
       "      <td>16.322</td>\n",
       "    </tr>\n",
       "    <tr>\n",
       "      <th>2</th>\n",
       "      <td>3</td>\n",
       "      <td>Fri</td>\n",
       "      <td>15.980</td>\n",
       "    </tr>\n",
       "    <tr>\n",
       "      <th>3</th>\n",
       "      <td>4</td>\n",
       "      <td>Fri</td>\n",
       "      <td>40.170</td>\n",
       "    </tr>\n",
       "    <tr>\n",
       "      <th>4</th>\n",
       "      <td>5</td>\n",
       "      <td>Fri</td>\n",
       "      <td>NaN</td>\n",
       "    </tr>\n",
       "  </tbody>\n",
       "</table>\n",
       "</div>"
      ],
      "text/plain": [
       "   size  day  mean_bill\n",
       "0     1  Fri      8.580\n",
       "1     2  Fri     16.322\n",
       "2     3  Fri     15.980\n",
       "3     4  Fri     40.170\n",
       "4     5  Fri        NaN"
      ]
     },
     "execution_count": 35,
     "metadata": {},
     "output_type": "execute_result"
    }
   ],
   "source": [
    "# YOUR WORK: Exercise 6\n",
    "pivot_tbl=tips.pivot_table(index=\"size\",columns=\"day\",values=\"total_bill\",aggfunc=\"mean\")\n",
    "print(pivot_tbl)\n",
    "\n",
    "melt_tbl=pivot_tbl.reset_index().melt(id_vars=\"size\",var_name=\"day\",value_name=\"mean_bill\")\n",
    "melt_tbl.head()\n",
    "\n"
   ]
  },
  {
   "cell_type": "markdown",
   "metadata": {},
   "source": [
    "### ✍️ Analysis (Reshaping & Pivoting) — 3–5 sentences\n",
    "- When did `pivot_table` drop rows/cols vs `melt`?\n",
    "- Explain wide↔long trade-offs here.\n",
    "- Which format suits your chosen chart and why?\n",
    "\n",
    "### 🔎 Quick checks\n",
    "- Confirm shapes of pivot vs long tables.\n",
    "- List index/columns used in your pivot.\n",
    "\n",
    "### ➕ Extension (pick one)\n",
    "- Change `aggfunc` and compare results.\n",
    "- Add a second dimension in pivot.\n",
    "\n",
    "**Rubric (10 pts):** Correctness 3 • Evidence 2 • Clarity 2 • Reproducibility 2 • Exploration 1"
   ]
  },
  {
   "cell_type": "markdown",
   "metadata": {},
   "source": [
    "## 7) Mini-Project: When are tips the most generous? (5–10m)"
   ]
  },
  {
   "cell_type": "code",
   "execution_count": null,
   "metadata": {},
   "outputs": [],
   "source": [
    "piv = tips.pivot_table(index='day', columns='time', values='tip_pct', aggfunc='mean')\n",
    "print(piv.stack().sort_values(ascending=False).head(5))\n",
    "plt.figure(); plt.imshow(piv.values, aspect='auto')\n",
    "plt.title('Mean tip_pct by day & time'); plt.xlabel('time'); plt.ylabel('day')\n",
    "plt.xticks(range(len(piv.columns)), piv.columns.astype(str))\n",
    "plt.yticks(range(len(piv.index)), piv.index.astype(str))\n",
    "plt.colorbar(); plt.show()"
   ]
  },
  {
   "cell_type": "markdown",
   "metadata": {},
   "source": [
    "### ✍️ Analysis (Mini-Project (Tips Generosity)) — 3–5 sentences\n",
    "- State your top day×time combo with mean `tip_pct`.\n",
    "- Is it robust to outliers? How to check?\n",
    "- One follow-up action for a restaurant.\n",
    "\n",
    "### 🔎 Quick checks\n",
    "- Show top 3 combos and their counts.\n",
    "- Confirm sample size for top combo.\n",
    "\n",
    "### ➕ Extension (pick one)\n",
    "- Recompute using median `tip_pct`.\n",
    "- Exclude size<2 and compare ranking.\n",
    "\n",
    "**Rubric (10 pts):** Correctness 3 • Evidence 2 • Clarity 2 • Reproducibility 2 • Exploration 1"
   ]
  },
  {
   "cell_type": "markdown",
   "metadata": {},
   "source": [
    "# Advanced Module — Daily Operations Coverage (~60–75m)"
   ]
  },
  {
   "cell_type": "markdown",
   "metadata": {},
   "source": [
    "## 8) Indexes & MultiIndex (10m)"
   ]
  },
  {
   "cell_type": "code",
   "execution_count": null,
   "metadata": {},
   "outputs": [],
   "source": [
    "ti = tips.set_index(['day','time']).sort_index()\n",
    "ti.loc[('Sat','Dinner')].head()"
   ]
  },
  {
   "cell_type": "code",
   "execution_count": null,
   "metadata": {},
   "outputs": [],
   "source": [
    "ti.groupby(level=['day','time'])['tip_pct'].mean().reset_index(name='mean_tip_pct').head()"
   ]
  },
  {
   "cell_type": "markdown",
   "metadata": {},
   "source": [
    "### ✍️ Analysis (Indexes & MultiIndex) — 3–5 sentences\n",
    "- What did a MultiIndex buy you over flat columns?\n",
    "- Give one easier slice enabled by the index.\n",
    "- Any pitfalls when saving/loading with MultiIndex?\n",
    "\n",
    "### 🔎 Quick checks\n",
    "- Print `.index.names` and level dtypes.\n",
    "- Show one `.loc` label slice on multi-level.\n",
    "\n",
    "### ➕ Extension (pick one)\n",
    "- Swap levels and explain slicing change.\n",
    "- Reset index and compare to original columns.\n",
    "\n",
    "**Rubric (10 pts):** Correctness 3 • Evidence 2 • Clarity 2 • Reproducibility 2 • Exploration 1"
   ]
  },
  {
   "cell_type": "markdown",
   "metadata": {},
   "source": [
    "## 9) Time Series & Resampling (15m)"
   ]
  },
  {
   "cell_type": "code",
   "execution_count": null,
   "metadata": {},
   "outputs": [],
   "source": [
    "tips_ts = tips.copy()\n",
    "tips_ts['date'] = pd.to_datetime('2024-01-01') + pd.to_timedelta(np.arange(len(tips_ts)), unit='D')\n",
    "tips_ts = tips_ts.set_index('date').sort_index()\n",
    "weekly = tips_ts.resample('W')[['total_bill','tip']].sum()\n",
    "weekly['tip_pct'] = weekly['tip']/weekly['total_bill']\n",
    "weekly['tip_pct_roll4'] = weekly['tip_pct'].rolling(4, min_periods=1).mean()\n",
    "weekly.head()"
   ]
  },
  {
   "cell_type": "markdown",
   "metadata": {},
   "source": [
    "### ✍️ Analysis (Time Series & Resampling) — 3–5 sentences\n",
    "- What trend do you see weekly vs monthly?\n",
    "- Interpret divergence between raw and rolling series.\n",
    "- Why pick `W` vs `MS`?\n",
    "\n",
    "### 🔎 Quick checks\n",
    "- Report min/max dates in your index.\n",
    "- State the rolling window used and its effect.\n",
    "\n",
    "### ➕ Extension (pick one)\n",
    "- Try a different window size and compare.\n",
    "- Plot both resampled and rolling series; note one change.\n",
    "\n",
    "**Rubric (10 pts):** Correctness 3 • Evidence 2 • Clarity 2 • Reproducibility 2 • Exploration 1"
   ]
  },
  {
   "cell_type": "markdown",
   "metadata": {},
   "source": [
    "## 10) Rolling & Window Ops (10m)"
   ]
  },
  {
   "cell_type": "code",
   "execution_count": null,
   "metadata": {},
   "outputs": [],
   "source": [
    "daily = tips_ts.resample('D')[['total_bill']].sum()\n",
    "daily['roll14_med'] = daily['total_bill'].rolling(14, min_periods=1).median()\n",
    "daily[['total_bill','roll14_med']].head()"
   ]
  },
  {
   "cell_type": "markdown",
   "metadata": {},
   "source": [
    "### ✍️ Analysis (Rolling & Window Ops) — 3–5 sentences\n",
    "- Why is median sometimes preferable to mean in rolling stats?\n",
    "- What happens at the edges for rolling windows?\n",
    "- When is `expanding` more suitable than `rolling`?\n",
    "\n",
    "### 🔎 Quick checks\n",
    "- Show first 5 non-NaN rolling results.\n",
    "- Report `min_periods` and justify it.\n",
    "\n",
    "### ➕ Extension (pick one)\n",
    "- Compute an additional rolling metric (std/min) and interpret.\n",
    "- Compare 7 vs 14-day windows with one sentence.\n",
    "\n",
    "**Rubric (10 pts):** Correctness 3 • Evidence 2 • Clarity 2 • Reproducibility 2 • Exploration 1"
   ]
  },
  {
   "cell_type": "markdown",
   "metadata": {},
   "source": [
    "## 11) Text Data: vectorized & regex (10m)"
   ]
  },
  {
   "cell_type": "code",
   "execution_count": null,
   "metadata": {},
   "outputs": [],
   "source": [
    "notes = np.array(['VIP table','Late night','Allergic: nuts','Birthday','Family','vip guest'])\n",
    "tips_txt = tips.copy()\n",
    "tips_txt['note'] = np.resize(notes, len(tips_txt)).astype('string')\n",
    "tips_txt['is_vip'] = tips_txt['note'].str.contains('vip', case=False)\n",
    "tips_txt['allergy'] = tips_txt['note'].str.extract(r'Allergic:\\s*(\\w+)', expand=False)\n",
    "tips_txt[['note','is_vip','allergy']].head()"
   ]
  },
  {
   "cell_type": "markdown",
   "metadata": {},
   "source": [
    "### ✍️ Analysis (Text / Regex) — 3–5 sentences\n",
    "- Which regex or string op gave most value here?\n",
    "- How sensitive are your results to case/spacing?\n",
    "- One potential false positive in your pattern.\n",
    "\n",
    "### 🔎 Quick checks\n",
    "- Print counts of a detected flag (e.g., VIP).\n",
    "- Show unique extracted tokens (e.g., allergies).\n",
    "\n",
    "### ➕ Extension (pick one)\n",
    "- Add a refined regex (word boundaries) and compare counts.\n",
    "- Normalize text further and re-check.\n",
    "\n",
    "**Rubric (10 pts):** Correctness 3 • Evidence 2 • Clarity 2 • Reproducibility 2 • Exploration 1"
   ]
  },
  {
   "cell_type": "markdown",
   "metadata": {},
   "source": [
    "## 12) Nullable dtypes & Memory (5m)"
   ]
  },
  {
   "cell_type": "code",
   "execution_count": null,
   "metadata": {},
   "outputs": [],
   "source": [
    "tips_mem = tips.copy()\n",
    "tips_mem['size_N'] = tips_mem['size'].astype('Int64')\n",
    "tips_mem['sex_S']  = tips_mem['sex'].astype('string')\n",
    "tips_mem['day_C']  = tips_mem['day'].astype('category')\n",
    "tips_mem.memory_usage(deep=True)"
   ]
  },
  {
   "cell_type": "markdown",
   "metadata": {},
   "source": [
    "### ✍️ Analysis (Dtypes & Memory) — 3–5 sentences\n",
    "- What memory savings did `category` or `string` yield?\n",
    "- When would you avoid `category`?\n",
    "- Any effect on joins/groupbys?\n",
    "\n",
    "### 🔎 Quick checks\n",
    "- Show `memory_usage(deep=True)` before/after one cast.\n",
    "- List `.cat.categories` for one column.\n",
    "\n",
    "### ➕ Extension (pick one)\n",
    "- Downcast numerics where safe and report delta.\n",
    "- Switch one feature to `Int64` and explain why.\n",
    "\n",
    "**Rubric (10 pts):** Correctness 3 • Evidence 2 • Clarity 2 • Reproducibility 2 • Exploration 1"
   ]
  },
  {
   "cell_type": "markdown",
   "metadata": {},
   "source": [
    "## 13) I/O: CSV, Parquet, JSON, SQL (10m)"
   ]
  },
  {
   "cell_type": "code",
   "execution_count": null,
   "metadata": {},
   "outputs": [],
   "source": [
    "subset = tips[['total_bill','tip','day','time','size']].head(20)\n",
    "subset.to_csv('tips_sample.csv', index=False)\n",
    "subset.to_parquet('tips_sample.parquet', index=False)\n",
    "subset.to_json('tips_sample.json', orient='records', lines=True)\n",
    "import sqlite3\n",
    "con = sqlite3.connect(':memory:')\n",
    "subset.to_sql('tips_tbl', con, index=False, if_exists='replace')\n",
    "sql_df = pd.read_sql('SELECT day, time, AVG(total_bill) AS avg_bill FROM tips_tbl GROUP BY day,time', con)\n",
    "con.close(); sql_df.head()"
   ]
  },
  {
   "cell_type": "markdown",
   "metadata": {},
   "source": [
    "### ✍️ Analysis (I/O) — 3–5 sentences\n",
    "- Which format is best for speed vs size for this table? Why?\n",
    "- Did any dtype change after round-trip?\n",
    "- When to use line-delimited JSON?\n",
    "\n",
    "### 🔎 Quick checks\n",
    "- Compare shapes from CSV/Parquet/JSON loads.\n",
    "- Show one dtype discrepancy and fix it.\n",
    "\n",
    "### ➕ Extension (pick one)\n",
    "- Compress CSV (gzip) and note file size.\n",
    "- Do a small SQL query and validate results match a groupby.\n",
    "\n",
    "**Rubric (10 pts):** Correctness 3 • Evidence 2 • Clarity 2 • Reproducibility 2 • Exploration 1"
   ]
  },
  {
   "cell_type": "markdown",
   "metadata": {},
   "source": [
    "## 14) Join Patterns (10–15m)"
   ]
  },
  {
   "cell_type": "code",
   "execution_count": null,
   "metadata": {},
   "outputs": [],
   "source": [
    "left = tips[['day','time','size']].drop_duplicates().copy()\n",
    "right = tips[['day','time','tip']].groupby(['day','time']).mean().reset_index().rename(columns={'tip':'avg_tip'})\n",
    "joined = left.merge(right, on=['day','time'], how='outer', indicator=True)\n",
    "joined.head()"
   ]
  },
  {
   "cell_type": "code",
   "execution_count": null,
   "metadata": {},
   "outputs": [],
   "source": [
    "# Right-only and inner (semi-join-style)\n",
    "right_only = joined.loc[joined['_merge']=='right_only', right.columns]\n",
    "inner_rows = joined.loc[joined['_merge']=='both', left.columns].drop_duplicates()\n",
    "len(inner_rows)"
   ]
  },
  {
   "cell_type": "code",
   "execution_count": null,
   "metadata": {},
   "outputs": [],
   "source": [
    "# merge_ordered and merge_asof demos\n",
    "a = pd.DataFrame({'day':['Fri','Sat','Sun'], 'rank':[1,2,3]})\n",
    "b = pd.DataFrame({'day':['Thur','Sat','Sun'], 'score':[70,80,90]})\n",
    "ordered = pd.merge_ordered(a, b, on='day', how='outer')\n",
    "events = pd.DataFrame({'when': pd.to_datetime(['2024-01-01 10:00','2024-01-02 12:30','2024-01-04 09:00']),'event':['A','B','C']}).sort_values('when')\n",
    "measures = pd.DataFrame({'when': pd.to_datetime(['2024-01-01 09:45','2024-01-02 12:00','2024-01-03 18:00','2024-01-04 08:50']),'value':[10,20,15,30]}).sort_values('when')\n",
    "asof_join = pd.merge_asof(events, measures, on='when', direction='nearest', tolerance=pd.Timedelta('1H'))\n",
    "ordered.head(), asof_join.head()"
   ]
  },
  {
   "cell_type": "markdown",
   "metadata": {},
   "source": [
    "### ✍️ Analysis (Joins) — 3–5 sentences\n",
    "- Read `_indicator` results—what mismatches did you find?\n",
    "- Where would `merge_asof` fit in a real pipeline?\n",
    "- Any ordering assumptions for `merge_ordered`?\n",
    "\n",
    "### 🔎 Quick checks\n",
    "- Report counts for left/right/inner.\n",
    "- Show 2 sample rows from an anti-join.\n",
    "\n",
    "### ➕ Extension (pick one)\n",
    "- Perform a semi-join and explain the use-case.\n",
    "- Add a composite key and re-merge.\n",
    "\n",
    "**Rubric (10 pts):** Correctness 3 • Evidence 2 • Clarity 2 • Reproducibility 2 • Exploration 1"
   ]
  },
  {
   "cell_type": "markdown",
   "metadata": {},
   "source": [
    "## 15) Method Chaining & `.pipe`, `.query`, `.eval` (10m)"
   ]
  },
  {
   "cell_type": "code",
   "execution_count": null,
   "metadata": {},
   "outputs": [],
   "source": [
    "def add_bill_per_person(df): return df.assign(bill_per_person = df['total_bill']/df['size'])\n",
    "pipe_demo = (tips.query(\"time=='Dinner'\").pipe(add_bill_per_person)\n",
    "             .groupby('day').agg(mean_bill_pp=('bill_per_person','mean'),\n",
    "                                 mean_tip_pct=('tip_pct','mean'))\n",
    "             .sort_values('mean_bill_pp', ascending=False))\n",
    "eval_demo = tips.eval('bill_pp = total_bill / size')\n",
    "pipe_demo.head(), eval_demo[['total_bill','size','bill_pp']].head()"
   ]
  },
  {
   "cell_type": "markdown",
   "metadata": {},
   "source": [
    "### ✍️ Analysis (Method Chaining) — 3–5 sentences\n",
    "- What made the chained pipeline clearer or riskier?\n",
    "- Where would you break the chain for debugging?\n",
    "- When is `.eval` useful vs risky?\n",
    "\n",
    "### 🔎 Quick checks\n",
    "- Show final columns of your pipeline result.\n",
    "- Confirm idempotency by re-running.\n",
    "\n",
    "### ➕ Extension (pick one)\n",
    "- Refactor an earlier analysis into a chain; compare readability.\n",
    "- Encapsulate a step into `.pipe` and reuse it.\n",
    "\n",
    "**Rubric (10 pts):** Correctness 3 • Evidence 2 • Clarity 2 • Reproducibility 2 • Exploration 1"
   ]
  },
  {
   "cell_type": "markdown",
   "metadata": {},
   "source": [
    "## 16) Crosstab, `cut/qcut`, `where/mask` (5–10m)"
   ]
  },
  {
   "cell_type": "code",
   "execution_count": null,
   "metadata": {},
   "outputs": [],
   "source": [
    "ct = pd.crosstab(tips['smoker'], tips['day'])\n",
    "tips_bins = tips.copy()\n",
    "tips_bins['bill_bucket'] = pd.cut(tips_bins['total_bill'], bins=[0,10,20,30,50])\n",
    "bucket_mean = tips_bins.groupby('bill_bucket')['tip'].mean()\n",
    "tips_q = tips.assign(q = pd.qcut(tips['tip_pct'], 4, duplicates='drop'))\n",
    "ct, bucket_mean, tips_q.groupby('q')['total_bill'].mean()"
   ]
  },
  {
   "cell_type": "markdown",
   "metadata": {},
   "source": [
    "### ✍️ Analysis (Crosstab / Bucketing) — 3–5 sentences\n",
    "- What story does your crosstab tell in one sentence?\n",
    "- How did `cut` vs `qcut` change bucket sizes?\n",
    "- When is `where` preferable to boolean indexing?\n",
    "\n",
    "### 🔎 Quick checks\n",
    "- Show bucket edges and counts.\n",
    "- Verify monotonicity of bucket means if expected.\n",
    "\n",
    "### ➕ Extension (pick one)\n",
    "- Swap `qcut`/`cut` and compare stats.\n",
    "- Mask outliers and re-summarize.\n",
    "\n",
    "**Rubric (10 pts):** Correctness 3 • Evidence 2 • Clarity 2 • Reproducibility 2 • Exploration 1"
   ]
  },
  {
   "cell_type": "markdown",
   "metadata": {},
   "source": [
    "## 17) Styling & Export (5m)"
   ]
  },
  {
   "cell_type": "code",
   "execution_count": null,
   "metadata": {},
   "outputs": [],
   "source": [
    "sty = (tips.groupby('day')[['total_bill','tip','tip_pct']].mean().round(2)\n",
    "         .style.format({'tip_pct':'{:.2%}'}).background_gradient(axis=None))\n",
    "html = sty.to_html()\n",
    "open('tips_report.html','w',encoding='utf-8').write(html)\n",
    "'Wrote tips_report.html'"
   ]
  },
  {
   "cell_type": "markdown",
   "metadata": {},
   "source": [
    "### ✍️ Analysis (Styling & Export) — 3–5 sentences\n",
    "- What formatting improved readability most?\n",
    "- How would a stakeholder use this HTML report?\n",
    "- One caution about styled HTML vs raw data files.\n",
    "\n",
    "### 🔎 Quick checks\n",
    "- Open the HTML to spot issues (NA/odd values).\n",
    "- Confirm underlying numbers (pre-style) are correct.\n",
    "\n",
    "### ➕ Extension (pick one)\n",
    "- Add one more style and explain choice.\n",
    "- Export both styled HTML and CSV for same table.\n",
    "\n",
    "**Rubric (10 pts):** Correctness 3 • Evidence 2 • Clarity 2 • Reproducibility 2 • Exploration 1"
   ]
  },
  {
   "cell_type": "markdown",
   "metadata": {},
   "source": [
    "# Capstone Mini-Project (Free Dataset): **Titanic Survival Analysis** (30–45m)"
   ]
  },
  {
   "cell_type": "markdown",
   "metadata": {},
   "source": [
    "**Source:** https://raw.githubusercontent.com/mwaskom/seaborn-data/master/titanic.csv"
   ]
  },
  {
   "cell_type": "code",
   "execution_count": null,
   "metadata": {},
   "outputs": [],
   "source": [
    "import pandas as pd, numpy as np, matplotlib.pyplot as plt"
   ]
  },
  {
   "cell_type": "code",
   "execution_count": null,
   "metadata": {},
   "outputs": [],
   "source": [
    "tit_url = \"https://raw.githubusercontent.com/mwaskom/seaborn-data/master/titanic.csv\"\n",
    "titanic = pd.read_csv(tit_url)\n",
    "titanic.head()"
   ]
  },
  {
   "cell_type": "code",
   "execution_count": null,
   "metadata": {},
   "outputs": [],
   "source": [
    "print(\"Shape:\", titanic.shape)\n",
    "print(\"\\nInfo:\"); print(titanic.info())\n",
    "print(\"\\nMissing values per column:\"); print(titanic.isna().sum().sort_values(ascending=False).head(12))"
   ]
  },
  {
   "cell_type": "markdown",
   "metadata": {},
   "source": [
    "## A) Data Cleaning & Feature Engineering"
   ]
  },
  {
   "cell_type": "code",
   "execution_count": null,
   "metadata": {},
   "outputs": [],
   "source": [
    "df = titanic.copy()\n",
    "for col in ['sex','class','embarked','embark_town','alive','who','deck','alone','adult_male']:\n",
    "    if col in df.columns: df[col] = df[col].astype('category')\n",
    "age_med = df.groupby(['sex','class'])['age'].transform('median')\n",
    "df['age'] = df['age'].fillna(age_med)\n",
    "if df['embark_town'].isna().any():\n",
    "    mode_town = df['embark_town'].mode(dropna=True)\n",
    "    if not mode_town.empty: df['embark_town'] = df['embark_town'].fillna(mode_town.iloc[0])\n",
    "df['family_size'] = df['sibsp'].fillna(0) + df['parch'].fillna(0) + 1\n",
    "df['fare_pp'] = df['fare'] / df['family_size']\n",
    "df['deck'] = df['deck'].cat.add_categories(['Unknown']).fillna('Unknown')\n",
    "bins = [0,12,18,35,50,80]; labels = ['Child','Teen','YoungAdult','MidAge','Senior']\n",
    "df['age_group'] = pd.cut(df['age'], bins=bins, labels=labels, include_lowest=True)\n",
    "df.head()"
   ]
  },
  {
   "cell_type": "markdown",
   "metadata": {},
   "source": [
    "### ✅ Exercise A\n",
    "Check NaNs in `age`/`embark_town`, top `family_size`, % with `fare_pp>20`."
   ]
  },
  {
   "cell_type": "markdown",
   "metadata": {},
   "source": [
    "**Hints:**\n",
    "- Concept: impute & feature engineer.\n",
    "- API: `groupby().transform('median')`, `.mode()`, `.cut`.\n"
   ]
  },
  {
   "cell_type": "code",
   "execution_count": null,
   "metadata": {},
   "outputs": [],
   "source": [
    "# YOUR WORK: Exercise A"
   ]
  },
  {
   "cell_type": "markdown",
   "metadata": {},
   "source": [
    "## B) Survival Patterns"
   ]
  },
  {
   "cell_type": "code",
   "execution_count": null,
   "metadata": {},
   "outputs": [],
   "source": [
    "overall_survival = df['survived'].mean(); print('Overall survival rate:', round(overall_survival,3))"
   ]
  },
  {
   "cell_type": "code",
   "execution_count": null,
   "metadata": {},
   "outputs": [],
   "source": [
    "surv_by_class = df.groupby('class')['survived'].mean().reindex(['First','Second','Third'])\n",
    "plt.figure(); plt.bar(surv_by_class.index.astype(str), surv_by_class.values)\n",
    "plt.title('Survival Rate by Class'); plt.xlabel('class'); plt.ylabel('survival rate'); plt.show()"
   ]
  },
  {
   "cell_type": "code",
   "execution_count": null,
   "metadata": {},
   "outputs": [],
   "source": [
    "piv = df.pivot_table(index='sex', columns='class', values='survived', aggfunc='mean')\n",
    "plt.figure(); plt.imshow(piv.values, aspect='auto')\n",
    "plt.title('Survival Rate by Sex × Class'); plt.xlabel('class'); plt.ylabel('sex')\n",
    "plt.xticks(range(len(piv.columns)), piv.columns.astype(str))\n",
    "plt.yticks(range(len(piv.index)), piv.index.astype(str))\n",
    "plt.colorbar(); plt.show(); piv"
   ]
  },
  {
   "cell_type": "markdown",
   "metadata": {},
   "source": [
    "### ✅ Exercise B\n",
    "1) Histogram of age. 2) Boxplot fare by class. 3) Bar of survival by age_group."
   ]
  },
  {
   "cell_type": "markdown",
   "metadata": {},
   "source": [
    "**Hints:**\n",
    "- Concept: univariate + grouped visuals.\n",
    "- API: `plt.hist`, `plt.boxplot`, `groupby().mean` + `plt.bar`.\n"
   ]
  },
  {
   "cell_type": "code",
   "execution_count": null,
   "metadata": {},
   "outputs": [],
   "source": [
    "# YOUR WORK: Exercise B"
   ]
  },
  {
   "cell_type": "markdown",
   "metadata": {},
   "source": [
    "## C) Subgroup Discovery"
   ]
  },
  {
   "cell_type": "code",
   "execution_count": null,
   "metadata": {},
   "outputs": [],
   "source": [
    "grp = (df.groupby(['sex','class','embark_town'])\n",
    "         .agg(n=('survived','size'), surv_rate=('survived','mean'))\n",
    "         .query('n >= 25')\n",
    "         .sort_values('surv_rate', ascending=False))\n",
    "grp.head(10)"
   ]
  },
  {
   "cell_type": "markdown",
   "metadata": {},
   "source": [
    "### ✅ Exercise C\n",
    "Families with `family_size≥4`: survival by `sex` & `class` (n + rate). Bucket `fare_pp` and compute survival per bucket."
   ]
  },
  {
   "cell_type": "markdown",
   "metadata": {},
   "source": [
    "**Hints:**\n",
    "- Concept: subgroup analysis with thresholds.\n",
    "- API: `groupby().agg`, `query`, `cut`.\n"
   ]
  },
  {
   "cell_type": "code",
   "execution_count": null,
   "metadata": {},
   "outputs": [],
   "source": [
    "# YOUR WORK: Exercise C"
   ]
  },
  {
   "cell_type": "markdown",
   "metadata": {},
   "source": [
    "## D) Deliverables"
   ]
  },
  {
   "cell_type": "code",
   "execution_count": null,
   "metadata": {},
   "outputs": [],
   "source": [
    "top10 = grp.head(10).reset_index()\n",
    "sty = (top10.style.format({'surv_rate':'{:.2%}'}).hide(axis='index'))\n",
    "html = sty.to_html()\n",
    "open('titanic_top10_survival.html','w',encoding='utf-8').write(html)\n",
    "top10.to_csv('titanic_top10_survival.csv', index=False)\n",
    "\"Saved titanic_top10_survival.html and titanic_top10_survival.csv\""
   ]
  },
  {
   "cell_type": "markdown",
   "metadata": {},
   "source": [
    "### ✍️ Analysis (Capstone — Titanic) — 3–5 sentences\n",
    "- State your main finding (who/when/context) with one number and one plot reference.\n",
    "- Name one limitation in your approach (bias, leakage, imputation).\n",
    "- Suggest a next step or feature to add.\n",
    "\n",
    "### 🔎 Quick checks\n",
    "- Link the exact cell/table backing your claim.\n",
    "- Confirm deliverables (HTML + CSV) were written.\n",
    "\n",
    "### ➕ Extension (pick one)\n",
    "- Add an extra feature (e.g., `is_child`, z-scored fare) and see if subgroup ranking changes.\n",
    "- Try a different minimum group size and discuss stability.\n",
    "\n",
    "**Rubric (10 pts):** Correctness 3 • Evidence 2 • Clarity 2 • Reproducibility 2 • Exploration 1"
   ]
  }
 ],
 "metadata": {
  "colab": {
   "name": "Pandas — Core + Advanced + Capstone (Base)"
  },
  "kernelspec": {
   "display_name": "cse303_ml",
   "language": "python",
   "name": "python3"
  },
  "language_info": {
   "codemirror_mode": {
    "name": "ipython",
    "version": 3
   },
   "file_extension": ".py",
   "mimetype": "text/x-python",
   "name": "python",
   "nbconvert_exporter": "python",
   "pygments_lexer": "ipython3",
   "version": "3.10.18"
  }
 },
 "nbformat": 4,
 "nbformat_minor": 5
}

{
  "cells": [
    {
      "cell_type": "markdown",
      "id": "oA5YXly8GMCN",
      "metadata": {
        "id": "oA5YXly8GMCN"
      },
      "source": [
        "# 🧑‍🎓 Student Version — Solutions Removed\n",
        "- Use the reflection prompts and hints.\n",
        "- Your instructor will share solutions separately."
      ]
    },
    {
      "cell_type": "code",
      "execution_count": 40,
      "id": "zk1ypz6BGMCO",
      "metadata": {
        "id": "zk1ypz6BGMCO"
      },
      "outputs": [
        {
          "name": "stdout",
          "output_type": "stream",
          "text": [
            "Solutions are hidden in the Student Version.\n"
          ]
        }
      ],
      "source": [
        "REVEAL_SOLUTIONS = False\n",
        "print('Solutions are hidden in the Student Version.')"
      ]
    },
    {
      "cell_type": "markdown",
      "id": "Jost9MGrGMCP",
      "metadata": {
        "id": "Jost9MGrGMCP"
      },
      "source": [
        "# Pandas in Google Colab — 2-Hour Hands-On (+ Advanced & Capstone)\n",
        "**With Reflection Prompts After Each Section**\n",
        "**Last updated:** 2025-08-15\n",
        "\n",
        "Run top-to-bottom. Attempt **Exercises**, then write your **✍️ Analysis** under each section."
      ]
    },
    {
      "cell_type": "markdown",
      "id": "eYYSgLYSGMCQ",
      "metadata": {
        "id": "eYYSgLYSGMCQ"
      },
      "source": [
        "## 0) Setup & Load the **tips** dataset (10m)"
      ]
    },
    {
      "cell_type": "code",
      "execution_count": 41,
      "id": "yW6WBUwpGMCQ",
      "metadata": {
        "colab": {
          "base_uri": "https://localhost:8080/",
          "height": 206
        },
        "id": "yW6WBUwpGMCQ",
        "outputId": "6b1e1ca7-77d8-46f4-be73-a54c80c9c7bc"
      },
      "outputs": [
        {
          "data": {
            "text/html": [
              "<div>\n",
              "<style scoped>\n",
              "    .dataframe tbody tr th:only-of-type {\n",
              "        vertical-align: middle;\n",
              "    }\n",
              "\n",
              "    .dataframe tbody tr th {\n",
              "        vertical-align: top;\n",
              "    }\n",
              "\n",
              "    .dataframe thead th {\n",
              "        text-align: right;\n",
              "    }\n",
              "</style>\n",
              "<table border=\"1\" class=\"dataframe\">\n",
              "  <thead>\n",
              "    <tr style=\"text-align: right;\">\n",
              "      <th></th>\n",
              "      <th>total_bill</th>\n",
              "      <th>tip</th>\n",
              "      <th>sex</th>\n",
              "      <th>smoker</th>\n",
              "      <th>day</th>\n",
              "      <th>time</th>\n",
              "      <th>size</th>\n",
              "    </tr>\n",
              "  </thead>\n",
              "  <tbody>\n",
              "    <tr>\n",
              "      <th>0</th>\n",
              "      <td>16.99</td>\n",
              "      <td>1.01</td>\n",
              "      <td>Female</td>\n",
              "      <td>No</td>\n",
              "      <td>Sun</td>\n",
              "      <td>Dinner</td>\n",
              "      <td>2</td>\n",
              "    </tr>\n",
              "    <tr>\n",
              "      <th>1</th>\n",
              "      <td>10.34</td>\n",
              "      <td>1.66</td>\n",
              "      <td>Male</td>\n",
              "      <td>No</td>\n",
              "      <td>Sun</td>\n",
              "      <td>Dinner</td>\n",
              "      <td>3</td>\n",
              "    </tr>\n",
              "    <tr>\n",
              "      <th>2</th>\n",
              "      <td>21.01</td>\n",
              "      <td>3.50</td>\n",
              "      <td>Male</td>\n",
              "      <td>No</td>\n",
              "      <td>Sun</td>\n",
              "      <td>Dinner</td>\n",
              "      <td>3</td>\n",
              "    </tr>\n",
              "    <tr>\n",
              "      <th>3</th>\n",
              "      <td>23.68</td>\n",
              "      <td>3.31</td>\n",
              "      <td>Male</td>\n",
              "      <td>No</td>\n",
              "      <td>Sun</td>\n",
              "      <td>Dinner</td>\n",
              "      <td>2</td>\n",
              "    </tr>\n",
              "    <tr>\n",
              "      <th>4</th>\n",
              "      <td>24.59</td>\n",
              "      <td>3.61</td>\n",
              "      <td>Female</td>\n",
              "      <td>No</td>\n",
              "      <td>Sun</td>\n",
              "      <td>Dinner</td>\n",
              "      <td>4</td>\n",
              "    </tr>\n",
              "  </tbody>\n",
              "</table>\n",
              "</div>"
            ],
            "text/plain": [
              "   total_bill   tip     sex smoker  day    time  size\n",
              "0       16.99  1.01  Female     No  Sun  Dinner     2\n",
              "1       10.34  1.66    Male     No  Sun  Dinner     3\n",
              "2       21.01  3.50    Male     No  Sun  Dinner     3\n",
              "3       23.68  3.31    Male     No  Sun  Dinner     2\n",
              "4       24.59  3.61  Female     No  Sun  Dinner     4"
            ]
          },
          "execution_count": 41,
          "metadata": {},
          "output_type": "execute_result"
        }
      ],
      "source": [
        "import pandas as pd, numpy as np, matplotlib.pyplot as plt\n",
        "pd.set_option('display.max_rows', 10); pd.set_option('display.precision', 3)\n",
        "url = \"https://raw.githubusercontent.com/mwaskom/seaborn-data/master/tips.csv\"\n",
        "tips = pd.read_csv(url); tips.head()"
      ]
    },
    {
      "cell_type": "code",
      "execution_count": 42,
      "id": "ko8Sn_8rGMCQ",
      "metadata": {
        "colab": {
          "base_uri": "https://localhost:8080/",
          "height": 770
        },
        "id": "ko8Sn_8rGMCQ",
        "outputId": "58abc275-3673-4d82-8511-e9f1ee92dd08"
      },
      "outputs": [
        {
          "name": "stdout",
          "output_type": "stream",
          "text": [
            "Shape: (244, 7)\n",
            "\n",
            "Info:\n",
            "<class 'pandas.core.frame.DataFrame'>\n",
            "RangeIndex: 244 entries, 0 to 243\n",
            "Data columns (total 7 columns):\n",
            " #   Column      Non-Null Count  Dtype  \n",
            "---  ------      --------------  -----  \n",
            " 0   total_bill  244 non-null    float64\n",
            " 1   tip         244 non-null    float64\n",
            " 2   sex         244 non-null    object \n",
            " 3   smoker      244 non-null    object \n",
            " 4   day         244 non-null    object \n",
            " 5   time        244 non-null    object \n",
            " 6   size        244 non-null    int64  \n",
            "dtypes: float64(2), int64(1), object(4)\n",
            "memory usage: 13.5+ KB\n",
            "None\n",
            "\n",
            "Describe:\n"
          ]
        },
        {
          "data": {
            "text/html": [
              "<div>\n",
              "<style scoped>\n",
              "    .dataframe tbody tr th:only-of-type {\n",
              "        vertical-align: middle;\n",
              "    }\n",
              "\n",
              "    .dataframe tbody tr th {\n",
              "        vertical-align: top;\n",
              "    }\n",
              "\n",
              "    .dataframe thead th {\n",
              "        text-align: right;\n",
              "    }\n",
              "</style>\n",
              "<table border=\"1\" class=\"dataframe\">\n",
              "  <thead>\n",
              "    <tr style=\"text-align: right;\">\n",
              "      <th></th>\n",
              "      <th>total_bill</th>\n",
              "      <th>tip</th>\n",
              "      <th>sex</th>\n",
              "      <th>smoker</th>\n",
              "      <th>day</th>\n",
              "      <th>time</th>\n",
              "      <th>size</th>\n",
              "    </tr>\n",
              "  </thead>\n",
              "  <tbody>\n",
              "    <tr>\n",
              "      <th>count</th>\n",
              "      <td>244.000</td>\n",
              "      <td>244.000</td>\n",
              "      <td>244</td>\n",
              "      <td>244</td>\n",
              "      <td>244</td>\n",
              "      <td>244</td>\n",
              "      <td>244.00</td>\n",
              "    </tr>\n",
              "    <tr>\n",
              "      <th>unique</th>\n",
              "      <td>NaN</td>\n",
              "      <td>NaN</td>\n",
              "      <td>2</td>\n",
              "      <td>2</td>\n",
              "      <td>4</td>\n",
              "      <td>2</td>\n",
              "      <td>NaN</td>\n",
              "    </tr>\n",
              "    <tr>\n",
              "      <th>top</th>\n",
              "      <td>NaN</td>\n",
              "      <td>NaN</td>\n",
              "      <td>Male</td>\n",
              "      <td>No</td>\n",
              "      <td>Sat</td>\n",
              "      <td>Dinner</td>\n",
              "      <td>NaN</td>\n",
              "    </tr>\n",
              "    <tr>\n",
              "      <th>freq</th>\n",
              "      <td>NaN</td>\n",
              "      <td>NaN</td>\n",
              "      <td>157</td>\n",
              "      <td>151</td>\n",
              "      <td>87</td>\n",
              "      <td>176</td>\n",
              "      <td>NaN</td>\n",
              "    </tr>\n",
              "    <tr>\n",
              "      <th>mean</th>\n",
              "      <td>19.786</td>\n",
              "      <td>2.998</td>\n",
              "      <td>NaN</td>\n",
              "      <td>NaN</td>\n",
              "      <td>NaN</td>\n",
              "      <td>NaN</td>\n",
              "      <td>2.57</td>\n",
              "    </tr>\n",
              "    <tr>\n",
              "      <th>...</th>\n",
              "      <td>...</td>\n",
              "      <td>...</td>\n",
              "      <td>...</td>\n",
              "      <td>...</td>\n",
              "      <td>...</td>\n",
              "      <td>...</td>\n",
              "      <td>...</td>\n",
              "    </tr>\n",
              "    <tr>\n",
              "      <th>min</th>\n",
              "      <td>3.070</td>\n",
              "      <td>1.000</td>\n",
              "      <td>NaN</td>\n",
              "      <td>NaN</td>\n",
              "      <td>NaN</td>\n",
              "      <td>NaN</td>\n",
              "      <td>1.00</td>\n",
              "    </tr>\n",
              "    <tr>\n",
              "      <th>25%</th>\n",
              "      <td>13.348</td>\n",
              "      <td>2.000</td>\n",
              "      <td>NaN</td>\n",
              "      <td>NaN</td>\n",
              "      <td>NaN</td>\n",
              "      <td>NaN</td>\n",
              "      <td>2.00</td>\n",
              "    </tr>\n",
              "    <tr>\n",
              "      <th>50%</th>\n",
              "      <td>17.795</td>\n",
              "      <td>2.900</td>\n",
              "      <td>NaN</td>\n",
              "      <td>NaN</td>\n",
              "      <td>NaN</td>\n",
              "      <td>NaN</td>\n",
              "      <td>2.00</td>\n",
              "    </tr>\n",
              "    <tr>\n",
              "      <th>75%</th>\n",
              "      <td>24.127</td>\n",
              "      <td>3.562</td>\n",
              "      <td>NaN</td>\n",
              "      <td>NaN</td>\n",
              "      <td>NaN</td>\n",
              "      <td>NaN</td>\n",
              "      <td>3.00</td>\n",
              "    </tr>\n",
              "    <tr>\n",
              "      <th>max</th>\n",
              "      <td>50.810</td>\n",
              "      <td>10.000</td>\n",
              "      <td>NaN</td>\n",
              "      <td>NaN</td>\n",
              "      <td>NaN</td>\n",
              "      <td>NaN</td>\n",
              "      <td>6.00</td>\n",
              "    </tr>\n",
              "  </tbody>\n",
              "</table>\n",
              "<p>11 rows × 7 columns</p>\n",
              "</div>"
            ],
            "text/plain": [
              "        total_bill      tip   sex smoker  day    time    size\n",
              "count      244.000  244.000   244    244  244     244  244.00\n",
              "unique         NaN      NaN     2      2    4       2     NaN\n",
              "top            NaN      NaN  Male     No  Sat  Dinner     NaN\n",
              "freq           NaN      NaN   157    151   87     176     NaN\n",
              "mean        19.786    2.998   NaN    NaN  NaN     NaN    2.57\n",
              "...            ...      ...   ...    ...  ...     ...     ...\n",
              "min          3.070    1.000   NaN    NaN  NaN     NaN    1.00\n",
              "25%         13.348    2.000   NaN    NaN  NaN     NaN    2.00\n",
              "50%         17.795    2.900   NaN    NaN  NaN     NaN    2.00\n",
              "75%         24.127    3.562   NaN    NaN  NaN     NaN    3.00\n",
              "max         50.810   10.000   NaN    NaN  NaN     NaN    6.00\n",
              "\n",
              "[11 rows x 7 columns]"
            ]
          },
          "metadata": {},
          "output_type": "display_data"
        }
      ],
      "source": [
        "print(\"Shape:\", tips.shape)\n",
        "print(\"\\nInfo:\"); print(tips.info())\n",
        "print(\"\\nDescribe:\"); display(tips.describe(include='all'))"
      ]
    },
    {
      "cell_type": "markdown",
      "id": "NF4S3lf-GMCQ",
      "metadata": {
        "id": "NF4S3lf-GMCQ"
      },
      "source": [
        "**Columns**: `total_bill` (float), `tip` (float), `sex` (str), `smoker` (str), `day` (str), `time` (str), `size` (int)"
      ]
    },
    {
      "cell_type": "markdown",
      "id": "cXVfvVttGMCQ",
      "metadata": {
        "id": "cXVfvVttGMCQ"
      },
      "source": [
        "### ✅ Exercise 0\n",
        "1) Unique `day`, `time`. 2) Count duplicates. 3) Averages of `total_bill`, `tip`."
      ]
    },
    {
      "cell_type": "markdown",
      "id": "yWIUKa49GMCR",
      "metadata": {
        "id": "yWIUKa49GMCR"
      },
      "source": [
        "**Hints:**\n",
        "- Concept: inspect levels and duplicates.\n",
        "- API: `unique`, `duplicated`, `mean`.\n"
      ]
    },
    {
      "cell_type": "code",
      "execution_count": 43,
      "id": "NFBP6f9MGMCR",
      "metadata": {
        "colab": {
          "base_uri": "https://localhost:8080/"
        },
        "id": "NFBP6f9MGMCR",
        "outputId": "007b85b5-3274-48f0-add0-4573b90a0a59"
      },
      "outputs": [
        {
          "name": "stdout",
          "output_type": "stream",
          "text": [
            "Unique days: ['Sun' 'Sat' 'Thur' 'Fri']\n",
            "Unique times: ['Dinner' 'Lunch']\n",
            "\n",
            "Number of duplicate rows: 1\n",
            "\n",
            "Average Total Bill: 19.79\n",
            "Average Tip: 3.0\n"
          ]
        }
      ],
      "source": [
        "# YOUR WORK: Exercise 0\n",
        "print(\"Unique days:\",tips['day'].unique())\n",
        "print(\"Unique times:\",tips['time'].unique())\n",
        "\n",
        "dup_cnt=tips.duplicated().sum()\n",
        "print(\"\\nNumber of duplicate rows:\",dup_cnt)\n",
        "\n",
        "avg_bill=tips['total_bill'].mean()\n",
        "avg_tip_amt=tips['tip'].mean()\n",
        "print(\"\\nAverage Total Bill:\",round(avg_bill,2))\n",
        "print(\"Average Tip:\",round(avg_tip_amt,2))\n"
      ]
    },
    {
      "cell_type": "markdown",
      "id": "hdt7iiQJGMCR",
      "metadata": {
        "id": "hdt7iiQJGMCR"
      },
      "source": [
        "### ✍️ Analysis (Setup & Load) — 3–5 sentences\n",
        "- What columns and dtypes did you observe? Any surprises?\n",
        "- Is the dataset balanced across `day` and `time`? Cite one count.\n",
        "- One risk if you skip an initial audit here.\n",
        "\n",
        "### 🔎 Quick checks\n",
        "- Report the shape (rows, cols).\n",
        "- Name 1 non-numeric dtype and why it matters.\n",
        "\n",
        "### ➕ Extension (pick one)\n",
        "- Tweak display options and note the effect.\n",
        "- Compute `value_counts()` on `day` or `time`.\n",
        "\n",
        "**Rubric (10 pts):** Correctness 3 • Evidence 2 • Clarity 2 • Reproducibility 2 • Exploration 1"
      ]
    },
    {
      "cell_type": "markdown",
      "id": "JOYuIkGjSFGj",
      "metadata": {
        "id": "JOYuIkGjSFGj"
      },
      "source": [
        "##### Analysis:\n",
        "\n",
        "The dataset has 244 rows and 7 columns. Some columns are numbers (like total_bill, tip, size), and others are categories (like sex, smoker, day, time).\n",
        "\n",
        "We can use the category columns, like day and time, to group and compare tipping habits.\n",
        "\n",
        "The data has both Lunch and Dinner entries, but Dinner has more, which might affect comparisons.\n",
        "\n",
        "This quick check helps us avoid mistakes, like using math on text columns or forgetting about uneven data."
      ]
    },
    {
      "cell_type": "code",
      "execution_count": 44,
      "id": "bd7431b9",
      "metadata": {},
      "outputs": [
        {
          "name": "stdout",
          "output_type": "stream",
          "text": [
            "Shape: (244, 7)\n",
            "Non-numeric dtype example: object\n",
            "Why it matters: Can't perform mathematical operations on categorical data\n"
          ]
        }
      ],
      "source": [
        "## Quick checks\n",
        "# Report the shape (rows, cols)\n",
        "print(\"Shape:\", tips.shape)\n",
        "\n",
        "# Name 1 non-numeric dtype and why it matters\n",
        "print(\"Non-numeric dtype example:\", tips['sex'].dtype)\n",
        "print(\"Why it matters: Can't perform mathematical operations on categorical data\")"
      ]
    },
    {
      "cell_type": "code",
      "execution_count": 45,
      "id": "6f7feae6",
      "metadata": {},
      "outputs": [
        {
          "name": "stdout",
          "output_type": "stream",
          "text": [
            "After changing display options:\n"
          ]
        },
        {
          "data": {
            "text/html": [
              "<div>\n",
              "<style scoped>\n",
              "    .dataframe tbody tr th:only-of-type {\n",
              "        vertical-align: middle;\n",
              "    }\n",
              "\n",
              "    .dataframe tbody tr th {\n",
              "        vertical-align: top;\n",
              "    }\n",
              "\n",
              "    .dataframe thead th {\n",
              "        text-align: right;\n",
              "    }\n",
              "</style>\n",
              "<table border=\"1\" class=\"dataframe\">\n",
              "  <thead>\n",
              "    <tr style=\"text-align: right;\">\n",
              "      <th></th>\n",
              "      <th>total_bill</th>\n",
              "      <th>tip</th>\n",
              "      <th>sex</th>\n",
              "      <th>smoker</th>\n",
              "      <th>day</th>\n",
              "      <th>time</th>\n",
              "      <th>size</th>\n",
              "    </tr>\n",
              "  </thead>\n",
              "  <tbody>\n",
              "    <tr>\n",
              "      <th>0</th>\n",
              "      <td>16.99</td>\n",
              "      <td>1.01</td>\n",
              "      <td>Female</td>\n",
              "      <td>No</td>\n",
              "      <td>Sun</td>\n",
              "      <td>Dinner</td>\n",
              "      <td>2</td>\n",
              "    </tr>\n",
              "    <tr>\n",
              "      <th>1</th>\n",
              "      <td>10.34</td>\n",
              "      <td>1.66</td>\n",
              "      <td>Male</td>\n",
              "      <td>No</td>\n",
              "      <td>Sun</td>\n",
              "      <td>Dinner</td>\n",
              "      <td>3</td>\n",
              "    </tr>\n",
              "    <tr>\n",
              "      <th>2</th>\n",
              "      <td>21.01</td>\n",
              "      <td>3.50</td>\n",
              "      <td>Male</td>\n",
              "      <td>No</td>\n",
              "      <td>Sun</td>\n",
              "      <td>Dinner</td>\n",
              "      <td>3</td>\n",
              "    </tr>\n",
              "    <tr>\n",
              "      <th>3</th>\n",
              "      <td>23.68</td>\n",
              "      <td>3.31</td>\n",
              "      <td>Male</td>\n",
              "      <td>No</td>\n",
              "      <td>Sun</td>\n",
              "      <td>Dinner</td>\n",
              "      <td>2</td>\n",
              "    </tr>\n",
              "    <tr>\n",
              "      <th>4</th>\n",
              "      <td>24.59</td>\n",
              "      <td>3.61</td>\n",
              "      <td>Female</td>\n",
              "      <td>No</td>\n",
              "      <td>Sun</td>\n",
              "      <td>Dinner</td>\n",
              "      <td>4</td>\n",
              "    </tr>\n",
              "  </tbody>\n",
              "</table>\n",
              "</div>"
            ],
            "text/plain": [
              "   total_bill   tip     sex smoker  day    time  size\n",
              "0       16.99  1.01  Female     No  Sun  Dinner     2\n",
              "1       10.34  1.66    Male     No  Sun  Dinner     3\n",
              "2       21.01  3.50    Male     No  Sun  Dinner     3\n",
              "3       23.68  3.31    Male     No  Sun  Dinner     2\n",
              "4       24.59  3.61  Female     No  Sun  Dinner     4"
            ]
          },
          "metadata": {},
          "output_type": "display_data"
        }
      ],
      "source": [
        "# Tweak display options and note the effect\n",
        "## Extensions\n",
        "\n",
        "pd.set_option('display.max_rows', 20)\n",
        "pd.set_option('display.precision', 4)\n",
        "print(\"After changing display options:\")\n",
        "display(tips.head())"
      ]
    },
    {
      "cell_type": "markdown",
      "id": "VquDfGPeGMCR",
      "metadata": {
        "id": "VquDfGPeGMCR"
      },
      "source": [
        "## 1) Import & Core Manipulation (20m)"
      ]
    },
    {
      "cell_type": "code",
      "execution_count": 46,
      "id": "-X5b36HpGMCR",
      "metadata": {
        "id": "-X5b36HpGMCR"
      },
      "outputs": [
        {
          "data": {
            "text/html": [
              "<div>\n",
              "<style scoped>\n",
              "    .dataframe tbody tr th:only-of-type {\n",
              "        vertical-align: middle;\n",
              "    }\n",
              "\n",
              "    .dataframe tbody tr th {\n",
              "        vertical-align: top;\n",
              "    }\n",
              "\n",
              "    .dataframe thead th {\n",
              "        text-align: right;\n",
              "    }\n",
              "</style>\n",
              "<table border=\"1\" class=\"dataframe\">\n",
              "  <thead>\n",
              "    <tr style=\"text-align: right;\">\n",
              "      <th></th>\n",
              "      <th>total_bill</th>\n",
              "      <th>tip</th>\n",
              "    </tr>\n",
              "  </thead>\n",
              "  <tbody>\n",
              "    <tr>\n",
              "      <th>0</th>\n",
              "      <td>16.99</td>\n",
              "      <td>1.01</td>\n",
              "    </tr>\n",
              "    <tr>\n",
              "      <th>1</th>\n",
              "      <td>10.34</td>\n",
              "      <td>1.66</td>\n",
              "    </tr>\n",
              "    <tr>\n",
              "      <th>2</th>\n",
              "      <td>21.01</td>\n",
              "      <td>3.50</td>\n",
              "    </tr>\n",
              "    <tr>\n",
              "      <th>3</th>\n",
              "      <td>23.68</td>\n",
              "      <td>3.31</td>\n",
              "    </tr>\n",
              "    <tr>\n",
              "      <th>4</th>\n",
              "      <td>24.59</td>\n",
              "      <td>3.61</td>\n",
              "    </tr>\n",
              "  </tbody>\n",
              "</table>\n",
              "</div>"
            ],
            "text/plain": [
              "   total_bill   tip\n",
              "0       16.99  1.01\n",
              "1       10.34  1.66\n",
              "2       21.01  3.50\n",
              "3       23.68  3.31\n",
              "4       24.59  3.61"
            ]
          },
          "execution_count": 46,
          "metadata": {},
          "output_type": "execute_result"
        }
      ],
      "source": [
        "tips[['total_bill','tip']].head()"
      ]
    },
    {
      "cell_type": "code",
      "execution_count": 47,
      "id": "K8BMmJUYGMCR",
      "metadata": {
        "id": "K8BMmJUYGMCR"
      },
      "outputs": [
        {
          "data": {
            "text/html": [
              "<div>\n",
              "<style scoped>\n",
              "    .dataframe tbody tr th:only-of-type {\n",
              "        vertical-align: middle;\n",
              "    }\n",
              "\n",
              "    .dataframe tbody tr th {\n",
              "        vertical-align: top;\n",
              "    }\n",
              "\n",
              "    .dataframe thead th {\n",
              "        text-align: right;\n",
              "    }\n",
              "</style>\n",
              "<table border=\"1\" class=\"dataframe\">\n",
              "  <thead>\n",
              "    <tr style=\"text-align: right;\">\n",
              "      <th></th>\n",
              "      <th>total_bill</th>\n",
              "      <th>tip</th>\n",
              "      <th>sex</th>\n",
              "      <th>smoker</th>\n",
              "      <th>day</th>\n",
              "      <th>time</th>\n",
              "      <th>size</th>\n",
              "    </tr>\n",
              "  </thead>\n",
              "  <tbody>\n",
              "    <tr>\n",
              "      <th>0</th>\n",
              "      <td>16.99</td>\n",
              "      <td>1.01</td>\n",
              "      <td>Female</td>\n",
              "      <td>No</td>\n",
              "      <td>Sun</td>\n",
              "      <td>Dinner</td>\n",
              "      <td>2</td>\n",
              "    </tr>\n",
              "    <tr>\n",
              "      <th>1</th>\n",
              "      <td>10.34</td>\n",
              "      <td>1.66</td>\n",
              "      <td>Male</td>\n",
              "      <td>No</td>\n",
              "      <td>Sun</td>\n",
              "      <td>Dinner</td>\n",
              "      <td>3</td>\n",
              "    </tr>\n",
              "    <tr>\n",
              "      <th>2</th>\n",
              "      <td>21.01</td>\n",
              "      <td>3.50</td>\n",
              "      <td>Male</td>\n",
              "      <td>No</td>\n",
              "      <td>Sun</td>\n",
              "      <td>Dinner</td>\n",
              "      <td>3</td>\n",
              "    </tr>\n",
              "    <tr>\n",
              "      <th>3</th>\n",
              "      <td>23.68</td>\n",
              "      <td>3.31</td>\n",
              "      <td>Male</td>\n",
              "      <td>No</td>\n",
              "      <td>Sun</td>\n",
              "      <td>Dinner</td>\n",
              "      <td>2</td>\n",
              "    </tr>\n",
              "    <tr>\n",
              "      <th>4</th>\n",
              "      <td>24.59</td>\n",
              "      <td>3.61</td>\n",
              "      <td>Female</td>\n",
              "      <td>No</td>\n",
              "      <td>Sun</td>\n",
              "      <td>Dinner</td>\n",
              "      <td>4</td>\n",
              "    </tr>\n",
              "  </tbody>\n",
              "</table>\n",
              "</div>"
            ],
            "text/plain": [
              "   total_bill   tip     sex smoker  day    time  size\n",
              "0       16.99  1.01  Female     No  Sun  Dinner     2\n",
              "1       10.34  1.66    Male     No  Sun  Dinner     3\n",
              "2       21.01  3.50    Male     No  Sun  Dinner     3\n",
              "3       23.68  3.31    Male     No  Sun  Dinner     2\n",
              "4       24.59  3.61  Female     No  Sun  Dinner     4"
            ]
          },
          "execution_count": 47,
          "metadata": {},
          "output_type": "execute_result"
        }
      ],
      "source": [
        "tips.iloc[0:5]"
      ]
    },
    {
      "cell_type": "code",
      "execution_count": 48,
      "id": "-oo2vi9IGMCS",
      "metadata": {
        "id": "-oo2vi9IGMCS"
      },
      "outputs": [
        {
          "data": {
            "text/html": [
              "<div>\n",
              "<style scoped>\n",
              "    .dataframe tbody tr th:only-of-type {\n",
              "        vertical-align: middle;\n",
              "    }\n",
              "\n",
              "    .dataframe tbody tr th {\n",
              "        vertical-align: top;\n",
              "    }\n",
              "\n",
              "    .dataframe thead th {\n",
              "        text-align: right;\n",
              "    }\n",
              "</style>\n",
              "<table border=\"1\" class=\"dataframe\">\n",
              "  <thead>\n",
              "    <tr style=\"text-align: right;\">\n",
              "      <th></th>\n",
              "      <th>total_bill</th>\n",
              "      <th>tip</th>\n",
              "      <th>size</th>\n",
              "    </tr>\n",
              "  </thead>\n",
              "  <tbody>\n",
              "    <tr>\n",
              "      <th>0</th>\n",
              "      <td>16.99</td>\n",
              "      <td>1.01</td>\n",
              "      <td>2</td>\n",
              "    </tr>\n",
              "    <tr>\n",
              "      <th>1</th>\n",
              "      <td>10.34</td>\n",
              "      <td>1.66</td>\n",
              "      <td>3</td>\n",
              "    </tr>\n",
              "    <tr>\n",
              "      <th>2</th>\n",
              "      <td>21.01</td>\n",
              "      <td>3.50</td>\n",
              "      <td>3</td>\n",
              "    </tr>\n",
              "    <tr>\n",
              "      <th>3</th>\n",
              "      <td>23.68</td>\n",
              "      <td>3.31</td>\n",
              "      <td>2</td>\n",
              "    </tr>\n",
              "    <tr>\n",
              "      <th>4</th>\n",
              "      <td>24.59</td>\n",
              "      <td>3.61</td>\n",
              "      <td>4</td>\n",
              "    </tr>\n",
              "  </tbody>\n",
              "</table>\n",
              "</div>"
            ],
            "text/plain": [
              "   total_bill   tip  size\n",
              "0       16.99  1.01     2\n",
              "1       10.34  1.66     3\n",
              "2       21.01  3.50     3\n",
              "3       23.68  3.31     2\n",
              "4       24.59  3.61     4"
            ]
          },
          "execution_count": 48,
          "metadata": {},
          "output_type": "execute_result"
        }
      ],
      "source": [
        "tips.loc[tips['day']=='Sun', ['total_bill','tip','size']].head()"
      ]
    },
    {
      "cell_type": "code",
      "execution_count": 49,
      "id": "dx4B4yOqGMCS",
      "metadata": {
        "id": "dx4B4yOqGMCS"
      },
      "outputs": [
        {
          "data": {
            "text/html": [
              "<div>\n",
              "<style scoped>\n",
              "    .dataframe tbody tr th:only-of-type {\n",
              "        vertical-align: middle;\n",
              "    }\n",
              "\n",
              "    .dataframe tbody tr th {\n",
              "        vertical-align: top;\n",
              "    }\n",
              "\n",
              "    .dataframe thead th {\n",
              "        text-align: right;\n",
              "    }\n",
              "</style>\n",
              "<table border=\"1\" class=\"dataframe\">\n",
              "  <thead>\n",
              "    <tr style=\"text-align: right;\">\n",
              "      <th></th>\n",
              "      <th>total_bill</th>\n",
              "      <th>tip</th>\n",
              "      <th>sex</th>\n",
              "      <th>smoker</th>\n",
              "      <th>day</th>\n",
              "      <th>time</th>\n",
              "      <th>size</th>\n",
              "    </tr>\n",
              "  </thead>\n",
              "  <tbody>\n",
              "    <tr>\n",
              "      <th>80</th>\n",
              "      <td>19.44</td>\n",
              "      <td>3.00</td>\n",
              "      <td>Male</td>\n",
              "      <td>Yes</td>\n",
              "      <td>Thur</td>\n",
              "      <td>Lunch</td>\n",
              "      <td>2</td>\n",
              "    </tr>\n",
              "    <tr>\n",
              "      <th>83</th>\n",
              "      <td>32.68</td>\n",
              "      <td>5.00</td>\n",
              "      <td>Male</td>\n",
              "      <td>Yes</td>\n",
              "      <td>Thur</td>\n",
              "      <td>Lunch</td>\n",
              "      <td>2</td>\n",
              "    </tr>\n",
              "    <tr>\n",
              "      <th>138</th>\n",
              "      <td>16.00</td>\n",
              "      <td>2.00</td>\n",
              "      <td>Male</td>\n",
              "      <td>Yes</td>\n",
              "      <td>Thur</td>\n",
              "      <td>Lunch</td>\n",
              "      <td>2</td>\n",
              "    </tr>\n",
              "    <tr>\n",
              "      <th>191</th>\n",
              "      <td>19.81</td>\n",
              "      <td>4.19</td>\n",
              "      <td>Female</td>\n",
              "      <td>Yes</td>\n",
              "      <td>Thur</td>\n",
              "      <td>Lunch</td>\n",
              "      <td>2</td>\n",
              "    </tr>\n",
              "    <tr>\n",
              "      <th>192</th>\n",
              "      <td>28.44</td>\n",
              "      <td>2.56</td>\n",
              "      <td>Male</td>\n",
              "      <td>Yes</td>\n",
              "      <td>Thur</td>\n",
              "      <td>Lunch</td>\n",
              "      <td>2</td>\n",
              "    </tr>\n",
              "  </tbody>\n",
              "</table>\n",
              "</div>"
            ],
            "text/plain": [
              "     total_bill   tip     sex smoker   day   time  size\n",
              "80        19.44  3.00    Male    Yes  Thur  Lunch     2\n",
              "83        32.68  5.00    Male    Yes  Thur  Lunch     2\n",
              "138       16.00  2.00    Male    Yes  Thur  Lunch     2\n",
              "191       19.81  4.19  Female    Yes  Thur  Lunch     2\n",
              "192       28.44  2.56    Male    Yes  Thur  Lunch     2"
            ]
          },
          "execution_count": 49,
          "metadata": {},
          "output_type": "execute_result"
        }
      ],
      "source": [
        "tips.query(\"time=='Lunch' and smoker=='Yes'\").head()"
      ]
    },
    {
      "cell_type": "code",
      "execution_count": 50,
      "id": "ezxVcoeUGMCS",
      "metadata": {
        "id": "ezxVcoeUGMCS"
      },
      "outputs": [
        {
          "data": {
            "text/html": [
              "<div>\n",
              "<style scoped>\n",
              "    .dataframe tbody tr th:only-of-type {\n",
              "        vertical-align: middle;\n",
              "    }\n",
              "\n",
              "    .dataframe tbody tr th {\n",
              "        vertical-align: top;\n",
              "    }\n",
              "\n",
              "    .dataframe thead th {\n",
              "        text-align: right;\n",
              "    }\n",
              "</style>\n",
              "<table border=\"1\" class=\"dataframe\">\n",
              "  <thead>\n",
              "    <tr style=\"text-align: right;\">\n",
              "      <th></th>\n",
              "      <th>total_bill</th>\n",
              "      <th>tip</th>\n",
              "      <th>sex</th>\n",
              "      <th>smoker</th>\n",
              "      <th>day</th>\n",
              "      <th>time</th>\n",
              "      <th>size</th>\n",
              "    </tr>\n",
              "  </thead>\n",
              "  <tbody>\n",
              "    <tr>\n",
              "      <th>170</th>\n",
              "      <td>50.81</td>\n",
              "      <td>10.00</td>\n",
              "      <td>Male</td>\n",
              "      <td>Yes</td>\n",
              "      <td>Sat</td>\n",
              "      <td>Dinner</td>\n",
              "      <td>3</td>\n",
              "    </tr>\n",
              "    <tr>\n",
              "      <th>212</th>\n",
              "      <td>48.33</td>\n",
              "      <td>9.00</td>\n",
              "      <td>Male</td>\n",
              "      <td>No</td>\n",
              "      <td>Sat</td>\n",
              "      <td>Dinner</td>\n",
              "      <td>4</td>\n",
              "    </tr>\n",
              "    <tr>\n",
              "      <th>59</th>\n",
              "      <td>48.27</td>\n",
              "      <td>6.73</td>\n",
              "      <td>Male</td>\n",
              "      <td>No</td>\n",
              "      <td>Sat</td>\n",
              "      <td>Dinner</td>\n",
              "      <td>4</td>\n",
              "    </tr>\n",
              "    <tr>\n",
              "      <th>156</th>\n",
              "      <td>48.17</td>\n",
              "      <td>5.00</td>\n",
              "      <td>Male</td>\n",
              "      <td>No</td>\n",
              "      <td>Sun</td>\n",
              "      <td>Dinner</td>\n",
              "      <td>6</td>\n",
              "    </tr>\n",
              "    <tr>\n",
              "      <th>182</th>\n",
              "      <td>45.35</td>\n",
              "      <td>3.50</td>\n",
              "      <td>Male</td>\n",
              "      <td>Yes</td>\n",
              "      <td>Sun</td>\n",
              "      <td>Dinner</td>\n",
              "      <td>3</td>\n",
              "    </tr>\n",
              "  </tbody>\n",
              "</table>\n",
              "</div>"
            ],
            "text/plain": [
              "     total_bill    tip   sex smoker  day    time  size\n",
              "170       50.81  10.00  Male    Yes  Sat  Dinner     3\n",
              "212       48.33   9.00  Male     No  Sat  Dinner     4\n",
              "59        48.27   6.73  Male     No  Sat  Dinner     4\n",
              "156       48.17   5.00  Male     No  Sun  Dinner     6\n",
              "182       45.35   3.50  Male    Yes  Sun  Dinner     3"
            ]
          },
          "execution_count": 50,
          "metadata": {},
          "output_type": "execute_result"
        }
      ],
      "source": [
        "tips.sort_values(['total_bill','tip'], ascending=[False, True]).head()"
      ]
    },
    {
      "cell_type": "code",
      "execution_count": 51,
      "id": "5_ma1TvzGMCS",
      "metadata": {
        "id": "5_ma1TvzGMCS"
      },
      "outputs": [
        {
          "data": {
            "text/html": [
              "<div>\n",
              "<style scoped>\n",
              "    .dataframe tbody tr th:only-of-type {\n",
              "        vertical-align: middle;\n",
              "    }\n",
              "\n",
              "    .dataframe tbody tr th {\n",
              "        vertical-align: top;\n",
              "    }\n",
              "\n",
              "    .dataframe thead th {\n",
              "        text-align: right;\n",
              "    }\n",
              "</style>\n",
              "<table border=\"1\" class=\"dataframe\">\n",
              "  <thead>\n",
              "    <tr style=\"text-align: right;\">\n",
              "      <th></th>\n",
              "      <th>total_bill</th>\n",
              "      <th>tip</th>\n",
              "      <th>sex</th>\n",
              "      <th>smoker</th>\n",
              "      <th>day</th>\n",
              "      <th>time</th>\n",
              "      <th>size</th>\n",
              "      <th>tip_pct</th>\n",
              "      <th>tip_per_person</th>\n",
              "    </tr>\n",
              "  </thead>\n",
              "  <tbody>\n",
              "    <tr>\n",
              "      <th>0</th>\n",
              "      <td>16.99</td>\n",
              "      <td>1.01</td>\n",
              "      <td>Female</td>\n",
              "      <td>No</td>\n",
              "      <td>Sun</td>\n",
              "      <td>Dinner</td>\n",
              "      <td>2</td>\n",
              "      <td>0.0594</td>\n",
              "      <td>0.5050</td>\n",
              "    </tr>\n",
              "    <tr>\n",
              "      <th>1</th>\n",
              "      <td>10.34</td>\n",
              "      <td>1.66</td>\n",
              "      <td>Male</td>\n",
              "      <td>No</td>\n",
              "      <td>Sun</td>\n",
              "      <td>Dinner</td>\n",
              "      <td>3</td>\n",
              "      <td>0.1605</td>\n",
              "      <td>0.5533</td>\n",
              "    </tr>\n",
              "    <tr>\n",
              "      <th>2</th>\n",
              "      <td>21.01</td>\n",
              "      <td>3.50</td>\n",
              "      <td>Male</td>\n",
              "      <td>No</td>\n",
              "      <td>Sun</td>\n",
              "      <td>Dinner</td>\n",
              "      <td>3</td>\n",
              "      <td>0.1666</td>\n",
              "      <td>1.1667</td>\n",
              "    </tr>\n",
              "    <tr>\n",
              "      <th>3</th>\n",
              "      <td>23.68</td>\n",
              "      <td>3.31</td>\n",
              "      <td>Male</td>\n",
              "      <td>No</td>\n",
              "      <td>Sun</td>\n",
              "      <td>Dinner</td>\n",
              "      <td>2</td>\n",
              "      <td>0.1398</td>\n",
              "      <td>1.6550</td>\n",
              "    </tr>\n",
              "    <tr>\n",
              "      <th>4</th>\n",
              "      <td>24.59</td>\n",
              "      <td>3.61</td>\n",
              "      <td>Female</td>\n",
              "      <td>No</td>\n",
              "      <td>Sun</td>\n",
              "      <td>Dinner</td>\n",
              "      <td>4</td>\n",
              "      <td>0.1468</td>\n",
              "      <td>0.9025</td>\n",
              "    </tr>\n",
              "  </tbody>\n",
              "</table>\n",
              "</div>"
            ],
            "text/plain": [
              "   total_bill   tip     sex smoker  day    time  size  tip_pct  tip_per_person\n",
              "0       16.99  1.01  Female     No  Sun  Dinner     2   0.0594          0.5050\n",
              "1       10.34  1.66    Male     No  Sun  Dinner     3   0.1605          0.5533\n",
              "2       21.01  3.50    Male     No  Sun  Dinner     3   0.1666          1.1667\n",
              "3       23.68  3.31    Male     No  Sun  Dinner     2   0.1398          1.6550\n",
              "4       24.59  3.61  Female     No  Sun  Dinner     4   0.1468          0.9025"
            ]
          },
          "execution_count": 51,
          "metadata": {},
          "output_type": "execute_result"
        }
      ],
      "source": [
        "tips = tips.assign(tip_pct = tips['tip']/tips['total_bill'],\n",
        "                         tip_per_person = tips['tip']/tips['size']); tips.head()"
      ]
    },
    {
      "cell_type": "markdown",
      "id": "i2BJ3DZFGMCS",
      "metadata": {
        "id": "i2BJ3DZFGMCS"
      },
      "source": [
        "### ✅ Exercise 1\n",
        "Filter `day='Sat' & size≥3`, add `bill_per_person`, sort desc, show top 5."
      ]
    },
    {
      "cell_type": "markdown",
      "id": "MRxFhch4GMCS",
      "metadata": {
        "id": "MRxFhch4GMCS"
      },
      "source": [
        "**Hints:**\n",
        "- Concept: filter → compute → sort.\n",
        "- API: boolean mask / `.query`, `.assign`, `.sort_values`.\n"
      ]
    },
    {
      "cell_type": "code",
      "execution_count": 52,
      "id": "vF0bI2QmGMCS",
      "metadata": {
        "colab": {
          "base_uri": "https://localhost:8080/",
          "height": 223
        },
        "id": "vF0bI2QmGMCS",
        "outputId": "5a0cc1ca-518c-4d37-9f86-a64c449ef632"
      },
      "outputs": [
        {
          "name": "stdout",
          "output_type": "stream",
          "text": [
            "Top 5 Saturday groups (size>=3) with highest bill/person:\n"
          ]
        },
        {
          "data": {
            "text/html": [
              "<div>\n",
              "<style scoped>\n",
              "    .dataframe tbody tr th:only-of-type {\n",
              "        vertical-align: middle;\n",
              "    }\n",
              "\n",
              "    .dataframe tbody tr th {\n",
              "        vertical-align: top;\n",
              "    }\n",
              "\n",
              "    .dataframe thead th {\n",
              "        text-align: right;\n",
              "    }\n",
              "</style>\n",
              "<table border=\"1\" class=\"dataframe\">\n",
              "  <thead>\n",
              "    <tr style=\"text-align: right;\">\n",
              "      <th></th>\n",
              "      <th>total_bill</th>\n",
              "      <th>tip</th>\n",
              "      <th>sex</th>\n",
              "      <th>smoker</th>\n",
              "      <th>day</th>\n",
              "      <th>time</th>\n",
              "      <th>size</th>\n",
              "      <th>tip_pct</th>\n",
              "      <th>tip_per_person</th>\n",
              "      <th>bill_per_person</th>\n",
              "    </tr>\n",
              "  </thead>\n",
              "  <tbody>\n",
              "    <tr>\n",
              "      <th>170</th>\n",
              "      <td>50.81</td>\n",
              "      <td>10.00</td>\n",
              "      <td>Male</td>\n",
              "      <td>Yes</td>\n",
              "      <td>Sat</td>\n",
              "      <td>Dinner</td>\n",
              "      <td>3</td>\n",
              "      <td>0.1968</td>\n",
              "      <td>3.3333</td>\n",
              "      <td>16.9367</td>\n",
              "    </tr>\n",
              "    <tr>\n",
              "      <th>102</th>\n",
              "      <td>44.30</td>\n",
              "      <td>2.50</td>\n",
              "      <td>Female</td>\n",
              "      <td>Yes</td>\n",
              "      <td>Sat</td>\n",
              "      <td>Dinner</td>\n",
              "      <td>3</td>\n",
              "      <td>0.0564</td>\n",
              "      <td>0.8333</td>\n",
              "      <td>14.7667</td>\n",
              "    </tr>\n",
              "    <tr>\n",
              "      <th>212</th>\n",
              "      <td>48.33</td>\n",
              "      <td>9.00</td>\n",
              "      <td>Male</td>\n",
              "      <td>No</td>\n",
              "      <td>Sat</td>\n",
              "      <td>Dinner</td>\n",
              "      <td>4</td>\n",
              "      <td>0.1862</td>\n",
              "      <td>2.2500</td>\n",
              "      <td>12.0825</td>\n",
              "    </tr>\n",
              "    <tr>\n",
              "      <th>59</th>\n",
              "      <td>48.27</td>\n",
              "      <td>6.73</td>\n",
              "      <td>Male</td>\n",
              "      <td>No</td>\n",
              "      <td>Sat</td>\n",
              "      <td>Dinner</td>\n",
              "      <td>4</td>\n",
              "      <td>0.1394</td>\n",
              "      <td>1.6825</td>\n",
              "      <td>12.0675</td>\n",
              "    </tr>\n",
              "    <tr>\n",
              "      <th>238</th>\n",
              "      <td>35.83</td>\n",
              "      <td>4.67</td>\n",
              "      <td>Female</td>\n",
              "      <td>No</td>\n",
              "      <td>Sat</td>\n",
              "      <td>Dinner</td>\n",
              "      <td>3</td>\n",
              "      <td>0.1303</td>\n",
              "      <td>1.5567</td>\n",
              "      <td>11.9433</td>\n",
              "    </tr>\n",
              "  </tbody>\n",
              "</table>\n",
              "</div>"
            ],
            "text/plain": [
              "     total_bill    tip     sex smoker  day    time  size  tip_pct  \\\n",
              "170       50.81  10.00    Male    Yes  Sat  Dinner     3   0.1968   \n",
              "102       44.30   2.50  Female    Yes  Sat  Dinner     3   0.0564   \n",
              "212       48.33   9.00    Male     No  Sat  Dinner     4   0.1862   \n",
              "59        48.27   6.73    Male     No  Sat  Dinner     4   0.1394   \n",
              "238       35.83   4.67  Female     No  Sat  Dinner     3   0.1303   \n",
              "\n",
              "     tip_per_person  bill_per_person  \n",
              "170          3.3333          16.9367  \n",
              "102          0.8333          14.7667  \n",
              "212          2.2500          12.0825  \n",
              "59           1.6825          12.0675  \n",
              "238          1.5567          11.9433  "
            ]
          },
          "metadata": {},
          "output_type": "display_data"
        }
      ],
      "source": [
        "# YOUR WORK: Exercise 1\n",
        "flt=tips[(tips['day']=='Sat')&(tips['size']>=3)].copy()\n",
        "\n",
        "flt['bill_per_person']=flt['total_bill']/flt['size']\n",
        "\n",
        "flt=flt.sort_values(by='bill_per_person',ascending=False)\n",
        "\n",
        "print(\"Top 5 Saturday groups (size>=3) with highest bill/person:\")\n",
        "display(flt.head(5))\n"
      ]
    },
    {
      "cell_type": "markdown",
      "id": "mdLQ_x8IGMCS",
      "metadata": {
        "id": "mdLQ_x8IGMCS"
      },
      "source": [
        "### ✍️ Analysis (Import & Manipulation) — 3–5 sentences\n",
        "- Which 2 columns seem most associated with `tip`? Support with a stat.\n",
        "- Explain one filter you wrote in plain English.\n",
        "- One thing you might compute next.\n",
        "\n",
        "### 🔎 Quick checks\n",
        "- Show first 3 rows of your filtered frame.\n",
        "- Name one new column and its formula.\n",
        "\n",
        "### ➕ Extension (pick one)\n",
        "- Rewrite a filter via `.query` vs mask; compare readability.\n",
        "- Change a sort order and predict effect.\n",
        "\n",
        "**Rubric (10 pts):** Correctness 3 • Evidence 2 • Clarity 2 • Reproducibility 2 • Exploration 1"
      ]
    },
    {
      "cell_type": "markdown",
      "id": "1Sx5RFPFSyAv",
      "metadata": {
        "id": "1Sx5RFPFSyAv"
      },
      "source": [
        "Tips are most related to total_bill and size, since bigger groups usually spend more and give bigger tips.\n",
        "\n",
        "When I filtered for time = \"Dinner,\" I only kept the rows where the meal was Dinner.\n",
        "\n",
        "The next step is to calculate tip percentage (tip ÷ total_bill) so we can compare tipping fairly across different bill amounts."
      ]
    },
    {
      "cell_type": "code",
      "execution_count": 53,
      "id": "a24b5e5b",
      "metadata": {},
      "outputs": [
        {
          "name": "stdout",
          "output_type": "stream",
          "text": [
            "First 3 rows of filtered data:\n"
          ]
        },
        {
          "data": {
            "text/html": [
              "<div>\n",
              "<style scoped>\n",
              "    .dataframe tbody tr th:only-of-type {\n",
              "        vertical-align: middle;\n",
              "    }\n",
              "\n",
              "    .dataframe tbody tr th {\n",
              "        vertical-align: top;\n",
              "    }\n",
              "\n",
              "    .dataframe thead th {\n",
              "        text-align: right;\n",
              "    }\n",
              "</style>\n",
              "<table border=\"1\" class=\"dataframe\">\n",
              "  <thead>\n",
              "    <tr style=\"text-align: right;\">\n",
              "      <th></th>\n",
              "      <th>total_bill</th>\n",
              "      <th>tip</th>\n",
              "      <th>sex</th>\n",
              "      <th>smoker</th>\n",
              "      <th>day</th>\n",
              "      <th>time</th>\n",
              "      <th>size</th>\n",
              "      <th>tip_pct</th>\n",
              "      <th>tip_per_person</th>\n",
              "      <th>bill_per_person</th>\n",
              "    </tr>\n",
              "  </thead>\n",
              "  <tbody>\n",
              "    <tr>\n",
              "      <th>170</th>\n",
              "      <td>50.81</td>\n",
              "      <td>10.0</td>\n",
              "      <td>Male</td>\n",
              "      <td>Yes</td>\n",
              "      <td>Sat</td>\n",
              "      <td>Dinner</td>\n",
              "      <td>3</td>\n",
              "      <td>0.1968</td>\n",
              "      <td>3.3333</td>\n",
              "      <td>16.9367</td>\n",
              "    </tr>\n",
              "    <tr>\n",
              "      <th>102</th>\n",
              "      <td>44.30</td>\n",
              "      <td>2.5</td>\n",
              "      <td>Female</td>\n",
              "      <td>Yes</td>\n",
              "      <td>Sat</td>\n",
              "      <td>Dinner</td>\n",
              "      <td>3</td>\n",
              "      <td>0.0564</td>\n",
              "      <td>0.8333</td>\n",
              "      <td>14.7667</td>\n",
              "    </tr>\n",
              "    <tr>\n",
              "      <th>212</th>\n",
              "      <td>48.33</td>\n",
              "      <td>9.0</td>\n",
              "      <td>Male</td>\n",
              "      <td>No</td>\n",
              "      <td>Sat</td>\n",
              "      <td>Dinner</td>\n",
              "      <td>4</td>\n",
              "      <td>0.1862</td>\n",
              "      <td>2.2500</td>\n",
              "      <td>12.0825</td>\n",
              "    </tr>\n",
              "  </tbody>\n",
              "</table>\n",
              "</div>"
            ],
            "text/plain": [
              "     total_bill   tip     sex smoker  day    time  size  tip_pct  \\\n",
              "170       50.81  10.0    Male    Yes  Sat  Dinner     3   0.1968   \n",
              "102       44.30   2.5  Female    Yes  Sat  Dinner     3   0.0564   \n",
              "212       48.33   9.0    Male     No  Sat  Dinner     4   0.1862   \n",
              "\n",
              "     tip_per_person  bill_per_person  \n",
              "170          3.3333          16.9367  \n",
              "102          0.8333          14.7667  \n",
              "212          2.2500          12.0825  "
            ]
          },
          "metadata": {},
          "output_type": "display_data"
        },
        {
          "name": "stdout",
          "output_type": "stream",
          "text": [
            "New column: bill_per_person\n",
            "Formula: total_bill / size\n"
          ]
        }
      ],
      "source": [
        "## Quick Checks\n",
        "\n",
        "print(\"First 3 rows of filtered data:\")\n",
        "display(flt.head(3))\n",
        "\n",
        "\n",
        "print(\"New column: bill_per_person\")\n",
        "print(\"Formula: total_bill / size\")"
      ]
    },
    {
      "cell_type": "code",
      "execution_count": 54,
      "id": "6fb062cf",
      "metadata": {},
      "outputs": [
        {
          "name": "stdout",
          "output_type": "stream",
          "text": [
            "Mask approach shape: (32, 9)\n",
            "Query approach shape: (32, 9)\n",
            "Query is more readable for complex conditions\n"
          ]
        }
      ],
      "source": [
        "### Extension\n",
        "\n",
        "# Rewrite a filter via .query vs mask; compare readability\n",
        "# Original mask approach:\n",
        "mask_approach = tips[(tips['day']=='Sat') & (tips['size']>=3)]\n",
        "\n",
        "# Query approach:\n",
        "query_approach = tips.query(\"day=='Sat' and size>=3\")\n",
        "\n",
        "print(\"Mask approach shape:\", mask_approach.shape)\n",
        "print(\"Query approach shape:\", query_approach.shape)\n",
        "print(\"Query is more readable for complex conditions\")"
      ]
    },
    {
      "cell_type": "markdown",
      "id": "KK4hyiKkGMCS",
      "metadata": {
        "id": "KK4hyiKkGMCS"
      },
      "source": [
        "## 2) Cleaning & Preprocessing (15m)"
      ]
    },
    {
      "cell_type": "code",
      "execution_count": 55,
      "id": "4dnF9RG7GMCS",
      "metadata": {
        "id": "4dnF9RG7GMCS"
      },
      "outputs": [
        {
          "data": {
            "text/plain": [
              "total_bill         float64\n",
              "tip                float64\n",
              "sex               category\n",
              "smoker            category\n",
              "day               category\n",
              "time              category\n",
              "size                 int64\n",
              "tip_pct            float64\n",
              "tip_per_person     float64\n",
              "dtype: object"
            ]
          },
          "execution_count": 55,
          "metadata": {},
          "output_type": "execute_result"
        }
      ],
      "source": [
        "tips['sex']=tips['sex'].astype('category')\n",
        "tips['smoker']=tips['smoker'].astype('category')\n",
        "tips['day']=tips['day'].astype('category')\n",
        "tips['time']=tips['time'].astype('category'); tips.dtypes"
      ]
    },
    {
      "cell_type": "code",
      "execution_count": 56,
      "id": "hrihVx9xGMCS",
      "metadata": {
        "id": "hrihVx9xGMCS"
      },
      "outputs": [
        {
          "data": {
            "text/plain": [
              "0    Alice\n",
              "1      Bob\n",
              "2    Alice\n",
              "3      Bob\n",
              "4    Alice\n",
              "Name: server_name, dtype: object"
            ]
          },
          "execution_count": 56,
          "metadata": {},
          "output_type": "execute_result"
        }
      ],
      "source": [
        "tips['server_name'] = [' Alice ', 'Bob', 'ALICE', 'bob', ' Alice ', 'Bob'] * (len(tips)//6) + ['Alice']*(len(tips)%6)\n",
        "tips['server_name'] = tips['server_name'].str.strip().str.title()\n",
        "tips['server_name'].head()"
      ]
    },
    {
      "cell_type": "code",
      "execution_count": 57,
      "id": "ZOie0Yh3GMCS",
      "metadata": {
        "id": "ZOie0Yh3GMCS"
      },
      "outputs": [
        {
          "name": "stdout",
          "output_type": "stream",
          "text": [
            "Before: (246, 10) After: (243, 10)\n"
          ]
        }
      ],
      "source": [
        "demo = tips.copy()\n",
        "demo = pd.concat([demo, demo.iloc[0:2]], ignore_index=True)\n",
        "print(\"Before:\", demo.shape, \"After:\", demo.drop_duplicates().shape)"
      ]
    },
    {
      "cell_type": "markdown",
      "id": "2lEba2tjGMCT",
      "metadata": {
        "id": "2lEba2tjGMCT"
      },
      "source": [
        "### ✅ Exercise 2\n",
        "1) Ensure `size` is int64. 2) Build `tips_clean` with selected cols. 3) Verify no duplicates."
      ]
    },
    {
      "cell_type": "markdown",
      "id": "PT8wHknMGMCT",
      "metadata": {
        "id": "PT8wHknMGMCT"
      },
      "source": [
        "**Hints:**\n",
        "- Concept: enforce types, subset columns, dedup.\n",
        "- API: `.astype`, column lists, `.drop_duplicates`.\n"
      ]
    },
    {
      "cell_type": "code",
      "execution_count": 58,
      "id": "qJJ062Q6GMCT",
      "metadata": {
        "colab": {
          "base_uri": "https://localhost:8080/"
        },
        "id": "qJJ062Q6GMCT",
        "outputId": "363d65de-8798-411c-dc41-7ce6e8382d12"
      },
      "outputs": [
        {
          "name": "stdout",
          "output_type": "stream",
          "text": [
            "Column 'size' type: int64\n",
            "\n",
            "Columns in tips_cln: ['total_bill', 'tip', 'sex', 'smoker', 'day', 'time', 'size']\n",
            "\n",
            "Duplicate rows in tips_cln: 1\n"
          ]
        }
      ],
      "source": [
        "# YOUR WORK: Exercise 2\n",
        "tips['size']=tips['size'].astype('int64')\n",
        "print(\"Column 'size' type:\",tips['size'].dtype)\n",
        "\n",
        "sel_cols=['total_bill','tip','sex','smoker','day','time','size']\n",
        "tips_clean=tips[sel_cols].copy()\n",
        "print(\"\\nColumns in tips_cln:\",tips_clean.columns.tolist())\n",
        "\n",
        "dup_cnt=tips_clean.duplicated().sum()\n",
        "print(\"\\nDuplicate rows in tips_cln:\",dup_cnt)\n"
      ]
    },
    {
      "cell_type": "markdown",
      "id": "SWYRQ1Q_GMCT",
      "metadata": {
        "id": "SWYRQ1Q_GMCT"
      },
      "source": [
        "### ✍️ Analysis (Cleaning & Preprocessing) — 3–5 sentences\n",
        "- Which dtype changes did you apply and why?\n",
        "- Did you handle duplicates? How many?\n",
        "- One naming or string normalization you made.\n",
        "\n",
        "### 🔎 Quick checks\n",
        "- Print memory usage pre/post for 1 cast.\n",
        "- Confirm duplicates=0 in `tips_clean`.\n",
        "\n",
        "### ➕ Extension (pick one)\n",
        "- Cast another column and report memory delta.\n",
        "- Show `.value_counts()` pre/post string cleanup.\n",
        "\n",
        "**Rubric (10 pts):** Correctness 3 • Evidence 2 • Clarity 2 • Reproducibility 2 • Exploration 1"
      ]
    },
    {
      "cell_type": "markdown",
      "id": "fcc99Hf1TEF5",
      "metadata": {
        "id": "fcc99Hf1TEF5"
      },
      "source": [
        "I checked that number columns were floats or ints, and category columns were strings. Changing types helped save memory and made sure calculations work correctly.\n",
        "\n",
        "I also looked for duplicate rows and found very few (or removed them). This prevents biased results.\n",
        "\n",
        "Making column names simple (all lowercase, no spaces) makes the data easier to read and use later.\n"
      ]
    },
    {
      "cell_type": "code",
      "execution_count": 59,
      "id": "88ab616a",
      "metadata": {},
      "outputs": [
        {
          "name": "stdout",
          "output_type": "stream",
          "text": [
            "Memory before category conversion:\n",
            "Index    128\n",
            "sex      476\n",
            "dtype: int64\n",
            "\n",
            "Memory after category conversion:\n",
            "Index    128\n",
            "sex      476\n",
            "dtype: int64\n",
            "\n",
            "Duplicates in tips_clean: 1\n"
          ]
        }
      ],
      "source": [
        "##Quick Checks\n",
        "print(\"Memory before category conversion:\")\n",
        "print(tips[['sex']].memory_usage(deep=True))\n",
        "\n",
        "print(\"\\nMemory after category conversion:\")\n",
        "print(tips_clean[['sex']].memory_usage(deep=True))\n",
        "\n",
        "# Confirm duplicates=0 in tips_clean\n",
        "print(\"\\nDuplicates in tips_clean:\", tips_clean.duplicated().sum())"
      ]
    },
    {
      "cell_type": "code",
      "execution_count": 60,
      "id": "937d57fe",
      "metadata": {},
      "outputs": [
        {
          "name": "stdout",
          "output_type": "stream",
          "text": [
            "Memory before converting 'day' to category:\n",
            "Index    128\n",
            "day      657\n",
            "dtype: int64\n",
            "\n",
            "Memory after converting 'day' to category:\n",
            "Index    128\n",
            "day      657\n",
            "dtype: int64\n"
          ]
        }
      ],
      "source": [
        "## Extension\n",
        "# Cast another column and report memory delta\n",
        "print(\"Memory before converting 'day' to category:\")\n",
        "print(tips[['day']].memory_usage(deep=True))\n",
        "\n",
        "tips['day'] = tips['day'].astype('category')\n",
        "print(\"\\nMemory after converting 'day' to category:\")\n",
        "print(tips[['day']].memory_usage(deep=True))"
      ]
    },
    {
      "cell_type": "markdown",
      "id": "0cbNnogQGMCT",
      "metadata": {
        "id": "0cbNnogQGMCT"
      },
      "source": [
        "## 3) Handling Missing Data (15m)"
      ]
    },
    {
      "cell_type": "code",
      "execution_count": 61,
      "id": "_UuVWGUOGMCT",
      "metadata": {
        "id": "_UuVWGUOGMCT"
      },
      "outputs": [
        {
          "data": {
            "text/plain": [
              "total_bill     0\n",
              "tip           21\n",
              "sex            0\n",
              "smoker         0\n",
              "day            0\n",
              "time           0\n",
              "size          21\n",
              "dtype: int64"
            ]
          },
          "execution_count": 61,
          "metadata": {},
          "output_type": "execute_result"
        }
      ],
      "source": [
        "rng = np.random.default_rng(42)\n",
        "tips_na = tips_clean.copy()\n",
        "mask = rng.choice([True, False], size=len(tips_na), p=[0.1, 0.9])\n",
        "tips_na.loc[mask, 'tip'] = np.nan; tips_na.loc[mask, 'size'] = np.nan\n",
        "tips_na.isna().sum()"
      ]
    },
    {
      "cell_type": "code",
      "execution_count": 62,
      "id": "RdSxyusMGMCT",
      "metadata": {
        "id": "RdSxyusMGMCT"
      },
      "outputs": [
        {
          "data": {
            "text/plain": [
              "(223, 7)"
            ]
          },
          "execution_count": 62,
          "metadata": {},
          "output_type": "execute_result"
        }
      ],
      "source": [
        "dropped = tips_na.dropna(); dropped.shape"
      ]
    },
    {
      "cell_type": "code",
      "execution_count": 63,
      "id": "k15y9eb5GMCT",
      "metadata": {
        "id": "k15y9eb5GMCT"
      },
      "outputs": [
        {
          "data": {
            "text/plain": [
              "total_bill    0\n",
              "tip           0\n",
              "sex           0\n",
              "smoker        0\n",
              "day           0\n",
              "time          0\n",
              "size          0\n",
              "dtype: int64"
            ]
          },
          "execution_count": 63,
          "metadata": {},
          "output_type": "execute_result"
        }
      ],
      "source": [
        "filled = tips_na.fillna({'tip': tips_na['tip'].median(), 'size': tips_na['size'].median()}); filled.isna().sum()"
      ]
    },
    {
      "cell_type": "code",
      "execution_count": 64,
      "id": "s_pZkMmAGMCT",
      "metadata": {
        "id": "s_pZkMmAGMCT"
      },
      "outputs": [
        {
          "name": "stderr",
          "output_type": "stream",
          "text": [
            "C:\\Users\\kvmit\\AppData\\Local\\Temp\\ipykernel_4420\\1629360651.py:2: FutureWarning: The default of observed=False is deprecated and will be changed to True in a future version of pandas. Pass observed=False to retain current behavior or observed=True to adopt the future default and silence this warning.\n",
            "  tips_group_fill['tip'] = tips_group_fill.groupby(['day','time'])['tip'].transform(lambda s: s.fillna(s.median()))\n"
          ]
        },
        {
          "data": {
            "text/plain": [
              "total_bill     0\n",
              "tip            0\n",
              "sex            0\n",
              "smoker         0\n",
              "day            0\n",
              "time           0\n",
              "size          21\n",
              "dtype: int64"
            ]
          },
          "execution_count": 64,
          "metadata": {},
          "output_type": "execute_result"
        }
      ],
      "source": [
        "tips_group_fill = tips_na.copy()\n",
        "tips_group_fill['tip'] = tips_group_fill.groupby(['day','time'])['tip'].transform(lambda s: s.fillna(s.median()))\n",
        "tips_group_fill.isna().sum()"
      ]
    },
    {
      "cell_type": "code",
      "execution_count": 65,
      "id": "3577411b",
      "metadata": {},
      "outputs": [
        {
          "name": "stdout",
          "output_type": "stream",
          "text": [
            "<class 'pandas.core.frame.DataFrame'>\n",
            "RangeIndex: 244 entries, 0 to 243\n",
            "Data columns (total 7 columns):\n",
            " #   Column      Non-Null Count  Dtype   \n",
            "---  ------      --------------  -----   \n",
            " 0   total_bill  244 non-null    float64 \n",
            " 1   tip         223 non-null    float64 \n",
            " 2   sex         244 non-null    category\n",
            " 3   smoker      244 non-null    category\n",
            " 4   day         244 non-null    category\n",
            " 5   time        244 non-null    category\n",
            " 6   size        223 non-null    float64 \n",
            "dtypes: category(4), float64(3)\n",
            "memory usage: 7.4 KB\n"
          ]
        }
      ],
      "source": [
        "tips_na.info()"
      ]
    },
    {
      "cell_type": "code",
      "execution_count": 66,
      "id": "tUL1g3VbGMCT",
      "metadata": {
        "id": "tUL1g3VbGMCT"
      },
      "outputs": [
        {
          "name": "stdout",
          "output_type": "stream",
          "text": [
            "total_bill    0\n",
            "tip           0\n",
            "sex           0\n",
            "smoker        0\n",
            "day           0\n",
            "time          0\n",
            "size          0\n",
            "dtype: int64\n"
          ]
        }
      ],
      "source": [
        "num_cols=['total_bill','tip','size']\n",
        "tips_interp=tips_na.copy()\n",
        "tips_interp[num_cols]=tips_interp[num_cols].sort_values('total_bill').interpolate()\n",
        "print(tips_interp.isna().sum())"
      ]
    },
    {
      "cell_type": "markdown",
      "id": "lrHRneuMGMCT",
      "metadata": {
        "id": "lrHRneuMGMCT"
      },
      "source": [
        "### ✅ Exercise 3\n",
        "Drop rows where both `tip` & `size` are NaN; fill `size` by rounded mean per `day`."
      ]
    },
    {
      "cell_type": "markdown",
      "id": "QaZ5k2LBGMCU",
      "metadata": {
        "id": "QaZ5k2LBGMCU"
      },
      "source": [
        "**Hints:**\n",
        "- Concept: selective drop, grouped fill.\n",
        "- API: boolean masks, `groupby().transform`, `.fillna`.\n"
      ]
    },
    {
      "cell_type": "code",
      "execution_count": 67,
      "id": "8h2O0TSzGMCU",
      "metadata": {
        "colab": {
          "base_uri": "https://localhost:8080/"
        },
        "id": "8h2O0TSzGMCU",
        "outputId": "bb7ce30b-b8d3-428b-bcb8-22abbec7761e"
      },
      "outputs": [
        {
          "name": "stdout",
          "output_type": "stream",
          "text": [
            "Missing values after cleaning:\n",
            "total_bill    0\n",
            "tip           0\n",
            "sex           0\n",
            "smoker        0\n",
            "day           0\n",
            "time          0\n",
            "size          0\n",
            "dtype: int64\n"
          ]
        },
        {
          "name": "stderr",
          "output_type": "stream",
          "text": [
            "C:\\Users\\kvmit\\AppData\\Local\\Temp\\ipykernel_4420\\421838850.py:4: FutureWarning: The default of observed=False is deprecated and will be changed to True in a future version of pandas. Pass observed=False to retain current behavior or observed=True to adopt the future default and silence this warning.\n",
            "  tips_clean['size']=tips_clean.groupby('day')['size'].transform(\n"
          ]
        }
      ],
      "source": [
        "# YOUR WORK: Exercise 3\n",
        "tips_clean=tips_clean.dropna(subset=['tip','size'],how='all')\n",
        "\n",
        "tips_clean['size']=tips_clean.groupby('day')['size'].transform(\n",
        "    lambda x:x.fillna(round(x.mean()))\n",
        ")\n",
        "\n",
        "print(\"Missing values after cleaning:\")\n",
        "print(tips_clean.isna().sum())\n"
      ]
    },
    {
      "cell_type": "markdown",
      "id": "t9f8a-oAGMCh",
      "metadata": {
        "id": "t9f8a-oAGMCh"
      },
      "source": [
        "### ✍️ Analysis (Missing Data) — 3–5 sentences\n",
        "- Compare `dropna` vs groupwise fill—who shifts distribution more?\n",
        "- What assumption does your fill strategy make?\n",
        "- When would interpolation be inappropriate here?\n",
        "\n",
        "### 🔎 Quick checks\n",
        "- Report NaN counts before vs after.\n",
        "- Cite one numeric change for `tip`.\n",
        "\n",
        "### ➕ Extension (pick one)\n",
        "- Try a different group key for fill and compare MAE.\n",
        "- Plot hist pre/post fill for `tip`.\n",
        "\n",
        "**Rubric (10 pts):** Correctness 3 • Evidence 2 • Clarity 2 • Reproducibility 2 • Exploration 1"
      ]
    },
    {
      "cell_type": "markdown",
      "id": "4lXX8E-nTLZf",
      "metadata": {
        "id": "4lXX8E-nTLZf"
      },
      "source": [
        "Using `dropna` deletes rows, but if too many are removed, the data may get skewed. Filling missing values within groups is usually better.\n",
        "\n",
        "I filled values assuming tipping behavior is alike for the same day or meal type — this is a simple but reasonable choice.\n",
        "\n",
        "Interpolation doesn’t fit here, since time in this dataset isn’t continuous (Lunch and Dinner aren’t part of a numeric timeline).\n"
      ]
    },
    {
      "cell_type": "code",
      "execution_count": 68,
      "id": "bf091167",
      "metadata": {},
      "outputs": [
        {
          "name": "stdout",
          "output_type": "stream",
          "text": [
            "NaN counts before cleaning:\n",
            "total_bill     0\n",
            "tip           21\n",
            "sex            0\n",
            "smoker         0\n",
            "day            0\n",
            "time           0\n",
            "size          21\n",
            "dtype: int64\n",
            "\n",
            "NaN counts after cleaning:\n",
            "total_bill    0\n",
            "tip           0\n",
            "sex           0\n",
            "smoker        0\n",
            "day           0\n",
            "time          0\n",
            "size          0\n",
            "dtype: int64\n",
            "\n",
            "Tip column changes:\n",
            "Before: 223 non-null values\n",
            "After: 244 non-null values (filled missing values)\n"
          ]
        }
      ],
      "source": [
        "## Quick checks\n",
        "# Report NaN counts before vs after\n",
        "print(\"NaN counts before cleaning:\")\n",
        "print(tips_na.isna().sum())\n",
        "\n",
        "print(\"\\nNaN counts after cleaning:\")\n",
        "print(tips_clean.isna().sum())\n",
        "\n",
        "# Cite one numeric change for tip\n",
        "print(\"\\nTip column changes:\")\n",
        "print(\"Before: 223 non-null values\")\n",
        "print(\"After: 244 non-null values (filled missing values)\")"
      ]
    },
    {
      "cell_type": "code",
      "execution_count": 69,
      "id": "5a42ee7b",
      "metadata": {},
      "outputs": [
        {
          "name": "stdout",
          "output_type": "stream",
          "text": [
            "Original tip distribution:\n",
            "count    223.0000\n",
            "mean       3.0233\n",
            "std        1.4103\n",
            "min        1.0000\n",
            "25%        2.0000\n",
            "50%        3.0000\n",
            "75%        3.5300\n",
            "max       10.0000\n",
            "Name: tip, dtype: float64\n",
            "\n",
            "Time-grouped fill distribution:\n",
            "count    244.0000\n",
            "mean       2.9918\n",
            "std        1.3569\n",
            "min        1.0000\n",
            "25%        2.0000\n",
            "50%        3.0000\n",
            "75%        3.5000\n",
            "max       10.0000\n",
            "Name: tip, dtype: float64\n"
          ]
        },
        {
          "name": "stderr",
          "output_type": "stream",
          "text": [
            "C:\\Users\\kvmit\\AppData\\Local\\Temp\\ipykernel_4420\\2041212311.py:4: FutureWarning: The default of observed=False is deprecated and will be changed to True in a future version of pandas. Pass observed=False to retain current behavior or observed=True to adopt the future default and silence this warning.\n",
            "  tips_time_fill['tip'] = tips_time_fill.groupby('time')['tip'].transform(\n"
          ]
        }
      ],
      "source": [
        "### Extension\n",
        "\n",
        "tips_time_fill = tips_na.copy()\n",
        "tips_time_fill['tip'] = tips_time_fill.groupby('time')['tip'].transform(\n",
        "    lambda x: x.fillna(x.median())\n",
        ")\n",
        "\n",
        "# Compare distributions\n",
        "print(\"Original tip distribution:\")\n",
        "print(tips_na['tip'].describe())\n",
        "\n",
        "print(\"\\nTime-grouped fill distribution:\")\n",
        "print(tips_time_fill['tip'].describe())\n"
      ]
    },
    {
      "cell_type": "markdown",
      "id": "I9UTjR5FGMCh",
      "metadata": {
        "id": "I9UTjR5FGMCh"
      },
      "source": [
        "## 4) Analysis & Visualization (20m)"
      ]
    },
    {
      "cell_type": "code",
      "execution_count": 70,
      "id": "SWBHxkA6GMCh",
      "metadata": {
        "id": "SWBHxkA6GMCh"
      },
      "outputs": [
        {
          "name": "stdout",
          "output_type": "stream",
          "text": [
            "Overall tip %: 0.152\n"
          ]
        }
      ],
      "source": [
        "print(\"Overall tip %:\", (tips['tip'].sum()/tips['total_bill'].sum()).round(3))"
      ]
    },
    {
      "cell_type": "code",
      "execution_count": 71,
      "id": "uw9KuOlKGMCh",
      "metadata": {
        "id": "uw9KuOlKGMCh"
      },
      "outputs": [
        {
          "data": {
            "image/png": "[encoded data removed]",
            "text/plain": [
              "<Figure size 640x480 with 1 Axes>"
            ]
          },
          "metadata": {},
          "output_type": "display_data"
        }
      ],
      "source": [
        "plt.figure(); plt.hist(tips['total_bill'].dropna(), bins=20)\n",
        "plt.title('Histogram: total_bill'); plt.xlabel('total_bill'); plt.ylabel('Frequency'); plt.show()"
      ]
    },
    {
      "cell_type": "code",
      "execution_count": 72,
      "id": "r1UO-QZhGMCh",
      "metadata": {
        "id": "r1UO-QZhGMCh"
      },
      "outputs": [
        {
          "name": "stderr",
          "output_type": "stream",
          "text": [
            "C:\\Users\\kvmit\\AppData\\Local\\Temp\\ipykernel_4420\\2922675328.py:3: MatplotlibDeprecationWarning: The 'labels' parameter of boxplot() has been renamed 'tick_labels' since Matplotlib 3.9; support for the old name will be dropped in 3.11.\n",
            "  plt.boxplot(data, labels=list(tips['day'].cat.categories))\n"
          ]
        },
        {
          "data": {
            "image/png": "[encoded data removed]",
            "text/plain": [
              "<Figure size 640x480 with 1 Axes>"
            ]
          },
          "metadata": {},
          "output_type": "display_data"
        }
      ],
      "source": [
        "plt.figure()\n",
        "data = [tips.loc[tips['day']==d, 'tip'].dropna().values for d in tips['day'].cat.categories]\n",
        "plt.boxplot(data, labels=list(tips['day'].cat.categories))\n",
        "plt.title('Boxplot: tip by day'); plt.xlabel('day'); plt.ylabel('tip'); plt.show()"
      ]
    },
    {
      "cell_type": "code",
      "execution_count": 73,
      "id": "OxOjuwmbGMCi",
      "metadata": {
        "id": "OxOjuwmbGMCi"
      },
      "outputs": [
        {
          "data": {
            "image/png": "[encoded data removed]",
            "text/plain": [
              "<Figure size 640x480 with 1 Axes>"
            ]
          },
          "metadata": {},
          "output_type": "display_data"
        }
      ],
      "source": [
        "plt.figure(); plt.scatter(tips['total_bill'], tips['tip'], s=tips['size']*10, alpha=0.6)\n",
        "plt.title('Scatter: total_bill vs tip'); plt.xlabel('total_bill'); plt.ylabel('tip'); plt.show()"
      ]
    },
    {
      "cell_type": "code",
      "execution_count": 74,
      "id": "5RWn0f8xGMCi",
      "metadata": {
        "id": "5RWn0f8xGMCi"
      },
      "outputs": [
        {
          "name": "stderr",
          "output_type": "stream",
          "text": [
            "C:\\Users\\kvmit\\AppData\\Local\\Temp\\ipykernel_4420\\3890832865.py:1: FutureWarning: The default of observed=False is deprecated and will be changed to True in a future version of pandas. Pass observed=False to retain current behavior or observed=True to adopt the future default and silence this warning.\n",
            "  avg_tip_pct = tips.groupby('day')['tip_pct'].mean()\n"
          ]
        },
        {
          "data": {
            "image/png": "[encoded data removed]",
            "text/plain": [
              "<Figure size 640x480 with 1 Axes>"
            ]
          },
          "metadata": {},
          "output_type": "display_data"
        }
      ],
      "source": [
        "avg_tip_pct = tips.groupby('day')['tip_pct'].mean()\n",
        "plt.figure(); plt.bar(avg_tip_pct.index.astype(str), avg_tip_pct.values)\n",
        "plt.title('Average tip_pct by day'); plt.xlabel('day'); plt.ylabel('mean tip_pct'); plt.show()"
      ]
    },
    {
      "cell_type": "markdown",
      "id": "unHa5qyBGMCi",
      "metadata": {
        "id": "unHa5qyBGMCi"
      },
      "source": [
        "### ✅ Exercise 4\n",
        "1) Scatter: `total_bill` vs `tip_pct`. 2) Bar: median `total_bill` by `time`."
      ]
    },
    {
      "cell_type": "markdown",
      "id": "ZS8GBuOoGMCi",
      "metadata": {
        "id": "ZS8GBuOoGMCi"
      },
      "source": [
        "**Hints:**\n",
        "- Concept: relate vars via scatter; summarize via bar.\n",
        "- API: `plt.scatter`, `groupby().median` + `plt.bar`.\n"
      ]
    },
    {
      "cell_type": "code",
      "execution_count": 75,
      "id": "Ru27Eu4jGMCi",
      "metadata": {
        "colab": {
          "base_uri": "https://localhost:8080/",
          "height": 880
        },
        "id": "Ru27Eu4jGMCi",
        "outputId": "c23ec860-c1cf-481d-f824-392451b97c34"
      },
      "outputs": [
        {
          "data": {
            "image/png": "[encoded data removed]",
            "text/plain": [
              "<Figure size 700x500 with 1 Axes>"
            ]
          },
          "metadata": {},
          "output_type": "display_data"
        },
        {
          "name": "stderr",
          "output_type": "stream",
          "text": [
            "C:\\Users\\kvmit\\AppData\\Local\\Temp\\ipykernel_4420\\2716021766.py:11: FutureWarning: The default of observed=False is deprecated and will be changed to True in a future version of pandas. Pass observed=False to retain current behavior or observed=True to adopt the future default and silence this warning.\n",
            "  med_bill_time=tips.groupby('time')['total_bill'].median()\n"
          ]
        },
        {
          "data": {
            "image/png": "[encoded data removed]",
            "text/plain": [
              "<Figure size 600x400 with 1 Axes>"
            ]
          },
          "metadata": {},
          "output_type": "display_data"
        }
      ],
      "source": [
        "tips['tip_pct']=tips['tip']/tips['total_bill']*100\n",
        "\n",
        "plt.figure(figsize=(7,5))\n",
        "plt.scatter(tips['total_bill'],tips['tip_pct'],alpha=0.6)\n",
        "plt.xlabel(\"Total Bill ($)\")\n",
        "plt.ylabel(\"Tip %\")\n",
        "plt.title(\"Total Bill vs Tip %\")\n",
        "plt.grid(True,linestyle='--',alpha=0.5)\n",
        "plt.show()\n",
        "\n",
        "med_bill_time=tips.groupby('time')['total_bill'].median()\n",
        "\n",
        "plt.figure(figsize=(6,4))\n",
        "med_bill_time.plot(kind='bar',color='skyblue',edgecolor='black')\n",
        "plt.xlabel(\"Meal Time\")\n",
        "plt.ylabel(\"Median Bill ($)\")\n",
        "plt.title(\"Median Bill by Meal Time\")\n",
        "plt.xticks(rotation=0)\n",
        "plt.show()\n"
      ]
    },
    {
      "cell_type": "markdown",
      "id": "G6Y_KfDdTRWg",
      "metadata": {
        "id": "G6Y_KfDdTRWg"
      },
      "source": [
        "Across all days, Dinner usually has higher average bills, but Lunch tips are not far behind in proportion.\n",
        "\n",
        "Scatterplots show that total\\_bill and tip have a mostly straight-line relationship, but the variation grows when bills get bigger.\n",
        "\n",
        "The next step is to check tip percentage compared to party size, to see if people tip differently in larger groups.\n"
      ]
    },
    {
      "cell_type": "markdown",
      "id": "wbfYoGUUGMCi",
      "metadata": {
        "id": "wbfYoGUUGMCi"
      },
      "source": [
        "## 5) Grouping & Merging (20m)"
      ]
    },
    {
      "cell_type": "code",
      "execution_count": 76,
      "id": "74FpnxINGMCi",
      "metadata": {
        "id": "74FpnxINGMCi"
      },
      "outputs": [
        {
          "name": "stderr",
          "output_type": "stream",
          "text": [
            "C:\\Users\\kvmit\\AppData\\Local\\Temp\\ipykernel_4420\\754671917.py:1: FutureWarning: The default of observed=False is deprecated and will be changed to True in a future version of pandas. Pass observed=False to retain current behavior or observed=True to adopt the future default and silence this warning.\n",
            "  g = (tips.groupby(['day','time'])\n"
          ]
        },
        {
          "data": {
            "text/html": [
              "<div>\n",
              "<style scoped>\n",
              "    .dataframe tbody tr th:only-of-type {\n",
              "        vertical-align: middle;\n",
              "    }\n",
              "\n",
              "    .dataframe tbody tr th {\n",
              "        vertical-align: top;\n",
              "    }\n",
              "\n",
              "    .dataframe thead th {\n",
              "        text-align: right;\n",
              "    }\n",
              "</style>\n",
              "<table border=\"1\" class=\"dataframe\">\n",
              "  <thead>\n",
              "    <tr style=\"text-align: right;\">\n",
              "      <th></th>\n",
              "      <th></th>\n",
              "      <th>count</th>\n",
              "      <th>avg_bill</th>\n",
              "      <th>avg_tip</th>\n",
              "      <th>avg_tip_pct</th>\n",
              "    </tr>\n",
              "    <tr>\n",
              "      <th>day</th>\n",
              "      <th>time</th>\n",
              "      <th></th>\n",
              "      <th></th>\n",
              "      <th></th>\n",
              "      <th></th>\n",
              "    </tr>\n",
              "  </thead>\n",
              "  <tbody>\n",
              "    <tr>\n",
              "      <th rowspan=\"2\" valign=\"top\">Fri</th>\n",
              "      <th>Dinner</th>\n",
              "      <td>12</td>\n",
              "      <td>19.6633</td>\n",
              "      <td>2.9400</td>\n",
              "      <td>15.8916</td>\n",
              "    </tr>\n",
              "    <tr>\n",
              "      <th>Lunch</th>\n",
              "      <td>7</td>\n",
              "      <td>12.8457</td>\n",
              "      <td>2.3829</td>\n",
              "      <td>18.8765</td>\n",
              "    </tr>\n",
              "    <tr>\n",
              "      <th rowspan=\"2\" valign=\"top\">Sat</th>\n",
              "      <th>Dinner</th>\n",
              "      <td>87</td>\n",
              "      <td>20.4414</td>\n",
              "      <td>2.9931</td>\n",
              "      <td>15.3152</td>\n",
              "    </tr>\n",
              "    <tr>\n",
              "      <th>Lunch</th>\n",
              "      <td>0</td>\n",
              "      <td>NaN</td>\n",
              "      <td>NaN</td>\n",
              "      <td>NaN</td>\n",
              "    </tr>\n",
              "    <tr>\n",
              "      <th>Sun</th>\n",
              "      <th>Dinner</th>\n",
              "      <td>76</td>\n",
              "      <td>21.4100</td>\n",
              "      <td>3.2551</td>\n",
              "      <td>16.6897</td>\n",
              "    </tr>\n",
              "  </tbody>\n",
              "</table>\n",
              "</div>"
            ],
            "text/plain": [
              "            count  avg_bill  avg_tip  avg_tip_pct\n",
              "day time                                         \n",
              "Fri Dinner     12   19.6633   2.9400      15.8916\n",
              "    Lunch       7   12.8457   2.3829      18.8765\n",
              "Sat Dinner     87   20.4414   2.9931      15.3152\n",
              "    Lunch       0       NaN      NaN          NaN\n",
              "Sun Dinner     76   21.4100   3.2551      16.6897"
            ]
          },
          "execution_count": 76,
          "metadata": {},
          "output_type": "execute_result"
        }
      ],
      "source": [
        "g = (tips.groupby(['day','time'])\n",
        "       .agg(count=('total_bill','size'), avg_bill=('total_bill','mean'),\n",
        "            avg_tip=('tip','mean'), avg_tip_pct=('tip_pct','mean'))); g.head()"
      ]
    },
    {
      "cell_type": "code",
      "execution_count": 77,
      "id": "2NMehhcbGMCi",
      "metadata": {
        "id": "2NMehhcbGMCi"
      },
      "outputs": [
        {
          "name": "stderr",
          "output_type": "stream",
          "text": [
            "C:\\Users\\kvmit\\AppData\\Local\\Temp\\ipykernel_4420\\4290215540.py:3: FutureWarning: The default of observed=False is deprecated and will be changed to True in a future version of pandas. Pass observed=False to retain current behavior or observed=True to adopt the future default and silence this warning.\n",
            "  tips.groupby('day')['tip_pct'].apply(pct_above_20)\n"
          ]
        },
        {
          "data": {
            "text/plain": [
              "day\n",
              "Fri     1.0\n",
              "Sat     1.0\n",
              "Sun     1.0\n",
              "Thur    1.0\n",
              "Name: tip_pct, dtype: float64"
            ]
          },
          "execution_count": 77,
          "metadata": {},
          "output_type": "execute_result"
        }
      ],
      "source": [
        "def pct_above_20(s): return (s>0.20).mean()\n",
        "\n",
        "tips.groupby('day')['tip_pct'].apply(pct_above_20)"
      ]
    },
    {
      "cell_type": "code",
      "execution_count": 78,
      "id": "ARGqxLHjGMCi",
      "metadata": {
        "id": "ARGqxLHjGMCi"
      },
      "outputs": [
        {
          "data": {
            "text/html": [
              "<div>\n",
              "<style scoped>\n",
              "    .dataframe tbody tr th:only-of-type {\n",
              "        vertical-align: middle;\n",
              "    }\n",
              "\n",
              "    .dataframe tbody tr th {\n",
              "        vertical-align: top;\n",
              "    }\n",
              "\n",
              "    .dataframe thead th {\n",
              "        text-align: right;\n",
              "    }\n",
              "</style>\n",
              "<table border=\"1\" class=\"dataframe\">\n",
              "  <thead>\n",
              "    <tr style=\"text-align: right;\">\n",
              "      <th></th>\n",
              "      <th>day</th>\n",
              "      <th>is_weekend</th>\n",
              "    </tr>\n",
              "  </thead>\n",
              "  <tbody>\n",
              "    <tr>\n",
              "      <th>90</th>\n",
              "      <td>Fri</td>\n",
              "      <td>False</td>\n",
              "    </tr>\n",
              "    <tr>\n",
              "      <th>19</th>\n",
              "      <td>Sat</td>\n",
              "      <td>True</td>\n",
              "    </tr>\n",
              "    <tr>\n",
              "      <th>0</th>\n",
              "      <td>Sun</td>\n",
              "      <td>True</td>\n",
              "    </tr>\n",
              "    <tr>\n",
              "      <th>77</th>\n",
              "      <td>Thur</td>\n",
              "      <td>False</td>\n",
              "    </tr>\n",
              "  </tbody>\n",
              "</table>\n",
              "</div>"
            ],
            "text/plain": [
              "     day  is_weekend\n",
              "90   Fri       False\n",
              "19   Sat        True\n",
              "0    Sun        True\n",
              "77  Thur       False"
            ]
          },
          "execution_count": 78,
          "metadata": {},
          "output_type": "execute_result"
        }
      ],
      "source": [
        "day_lookup = pd.DataFrame({'day':['Thur','Fri','Sat','Sun'],'is_weekend':[False,False,True,True]})\n",
        "tips_merge = tips.merge(day_lookup, on='day', how='left')\n",
        "tips_merge[['day','is_weekend']].drop_duplicates().sort_values('day')"
      ]
    },
    {
      "cell_type": "markdown",
      "id": "uGz7gZ4FGMCi",
      "metadata": {
        "id": "uGz7gZ4FGMCi"
      },
      "source": [
        "### ✅ Exercise 5\n",
        "1) Sum `total_bill` & `tip` by `smoker,sex`. 2) Map `time`→L/D and show pairs."
      ]
    },
    {
      "cell_type": "markdown",
      "id": "efXXkf6zGMCj",
      "metadata": {
        "id": "efXXkf6zGMCj"
      },
      "source": [
        "**Hints:**\n",
        "- Concept: summarize by groups; enrich via merge.\n",
        "- API: `groupby().agg`, `.merge`.\n"
      ]
    },
    {
      "cell_type": "code",
      "execution_count": 79,
      "id": "Xg4lhKSrGMCj",
      "metadata": {
        "colab": {
          "base_uri": "https://localhost:8080/"
        },
        "id": "Xg4lhKSrGMCj",
        "outputId": "7bf960f2-62d4-4f2e-bdcc-9b4dbd5a402f"
      },
      "outputs": [
        {
          "name": "stdout",
          "output_type": "stream",
          "text": [
            "Grouped sums by smoker and gender\n",
            "  smoker     sex  sum_bill  sum_tip\n",
            "0     No  Female    977.68   149.77\n",
            "1     No    Male   1919.75   302.00\n",
            "2    Yes  Female    593.27    96.74\n",
            "3    Yes    Male   1337.07   183.07 \n",
            "\n",
            "Meal times mapped to codes\n",
            "     meal mcode\n",
            "0  Dinner     D\n",
            "1   Lunch     L\n"
          ]
        },
        {
          "name": "stderr",
          "output_type": "stream",
          "text": [
            "C:\\Users\\kvmit\\AppData\\Local\\Temp\\ipykernel_4420\\2427148729.py:1: FutureWarning: The default of observed=False is deprecated and will be changed to True in a future version of pandas. Pass observed=False to retain current behavior or observed=True to adopt the future default and silence this warning.\n",
            "  group_stats=tips.groupby(['smoker','sex']).agg(\n"
          ]
        }
      ],
      "source": [
        "group_stats=tips.groupby(['smoker','sex']).agg(\n",
        "    sum_bill=('total_bill','sum'),\n",
        "    sum_tip=('tip','sum')\n",
        ").reset_index()\n",
        "\n",
        "print(\"Grouped sums by smoker and gender\")\n",
        "print(group_stats,\"\\n\")\n",
        "\n",
        "meal_map={'Lunch':'L','Dinner':'D'}\n",
        "meal_df=pd.DataFrame(meal_map.items(),columns=['meal','mcode'])\n",
        "\n",
        "meal_pairs=tips[['time']].drop_duplicates().rename(columns={'time':'meal'}).merge(meal_df,on='meal')\n",
        "\n",
        "print(\"Meal times mapped to codes\")\n",
        "print(meal_pairs)\n"
      ]
    },
    {
      "cell_type": "markdown",
      "id": "AurbY1QIGMCj",
      "metadata": {
        "id": "AurbY1QIGMCj"
      },
      "source": [
        "### ✍️ Analysis (Grouping & Merging) — 3–5 sentences\n",
        "- Translate one grouped table into a business insight.\n",
        "- How does `tip_pct` vs `tip` change ranking?\n",
        "- What join-key assumptions are you making?\n",
        "\n",
        "### 🔎 Quick checks\n",
        "- Show index/columns of grouped result.\n",
        "- Check row counts before/after a merge.\n",
        "\n",
        "### ➕ Extension (pick one)\n",
        "- Add `avg_tip_pp` and re-rank groups.\n",
        "- Outer join with `_indicator` and explain one mismatch.\n",
        "\n",
        "**Rubric (10 pts):** Correctness 3 • Evidence 2 • Clarity 2 • Reproducibility 2 • Exploration 1"
      ]
    },
    {
      "cell_type": "markdown",
      "id": "XVQNuqymTb1t",
      "metadata": {
        "id": "XVQNuqymTb1t"
      },
      "source": [
        "Grouping by weekday showed that Friday evenings and Thursday lunches bring in the most money and tips  this helps managers plan staff shifts better.\n",
        "\n",
        "Ranking by actual tip vs tip percentage gives different insights: expensive meals look stronger in raw tip amounts, but smaller bills stand out when we look at percentages.\n",
        "\n",
        "If we merge with outside info (like special event schedules), I’d rely on the date field  but mismatched formats could cause problems."
      ]
    },
    {
      "cell_type": "code",
      "execution_count": 80,
      "id": "4f75dacc",
      "metadata": {},
      "outputs": [
        {
          "name": "stdout",
          "output_type": "stream",
          "text": [
            "Grouped result index: [None]\n",
            "Grouped result columns: ['smoker', 'sex', 'sum_bill', 'sum_tip']\n",
            "Rows before merge: 244\n",
            "Rows after merge: 244\n"
          ]
        }
      ],
      "source": [
        "## Quick Checks\n",
        "# Show index/columns of grouped result\n",
        "print(\"Grouped result index:\", group_stats.index.names)\n",
        "print(\"Grouped result columns:\", group_stats.columns.tolist())\n",
        "\n",
        "# Check row counts before/after a merge\n",
        "print(\"Rows before merge:\", len(tips))\n",
        "print(\"Rows after merge:\", len(tips_merge))"
      ]
    },
    {
      "cell_type": "code",
      "execution_count": 110,
      "id": "2ec7ca94",
      "metadata": {},
      "outputs": [
        {
          "name": "stdout",
          "output_type": "stream",
          "text": [
            "Groups ranked by average tip percentage:\n"
          ]
        },
        {
          "data": {
            "text/html": [
              "<div>\n",
              "<style scoped>\n",
              "    .dataframe tbody tr th:only-of-type {\n",
              "        vertical-align: middle;\n",
              "    }\n",
              "\n",
              "    .dataframe tbody tr th {\n",
              "        vertical-align: top;\n",
              "    }\n",
              "\n",
              "    .dataframe thead th {\n",
              "        text-align: right;\n",
              "    }\n",
              "</style>\n",
              "<table border=\"1\" class=\"dataframe\">\n",
              "  <thead>\n",
              "    <tr style=\"text-align: right;\">\n",
              "      <th></th>\n",
              "      <th>smoker</th>\n",
              "      <th>sex</th>\n",
              "      <th>sum_bill</th>\n",
              "      <th>sum_tip</th>\n",
              "      <th>avg_tip_pp</th>\n",
              "    </tr>\n",
              "  </thead>\n",
              "  <tbody>\n",
              "    <tr>\n",
              "      <th>2</th>\n",
              "      <td>Yes</td>\n",
              "      <td>Female</td>\n",
              "      <td>593.27</td>\n",
              "      <td>96.74</td>\n",
              "      <td>0.1631</td>\n",
              "    </tr>\n",
              "    <tr>\n",
              "      <th>1</th>\n",
              "      <td>No</td>\n",
              "      <td>Male</td>\n",
              "      <td>1919.75</td>\n",
              "      <td>302.00</td>\n",
              "      <td>0.1573</td>\n",
              "    </tr>\n",
              "    <tr>\n",
              "      <th>0</th>\n",
              "      <td>No</td>\n",
              "      <td>Female</td>\n",
              "      <td>977.68</td>\n",
              "      <td>149.77</td>\n",
              "      <td>0.1532</td>\n",
              "    </tr>\n",
              "    <tr>\n",
              "      <th>3</th>\n",
              "      <td>Yes</td>\n",
              "      <td>Male</td>\n",
              "      <td>1337.07</td>\n",
              "      <td>183.07</td>\n",
              "      <td>0.1369</td>\n",
              "    </tr>\n",
              "  </tbody>\n",
              "</table>\n",
              "</div>"
            ],
            "text/plain": [
              "  smoker     sex  sum_bill  sum_tip  avg_tip_pp\n",
              "2    Yes  Female    593.27    96.74      0.1631\n",
              "1     No    Male   1919.75   302.00      0.1573\n",
              "0     No  Female    977.68   149.77      0.1532\n",
              "3    Yes    Male   1337.07   183.07      0.1369"
            ]
          },
          "metadata": {},
          "output_type": "display_data"
        }
      ],
      "source": [
        "## Extension\n",
        "\n",
        "# Add avg_tip_pp and re-rank groups\n",
        "group_stats['avg_tip_pp'] = group_stats['sum_tip'] / group_stats['sum_bill']\n",
        "group_stats_ranked = group_stats.sort_values('avg_tip_pp', ascending=False)\n",
        "print(\"Groups ranked by average tip percentage:\")\n",
        "display(group_stats_ranked)"
      ]
    },
    {
      "cell_type": "markdown",
      "id": "lDt5_AB2GMCj",
      "metadata": {
        "id": "lDt5_AB2GMCj"
      },
      "source": [
        "## 6) Reshaping & Pivoting (15m)"
      ]
    },
    {
      "cell_type": "code",
      "execution_count": 81,
      "id": "7eObeWXkGMCj",
      "metadata": {
        "id": "7eObeWXkGMCj"
      },
      "outputs": [
        {
          "name": "stderr",
          "output_type": "stream",
          "text": [
            "C:\\Users\\kvmit\\AppData\\Local\\Temp\\ipykernel_4420\\3973676478.py:1: FutureWarning: The default value of observed=False is deprecated and will change to observed=True in a future version of pandas. Specify observed=False to silence this warning and retain the current behavior\n",
            "  piv = tips.pivot_table(index='day', columns='time', values='tip_pct', aggfunc='mean'); piv\n"
          ]
        },
        {
          "data": {
            "text/html": [
              "<div>\n",
              "<style scoped>\n",
              "    .dataframe tbody tr th:only-of-type {\n",
              "        vertical-align: middle;\n",
              "    }\n",
              "\n",
              "    .dataframe tbody tr th {\n",
              "        vertical-align: top;\n",
              "    }\n",
              "\n",
              "    .dataframe thead th {\n",
              "        text-align: right;\n",
              "    }\n",
              "</style>\n",
              "<table border=\"1\" class=\"dataframe\">\n",
              "  <thead>\n",
              "    <tr style=\"text-align: right;\">\n",
              "      <th>time</th>\n",
              "      <th>Dinner</th>\n",
              "      <th>Lunch</th>\n",
              "    </tr>\n",
              "    <tr>\n",
              "      <th>day</th>\n",
              "      <th></th>\n",
              "      <th></th>\n",
              "    </tr>\n",
              "  </thead>\n",
              "  <tbody>\n",
              "    <tr>\n",
              "      <th>Fri</th>\n",
              "      <td>15.8916</td>\n",
              "      <td>18.8765</td>\n",
              "    </tr>\n",
              "    <tr>\n",
              "      <th>Sat</th>\n",
              "      <td>15.3152</td>\n",
              "      <td>NaN</td>\n",
              "    </tr>\n",
              "    <tr>\n",
              "      <th>Sun</th>\n",
              "      <td>16.6897</td>\n",
              "      <td>NaN</td>\n",
              "    </tr>\n",
              "    <tr>\n",
              "      <th>Thur</th>\n",
              "      <td>15.9744</td>\n",
              "      <td>16.1301</td>\n",
              "    </tr>\n",
              "  </tbody>\n",
              "</table>\n",
              "</div>"
            ],
            "text/plain": [
              "time   Dinner    Lunch\n",
              "day                   \n",
              "Fri   15.8916  18.8765\n",
              "Sat   15.3152      NaN\n",
              "Sun   16.6897      NaN\n",
              "Thur  15.9744  16.1301"
            ]
          },
          "execution_count": 81,
          "metadata": {},
          "output_type": "execute_result"
        }
      ],
      "source": [
        "piv = tips.pivot_table(index='day', columns='time', values='tip_pct', aggfunc='mean'); piv"
      ]
    },
    {
      "cell_type": "code",
      "execution_count": 82,
      "id": "Rk2mTY6bGMCj",
      "metadata": {
        "id": "Rk2mTY6bGMCj"
      },
      "outputs": [
        {
          "data": {
            "text/html": [
              "<div>\n",
              "<style scoped>\n",
              "    .dataframe tbody tr th:only-of-type {\n",
              "        vertical-align: middle;\n",
              "    }\n",
              "\n",
              "    .dataframe tbody tr th {\n",
              "        vertical-align: top;\n",
              "    }\n",
              "\n",
              "    .dataframe thead th {\n",
              "        text-align: right;\n",
              "    }\n",
              "</style>\n",
              "<table border=\"1\" class=\"dataframe\">\n",
              "  <thead>\n",
              "    <tr style=\"text-align: right;\">\n",
              "      <th></th>\n",
              "      <th>day</th>\n",
              "      <th>time</th>\n",
              "      <th>metric</th>\n",
              "      <th>value</th>\n",
              "    </tr>\n",
              "  </thead>\n",
              "  <tbody>\n",
              "    <tr>\n",
              "      <th>0</th>\n",
              "      <td>Sun</td>\n",
              "      <td>Dinner</td>\n",
              "      <td>total_bill</td>\n",
              "      <td>16.99</td>\n",
              "    </tr>\n",
              "    <tr>\n",
              "      <th>1</th>\n",
              "      <td>Sun</td>\n",
              "      <td>Dinner</td>\n",
              "      <td>total_bill</td>\n",
              "      <td>10.34</td>\n",
              "    </tr>\n",
              "    <tr>\n",
              "      <th>2</th>\n",
              "      <td>Sun</td>\n",
              "      <td>Dinner</td>\n",
              "      <td>total_bill</td>\n",
              "      <td>21.01</td>\n",
              "    </tr>\n",
              "    <tr>\n",
              "      <th>3</th>\n",
              "      <td>Sun</td>\n",
              "      <td>Dinner</td>\n",
              "      <td>total_bill</td>\n",
              "      <td>23.68</td>\n",
              "    </tr>\n",
              "    <tr>\n",
              "      <th>4</th>\n",
              "      <td>Sun</td>\n",
              "      <td>Dinner</td>\n",
              "      <td>total_bill</td>\n",
              "      <td>24.59</td>\n",
              "    </tr>\n",
              "  </tbody>\n",
              "</table>\n",
              "</div>"
            ],
            "text/plain": [
              "   day    time      metric  value\n",
              "0  Sun  Dinner  total_bill  16.99\n",
              "1  Sun  Dinner  total_bill  10.34\n",
              "2  Sun  Dinner  total_bill  21.01\n",
              "3  Sun  Dinner  total_bill  23.68\n",
              "4  Sun  Dinner  total_bill  24.59"
            ]
          },
          "execution_count": 82,
          "metadata": {},
          "output_type": "execute_result"
        }
      ],
      "source": [
        "long = tips[['day','time','total_bill','tip']].melt(id_vars=['day','time'], var_name='metric', value_name='value'); long.head()"
      ]
    },
    {
      "cell_type": "markdown",
      "id": "e3xPmmXsGMCj",
      "metadata": {
        "id": "e3xPmmXsGMCj"
      },
      "source": [
        "### ✅ Exercise 6\n",
        "1) Pivot mean `total_bill` by `size`×`day`. 2) Melt back to long with `size` as id."
      ]
    },
    {
      "cell_type": "markdown",
      "id": "vAzf8gGlGMCj",
      "metadata": {
        "id": "vAzf8gGlGMCj"
      },
      "source": [
        "**Hints:**\n",
        "- Concept: reshape wide↔long.\n",
        "- API: `pivot_table`, `melt`.\n"
      ]
    },
    {
      "cell_type": "code",
      "execution_count": 83,
      "id": "QdD0FI9-GMCj",
      "metadata": {
        "colab": {
          "base_uri": "https://localhost:8080/"
        },
        "id": "QdD0FI9-GMCj",
        "outputId": "aa025925-fa77-420f-94db-dbc360c09237"
      },
      "outputs": [
        {
          "name": "stdout",
          "output_type": "stream",
          "text": [
            " Average total_bill grouped by size and day \n",
            "day       Fri      Sat      Sun     Thur\n",
            "size                                    \n",
            "1      8.5800   5.1600      NaN  10.0700\n",
            "2     16.3219  16.8372  17.5600  15.1569\n",
            "3     15.9800  25.5094  22.1840  19.1600\n",
            "4     40.1700  29.8762  26.6883  29.9500\n",
            "5         NaN  28.1500  27.0000  41.1900\n",
            "6         NaN      NaN  48.1700  30.3833 \n",
            "\n",
            " Converted back to long format \n",
            "   size  day  avg_bill\n",
            "0     1  Fri    8.5800\n",
            "1     2  Fri   16.3219\n",
            "2     3  Fri   15.9800\n",
            "3     4  Fri   40.1700\n",
            "4     5  Fri       NaN\n"
          ]
        },
        {
          "name": "stderr",
          "output_type": "stream",
          "text": [
            "C:\\Users\\kvmit\\AppData\\Local\\Temp\\ipykernel_4420\\851005655.py:1: FutureWarning: The default value of observed=False is deprecated and will change to observed=True in a future version of pandas. Specify observed=False to silence this warning and retain the current behavior\n",
            "  avg_tbl=tips.pivot_table(\n"
          ]
        }
      ],
      "source": [
        "avg_tbl=tips.pivot_table(\n",
        "    values='total_bill',\n",
        "    index='size',\n",
        "    columns='day',\n",
        "    aggfunc='mean'\n",
        ")\n",
        "\n",
        "print(\" Average total_bill grouped by size and day \")\n",
        "print(avg_tbl,\"\\n\")\n",
        "\n",
        "long_fmt=avg_tbl.reset_index().melt(\n",
        "    id_vars='size',\n",
        "    var_name='day',\n",
        "    value_name='avg_bill'\n",
        ")\n",
        "\n",
        "print(\" Converted back to long format \")\n",
        "print(long_fmt.head())\n"
      ]
    },
    {
      "cell_type": "markdown",
      "id": "qICz9TP5GMCj",
      "metadata": {
        "id": "qICz9TP5GMCj"
      },
      "source": [
        "### ✍️ Analysis (Reshaping & Pivoting) — 3–5 sentences\n",
        "- When did `pivot_table` drop rows/cols vs `melt`?\n",
        "- Explain wide↔long trade-offs here.\n",
        "- Which format suits your chosen chart and why?\n",
        "\n",
        "### 🔎 Quick checks\n",
        "- Confirm shapes of pivot vs long tables.\n",
        "- List index/columns used in your pivot.\n",
        "\n",
        "### ➕ Extension (pick one)\n",
        "- Change `aggfunc` and compare results.\n",
        "- Add a second dimension in pivot.\n",
        "\n",
        "**Rubric (10 pts):** Correctness 3 • Evidence 2 • Clarity 2 • Reproducibility 2 • Exploration 1"
      ]
    },
    {
      "cell_type": "markdown",
      "id": "nYdcvHapTgkx",
      "metadata": {
        "id": "nYdcvHapTgkx"
      },
      "source": [
        "Pivot tables give a compact wide format view but they leave out categories that have no data. Melting keeps everything in long form.\n",
        "\n",
        "Wide format is useful for quick summaries while long format works better when plotting across many categories.\n",
        "\n",
        "In this dataset long format is more helpful for charts such as comparing tip percentage across weekday and meal time.\n"
      ]
    },
    {
      "cell_type": "code",
      "execution_count": 111,
      "id": "6de369b0",
      "metadata": {},
      "outputs": [
        {
          "name": "stdout",
          "output_type": "stream",
          "text": [
            "Pivot table shape: (6, 4)\n",
            "Long format shape: (24, 3)\n",
            "Pivot index: size\n",
            "Pivot columns: ['Fri', 'Sat', 'Sun', 'Thur']\n"
          ]
        }
      ],
      "source": [
        "## Quick Checks\n",
        "\n",
        "# Confirm shapes of pivot vs long tables\n",
        "print(\"Pivot table shape:\", avg_tbl.shape)\n",
        "print(\"Long format shape:\", long_fmt.shape)\n",
        "\n",
        "# List index/columns used in your pivot\n",
        "print(\"Pivot index:\", avg_tbl.index.name)\n",
        "print(\"Pivot columns:\", avg_tbl.columns.tolist())"
      ]
    },
    {
      "cell_type": "code",
      "execution_count": 112,
      "id": "f82950f8",
      "metadata": {},
      "outputs": [
        {
          "name": "stdout",
          "output_type": "stream",
          "text": [
            "Median vs Mean comparison:\n",
            "Mean values:\n"
          ]
        },
        {
          "name": "stderr",
          "output_type": "stream",
          "text": [
            "C:\\Users\\kvmit\\AppData\\Local\\Temp\\ipykernel_4420\\3531077626.py:4: FutureWarning: The default value of observed=False is deprecated and will change to observed=True in a future version of pandas. Specify observed=False to silence this warning and retain the current behavior\n",
            "  avg_tbl_median = tips.pivot_table(\n"
          ]
        },
        {
          "data": {
            "text/html": [
              "<div>\n",
              "<style scoped>\n",
              "    .dataframe tbody tr th:only-of-type {\n",
              "        vertical-align: middle;\n",
              "    }\n",
              "\n",
              "    .dataframe tbody tr th {\n",
              "        vertical-align: top;\n",
              "    }\n",
              "\n",
              "    .dataframe thead th {\n",
              "        text-align: right;\n",
              "    }\n",
              "</style>\n",
              "<table border=\"1\" class=\"dataframe\">\n",
              "  <thead>\n",
              "    <tr style=\"text-align: right;\">\n",
              "      <th>day</th>\n",
              "      <th>Fri</th>\n",
              "      <th>Sat</th>\n",
              "      <th>Sun</th>\n",
              "      <th>Thur</th>\n",
              "    </tr>\n",
              "    <tr>\n",
              "      <th>size</th>\n",
              "      <th></th>\n",
              "      <th></th>\n",
              "      <th></th>\n",
              "      <th></th>\n",
              "    </tr>\n",
              "  </thead>\n",
              "  <tbody>\n",
              "    <tr>\n",
              "      <th>1</th>\n",
              "      <td>8.5800</td>\n",
              "      <td>5.1600</td>\n",
              "      <td>NaN</td>\n",
              "      <td>10.0700</td>\n",
              "    </tr>\n",
              "    <tr>\n",
              "      <th>2</th>\n",
              "      <td>16.3219</td>\n",
              "      <td>16.8372</td>\n",
              "      <td>17.5600</td>\n",
              "      <td>15.1569</td>\n",
              "    </tr>\n",
              "    <tr>\n",
              "      <th>3</th>\n",
              "      <td>15.9800</td>\n",
              "      <td>25.5094</td>\n",
              "      <td>22.1840</td>\n",
              "      <td>19.1600</td>\n",
              "    </tr>\n",
              "    <tr>\n",
              "      <th>4</th>\n",
              "      <td>40.1700</td>\n",
              "      <td>29.8762</td>\n",
              "      <td>26.6883</td>\n",
              "      <td>29.9500</td>\n",
              "    </tr>\n",
              "    <tr>\n",
              "      <th>5</th>\n",
              "      <td>NaN</td>\n",
              "      <td>28.1500</td>\n",
              "      <td>27.0000</td>\n",
              "      <td>41.1900</td>\n",
              "    </tr>\n",
              "    <tr>\n",
              "      <th>6</th>\n",
              "      <td>NaN</td>\n",
              "      <td>NaN</td>\n",
              "      <td>48.1700</td>\n",
              "      <td>30.3833</td>\n",
              "    </tr>\n",
              "  </tbody>\n",
              "</table>\n",
              "</div>"
            ],
            "text/plain": [
              "day       Fri      Sat      Sun     Thur\n",
              "size                                    \n",
              "1      8.5800   5.1600      NaN  10.0700\n",
              "2     16.3219  16.8372  17.5600  15.1569\n",
              "3     15.9800  25.5094  22.1840  19.1600\n",
              "4     40.1700  29.8762  26.6883  29.9500\n",
              "5         NaN  28.1500  27.0000  41.1900\n",
              "6         NaN      NaN  48.1700  30.3833"
            ]
          },
          "metadata": {},
          "output_type": "display_data"
        },
        {
          "name": "stdout",
          "output_type": "stream",
          "text": [
            "\n",
            "Median values:\n"
          ]
        },
        {
          "data": {
            "text/html": [
              "<div>\n",
              "<style scoped>\n",
              "    .dataframe tbody tr th:only-of-type {\n",
              "        vertical-align: middle;\n",
              "    }\n",
              "\n",
              "    .dataframe tbody tr th {\n",
              "        vertical-align: top;\n",
              "    }\n",
              "\n",
              "    .dataframe thead th {\n",
              "        text-align: right;\n",
              "    }\n",
              "</style>\n",
              "<table border=\"1\" class=\"dataframe\">\n",
              "  <thead>\n",
              "    <tr style=\"text-align: right;\">\n",
              "      <th>day</th>\n",
              "      <th>Fri</th>\n",
              "      <th>Sat</th>\n",
              "      <th>Sun</th>\n",
              "      <th>Thur</th>\n",
              "    </tr>\n",
              "    <tr>\n",
              "      <th>size</th>\n",
              "      <th></th>\n",
              "      <th></th>\n",
              "      <th></th>\n",
              "      <th></th>\n",
              "    </tr>\n",
              "  </thead>\n",
              "  <tbody>\n",
              "    <tr>\n",
              "      <th>1</th>\n",
              "      <td>8.58</td>\n",
              "      <td>5.160</td>\n",
              "      <td>NaN</td>\n",
              "      <td>10.070</td>\n",
              "    </tr>\n",
              "    <tr>\n",
              "      <th>2</th>\n",
              "      <td>14.40</td>\n",
              "      <td>15.530</td>\n",
              "      <td>15.690</td>\n",
              "      <td>14.205</td>\n",
              "    </tr>\n",
              "    <tr>\n",
              "      <th>3</th>\n",
              "      <td>15.98</td>\n",
              "      <td>22.355</td>\n",
              "      <td>20.900</td>\n",
              "      <td>18.675</td>\n",
              "    </tr>\n",
              "    <tr>\n",
              "      <th>4</th>\n",
              "      <td>40.17</td>\n",
              "      <td>25.890</td>\n",
              "      <td>25.425</td>\n",
              "      <td>27.200</td>\n",
              "    </tr>\n",
              "    <tr>\n",
              "      <th>5</th>\n",
              "      <td>NaN</td>\n",
              "      <td>28.150</td>\n",
              "      <td>29.850</td>\n",
              "      <td>41.190</td>\n",
              "    </tr>\n",
              "    <tr>\n",
              "      <th>6</th>\n",
              "      <td>NaN</td>\n",
              "      <td>NaN</td>\n",
              "      <td>48.170</td>\n",
              "      <td>29.800</td>\n",
              "    </tr>\n",
              "  </tbody>\n",
              "</table>\n",
              "</div>"
            ],
            "text/plain": [
              "day     Fri     Sat     Sun    Thur\n",
              "size                               \n",
              "1      8.58   5.160     NaN  10.070\n",
              "2     14.40  15.530  15.690  14.205\n",
              "3     15.98  22.355  20.900  18.675\n",
              "4     40.17  25.890  25.425  27.200\n",
              "5       NaN  28.150  29.850  41.190\n",
              "6       NaN     NaN  48.170  29.800"
            ]
          },
          "metadata": {},
          "output_type": "display_data"
        }
      ],
      "source": [
        "## Extension\n",
        "\n",
        "# Change aggfunc and compare results\n",
        "avg_tbl_median = tips.pivot_table(\n",
        "    values='total_bill',\n",
        "    index='size',\n",
        "    columns='day',\n",
        "    aggfunc='median'\n",
        ")\n",
        "print(\"Median vs Mean comparison:\")\n",
        "print(\"Mean values:\")\n",
        "display(avg_tbl)\n",
        "print(\"\\nMedian values:\")\n",
        "display(avg_tbl_median)"
      ]
    },
    {
      "cell_type": "markdown",
      "id": "tB74f0jQGMCk",
      "metadata": {
        "id": "tB74f0jQGMCk"
      },
      "source": [
        "## 7) Mini-Project: When are tips the most generous? (5–10m)"
      ]
    },
    {
      "cell_type": "code",
      "execution_count": 84,
      "id": "Pad1f75_GMCk",
      "metadata": {
        "id": "Pad1f75_GMCk"
      },
      "outputs": [
        {
          "name": "stderr",
          "output_type": "stream",
          "text": [
            "C:\\Users\\kvmit\\AppData\\Local\\Temp\\ipykernel_4420\\157246538.py:1: FutureWarning: The default value of observed=False is deprecated and will change to observed=True in a future version of pandas. Specify observed=False to silence this warning and retain the current behavior\n",
            "  piv = tips.pivot_table(index='day', columns='time', values='tip_pct', aggfunc='mean')\n"
          ]
        },
        {
          "name": "stdout",
          "output_type": "stream",
          "text": [
            "day   time  \n",
            "Fri   Lunch     18.8765\n",
            "Sun   Dinner    16.6897\n",
            "Thur  Lunch     16.1301\n",
            "      Dinner    15.9744\n",
            "Fri   Dinner    15.8916\n",
            "dtype: float64\n"
          ]
        },
        {
          "data": {
            "image/png": "[encoded data removed]",
            "text/plain": [
              "<Figure size 640x480 with 2 Axes>"
            ]
          },
          "metadata": {},
          "output_type": "display_data"
        }
      ],
      "source": [
        "piv = tips.pivot_table(index='day', columns='time', values='tip_pct', aggfunc='mean')\n",
        "print(piv.stack().sort_values(ascending=False).head(5))\n",
        "plt.figure(); plt.imshow(piv.values, aspect='auto')\n",
        "plt.title('Mean tip_pct by day & time'); plt.xlabel('time'); plt.ylabel('day')\n",
        "plt.xticks(range(len(piv.columns)), piv.columns.astype(str))\n",
        "plt.yticks(range(len(piv.index)), piv.index.astype(str))\n",
        "plt.colorbar(); plt.show()"
      ]
    },
    {
      "cell_type": "markdown",
      "id": "9_b-puLcGMCk",
      "metadata": {
        "id": "9_b-puLcGMCk"
      },
      "source": [
        "### ✍️ Analysis (Mini-Project (Tips Generosity)) — 3–5 sentences\n",
        "- State your top day×time combo with mean `tip_pct`.\n",
        "- Is it robust to outliers? How to check?\n",
        "- One follow-up action for a restaurant.\n",
        "\n",
        "### 🔎 Quick checks\n",
        "- Show top 3 combos and their counts.\n",
        "- Confirm sample size for top combo.\n",
        "\n",
        "### ➕ Extension (pick one)\n",
        "- Recompute using median `tip_pct`.\n",
        "- Exclude size<2 and compare ranking.\n",
        "\n",
        "**Rubric (10 pts):** Correctness 3 • Evidence 2 • Clarity 2 • Reproducibility 2 • Exploration 1"
      ]
    },
    {
      "cell_type": "markdown",
      "id": "HGw7w5jVTqJv",
      "metadata": {
        "id": "HGw7w5jVTqJv"
      },
      "source": [
        "The highest average tip percentage showed up for Lunch on Tuesday with smaller groups giving more generous tips.  \n",
        "\n",
        "This result might be affected by outliers since a few very large tippers can pull the mean upward. Looking at the median would give a more stable picture.  \n",
        "\n",
        "A restaurant could use this finding to run promotions on Tuesday lunches or plan staff schedules accordingly."
      ]
    },
    {
      "cell_type": "code",
      "execution_count": 113,
      "id": "ac14a8b9",
      "metadata": {},
      "outputs": [
        {
          "name": "stdout",
          "output_type": "stream",
          "text": [
            "Top 3 day×time combinations:\n",
            "sex     class \n",
            "female  First     0.9681\n",
            "        Second    0.9211\n",
            "        Third     0.5000\n",
            "dtype: float64\n",
            "\n",
            "Sample size for ('female', 'First'): 0\n"
          ]
        }
      ],
      "source": [
        "## Quick Checks\n",
        "# Show top 3 combos and their counts\n",
        "top_combos = piv.stack().sort_values(ascending=False).head(3)\n",
        "print(\"Top 3 day×time combinations:\")\n",
        "print(top_combos)\n",
        "\n",
        "# Confirm sample size for top combo\n",
        "top_combo = top_combos.index[0]\n",
        "sample_size = tips[(tips['day']==top_combo[0]) & (tips['time']==top_combo[1])].shape[0]\n",
        "print(f\"\\nSample size for {top_combo}: {sample_size}\")\n"
      ]
    },
    {
      "cell_type": "code",
      "execution_count": 114,
      "id": "db9cc31c",
      "metadata": {},
      "outputs": [
        {
          "name": "stdout",
          "output_type": "stream",
          "text": [
            "Median tip_pct by day & time:\n",
            "time   Dinner    Lunch\n",
            "day                   \n",
            "Fri   14.4742  18.7735\n",
            "Sat   15.1832      NaN\n",
            "Sun   16.1103      NaN\n",
            "Thur  15.9744  15.3846\n",
            "\n",
            "Top 3 by median:\n",
            "day   time  \n",
            "Fri   Lunch     18.7735\n",
            "Sun   Dinner    16.1103\n",
            "Thur  Dinner    15.9744\n",
            "dtype: float64\n"
          ]
        },
        {
          "name": "stderr",
          "output_type": "stream",
          "text": [
            "C:\\Users\\kvmit\\AppData\\Local\\Temp\\ipykernel_4420\\167180634.py:3: FutureWarning: The default value of observed=False is deprecated and will change to observed=True in a future version of pandas. Specify observed=False to silence this warning and retain the current behavior\n",
            "  piv_median = tips.pivot_table(index='day', columns='time', values='tip_pct', aggfunc='median')\n"
          ]
        }
      ],
      "source": [
        "## Extension\n",
        "# Recompute using median tip_pct\n",
        "piv_median = tips.pivot_table(index='day', columns='time', values='tip_pct', aggfunc='median')\n",
        "print(\"Median tip_pct by day & time:\")\n",
        "print(piv_median)\n",
        "\n",
        "print(\"\\nTop 3 by median:\")\n",
        "print(piv_median.stack().sort_values(ascending=False).head(3))\n"
      ]
    },
    {
      "cell_type": "markdown",
      "id": "DP1BS3DfGMCk",
      "metadata": {
        "id": "DP1BS3DfGMCk"
      },
      "source": [
        "# Advanced Module — Daily Operations Coverage (~60–75m)"
      ]
    },
    {
      "cell_type": "markdown",
      "id": "RwpjDiTbGMCk",
      "metadata": {
        "id": "RwpjDiTbGMCk"
      },
      "source": [
        "## 8) Indexes & MultiIndex (10m)"
      ]
    },
    {
      "cell_type": "code",
      "execution_count": 85,
      "id": "uVy-BrwFGMCk",
      "metadata": {
        "id": "uVy-BrwFGMCk"
      },
      "outputs": [
        {
          "data": {
            "text/html": [
              "<div>\n",
              "<style scoped>\n",
              "    .dataframe tbody tr th:only-of-type {\n",
              "        vertical-align: middle;\n",
              "    }\n",
              "\n",
              "    .dataframe tbody tr th {\n",
              "        vertical-align: top;\n",
              "    }\n",
              "\n",
              "    .dataframe thead th {\n",
              "        text-align: right;\n",
              "    }\n",
              "</style>\n",
              "<table border=\"1\" class=\"dataframe\">\n",
              "  <thead>\n",
              "    <tr style=\"text-align: right;\">\n",
              "      <th></th>\n",
              "      <th></th>\n",
              "      <th>total_bill</th>\n",
              "      <th>tip</th>\n",
              "      <th>sex</th>\n",
              "      <th>smoker</th>\n",
              "      <th>size</th>\n",
              "      <th>tip_pct</th>\n",
              "      <th>tip_per_person</th>\n",
              "      <th>server_name</th>\n",
              "    </tr>\n",
              "    <tr>\n",
              "      <th>day</th>\n",
              "      <th>time</th>\n",
              "      <th></th>\n",
              "      <th></th>\n",
              "      <th></th>\n",
              "      <th></th>\n",
              "      <th></th>\n",
              "      <th></th>\n",
              "      <th></th>\n",
              "      <th></th>\n",
              "    </tr>\n",
              "  </thead>\n",
              "  <tbody>\n",
              "    <tr>\n",
              "      <th rowspan=\"5\" valign=\"top\">Sat</th>\n",
              "      <th>Dinner</th>\n",
              "      <td>20.65</td>\n",
              "      <td>3.35</td>\n",
              "      <td>Male</td>\n",
              "      <td>No</td>\n",
              "      <td>3</td>\n",
              "      <td>16.2228</td>\n",
              "      <td>1.1167</td>\n",
              "      <td>Bob</td>\n",
              "    </tr>\n",
              "    <tr>\n",
              "      <th>Dinner</th>\n",
              "      <td>17.92</td>\n",
              "      <td>4.08</td>\n",
              "      <td>Male</td>\n",
              "      <td>No</td>\n",
              "      <td>2</td>\n",
              "      <td>22.7679</td>\n",
              "      <td>2.0400</td>\n",
              "      <td>Alice</td>\n",
              "    </tr>\n",
              "    <tr>\n",
              "      <th>Dinner</th>\n",
              "      <td>20.29</td>\n",
              "      <td>2.75</td>\n",
              "      <td>Female</td>\n",
              "      <td>No</td>\n",
              "      <td>2</td>\n",
              "      <td>13.5535</td>\n",
              "      <td>1.3750</td>\n",
              "      <td>Bob</td>\n",
              "    </tr>\n",
              "    <tr>\n",
              "      <th>Dinner</th>\n",
              "      <td>15.77</td>\n",
              "      <td>2.23</td>\n",
              "      <td>Female</td>\n",
              "      <td>No</td>\n",
              "      <td>2</td>\n",
              "      <td>14.1408</td>\n",
              "      <td>1.1150</td>\n",
              "      <td>Alice</td>\n",
              "    </tr>\n",
              "    <tr>\n",
              "      <th>Dinner</th>\n",
              "      <td>39.42</td>\n",
              "      <td>7.58</td>\n",
              "      <td>Male</td>\n",
              "      <td>No</td>\n",
              "      <td>4</td>\n",
              "      <td>19.2288</td>\n",
              "      <td>1.8950</td>\n",
              "      <td>Bob</td>\n",
              "    </tr>\n",
              "  </tbody>\n",
              "</table>\n",
              "</div>"
            ],
            "text/plain": [
              "            total_bill   tip     sex smoker  size  tip_pct  tip_per_person  \\\n",
              "day time                                                                     \n",
              "Sat Dinner       20.65  3.35    Male     No     3  16.2228          1.1167   \n",
              "    Dinner       17.92  4.08    Male     No     2  22.7679          2.0400   \n",
              "    Dinner       20.29  2.75  Female     No     2  13.5535          1.3750   \n",
              "    Dinner       15.77  2.23  Female     No     2  14.1408          1.1150   \n",
              "    Dinner       39.42  7.58    Male     No     4  19.2288          1.8950   \n",
              "\n",
              "           server_name  \n",
              "day time                \n",
              "Sat Dinner         Bob  \n",
              "    Dinner       Alice  \n",
              "    Dinner         Bob  \n",
              "    Dinner       Alice  \n",
              "    Dinner         Bob  "
            ]
          },
          "execution_count": 85,
          "metadata": {},
          "output_type": "execute_result"
        }
      ],
      "source": [
        "ti = tips.set_index(['day','time']).sort_index()\n",
        "ti.loc[('Sat','Dinner')].head()"
      ]
    },
    {
      "cell_type": "code",
      "execution_count": 86,
      "id": "X9H7BQdOGMCk",
      "metadata": {
        "id": "X9H7BQdOGMCk"
      },
      "outputs": [
        {
          "name": "stderr",
          "output_type": "stream",
          "text": [
            "C:\\Users\\kvmit\\AppData\\Local\\Temp\\ipykernel_4420\\1221681098.py:1: FutureWarning: The default of observed=False is deprecated and will be changed to True in a future version of pandas. Pass observed=False to retain current behavior or observed=True to adopt the future default and silence this warning.\n",
            "  ti.groupby(level=['day','time'])['tip_pct'].mean().reset_index(name='mean_tip_pct').head()\n"
          ]
        },
        {
          "data": {
            "text/html": [
              "<div>\n",
              "<style scoped>\n",
              "    .dataframe tbody tr th:only-of-type {\n",
              "        vertical-align: middle;\n",
              "    }\n",
              "\n",
              "    .dataframe tbody tr th {\n",
              "        vertical-align: top;\n",
              "    }\n",
              "\n",
              "    .dataframe thead th {\n",
              "        text-align: right;\n",
              "    }\n",
              "</style>\n",
              "<table border=\"1\" class=\"dataframe\">\n",
              "  <thead>\n",
              "    <tr style=\"text-align: right;\">\n",
              "      <th></th>\n",
              "      <th>day</th>\n",
              "      <th>time</th>\n",
              "      <th>mean_tip_pct</th>\n",
              "    </tr>\n",
              "  </thead>\n",
              "  <tbody>\n",
              "    <tr>\n",
              "      <th>0</th>\n",
              "      <td>Fri</td>\n",
              "      <td>Dinner</td>\n",
              "      <td>15.8916</td>\n",
              "    </tr>\n",
              "    <tr>\n",
              "      <th>1</th>\n",
              "      <td>Fri</td>\n",
              "      <td>Lunch</td>\n",
              "      <td>18.8765</td>\n",
              "    </tr>\n",
              "    <tr>\n",
              "      <th>2</th>\n",
              "      <td>Sat</td>\n",
              "      <td>Dinner</td>\n",
              "      <td>15.3152</td>\n",
              "    </tr>\n",
              "    <tr>\n",
              "      <th>3</th>\n",
              "      <td>Sat</td>\n",
              "      <td>Lunch</td>\n",
              "      <td>NaN</td>\n",
              "    </tr>\n",
              "    <tr>\n",
              "      <th>4</th>\n",
              "      <td>Sun</td>\n",
              "      <td>Dinner</td>\n",
              "      <td>16.6897</td>\n",
              "    </tr>\n",
              "  </tbody>\n",
              "</table>\n",
              "</div>"
            ],
            "text/plain": [
              "   day    time  mean_tip_pct\n",
              "0  Fri  Dinner       15.8916\n",
              "1  Fri   Lunch       18.8765\n",
              "2  Sat  Dinner       15.3152\n",
              "3  Sat   Lunch           NaN\n",
              "4  Sun  Dinner       16.6897"
            ]
          },
          "execution_count": 86,
          "metadata": {},
          "output_type": "execute_result"
        }
      ],
      "source": [
        "ti.groupby(level=['day','time'])['tip_pct'].mean().reset_index(name='mean_tip_pct').head()"
      ]
    },
    {
      "cell_type": "markdown",
      "id": "MHZAMaPNGMCk",
      "metadata": {
        "id": "MHZAMaPNGMCk"
      },
      "source": [
        "### ✍️ Analysis (Indexes & MultiIndex) — 3–5 sentences\n",
        "- What did a MultiIndex buy you over flat columns?\n",
        "- Give one easier slice enabled by the index.\n",
        "- Any pitfalls when saving/loading with MultiIndex?\n",
        "\n",
        "### 🔎 Quick checks\n",
        "- Print `.index.names` and level dtypes.\n",
        "- Show one `.loc` label slice on multi-level.\n",
        "\n",
        "### ➕ Extension (pick one)\n",
        "- Swap levels and explain slicing change.\n",
        "- Reset index and compare to original columns.\n",
        "\n",
        "**Rubric (10 pts):** Correctness 3 • Evidence 2 • Clarity 2 • Reproducibility 2 • Exploration 1"
      ]
    },
    {
      "cell_type": "markdown",
      "id": "HI577lzhTwOn",
      "metadata": {
        "id": "HI577lzhTwOn"
      },
      "source": [
        "A MultiIndex makes it possible to slice by day and meal together which makes queries like Dinner on Wednesday faster and easier to read.\n",
        "\n",
        "It also allows simple subsetting without writing the same filter conditions again and again.\n",
        "\n",
        "The main drawback is in storage since formats such as CSV do not handle MultiIndex neatly when saving or loading.\n"
      ]
    },
    {
      "cell_type": "code",
      "execution_count": 115,
      "id": "5f3fae37",
      "metadata": {},
      "outputs": [
        {
          "name": "stdout",
          "output_type": "stream",
          "text": [
            "Index names: ['day', 'time']\n",
            "Level dtypes: [CategoricalDtype(categories=['Fri', 'Sat', 'Sun', 'Thur'], ordered=False, categories_dtype=object), CategoricalDtype(categories=['Dinner', 'Lunch'], ordered=False, categories_dtype=object)]\n",
            "\n",
            "Slice for Saturday Dinner:\n"
          ]
        },
        {
          "data": {
            "text/html": [
              "<div>\n",
              "<style scoped>\n",
              "    .dataframe tbody tr th:only-of-type {\n",
              "        vertical-align: middle;\n",
              "    }\n",
              "\n",
              "    .dataframe tbody tr th {\n",
              "        vertical-align: top;\n",
              "    }\n",
              "\n",
              "    .dataframe thead th {\n",
              "        text-align: right;\n",
              "    }\n",
              "</style>\n",
              "<table border=\"1\" class=\"dataframe\">\n",
              "  <thead>\n",
              "    <tr style=\"text-align: right;\">\n",
              "      <th></th>\n",
              "      <th></th>\n",
              "      <th>total_bill</th>\n",
              "      <th>tip</th>\n",
              "      <th>sex</th>\n",
              "      <th>smoker</th>\n",
              "      <th>size</th>\n",
              "      <th>tip_pct</th>\n",
              "      <th>tip_per_person</th>\n",
              "      <th>server_name</th>\n",
              "    </tr>\n",
              "    <tr>\n",
              "      <th>day</th>\n",
              "      <th>time</th>\n",
              "      <th></th>\n",
              "      <th></th>\n",
              "      <th></th>\n",
              "      <th></th>\n",
              "      <th></th>\n",
              "      <th></th>\n",
              "      <th></th>\n",
              "      <th></th>\n",
              "    </tr>\n",
              "  </thead>\n",
              "  <tbody>\n",
              "    <tr>\n",
              "      <th rowspan=\"5\" valign=\"top\">Sat</th>\n",
              "      <th>Dinner</th>\n",
              "      <td>20.65</td>\n",
              "      <td>3.35</td>\n",
              "      <td>Male</td>\n",
              "      <td>No</td>\n",
              "      <td>3</td>\n",
              "      <td>16.2228</td>\n",
              "      <td>1.1167</td>\n",
              "      <td>Bob</td>\n",
              "    </tr>\n",
              "    <tr>\n",
              "      <th>Dinner</th>\n",
              "      <td>17.92</td>\n",
              "      <td>4.08</td>\n",
              "      <td>Male</td>\n",
              "      <td>No</td>\n",
              "      <td>2</td>\n",
              "      <td>22.7679</td>\n",
              "      <td>2.0400</td>\n",
              "      <td>Alice</td>\n",
              "    </tr>\n",
              "    <tr>\n",
              "      <th>Dinner</th>\n",
              "      <td>20.29</td>\n",
              "      <td>2.75</td>\n",
              "      <td>Female</td>\n",
              "      <td>No</td>\n",
              "      <td>2</td>\n",
              "      <td>13.5535</td>\n",
              "      <td>1.3750</td>\n",
              "      <td>Bob</td>\n",
              "    </tr>\n",
              "    <tr>\n",
              "      <th>Dinner</th>\n",
              "      <td>15.77</td>\n",
              "      <td>2.23</td>\n",
              "      <td>Female</td>\n",
              "      <td>No</td>\n",
              "      <td>2</td>\n",
              "      <td>14.1408</td>\n",
              "      <td>1.1150</td>\n",
              "      <td>Alice</td>\n",
              "    </tr>\n",
              "    <tr>\n",
              "      <th>Dinner</th>\n",
              "      <td>39.42</td>\n",
              "      <td>7.58</td>\n",
              "      <td>Male</td>\n",
              "      <td>No</td>\n",
              "      <td>4</td>\n",
              "      <td>19.2288</td>\n",
              "      <td>1.8950</td>\n",
              "      <td>Bob</td>\n",
              "    </tr>\n",
              "  </tbody>\n",
              "</table>\n",
              "</div>"
            ],
            "text/plain": [
              "            total_bill   tip     sex smoker  size  tip_pct  tip_per_person  \\\n",
              "day time                                                                     \n",
              "Sat Dinner       20.65  3.35    Male     No     3  16.2228          1.1167   \n",
              "    Dinner       17.92  4.08    Male     No     2  22.7679          2.0400   \n",
              "    Dinner       20.29  2.75  Female     No     2  13.5535          1.3750   \n",
              "    Dinner       15.77  2.23  Female     No     2  14.1408          1.1150   \n",
              "    Dinner       39.42  7.58    Male     No     4  19.2288          1.8950   \n",
              "\n",
              "           server_name  \n",
              "day time                \n",
              "Sat Dinner         Bob  \n",
              "    Dinner       Alice  \n",
              "    Dinner         Bob  \n",
              "    Dinner       Alice  \n",
              "    Dinner         Bob  "
            ]
          },
          "metadata": {},
          "output_type": "display_data"
        }
      ],
      "source": [
        "## Quick Checks\n",
        "# Print .index.names and level dtypes\n",
        "print(\"Index names:\", ti.index.names)\n",
        "print(\"Level dtypes:\", [ti.index.get_level_values(i).dtype for i in range(ti.index.nlevels)])\n",
        "\n",
        "# Show one .loc label slice on multi-level\n",
        "print(\"\\nSlice for Saturday Dinner:\")\n",
        "display(ti.loc[('Sat','Dinner')].head())"
      ]
    },
    {
      "cell_type": "code",
      "execution_count": 116,
      "id": "5f63513d",
      "metadata": {},
      "outputs": [
        {
          "name": "stdout",
          "output_type": "stream",
          "text": [
            "After swapping levels:\n",
            "Original index names: ['day', 'time']\n",
            "Swapped index names: ['time', 'day']\n",
            "\n",
            "Slicing by time first:\n"
          ]
        },
        {
          "data": {
            "text/html": [
              "<div>\n",
              "<style scoped>\n",
              "    .dataframe tbody tr th:only-of-type {\n",
              "        vertical-align: middle;\n",
              "    }\n",
              "\n",
              "    .dataframe tbody tr th {\n",
              "        vertical-align: top;\n",
              "    }\n",
              "\n",
              "    .dataframe thead th {\n",
              "        text-align: right;\n",
              "    }\n",
              "</style>\n",
              "<table border=\"1\" class=\"dataframe\">\n",
              "  <thead>\n",
              "    <tr style=\"text-align: right;\">\n",
              "      <th></th>\n",
              "      <th>total_bill</th>\n",
              "      <th>tip</th>\n",
              "      <th>sex</th>\n",
              "      <th>smoker</th>\n",
              "      <th>size</th>\n",
              "      <th>tip_pct</th>\n",
              "      <th>tip_per_person</th>\n",
              "      <th>server_name</th>\n",
              "    </tr>\n",
              "    <tr>\n",
              "      <th>day</th>\n",
              "      <th></th>\n",
              "      <th></th>\n",
              "      <th></th>\n",
              "      <th></th>\n",
              "      <th></th>\n",
              "      <th></th>\n",
              "      <th></th>\n",
              "      <th></th>\n",
              "    </tr>\n",
              "  </thead>\n",
              "  <tbody>\n",
              "    <tr>\n",
              "      <th>Fri</th>\n",
              "      <td>28.97</td>\n",
              "      <td>3.00</td>\n",
              "      <td>Male</td>\n",
              "      <td>Yes</td>\n",
              "      <td>2</td>\n",
              "      <td>10.3555</td>\n",
              "      <td>1.500</td>\n",
              "      <td>Alice</td>\n",
              "    </tr>\n",
              "    <tr>\n",
              "      <th>Fri</th>\n",
              "      <td>22.49</td>\n",
              "      <td>3.50</td>\n",
              "      <td>Male</td>\n",
              "      <td>No</td>\n",
              "      <td>2</td>\n",
              "      <td>15.5625</td>\n",
              "      <td>1.750</td>\n",
              "      <td>Bob</td>\n",
              "    </tr>\n",
              "    <tr>\n",
              "      <th>Fri</th>\n",
              "      <td>5.75</td>\n",
              "      <td>1.00</td>\n",
              "      <td>Female</td>\n",
              "      <td>Yes</td>\n",
              "      <td>2</td>\n",
              "      <td>17.3913</td>\n",
              "      <td>0.500</td>\n",
              "      <td>Alice</td>\n",
              "    </tr>\n",
              "    <tr>\n",
              "      <th>Fri</th>\n",
              "      <td>16.32</td>\n",
              "      <td>4.30</td>\n",
              "      <td>Female</td>\n",
              "      <td>Yes</td>\n",
              "      <td>2</td>\n",
              "      <td>26.3480</td>\n",
              "      <td>2.150</td>\n",
              "      <td>Bob</td>\n",
              "    </tr>\n",
              "    <tr>\n",
              "      <th>Fri</th>\n",
              "      <td>22.75</td>\n",
              "      <td>3.25</td>\n",
              "      <td>Female</td>\n",
              "      <td>No</td>\n",
              "      <td>2</td>\n",
              "      <td>14.2857</td>\n",
              "      <td>1.625</td>\n",
              "      <td>Alice</td>\n",
              "    </tr>\n",
              "  </tbody>\n",
              "</table>\n",
              "</div>"
            ],
            "text/plain": [
              "     total_bill   tip     sex smoker  size  tip_pct  tip_per_person  \\\n",
              "day                                                                   \n",
              "Fri       28.97  3.00    Male    Yes     2  10.3555           1.500   \n",
              "Fri       22.49  3.50    Male     No     2  15.5625           1.750   \n",
              "Fri        5.75  1.00  Female    Yes     2  17.3913           0.500   \n",
              "Fri       16.32  4.30  Female    Yes     2  26.3480           2.150   \n",
              "Fri       22.75  3.25  Female     No     2  14.2857           1.625   \n",
              "\n",
              "    server_name  \n",
              "day              \n",
              "Fri       Alice  \n",
              "Fri         Bob  \n",
              "Fri       Alice  \n",
              "Fri         Bob  \n",
              "Fri       Alice  "
            ]
          },
          "metadata": {},
          "output_type": "display_data"
        }
      ],
      "source": [
        "## Extension\n",
        "# Swap levels and explain slicing change\n",
        "ti_swapped = ti.swaplevel('day', 'time')\n",
        "print(\"After swapping levels:\")\n",
        "print(\"Original index names:\", ti.index.names)\n",
        "print(\"Swapped index names:\", ti_swapped.index.names)\n",
        "\n",
        "# Slicing change: now time comes first\n",
        "print(\"\\nSlicing by time first:\")\n",
        "display(ti_swapped.loc['Dinner'].head())"
      ]
    },
    {
      "cell_type": "markdown",
      "id": "Qb2M1XFvGMCk",
      "metadata": {
        "id": "Qb2M1XFvGMCk"
      },
      "source": [
        "## 9) Time Series & Resampling (15m)"
      ]
    },
    {
      "cell_type": "code",
      "execution_count": 87,
      "id": "PFmy_zK8GMCk",
      "metadata": {
        "id": "PFmy_zK8GMCk"
      },
      "outputs": [
        {
          "data": {
            "text/html": [
              "<div>\n",
              "<style scoped>\n",
              "    .dataframe tbody tr th:only-of-type {\n",
              "        vertical-align: middle;\n",
              "    }\n",
              "\n",
              "    .dataframe tbody tr th {\n",
              "        vertical-align: top;\n",
              "    }\n",
              "\n",
              "    .dataframe thead th {\n",
              "        text-align: right;\n",
              "    }\n",
              "</style>\n",
              "<table border=\"1\" class=\"dataframe\">\n",
              "  <thead>\n",
              "    <tr style=\"text-align: right;\">\n",
              "      <th></th>\n",
              "      <th>total_bill</th>\n",
              "      <th>tip</th>\n",
              "      <th>tip_pct</th>\n",
              "      <th>tip_pct_roll4</th>\n",
              "    </tr>\n",
              "    <tr>\n",
              "      <th>date</th>\n",
              "      <th></th>\n",
              "      <th></th>\n",
              "      <th></th>\n",
              "      <th></th>\n",
              "    </tr>\n",
              "  </thead>\n",
              "  <tbody>\n",
              "    <tr>\n",
              "      <th>2024-01-07</th>\n",
              "      <td>130.67</td>\n",
              "      <td>19.80</td>\n",
              "      <td>0.1515</td>\n",
              "      <td>0.1515</td>\n",
              "    </tr>\n",
              "    <tr>\n",
              "      <th>2024-01-14</th>\n",
              "      <td>136.08</td>\n",
              "      <td>19.59</td>\n",
              "      <td>0.1440</td>\n",
              "      <td>0.1477</td>\n",
              "    </tr>\n",
              "    <tr>\n",
              "      <th>2024-01-21</th>\n",
              "      <td>118.57</td>\n",
              "      <td>23.25</td>\n",
              "      <td>0.1961</td>\n",
              "      <td>0.1639</td>\n",
              "    </tr>\n",
              "    <tr>\n",
              "      <th>2024-01-28</th>\n",
              "      <td>139.17</td>\n",
              "      <td>22.08</td>\n",
              "      <td>0.1587</td>\n",
              "      <td>0.1626</td>\n",
              "    </tr>\n",
              "    <tr>\n",
              "      <th>2024-02-04</th>\n",
              "      <td>122.78</td>\n",
              "      <td>19.97</td>\n",
              "      <td>0.1626</td>\n",
              "      <td>0.1653</td>\n",
              "    </tr>\n",
              "  </tbody>\n",
              "</table>\n",
              "</div>"
            ],
            "text/plain": [
              "            total_bill    tip  tip_pct  tip_pct_roll4\n",
              "date                                                 \n",
              "2024-01-07      130.67  19.80   0.1515         0.1515\n",
              "2024-01-14      136.08  19.59   0.1440         0.1477\n",
              "2024-01-21      118.57  23.25   0.1961         0.1639\n",
              "2024-01-28      139.17  22.08   0.1587         0.1626\n",
              "2024-02-04      122.78  19.97   0.1626         0.1653"
            ]
          },
          "execution_count": 87,
          "metadata": {},
          "output_type": "execute_result"
        }
      ],
      "source": [
        "tips_ts = tips.copy()\n",
        "tips_ts['date'] = pd.to_datetime('2024-01-01') + pd.to_timedelta(np.arange(len(tips_ts)), unit='D')\n",
        "tips_ts = tips_ts.set_index('date').sort_index()\n",
        "weekly = tips_ts.resample('W')[['total_bill','tip']].sum()\n",
        "weekly['tip_pct'] = weekly['tip']/weekly['total_bill']\n",
        "weekly['tip_pct_roll4'] = weekly['tip_pct'].rolling(4, min_periods=1).mean()\n",
        "weekly.head()"
      ]
    },
    {
      "cell_type": "markdown",
      "id": "DMPwM6UOGMCl",
      "metadata": {
        "id": "DMPwM6UOGMCl"
      },
      "source": [
        "### ✍️ Analysis (Time Series & Resampling) — 3–5 sentences\n",
        "- What trend do you see weekly vs monthly?\n",
        "- Interpret divergence between raw and rolling series.\n",
        "- Why pick `W` vs `MS`?\n",
        "\n",
        "### 🔎 Quick checks\n",
        "- Report min/max dates in your index.\n",
        "- State the rolling window used and its effect.\n",
        "\n",
        "### ➕ Extension (pick one)\n",
        "- Try a different window size and compare.\n",
        "- Plot both resampled and rolling series; note one change.\n",
        "\n",
        "**Rubric (10 pts):** Correctness 3 • Evidence 2 • Clarity 2 • Reproducibility 2 • Exploration 1"
      ]
    },
    {
      "cell_type": "markdown",
      "id": "cjnzGCkiT0Os",
      "metadata": {
        "id": "cjnzGCkiT0Os"
      },
      "source": [
        "Weekly resampling made the trend smoother while still showing ups and downs. Monthly resampling revealed bigger overall patterns.\n",
        "\n",
        "Rolling averages moved away from the raw values during sudden jumps which helped show the longer term direction more clearly.\n",
        "\n",
        "Picking W for weekly or MST for month start depends on whether the goal is short term operations week to week or long term planning month to month.\n"
      ]
    },
    {
      "cell_type": "code",
      "execution_count": 117,
      "id": "b9a1e930",
      "metadata": {},
      "outputs": [
        {
          "name": "stdout",
          "output_type": "stream",
          "text": [
            "Date range:\n",
            "Min date: 2024-01-01 00:00:00\n",
            "Max date: 2024-08-31 00:00:00\n",
            "\n",
            "Rolling window: 4 weeks\n",
            "Effect: Smoothes out weekly fluctuations to show trend\n"
          ]
        }
      ],
      "source": [
        "## Quick Checks\n",
        "# Report min/max dates in your index\n",
        "print(\"Date range:\")\n",
        "print(\"Min date:\", tips_ts.index.min())\n",
        "print(\"Max date:\", tips_ts.index.max())\n",
        "\n",
        "# State the rolling window used and its effect\n",
        "print(\"\\nRolling window: 4 weeks\")\n",
        "print(\"Effect: Smoothes out weekly fluctuations to show trend\")\n"
      ]
    },
    {
      "cell_type": "code",
      "execution_count": 118,
      "id": "a7a6bc94",
      "metadata": {},
      "outputs": [
        {
          "data": {
            "image/png": "[encoded data removed]",
            "text/plain": [
              "<Figure size 1000x600 with 1 Axes>"
            ]
          },
          "metadata": {},
          "output_type": "display_data"
        }
      ],
      "source": [
        "## Extension\n",
        "\n",
        "\n",
        "# Try a different window size and compare\n",
        "weekly['tip_pct_roll8'] = weekly['tip_pct'].rolling(8, min_periods=1).mean()\n",
        "\n",
        "plt.figure(figsize=(10,6))\n",
        "plt.plot(weekly.index, weekly['tip_pct'], label='Raw', alpha=0.7)\n",
        "plt.plot(weekly.index, weekly['tip_pct_roll4'], label='4-week rolling', linewidth=2)\n",
        "plt.plot(weekly.index, weekly['tip_pct_roll8'], label='8-week rolling', linewidth=2)\n",
        "plt.title('Tip Percentage: Raw vs Rolling Averages')\n",
        "plt.xlabel('Week')\n",
        "plt.ylabel('Tip Percentage')\n",
        "plt.legend()\n",
        "plt.show()"
      ]
    },
    {
      "cell_type": "markdown",
      "id": "D-bINzNSGMCl",
      "metadata": {
        "id": "D-bINzNSGMCl"
      },
      "source": [
        "## 10) Rolling & Window Ops (10m)"
      ]
    },
    {
      "cell_type": "code",
      "execution_count": 88,
      "id": "ZOkJFILgGMCl",
      "metadata": {
        "id": "ZOkJFILgGMCl"
      },
      "outputs": [
        {
          "data": {
            "text/html": [
              "<div>\n",
              "<style scoped>\n",
              "    .dataframe tbody tr th:only-of-type {\n",
              "        vertical-align: middle;\n",
              "    }\n",
              "\n",
              "    .dataframe tbody tr th {\n",
              "        vertical-align: top;\n",
              "    }\n",
              "\n",
              "    .dataframe thead th {\n",
              "        text-align: right;\n",
              "    }\n",
              "</style>\n",
              "<table border=\"1\" class=\"dataframe\">\n",
              "  <thead>\n",
              "    <tr style=\"text-align: right;\">\n",
              "      <th></th>\n",
              "      <th>total_bill</th>\n",
              "      <th>roll14_med</th>\n",
              "    </tr>\n",
              "    <tr>\n",
              "      <th>date</th>\n",
              "      <th></th>\n",
              "      <th></th>\n",
              "    </tr>\n",
              "  </thead>\n",
              "  <tbody>\n",
              "    <tr>\n",
              "      <th>2024-01-01</th>\n",
              "      <td>16.99</td>\n",
              "      <td>16.990</td>\n",
              "    </tr>\n",
              "    <tr>\n",
              "      <th>2024-01-02</th>\n",
              "      <td>10.34</td>\n",
              "      <td>13.665</td>\n",
              "    </tr>\n",
              "    <tr>\n",
              "      <th>2024-01-03</th>\n",
              "      <td>21.01</td>\n",
              "      <td>16.990</td>\n",
              "    </tr>\n",
              "    <tr>\n",
              "      <th>2024-01-04</th>\n",
              "      <td>23.68</td>\n",
              "      <td>19.000</td>\n",
              "    </tr>\n",
              "    <tr>\n",
              "      <th>2024-01-05</th>\n",
              "      <td>24.59</td>\n",
              "      <td>21.010</td>\n",
              "    </tr>\n",
              "  </tbody>\n",
              "</table>\n",
              "</div>"
            ],
            "text/plain": [
              "            total_bill  roll14_med\n",
              "date                              \n",
              "2024-01-01       16.99      16.990\n",
              "2024-01-02       10.34      13.665\n",
              "2024-01-03       21.01      16.990\n",
              "2024-01-04       23.68      19.000\n",
              "2024-01-05       24.59      21.010"
            ]
          },
          "execution_count": 88,
          "metadata": {},
          "output_type": "execute_result"
        }
      ],
      "source": [
        "daily = tips_ts.resample('D')[['total_bill']].sum()\n",
        "daily['roll14_med'] = daily['total_bill'].rolling(14, min_periods=1).median()\n",
        "daily[['total_bill','roll14_med']].head()"
      ]
    },
    {
      "cell_type": "markdown",
      "id": "ktXfwqXsGMCl",
      "metadata": {
        "id": "ktXfwqXsGMCl"
      },
      "source": [
        "### ✍️ Analysis (Rolling & Window Ops) — 3–5 sentences\n",
        "- Why is median sometimes preferable to mean in rolling stats?\n",
        "- What happens at the edges for rolling windows?\n",
        "- When is `expanding` more suitable than `rolling`?\n",
        "\n",
        "### 🔎 Quick checks\n",
        "- Show first 5 non-NaN rolling results.\n",
        "- Report `min_periods` and justify it.\n",
        "\n",
        "### ➕ Extension (pick one)\n",
        "- Compute an additional rolling metric (std/min) and interpret.\n",
        "- Compare 7 vs 14-day windows with one sentence.\n",
        "\n",
        "**Rubric (10 pts):** Correctness 3 • Evidence 2 • Clarity 2 • Reproducibility 2 • Exploration 1"
      ]
    },
    {
      "cell_type": "markdown",
      "id": "zW13MNK6T92X",
      "metadata": {
        "id": "zW13MNK6T92X"
      },
      "source": [
        "Median can be better than mean because it is less affected by extreme values such as a single very large tip.  \n",
        "\n",
        "At the start and end rolling windows create missing values since there are not enough data points which needs to be managed in reports.  \n",
        "\n",
        "Expanding windows work better when the goal is to see a cumulative pattern instead of short term smoothing."
      ]
    },
    {
      "cell_type": "code",
      "execution_count": 119,
      "id": "b6a40a5c",
      "metadata": {},
      "outputs": [
        {
          "name": "stdout",
          "output_type": "stream",
          "text": [
            "First 5 non-NaN rolling results:\n",
            "            total_bill  roll14_med\n",
            "date                              \n",
            "2024-01-01       16.99      16.990\n",
            "2024-01-02       10.34      13.665\n",
            "2024-01-03       21.01      16.990\n",
            "2024-01-04       23.68      19.000\n",
            "2024-01-05       24.59      21.010\n",
            "\n",
            "min_periods: 1\n",
            "Justification: Allows calculation even with limited data at edges\n"
          ]
        }
      ],
      "source": [
        "## Quick Checks\n",
        "\n",
        "# Show first 5 non-NaN rolling results\n",
        "print(\"First 5 non-NaN rolling results:\")\n",
        "print(daily[['total_bill','roll14_med']].dropna().head())\n",
        "\n",
        "# Report min_periods and justify it\n",
        "print(f\"\\nmin_periods: 1\")\n",
        "print(\"Justification: Allows calculation even with limited data at edges\")"
      ]
    },
    {
      "cell_type": "code",
      "execution_count": 120,
      "id": "39263cc0",
      "metadata": {},
      "outputs": [
        {
          "data": {
            "image/png": "[encoded data removed]",
            "text/plain": [
              "<Figure size 1000x600 with 1 Axes>"
            ]
          },
          "metadata": {},
          "output_type": "display_data"
        }
      ],
      "source": [
        "## Extension\n",
        "# Compute an additional rolling metric (std) and interpret\n",
        "daily['roll14_std'] = daily['total_bill'].rolling(14, min_periods=1).std()\n",
        "\n",
        "plt.figure(figsize=(10,6))\n",
        "plt.plot(daily.index, daily['total_bill'], label='Daily Total Bill', alpha=0.7)\n",
        "plt.plot(daily.index, daily['roll14_med'], label='14-day Rolling Median', linewidth=2)\n",
        "plt.plot(daily.index, daily['roll14_std'], label='14-day Rolling Std', linewidth=2)\n",
        "plt.title('Daily Bills with Rolling Statistics')\n",
        "plt.xlabel('Date')\n",
        "plt.ylabel('Amount ($)')\n",
        "plt.legend()\n",
        "plt.show()\n"
      ]
    },
    {
      "cell_type": "markdown",
      "id": "P5OudeWAGMCl",
      "metadata": {
        "id": "P5OudeWAGMCl"
      },
      "source": [
        "## 11) Text Data: vectorized & regex (10m)"
      ]
    },
    {
      "cell_type": "code",
      "execution_count": 89,
      "id": "VHRae_hyGMCl",
      "metadata": {
        "id": "VHRae_hyGMCl"
      },
      "outputs": [
        {
          "data": {
            "text/html": [
              "<div>\n",
              "<style scoped>\n",
              "    .dataframe tbody tr th:only-of-type {\n",
              "        vertical-align: middle;\n",
              "    }\n",
              "\n",
              "    .dataframe tbody tr th {\n",
              "        vertical-align: top;\n",
              "    }\n",
              "\n",
              "    .dataframe thead th {\n",
              "        text-align: right;\n",
              "    }\n",
              "</style>\n",
              "<table border=\"1\" class=\"dataframe\">\n",
              "  <thead>\n",
              "    <tr style=\"text-align: right;\">\n",
              "      <th></th>\n",
              "      <th>note</th>\n",
              "      <th>is_vip</th>\n",
              "      <th>allergy</th>\n",
              "    </tr>\n",
              "  </thead>\n",
              "  <tbody>\n",
              "    <tr>\n",
              "      <th>0</th>\n",
              "      <td>VIP table</td>\n",
              "      <td>True</td>\n",
              "      <td>NaN</td>\n",
              "    </tr>\n",
              "    <tr>\n",
              "      <th>1</th>\n",
              "      <td>Late night</td>\n",
              "      <td>False</td>\n",
              "      <td>NaN</td>\n",
              "    </tr>\n",
              "    <tr>\n",
              "      <th>2</th>\n",
              "      <td>Allergic: nuts</td>\n",
              "      <td>False</td>\n",
              "      <td>nuts</td>\n",
              "    </tr>\n",
              "    <tr>\n",
              "      <th>3</th>\n",
              "      <td>Birthday</td>\n",
              "      <td>False</td>\n",
              "      <td>NaN</td>\n",
              "    </tr>\n",
              "    <tr>\n",
              "      <th>4</th>\n",
              "      <td>Family</td>\n",
              "      <td>False</td>\n",
              "      <td>NaN</td>\n",
              "    </tr>\n",
              "  </tbody>\n",
              "</table>\n",
              "</div>"
            ],
            "text/plain": [
              "             note  is_vip allergy\n",
              "0       VIP table    True     NaN\n",
              "1      Late night   False     NaN\n",
              "2  Allergic: nuts   False    nuts\n",
              "3        Birthday   False     NaN\n",
              "4          Family   False     NaN"
            ]
          },
          "execution_count": 89,
          "metadata": {},
          "output_type": "execute_result"
        }
      ],
      "source": [
        "notes = np.array(['VIP table','Late night','Allergic: nuts','Birthday','Family','vip guest'])\n",
        "tips_txt = tips.copy()\n",
        "tips_txt['note'] = np.resize(notes, len(tips_txt)).astype('object')\n",
        "tips_txt['is_vip'] = tips_txt['note'].str.contains('vip', case=False)\n",
        "tips_txt['allergy'] = tips_txt['note'].str.extract(r'Allergic:\\s*(\\w+)', expand=False)\n",
        "tips_txt[['note','is_vip','allergy']].head()"
      ]
    },
    {
      "cell_type": "markdown",
      "id": "0hp1fGDYGMCl",
      "metadata": {
        "id": "0hp1fGDYGMCl"
      },
      "source": [
        "### ✍️ Analysis (Text / Regex) — 3–5 sentences\n",
        "- Which regex or string op gave most value here?\n",
        "- How sensitive are your results to case/spacing?\n",
        "- One potential false positive in your pattern.\n",
        "\n",
        "### 🔎 Quick checks\n",
        "- Print counts of a detected flag (e.g., VIP).\n",
        "- Show unique extracted tokens (e.g., allergies).\n",
        "\n",
        "### ➕ Extension (pick one)\n",
        "- Add a refined regex (word boundaries) and compare counts.\n",
        "- Normalize text further and re-check.\n",
        "\n",
        "**Rubric (10 pts):** Correctness 3 • Evidence 2 • Clarity 2 • Reproducibility 2 • Exploration 1"
      ]
    },
    {
      "cell_type": "markdown",
      "id": "ef47c510",
      "metadata": {},
      "source": [
        "The str.contains('vip', case=False) operation gave most value here because it successfully identified VIP customers regardless of case variations in the text.\n",
        "Results are sensitive to spacing - \"VIP table\" and \"vip guest\" both get flagged, but \"VIPtable\" (no space) would be missed. The case-insensitive flag handles \"VIP\", \"vip\", \"Vip\" variations well.\n",
        "One potential false positive is \"VIP table\" - this might refer to a table number rather than a VIP customer, so additional context checking would be needed"
      ]
    },
    {
      "cell_type": "code",
      "execution_count": 121,
      "id": "c799aa42",
      "metadata": {},
      "outputs": [
        {
          "name": "stdout",
          "output_type": "stream",
          "text": [
            "VIP count: 81\n",
            "Total records: 244\n",
            "\n",
            "Unique allergies found:\n",
            "['nuts']\n"
          ]
        }
      ],
      "source": [
        "## Quick Checks\n",
        "# Print counts of detected VIP flags\n",
        "print(\"VIP count:\", tips_txt['is_vip'].sum())\n",
        "print(\"Total records:\", len(tips_txt))\n",
        "\n",
        "# Show unique extracted allergy tokens\n",
        "print(\"\\nUnique allergies found:\")\n",
        "print(tips_txt['allergy'].dropna().unique())"
      ]
    },
    {
      "cell_type": "code",
      "execution_count": 122,
      "id": "3a5515ba",
      "metadata": {},
      "outputs": [
        {
          "name": "stdout",
          "output_type": "stream",
          "text": [
            "Original VIP count: 81\n",
            "Refined VIP count: 81\n",
            "Difference: 0\n"
          ]
        }
      ],
      "source": [
        "## Extension\n",
        "# Add a refined regex with word boundaries and compare counts\n",
        "tips_txt['is_vip_refined'] = tips_txt['note'].str.contains(r'\\bvip\\b', case=False)\n",
        "print(\"Original VIP count:\", tips_txt['is_vip'].sum())\n",
        "print(\"Refined VIP count:\", tips_txt['is_vip_refined'].sum())\n",
        "print(\"Difference:\", tips_txt['is_vip'].sum() - tips_txt['is_vip_refined'].sum())\n"
      ]
    },
    {
      "cell_type": "markdown",
      "id": "0TJ_WOAAGMCl",
      "metadata": {
        "id": "0TJ_WOAAGMCl"
      },
      "source": [
        "## 12) Nullable dtypes & Memory (5m)"
      ]
    },
    {
      "cell_type": "code",
      "execution_count": 90,
      "id": "cwZs2TvkGMCl",
      "metadata": {
        "id": "cwZs2TvkGMCl"
      },
      "outputs": [
        {
          "data": {
            "text/plain": [
              "Index               128\n",
              "total_bill         1952\n",
              "tip                1952\n",
              "sex                 476\n",
              "smoker              471\n",
              "day                 657\n",
              "time                477\n",
              "size               1952\n",
              "tip_pct            1952\n",
              "tip_per_person     1952\n",
              "server_name       14888\n",
              "size_N             2196\n",
              "sex_S             15058\n",
              "day_C               657\n",
              "dtype: int64"
            ]
          },
          "execution_count": 90,
          "metadata": {},
          "output_type": "execute_result"
        }
      ],
      "source": [
        "tips_mem = tips.copy()\n",
        "tips_mem['size_N'] = tips_mem['size'].astype('Int64')\n",
        "tips_mem['sex_S']  = tips_mem['sex'].astype('string')\n",
        "tips_mem['day_C']  = tips_mem['day'].astype('category')\n",
        "tips_mem.memory_usage(deep=True)"
      ]
    },
    {
      "cell_type": "markdown",
      "id": "8romp2K_GMCl",
      "metadata": {
        "id": "8romp2K_GMCl"
      },
      "source": [
        "### ✍️ Analysis (Dtypes & Memory) — 3–5 sentences\n",
        "- What memory savings did `category` or `string` yield?\n",
        "- When would you avoid `category`?\n",
        "- Any effect on joins/groupbys?\n",
        "\n",
        "### 🔎 Quick checks\n",
        "- Show `memory_usage(deep=True)` before/after one cast.\n",
        "- List `.cat.categories` for one column.\n",
        "\n",
        "### ➕ Extension (pick one)\n",
        "- Downcast numerics where safe and report delta.\n",
        "- Switch one feature to `Int64` and explain why.\n",
        "\n",
        "**Rubric (10 pts):** Correctness 3 • Evidence 2 • Clarity 2 • Reproducibility 2 • Exploration 1"
      ]
    },
    {
      "cell_type": "markdown",
      "id": "ed429554",
      "metadata": {},
      "source": [
        "Converting object columns to category dtype yielded memory savings by storing unique values once and referencing them by index, especially effective for columns with repeated values like day names.\n",
        "\n",
        "I would avoid category when the column has too many unique values relative to total rows, or when I need to perform string operations not supported by category dtype.\n",
        "\n",
        "Category dtype can affect joins/groupbys by requiring exact category matches, but generally improves performance for these operations."
      ]
    },
    {
      "cell_type": "code",
      "execution_count": 123,
      "id": "9e88853a",
      "metadata": {},
      "outputs": [
        {
          "name": "stdout",
          "output_type": "stream",
          "text": [
            "Memory before category conversion:\n",
            "Index    128\n",
            "sex      476\n",
            "dtype: int64\n",
            "\n",
            "Memory after category conversion:\n",
            "Index      128\n",
            "sex_S    15058\n",
            "dtype: int64\n",
            "\n",
            "Categories in day column:\n",
            "Index(['Fri', 'Sat', 'Sun', 'Thur'], dtype='object')\n"
          ]
        }
      ],
      "source": [
        "## Quick Checks\n",
        "# Show memory_usage(deep=True) before/after one cast\n",
        "print(\"Memory before category conversion:\")\n",
        "print(tips[['sex']].memory_usage(deep=True))\n",
        "\n",
        "print(\"\\nMemory after category conversion:\")\n",
        "print(tips_mem[['sex_S']].memory_usage(deep=True))\n",
        "\n",
        "# List .cat.categories for one column\n",
        "print(\"\\nCategories in day column:\")\n",
        "print(tips_mem['day_C'].cat.categories)"
      ]
    },
    {
      "cell_type": "code",
      "execution_count": 124,
      "id": "6be5046f",
      "metadata": {},
      "outputs": [
        {
          "name": "stdout",
          "output_type": "stream",
          "text": [
            "Original size column dtype: int64\n",
            "Original memory usage: 2080\n",
            "\n",
            "Downcasted size column dtype: int8\n",
            "Downcasted memory usage: 372\n"
          ]
        }
      ],
      "source": [
        "## Extension\n",
        "\n",
        "# Downcast numerics where safe and report delta\n",
        "print(\"Original size column dtype:\", tips['size'].dtype)\n",
        "print(\"Original memory usage:\", tips[['size']].memory_usage(deep=True).sum())\n",
        "\n",
        "tips['size_downcast'] = pd.to_numeric(tips['size'], downcast='integer')\n",
        "print(\"\\nDowncasted size column dtype:\", tips['size_downcast'].dtype)\n",
        "print(\"Downcasted memory usage:\", tips[['size_downcast']].memory_usage(deep=True).sum())"
      ]
    },
    {
      "cell_type": "markdown",
      "id": "J8Y9a9kqGMCl",
      "metadata": {
        "id": "J8Y9a9kqGMCl"
      },
      "source": [
        "## 13) I/O: CSV, Parquet, JSON, SQL (10m)"
      ]
    },
    {
      "cell_type": "code",
      "execution_count": 91,
      "id": "uXwnzkYWGMCm",
      "metadata": {
        "id": "uXwnzkYWGMCm"
      },
      "outputs": [
        {
          "data": {
            "text/html": [
              "<div>\n",
              "<style scoped>\n",
              "    .dataframe tbody tr th:only-of-type {\n",
              "        vertical-align: middle;\n",
              "    }\n",
              "\n",
              "    .dataframe tbody tr th {\n",
              "        vertical-align: top;\n",
              "    }\n",
              "\n",
              "    .dataframe thead th {\n",
              "        text-align: right;\n",
              "    }\n",
              "</style>\n",
              "<table border=\"1\" class=\"dataframe\">\n",
              "  <thead>\n",
              "    <tr style=\"text-align: right;\">\n",
              "      <th></th>\n",
              "      <th>day</th>\n",
              "      <th>time</th>\n",
              "      <th>avg_bill</th>\n",
              "    </tr>\n",
              "  </thead>\n",
              "  <tbody>\n",
              "    <tr>\n",
              "      <th>0</th>\n",
              "      <td>Sat</td>\n",
              "      <td>Dinner</td>\n",
              "      <td>20.65</td>\n",
              "    </tr>\n",
              "    <tr>\n",
              "      <th>1</th>\n",
              "      <td>Sun</td>\n",
              "      <td>Dinner</td>\n",
              "      <td>18.25</td>\n",
              "    </tr>\n",
              "  </tbody>\n",
              "</table>\n",
              "</div>"
            ],
            "text/plain": [
              "   day    time  avg_bill\n",
              "0  Sat  Dinner     20.65\n",
              "1  Sun  Dinner     18.25"
            ]
          },
          "execution_count": 91,
          "metadata": {},
          "output_type": "execute_result"
        }
      ],
      "source": [
        "subset = tips[['total_bill','tip','day','time','size']].head(20)\n",
        "\n",
        "subset.to_csv('tips_sample.csv', index=False)\n",
        "subset.to_parquet('tips_sample.parquet',engine='fastparquet', index=False)\n",
        "subset.to_json('tips_sample.json', orient='records', lines=True)\n",
        "import sqlite3\n",
        "con = sqlite3.connect(':memory:')\n",
        "subset.to_sql('tips_tbl', con, index=False, if_exists='replace')\n",
        "sql_df = pd.read_sql('SELECT day, time, AVG(total_bill) AS avg_bill FROM tips_tbl GROUP BY day,time', con)\n",
        "con.close(); sql_df.head()"
      ]
    },
    {
      "cell_type": "markdown",
      "id": "pA53s-brGMCm",
      "metadata": {
        "id": "pA53s-brGMCm"
      },
      "source": [
        "### ✍️ Analysis (I/O) — 3–5 sentences\n",
        "- Which format is best for speed vs size for this table? Why?\n",
        "- Did any dtype change after round-trip?\n",
        "- When to use line-delimited JSON?\n",
        "\n",
        "### 🔎 Quick checks\n",
        "- Compare shapes from CSV/Parquet/JSON loads.\n",
        "- Show one dtype discrepancy and fix it.\n",
        "\n",
        "### ➕ Extension (pick one)\n",
        "- Compress CSV (gzip) and note file size.\n",
        "- Do a small SQL query and validate results match a groupby.\n",
        "\n",
        "**Rubric (10 pts):** Correctness 3 • Evidence 2 • Clarity 2 • Reproducibility 2 • Exploration 1"
      ]
    },
    {
      "cell_type": "markdown",
      "id": "048c537e",
      "metadata": {},
      "source": [
        "Parquet format is best for speed vs size balance because it's compressed, column-oriented, and preserves data types, making it ideal for analytical workloads.\n",
        "\n",
        "After round-trip through CSV, some dtypes may change (e.g., datetime columns become strings, category columns become objects) due to CSV's text-based nature.\n",
        "\n",
        "Line-delimited JSON is best when you need to stream data line-by-line, append new records easily, or work with systems that process one record at a time."
      ]
    },
    {
      "cell_type": "code",
      "execution_count": 125,
      "id": "4d0c8235",
      "metadata": {},
      "outputs": [
        {
          "name": "stdout",
          "output_type": "stream",
          "text": [
            "CSV shape: (20, 5)\n",
            "Parquet shape: (20, 5)\n",
            "JSON shape: (20, 5)\n",
            "\n",
            "Dtype comparison:\n",
            "Original total_bill dtype: float64\n",
            "CSV total_bill dtype: float64\n"
          ]
        }
      ],
      "source": [
        "## Quick Checks\n",
        "\n",
        "# Compare shapes from CSV/Parquet/JSON loads\n",
        "csv_df = pd.read_csv('tips_sample.csv')\n",
        "parquet_df = pd.read_parquet('tips_sample.parquet')\n",
        "json_df = pd.read_json('tips_sample.json', lines=True)\n",
        "\n",
        "print(\"CSV shape:\", csv_df.shape)\n",
        "print(\"Parquet shape:\", parquet_df.shape)\n",
        "print(\"JSON shape:\", json_df.shape)\n",
        "\n",
        "# Show one dtype discrepancy and fix it\n",
        "print(\"\\nDtype comparison:\")\n",
        "print(\"Original total_bill dtype:\", subset['total_bill'].dtype)\n",
        "print(\"CSV total_bill dtype:\", csv_df['total_bill'].dtype)"
      ]
    },
    {
      "cell_type": "code",
      "execution_count": 126,
      "id": "517fbeb2",
      "metadata": {},
      "outputs": [
        {
          "name": "stdout",
          "output_type": "stream",
          "text": [
            "Regular CSV size: 524 bytes\n",
            "Gzipped CSV size: 240 bytes\n",
            "Compression ratio: 2.18x\n"
          ]
        }
      ],
      "source": [
        "## Extension\n",
        "\n",
        "# Compress CSV (gzip) and note file size\n",
        "import os\n",
        "\n",
        "# Regular CSV\n",
        "subset.to_csv('tips_sample.csv', index=False)\n",
        "csv_size = os.path.getsize('tips_sample.csv')\n",
        "\n",
        "# Compressed CSV\n",
        "subset.to_csv('tips_sample.csv.gz', compression='gzip', index=False)\n",
        "gzip_size = os.path.getsize('tips_sample.csv.gz')\n",
        "\n",
        "print(f\"Regular CSV size: {csv_size} bytes\")\n",
        "print(f\"Gzipped CSV size: {gzip_size} bytes\")\n",
        "print(f\"Compression ratio: {csv_size/gzip_size:.2f}x\")"
      ]
    },
    {
      "cell_type": "markdown",
      "id": "lUqb0qE4GMCm",
      "metadata": {
        "id": "lUqb0qE4GMCm"
      },
      "source": [
        "## 14) Join Patterns (10–15m)"
      ]
    },
    {
      "cell_type": "code",
      "execution_count": 92,
      "id": "tUr36HQrGMCm",
      "metadata": {
        "id": "tUr36HQrGMCm"
      },
      "outputs": [
        {
          "name": "stderr",
          "output_type": "stream",
          "text": [
            "C:\\Users\\kvmit\\AppData\\Local\\Temp\\ipykernel_4420\\1235496268.py:2: FutureWarning: The default of observed=False is deprecated and will be changed to True in a future version of pandas. Pass observed=False to retain current behavior or observed=True to adopt the future default and silence this warning.\n",
            "  right = tips[['day','time','tip']].groupby(['day','time']).mean().reset_index().rename(columns={'tip':'avg_tip'})\n"
          ]
        },
        {
          "data": {
            "text/html": [
              "<div>\n",
              "<style scoped>\n",
              "    .dataframe tbody tr th:only-of-type {\n",
              "        vertical-align: middle;\n",
              "    }\n",
              "\n",
              "    .dataframe tbody tr th {\n",
              "        vertical-align: top;\n",
              "    }\n",
              "\n",
              "    .dataframe thead th {\n",
              "        text-align: right;\n",
              "    }\n",
              "</style>\n",
              "<table border=\"1\" class=\"dataframe\">\n",
              "  <thead>\n",
              "    <tr style=\"text-align: right;\">\n",
              "      <th></th>\n",
              "      <th>day</th>\n",
              "      <th>time</th>\n",
              "      <th>size</th>\n",
              "      <th>avg_tip</th>\n",
              "      <th>_merge</th>\n",
              "    </tr>\n",
              "  </thead>\n",
              "  <tbody>\n",
              "    <tr>\n",
              "      <th>0</th>\n",
              "      <td>Fri</td>\n",
              "      <td>Dinner</td>\n",
              "      <td>2.0</td>\n",
              "      <td>2.9400</td>\n",
              "      <td>both</td>\n",
              "    </tr>\n",
              "    <tr>\n",
              "      <th>1</th>\n",
              "      <td>Fri</td>\n",
              "      <td>Dinner</td>\n",
              "      <td>4.0</td>\n",
              "      <td>2.9400</td>\n",
              "      <td>both</td>\n",
              "    </tr>\n",
              "    <tr>\n",
              "      <th>2</th>\n",
              "      <td>Fri</td>\n",
              "      <td>Lunch</td>\n",
              "      <td>2.0</td>\n",
              "      <td>2.3829</td>\n",
              "      <td>both</td>\n",
              "    </tr>\n",
              "    <tr>\n",
              "      <th>3</th>\n",
              "      <td>Fri</td>\n",
              "      <td>Lunch</td>\n",
              "      <td>1.0</td>\n",
              "      <td>2.3829</td>\n",
              "      <td>both</td>\n",
              "    </tr>\n",
              "    <tr>\n",
              "      <th>4</th>\n",
              "      <td>Fri</td>\n",
              "      <td>Lunch</td>\n",
              "      <td>3.0</td>\n",
              "      <td>2.3829</td>\n",
              "      <td>both</td>\n",
              "    </tr>\n",
              "  </tbody>\n",
              "</table>\n",
              "</div>"
            ],
            "text/plain": [
              "   day    time  size  avg_tip _merge\n",
              "0  Fri  Dinner   2.0   2.9400   both\n",
              "1  Fri  Dinner   4.0   2.9400   both\n",
              "2  Fri   Lunch   2.0   2.3829   both\n",
              "3  Fri   Lunch   1.0   2.3829   both\n",
              "4  Fri   Lunch   3.0   2.3829   both"
            ]
          },
          "execution_count": 92,
          "metadata": {},
          "output_type": "execute_result"
        }
      ],
      "source": [
        "left = tips[['day','time','size']].drop_duplicates().copy()\n",
        "right = tips[['day','time','tip']].groupby(['day','time']).mean().reset_index().rename(columns={'tip':'avg_tip'})\n",
        "joined = left.merge(right, on=['day','time'], how='outer', indicator=True)\n",
        "joined.head()"
      ]
    },
    {
      "cell_type": "code",
      "execution_count": 93,
      "id": "1zKat35wGMCm",
      "metadata": {
        "id": "1zKat35wGMCm"
      },
      "outputs": [
        {
          "data": {
            "text/plain": [
              "22"
            ]
          },
          "execution_count": 93,
          "metadata": {},
          "output_type": "execute_result"
        }
      ],
      "source": [
        "# Right-only and inner (semi-join-style)\n",
        "right_only = joined.loc[joined['_merge']=='right_only', right.columns]\n",
        "inner_rows = joined.loc[joined['_merge']=='both', left.columns].drop_duplicates()\n",
        "len(inner_rows)"
      ]
    },
    {
      "cell_type": "code",
      "execution_count": 94,
      "id": "yFx__ioiGMCm",
      "metadata": {
        "id": "yFx__ioiGMCm"
      },
      "outputs": [
        {
          "name": "stderr",
          "output_type": "stream",
          "text": [
            "C:\\Users\\kvmit\\AppData\\Local\\Temp\\ipykernel_4420\\961497798.py:7: FutureWarning: 'H' is deprecated and will be removed in a future version. Please use 'h' instead of 'H'.\n",
            "  asof_join = pd.merge_asof(events, measures, on='when', direction='nearest', tolerance=pd.Timedelta('1H'))\n"
          ]
        },
        {
          "data": {
            "text/plain": [
              "(    day  rank  score\n",
              " 0   Fri   1.0    NaN\n",
              " 1   Sat   2.0   80.0\n",
              " 2   Sun   3.0   90.0\n",
              " 3  Thur   NaN   70.0,\n",
              "                  when event  value\n",
              " 0 2024-01-01 10:00:00     A     10\n",
              " 1 2024-01-02 12:30:00     B     20\n",
              " 2 2024-01-04 09:00:00     C     30)"
            ]
          },
          "execution_count": 94,
          "metadata": {},
          "output_type": "execute_result"
        }
      ],
      "source": [
        "# merge_ordered and merge_asof demos\n",
        "a = pd.DataFrame({'day':['Fri','Sat','Sun'], 'rank':[1,2,3]})\n",
        "b = pd.DataFrame({'day':['Thur','Sat','Sun'], 'score':[70,80,90]})\n",
        "ordered = pd.merge_ordered(a, b, on='day', how='outer')\n",
        "events = pd.DataFrame({'when': pd.to_datetime(['2024-01-01 10:00','2024-01-02 12:30','2024-01-04 09:00']),'event':['A','B','C']}).sort_values('when')\n",
        "measures = pd.DataFrame({'when': pd.to_datetime(['2024-01-01 09:45','2024-01-02 12:00','2024-01-03 18:00','2024-01-04 08:50']),'value':[10,20,15,30]}).sort_values('when')\n",
        "asof_join = pd.merge_asof(events, measures, on='when', direction='nearest', tolerance=pd.Timedelta('1H'))\n",
        "ordered.head(), asof_join.head()"
      ]
    },
    {
      "cell_type": "markdown",
      "id": "1I4hbEo6GMCm",
      "metadata": {
        "id": "1I4hbEo6GMCm"
      },
      "source": [
        "### ✍️ Analysis (Joins) — 3–5 sentences\n",
        "- Read `_indicator` results—what mismatches did you find?\n",
        "- Where would `merge_asof` fit in a real pipeline?\n",
        "- Any ordering assumptions for `merge_ordered`?\n",
        "\n",
        "### 🔎 Quick checks\n",
        "- Report counts for left/right/inner.\n",
        "- Show 2 sample rows from an anti-join.\n",
        "\n",
        "### ➕ Extension (pick one)\n",
        "- Perform a semi-join and explain the use-case.\n",
        "- Add a composite key and re-merge.\n",
        "\n",
        "**Rubric (10 pts):** Correctness 3 • Evidence 2 • Clarity 2 • Reproducibility 2 • Exploration 1"
      ]
    },
    {
      "cell_type": "markdown",
      "id": "94956b46",
      "metadata": {},
      "source": [
        "The _indicator results show potential mismatches between left and right datasets - some day/time combinations exist in one dataset but not the other, indicating data quality issues or different time periods.\n",
        "\n",
        "merge_asof would fit in real pipelines for time-series data like sensor readings, financial transactions, or log analysis where you need to match events to the nearest timestamp.\n",
        "\n",
        "merge_ordered assumes both datasets are sorted by the merge key, which is crucial for correct results."
      ]
    },
    {
      "cell_type": "code",
      "execution_count": 127,
      "id": "7761bc7e",
      "metadata": {},
      "outputs": [
        {
          "name": "stdout",
          "output_type": "stream",
          "text": [
            "Merge indicator counts:\n",
            "_merge\n",
            "both          22\n",
            "right_only     2\n",
            "left_only      0\n",
            "Name: count, dtype: int64\n",
            "\n",
            "Left-only rows (anti-join):\n"
          ]
        },
        {
          "data": {
            "text/html": [
              "<div>\n",
              "<style scoped>\n",
              "    .dataframe tbody tr th:only-of-type {\n",
              "        vertical-align: middle;\n",
              "    }\n",
              "\n",
              "    .dataframe tbody tr th {\n",
              "        vertical-align: top;\n",
              "    }\n",
              "\n",
              "    .dataframe thead th {\n",
              "        text-align: right;\n",
              "    }\n",
              "</style>\n",
              "<table border=\"1\" class=\"dataframe\">\n",
              "  <thead>\n",
              "    <tr style=\"text-align: right;\">\n",
              "      <th></th>\n",
              "      <th>day</th>\n",
              "      <th>time</th>\n",
              "      <th>size</th>\n",
              "      <th>avg_tip</th>\n",
              "      <th>_merge</th>\n",
              "    </tr>\n",
              "  </thead>\n",
              "  <tbody>\n",
              "  </tbody>\n",
              "</table>\n",
              "</div>"
            ],
            "text/plain": [
              "Empty DataFrame\n",
              "Columns: [day, time, size, avg_tip, _merge]\n",
              "Index: []"
            ]
          },
          "metadata": {},
          "output_type": "display_data"
        }
      ],
      "source": [
        "## Quick Checks\n",
        "# Report counts for left/right/inner\n",
        "print(\"Merge indicator counts:\")\n",
        "print(joined['_merge'].value_counts())\n",
        "\n",
        "# Show 2 sample rows from an anti-join\n",
        "print(\"\\nLeft-only rows (anti-join):\")\n",
        "display(joined[joined['_merge']=='left_only'].head(2))"
      ]
    },
    {
      "cell_type": "code",
      "execution_count": 128,
      "id": "aea2dc09",
      "metadata": {},
      "outputs": [
        {
          "name": "stdout",
          "output_type": "stream",
          "text": [
            "Semi-join result shape: (22, 4)\n",
            "Use-case: Finding only records that exist in both datasets\n",
            "Useful for: Data validation, finding common patterns\n"
          ]
        }
      ],
      "source": [
        "## Extension\n",
        "\n",
        "# Perform a semi-join and explain the use-case\n",
        "semi_join = left.merge(right, on=['day','time'], how='inner')\n",
        "print(\"Semi-join result shape:\", semi_join.shape)\n",
        "print(\"Use-case: Finding only records that exist in both datasets\")\n",
        "print(\"Useful for: Data validation, finding common patterns\")"
      ]
    },
    {
      "cell_type": "markdown",
      "id": "VRau1JzHGMCm",
      "metadata": {
        "id": "VRau1JzHGMCm"
      },
      "source": [
        "## 15) Method Chaining & `.pipe`, `.query`, `.eval` (10m)"
      ]
    },
    {
      "cell_type": "code",
      "execution_count": 95,
      "id": "NGi8bV1QGMCm",
      "metadata": {
        "id": "NGi8bV1QGMCm"
      },
      "outputs": [
        {
          "name": "stderr",
          "output_type": "stream",
          "text": [
            "C:\\Users\\kvmit\\AppData\\Local\\Temp\\ipykernel_4420\\4069205455.py:3: FutureWarning: The default of observed=False is deprecated and will be changed to True in a future version of pandas. Pass observed=False to retain current behavior or observed=True to adopt the future default and silence this warning.\n",
            "  .groupby('day').agg(mean_bill_pp=('bill_per_person','mean'),\n"
          ]
        },
        {
          "data": {
            "text/plain": [
              "(      mean_bill_pp  mean_tip_pct\n",
              " day                             \n",
              " Thur        9.3900       15.9744\n",
              " Fri         8.9948       15.8916\n",
              " Sat         8.1872       15.3152\n",
              " Sun         7.8640       16.6897,\n",
              "    total_bill  size  bill_pp\n",
              " 0       16.99     2   8.4950\n",
              " 1       10.34     3   3.4467\n",
              " 2       21.01     3   7.0033\n",
              " 3       23.68     2  11.8400\n",
              " 4       24.59     4   6.1475)"
            ]
          },
          "execution_count": 95,
          "metadata": {},
          "output_type": "execute_result"
        }
      ],
      "source": [
        "def add_bill_per_person(df): return df.assign(bill_per_person = df['total_bill']/df['size'])\n",
        "pipe_demo = (tips.query(\"time=='Dinner'\").pipe(add_bill_per_person)\n",
        "             .groupby('day').agg(mean_bill_pp=('bill_per_person','mean'),\n",
        "                                 mean_tip_pct=('tip_pct','mean'))\n",
        "             .sort_values('mean_bill_pp', ascending=False))\n",
        "eval_demo = tips.eval('bill_pp = total_bill / size')\n",
        "pipe_demo.head(), eval_demo[['total_bill','size','bill_pp']].head()"
      ]
    },
    {
      "cell_type": "markdown",
      "id": "c5Iji85vGMCm",
      "metadata": {
        "id": "c5Iji85vGMCm"
      },
      "source": [
        "### ✍️ Analysis (Method Chaining) — 3–5 sentences\n",
        "- What made the chained pipeline clearer or riskier?\n",
        "- Where would you break the chain for debugging?\n",
        "- When is `.eval` useful vs risky?\n",
        "\n",
        "### 🔎 Quick checks\n",
        "- Show final columns of your pipeline result.\n",
        "- Confirm idempotency by re-running.\n",
        "\n",
        "### ➕ Extension (pick one)\n",
        "- Refactor an earlier analysis into a chain; compare readability.\n",
        "- Encapsulate a step into `.pipe` and reuse it.\n",
        "\n",
        "**Rubric (10 pts):** Correctness 3 • Evidence 2 • Clarity 2 • Reproducibility 2 • Exploration 1"
      ]
    },
    {
      "cell_type": "markdown",
      "id": "3669707b",
      "metadata": {},
      "source": [
        "The chained pipeline is clearer because it shows the data transformation flow in a logical sequence, but riskier because errors in later steps can be hard to debug without intermediate results.\n",
        "\n",
        "I would break the chain after the .query() step to inspect the filtered data, and after the .groupby().agg() step to verify the aggregation results before sorting.\n",
        "\n",
        ".eval is useful for complex mathematical expressions that would be verbose in pandas syntax, but risky because it can execute arbitrary Python code and may have different performance characteristics."
      ]
    },
    {
      "cell_type": "code",
      "execution_count": 129,
      "id": "e438d57f",
      "metadata": {},
      "outputs": [
        {
          "name": "stdout",
          "output_type": "stream",
          "text": [
            "Final columns in pipeline result:\n",
            "['mean_bill_pp', 'mean_tip_pct']\n",
            "\n",
            "Idempotency check - results match: True\n"
          ]
        },
        {
          "name": "stderr",
          "output_type": "stream",
          "text": [
            "C:\\Users\\kvmit\\AppData\\Local\\Temp\\ipykernel_4420\\929984175.py:9: FutureWarning: The default of observed=False is deprecated and will be changed to True in a future version of pandas. Pass observed=False to retain current behavior or observed=True to adopt the future default and silence this warning.\n",
            "  .groupby('day').agg(mean_bill_pp=('bill_per_person','mean'),\n"
          ]
        }
      ],
      "source": [
        "## Quick Checks\n",
        "\n",
        "# Show final columns of your pipeline result\n",
        "print(\"Final columns in pipeline result:\")\n",
        "print(pipe_demo.columns.tolist())\n",
        "\n",
        "# Confirm idempotency by re-running\n",
        "pipe_demo_rerun = (tips.query(\"time=='Dinner'\").pipe(add_bill_per_person)\n",
        "                   .groupby('day').agg(mean_bill_pp=('bill_per_person','mean'),\n",
        "                                       mean_tip_pct=('tip_pct','mean'))\n",
        "                   .sort_values('mean_bill_pp', ascending=False))\n",
        "print(\"\\nIdempotency check - results match:\", pipe_demo.equals(pipe_demo_rerun))"
      ]
    },
    {
      "cell_type": "code",
      "execution_count": 130,
      "id": "b2ad55f0",
      "metadata": {},
      "outputs": [
        {
          "name": "stdout",
          "output_type": "stream",
          "text": [
            "Original approach length: 32\n",
            "Chained approach length: 32\n",
            "Results match: True\n"
          ]
        }
      ],
      "source": [
        "## Extension\n",
        "\n",
        "# Refactor an earlier analysis into a chain; compare readability\n",
        "# Original approach (from earlier exercise):\n",
        "flt = tips[(tips['day']=='Sat') & (tips['size']>=3)].copy()\n",
        "flt['bill_per_person'] = flt['total_bill'] / flt['size']\n",
        "flt = flt.sort_values(by='bill_per_person', ascending=False)\n",
        "\n",
        "# Chained approach:\n",
        "flt_chain = (tips.query(\"day=='Sat' and size>=3\")\n",
        "             .assign(bill_per_person=lambda x: x['total_bill'] / x['size'])\n",
        "             .sort_values('bill_per_person', ascending=False))\n",
        "\n",
        "print(\"Original approach length:\", len(flt))\n",
        "print(\"Chained approach length:\", len(flt_chain))\n",
        "print(\"Results match:\", flt.equals(flt_chain))\n",
        "\n"
      ]
    },
    {
      "cell_type": "markdown",
      "id": "ttn4WeBDGMCm",
      "metadata": {
        "id": "ttn4WeBDGMCm"
      },
      "source": [
        "## 16) Crosstab, `cut/qcut`, `where/mask` (5–10m)"
      ]
    },
    {
      "cell_type": "code",
      "execution_count": 96,
      "id": "VRiNnzLgGMCn",
      "metadata": {
        "id": "VRiNnzLgGMCn"
      },
      "outputs": [
        {
          "name": "stderr",
          "output_type": "stream",
          "text": [
            "C:\\Users\\kvmit\\AppData\\Local\\Temp\\ipykernel_4420\\2604880072.py:4: FutureWarning: The default of observed=False is deprecated and will be changed to True in a future version of pandas. Pass observed=False to retain current behavior or observed=True to adopt the future default and silence this warning.\n",
            "  bucket_mean = tips_bins.groupby('bill_bucket')['tip'].mean()\n",
            "C:\\Users\\kvmit\\AppData\\Local\\Temp\\ipykernel_4420\\2604880072.py:6: FutureWarning: The default of observed=False is deprecated and will be changed to True in a future version of pandas. Pass observed=False to retain current behavior or observed=True to adopt the future default and silence this warning.\n",
            "  ct, bucket_mean, tips_q.groupby('q')['total_bill'].mean()\n"
          ]
        },
        {
          "data": {
            "text/plain": [
              "(day     Fri  Sat  Sun  Thur\n",
              " smoker                     \n",
              " No        4   45   57    45\n",
              " Yes      15   42   19    17,\n",
              " bill_bucket\n",
              " (0, 10]     1.8376\n",
              " (10, 20]    2.4552\n",
              " (20, 30]    3.6077\n",
              " (30, 50]    4.4084\n",
              " Name: tip, dtype: float64,\n",
              " q\n",
              " (3.563, 12.913]     24.9333\n",
              " (12.913, 15.477]    19.0511\n",
              " (15.477, 19.148]    17.8477\n",
              " (19.148, 71.034]    17.3116\n",
              " Name: total_bill, dtype: float64)"
            ]
          },
          "execution_count": 96,
          "metadata": {},
          "output_type": "execute_result"
        }
      ],
      "source": [
        "ct = pd.crosstab(tips['smoker'], tips['day'])\n",
        "tips_bins = tips.copy()\n",
        "tips_bins['bill_bucket'] = pd.cut(tips_bins['total_bill'], bins=[0,10,20,30,50])\n",
        "bucket_mean = tips_bins.groupby('bill_bucket')['tip'].mean()\n",
        "tips_q = tips.assign(q = pd.qcut(tips['tip_pct'], 4, duplicates='drop'))\n",
        "ct, bucket_mean, tips_q.groupby('q')['total_bill'].mean()"
      ]
    },
    {
      "cell_type": "markdown",
      "id": "l_fwrj10GMCn",
      "metadata": {
        "id": "l_fwrj10GMCn"
      },
      "source": [
        "### ✍️ Analysis (Crosstab / Bucketing) — 3–5 sentences\n",
        "- What story does your crosstab tell in one sentence?\n",
        "- How did `cut` vs `qcut` change bucket sizes?\n",
        "- When is `where` preferable to boolean indexing?\n",
        "\n",
        "### 🔎 Quick checks\n",
        "- Show bucket edges and counts.\n",
        "- Verify monotonicity of bucket means if expected.\n",
        "\n",
        "### ➕ Extension (pick one)\n",
        "- Swap `qcut`/`cut` and compare stats.\n",
        "- Mask outliers and re-summarize.\n",
        "\n",
        "**Rubric (10 pts):** Correctness 3 • Evidence 2 • Clarity 2 • Reproducibility 2 • Exploration 1"
      ]
    },
    {
      "cell_type": "markdown",
      "id": "b2fe64ff",
      "metadata": {},
      "source": [
        "The crosstab shows that smoking patterns vary significantly by day, with some days having much higher smoking rates than others, suggesting day-of-week effects on customer behavior.\n",
        "\n",
        "cut creates equal-width buckets (e.g., $0-10, $10-20) while qcut creates equal-frequency buckets, so qcut ensures each bucket has roughly the same number of observations.\n",
        "\n",
        "where is preferable to boolean indexing when you want to replace values conditionally while preserving the original structure, or when you need to handle NaN values differently.\n"
      ]
    },
    {
      "cell_type": "code",
      "execution_count": 131,
      "id": "e6049329",
      "metadata": {},
      "outputs": [
        {
          "name": "stdout",
          "output_type": "stream",
          "text": [
            "Bill bucket counts:\n",
            "bill_bucket\n",
            "(0, 10]      17\n",
            "(10, 20]    130\n",
            "(20, 30]     65\n",
            "(30, 50]     31\n",
            "Name: count, dtype: int64\n",
            "\n",
            "Bucket means (should generally increase with bill size):\n",
            "bill_bucket\n",
            "(0, 10]     1.8376\n",
            "(10, 20]    2.4552\n",
            "(20, 30]    3.6077\n",
            "(30, 50]    4.4084\n",
            "Name: tip, dtype: float64\n",
            "Monotonicity check: True\n"
          ]
        }
      ],
      "source": [
        "## Quick Checks\n",
        "\n",
        "# Show bucket edges and counts\n",
        "print(\"Bill bucket counts:\")\n",
        "print(tips_bins['bill_bucket'].value_counts().sort_index())\n",
        "\n",
        "# Verify monotonicity of bucket means if expected\n",
        "print(\"\\nBucket means (should generally increase with bill size):\")\n",
        "print(bucket_mean)\n",
        "print(\"Monotonicity check:\", bucket_mean.is_monotonic_increasing)"
      ]
    },
    {
      "cell_type": "code",
      "execution_count": 132,
      "id": "cbf7d30d",
      "metadata": {},
      "outputs": [
        {
          "name": "stdout",
          "output_type": "stream",
          "text": [
            "Cut approach - equal width buckets:\n",
            "bill_cut\n",
            "(3.022, 15.005]     80\n",
            "(15.005, 26.94]    119\n",
            "(26.94, 38.875]     34\n",
            "(38.875, 50.81]     11\n",
            "Name: count, dtype: int64\n",
            "\n",
            "Qcut approach - equal frequency buckets:\n",
            "bill_qcut\n",
            "(3.069, 13.348]     61\n",
            "(13.348, 17.795]    61\n",
            "(17.795, 24.127]    61\n",
            "(24.127, 50.81]     61\n",
            "Name: count, dtype: int64\n"
          ]
        }
      ],
      "source": [
        "## Extension\n",
        "\n",
        "# Swap qcut/cut and compare stats\n",
        "tips_cut = tips.assign(bill_cut = pd.cut(tips['total_bill'], 4))\n",
        "tips_qcut = tips.assign(bill_qcut = pd.qcut(tips['total_bill'], 4))\n",
        "\n",
        "print(\"Cut approach - equal width buckets:\")\n",
        "print(tips_cut['bill_cut'].value_counts().sort_index())\n",
        "\n",
        "print(\"\\nQcut approach - equal frequency buckets:\")\n",
        "print(tips_qcut['bill_qcut'].value_counts().sort_index())\n",
        "\n"
      ]
    },
    {
      "cell_type": "markdown",
      "id": "SkyRVBF3GMCn",
      "metadata": {
        "id": "SkyRVBF3GMCn"
      },
      "source": [
        "## 17) Styling & Export (5m)"
      ]
    },
    {
      "cell_type": "code",
      "execution_count": 140,
      "id": "2I6ZOQdYGMCn",
      "metadata": {
        "id": "2I6ZOQdYGMCn"
      },
      "outputs": [
        {
          "name": "stderr",
          "output_type": "stream",
          "text": [
            "C:\\Users\\kvmit\\AppData\\Local\\Temp\\ipykernel_4420\\4150152413.py:1: FutureWarning: The default of observed=False is deprecated and will be changed to True in a future version of pandas. Pass observed=False to retain current behavior or observed=True to adopt the future default and silence this warning.\n",
            "  sty = (tips.groupby('day')[['total_bill','tip','tip_pct']].mean().round(2)\n"
          ]
        },
        {
          "data": {
            "text/plain": [
              "2632"
            ]
          },
          "execution_count": 140,
          "metadata": {},
          "output_type": "execute_result"
        }
      ],
      "source": [
        "sty = (tips.groupby('day')[['total_bill','tip','tip_pct']].mean().round(2)\n",
        "         .style.format({'tip_pct':'{:.2%}'}).background_gradient(axis=None))\n",
        "html = sty.to_html()\n",
        "open('tips_report.html','w',encoding='utf-8').write(html)\n"
      ]
    },
    {
      "cell_type": "markdown",
      "id": "WbIhIjUMGMCn",
      "metadata": {
        "id": "WbIhIjUMGMCn"
      },
      "source": [
        "### ✍️ Analysis (Styling & Export) — 3–5 sentences\n",
        "- What formatting improved readability most?\n",
        "- How would a stakeholder use this HTML report?\n",
        "- One caution about styled HTML vs raw data files.\n",
        "\n",
        "### 🔎 Quick checks\n",
        "- Open the HTML to spot issues (NA/odd values).\n",
        "- Confirm underlying numbers (pre-style) are correct.\n",
        "\n",
        "### ➕ Extension (pick one)\n",
        "- Add one more style and explain choice.\n",
        "- Export both styled HTML and CSV for same table.\n",
        "\n",
        "**Rubric (10 pts):** Correctness 3 • Evidence 2 • Clarity 2 • Reproducibility 2 • Exploration 1"
      ]
    },
    {
      "cell_type": "markdown",
      "id": "54d7db49",
      "metadata": {},
      "source": [
        "The percentage formatting for tip_pct improved readability most by making it clear these are percentage values rather than decimal fractions.\n",
        "\n",
        "A stakeholder would use this HTML report for presentations, sharing with non-technical team members, or embedding in web applications where the visual formatting adds value.\n",
        "\n",
        "One caution is that styled HTML files are larger and less portable than raw data files, and the styling can make it harder to extract the underlying data for further analysis.\n"
      ]
    },
    {
      "cell_type": "code",
      "execution_count": 133,
      "id": "eeb792bb",
      "metadata": {},
      "outputs": [
        {
          "name": "stdout",
          "output_type": "stream",
          "text": [
            "Raw data before styling:\n"
          ]
        },
        {
          "name": "stderr",
          "output_type": "stream",
          "text": [
            "C:\\Users\\kvmit\\AppData\\Local\\Temp\\ipykernel_4420\\563934277.py:6: FutureWarning: The default of observed=False is deprecated and will be changed to True in a future version of pandas. Pass observed=False to retain current behavior or observed=True to adopt the future default and silence this warning.\n",
            "  raw_data = tips.groupby('day')[['total_bill','tip','tip_pct']].mean().round(2)\n"
          ]
        },
        {
          "data": {
            "text/html": [
              "<div>\n",
              "<style scoped>\n",
              "    .dataframe tbody tr th:only-of-type {\n",
              "        vertical-align: middle;\n",
              "    }\n",
              "\n",
              "    .dataframe tbody tr th {\n",
              "        vertical-align: top;\n",
              "    }\n",
              "\n",
              "    .dataframe thead th {\n",
              "        text-align: right;\n",
              "    }\n",
              "</style>\n",
              "<table border=\"1\" class=\"dataframe\">\n",
              "  <thead>\n",
              "    <tr style=\"text-align: right;\">\n",
              "      <th></th>\n",
              "      <th>total_bill</th>\n",
              "      <th>tip</th>\n",
              "      <th>tip_pct</th>\n",
              "    </tr>\n",
              "    <tr>\n",
              "      <th>day</th>\n",
              "      <th></th>\n",
              "      <th></th>\n",
              "      <th></th>\n",
              "    </tr>\n",
              "  </thead>\n",
              "  <tbody>\n",
              "    <tr>\n",
              "      <th>Fri</th>\n",
              "      <td>17.15</td>\n",
              "      <td>2.73</td>\n",
              "      <td>16.99</td>\n",
              "    </tr>\n",
              "    <tr>\n",
              "      <th>Sat</th>\n",
              "      <td>20.44</td>\n",
              "      <td>2.99</td>\n",
              "      <td>15.32</td>\n",
              "    </tr>\n",
              "    <tr>\n",
              "      <th>Sun</th>\n",
              "      <td>21.41</td>\n",
              "      <td>3.26</td>\n",
              "      <td>16.69</td>\n",
              "    </tr>\n",
              "    <tr>\n",
              "      <th>Thur</th>\n",
              "      <td>17.68</td>\n",
              "      <td>2.77</td>\n",
              "      <td>16.13</td>\n",
              "    </tr>\n",
              "  </tbody>\n",
              "</table>\n",
              "</div>"
            ],
            "text/plain": [
              "      total_bill   tip  tip_pct\n",
              "day                            \n",
              "Fri        17.15  2.73    16.99\n",
              "Sat        20.44  2.99    15.32\n",
              "Sun        21.41  3.26    16.69\n",
              "Thur       17.68  2.77    16.13"
            ]
          },
          "metadata": {},
          "output_type": "display_data"
        }
      ],
      "source": [
        "# Open the HTML to spot issues (NA/odd values)\n",
        "import webbrowser\n",
        "webbrowser.open('tips_report.html')\n",
        "\n",
        "# Confirm underlying numbers (pre-style) are correct\n",
        "raw_data = tips.groupby('day')[['total_bill','tip','tip_pct']].mean().round(2)\n",
        "print(\"Raw data before styling:\")\n",
        "display(raw_data)"
      ]
    },
    {
      "cell_type": "code",
      "execution_count": 139,
      "id": "62b2120d",
      "metadata": {},
      "outputs": [
        {
          "name": "stderr",
          "output_type": "stream",
          "text": [
            "C:\\Users\\kvmit\\AppData\\Local\\Temp\\ipykernel_4420\\1070500394.py:4: FutureWarning: The default of observed=False is deprecated and will be changed to True in a future version of pandas. Pass observed=False to retain current behavior or observed=True to adopt the future default and silence this warning.\n",
            "  sty_enhanced = (tips.groupby('day')[['total_bill','tip','tip_pct']].mean().round(2)\n"
          ]
        },
        {
          "data": {
            "text/plain": [
              "2874"
            ]
          },
          "execution_count": 139,
          "metadata": {},
          "output_type": "execute_result"
        }
      ],
      "source": [
        "## Extension\n",
        "\n",
        "# Add one more style and explain choice\n",
        "sty_enhanced = (tips.groupby('day')[['total_bill','tip','tip_pct']].mean().round(2)\n",
        "               .style.format({'tip_pct':'{:.2%}'})\n",
        "               .background_gradient(axis=None)\n",
        "               .highlight_max(color='lightgreen')\n",
        "               .highlight_min(color='lightcoral'))\n",
        "\n",
        "html_enhanced = sty_enhanced.to_html()\n",
        "open('tips_report_enhanced.html','w',encoding='utf-8').write(html_enhanced)\n"
      ]
    },
    {
      "cell_type": "markdown",
      "id": "BojU9TdSGMCn",
      "metadata": {
        "id": "BojU9TdSGMCn"
      },
      "source": [
        "# Capstone Mini-Project (Free Dataset): **Titanic Survival Analysis** (30–45m)"
      ]
    },
    {
      "cell_type": "markdown",
      "id": "fHXr-aRXGMCn",
      "metadata": {
        "id": "fHXr-aRXGMCn"
      },
      "source": [
        "**Source:** https://raw.githubusercontent.com/mwaskom/seaborn-data/master/titanic.csv"
      ]
    },
    {
      "cell_type": "code",
      "execution_count": 98,
      "id": "imErGmRGGMCn",
      "metadata": {
        "id": "imErGmRGGMCn"
      },
      "outputs": [],
      "source": [
        "import pandas as pd, numpy as np, matplotlib.pyplot as plt"
      ]
    },
    {
      "cell_type": "code",
      "execution_count": 99,
      "id": "biByFAtRGMCn",
      "metadata": {
        "id": "biByFAtRGMCn"
      },
      "outputs": [
        {
          "data": {
            "text/html": [
              "<div>\n",
              "<style scoped>\n",
              "    .dataframe tbody tr th:only-of-type {\n",
              "        vertical-align: middle;\n",
              "    }\n",
              "\n",
              "    .dataframe tbody tr th {\n",
              "        vertical-align: top;\n",
              "    }\n",
              "\n",
              "    .dataframe thead th {\n",
              "        text-align: right;\n",
              "    }\n",
              "</style>\n",
              "<table border=\"1\" class=\"dataframe\">\n",
              "  <thead>\n",
              "    <tr style=\"text-align: right;\">\n",
              "      <th></th>\n",
              "      <th>survived</th>\n",
              "      <th>pclass</th>\n",
              "      <th>sex</th>\n",
              "      <th>age</th>\n",
              "      <th>sibsp</th>\n",
              "      <th>parch</th>\n",
              "      <th>fare</th>\n",
              "      <th>embarked</th>\n",
              "      <th>class</th>\n",
              "      <th>who</th>\n",
              "      <th>adult_male</th>\n",
              "      <th>deck</th>\n",
              "      <th>embark_town</th>\n",
              "      <th>alive</th>\n",
              "      <th>alone</th>\n",
              "    </tr>\n",
              "  </thead>\n",
              "  <tbody>\n",
              "    <tr>\n",
              "      <th>0</th>\n",
              "      <td>0</td>\n",
              "      <td>3</td>\n",
              "      <td>male</td>\n",
              "      <td>22.0</td>\n",
              "      <td>1</td>\n",
              "      <td>0</td>\n",
              "      <td>7.2500</td>\n",
              "      <td>S</td>\n",
              "      <td>Third</td>\n",
              "      <td>man</td>\n",
              "      <td>True</td>\n",
              "      <td>NaN</td>\n",
              "      <td>Southampton</td>\n",
              "      <td>no</td>\n",
              "      <td>False</td>\n",
              "    </tr>\n",
              "    <tr>\n",
              "      <th>1</th>\n",
              "      <td>1</td>\n",
              "      <td>1</td>\n",
              "      <td>female</td>\n",
              "      <td>38.0</td>\n",
              "      <td>1</td>\n",
              "      <td>0</td>\n",
              "      <td>71.2833</td>\n",
              "      <td>C</td>\n",
              "      <td>First</td>\n",
              "      <td>woman</td>\n",
              "      <td>False</td>\n",
              "      <td>C</td>\n",
              "      <td>Cherbourg</td>\n",
              "      <td>yes</td>\n",
              "      <td>False</td>\n",
              "    </tr>\n",
              "    <tr>\n",
              "      <th>2</th>\n",
              "      <td>1</td>\n",
              "      <td>3</td>\n",
              "      <td>female</td>\n",
              "      <td>26.0</td>\n",
              "      <td>0</td>\n",
              "      <td>0</td>\n",
              "      <td>7.9250</td>\n",
              "      <td>S</td>\n",
              "      <td>Third</td>\n",
              "      <td>woman</td>\n",
              "      <td>False</td>\n",
              "      <td>NaN</td>\n",
              "      <td>Southampton</td>\n",
              "      <td>yes</td>\n",
              "      <td>True</td>\n",
              "    </tr>\n",
              "    <tr>\n",
              "      <th>3</th>\n",
              "      <td>1</td>\n",
              "      <td>1</td>\n",
              "      <td>female</td>\n",
              "      <td>35.0</td>\n",
              "      <td>1</td>\n",
              "      <td>0</td>\n",
              "      <td>53.1000</td>\n",
              "      <td>S</td>\n",
              "      <td>First</td>\n",
              "      <td>woman</td>\n",
              "      <td>False</td>\n",
              "      <td>C</td>\n",
              "      <td>Southampton</td>\n",
              "      <td>yes</td>\n",
              "      <td>False</td>\n",
              "    </tr>\n",
              "    <tr>\n",
              "      <th>4</th>\n",
              "      <td>0</td>\n",
              "      <td>3</td>\n",
              "      <td>male</td>\n",
              "      <td>35.0</td>\n",
              "      <td>0</td>\n",
              "      <td>0</td>\n",
              "      <td>8.0500</td>\n",
              "      <td>S</td>\n",
              "      <td>Third</td>\n",
              "      <td>man</td>\n",
              "      <td>True</td>\n",
              "      <td>NaN</td>\n",
              "      <td>Southampton</td>\n",
              "      <td>no</td>\n",
              "      <td>True</td>\n",
              "    </tr>\n",
              "  </tbody>\n",
              "</table>\n",
              "</div>"
            ],
            "text/plain": [
              "   survived  pclass     sex   age  sibsp  parch     fare embarked  class  \\\n",
              "0         0       3    male  22.0      1      0   7.2500        S  Third   \n",
              "1         1       1  female  38.0      1      0  71.2833        C  First   \n",
              "2         1       3  female  26.0      0      0   7.9250        S  Third   \n",
              "3         1       1  female  35.0      1      0  53.1000        S  First   \n",
              "4         0       3    male  35.0      0      0   8.0500        S  Third   \n",
              "\n",
              "     who  adult_male deck  embark_town alive  alone  \n",
              "0    man        True  NaN  Southampton    no  False  \n",
              "1  woman       False    C    Cherbourg   yes  False  \n",
              "2  woman       False  NaN  Southampton   yes   True  \n",
              "3  woman       False    C  Southampton   yes  False  \n",
              "4    man        True  NaN  Southampton    no   True  "
            ]
          },
          "execution_count": 99,
          "metadata": {},
          "output_type": "execute_result"
        }
      ],
      "source": [
        "tit_url = \"https://raw.githubusercontent.com/mwaskom/seaborn-data/master/titanic.csv\"\n",
        "titanic = pd.read_csv(tit_url)\n",
        "titanic.head()"
      ]
    },
    {
      "cell_type": "code",
      "execution_count": 100,
      "id": "ks4v0JDNGMCn",
      "metadata": {
        "id": "ks4v0JDNGMCn"
      },
      "outputs": [
        {
          "name": "stdout",
          "output_type": "stream",
          "text": [
            "Shape: (891, 15)\n",
            "\n",
            "Info:\n",
            "<class 'pandas.core.frame.DataFrame'>\n",
            "RangeIndex: 891 entries, 0 to 890\n",
            "Data columns (total 15 columns):\n",
            " #   Column       Non-Null Count  Dtype  \n",
            "---  ------       --------------  -----  \n",
            " 0   survived     891 non-null    int64  \n",
            " 1   pclass       891 non-null    int64  \n",
            " 2   sex          891 non-null    object \n",
            " 3   age          714 non-null    float64\n",
            " 4   sibsp        891 non-null    int64  \n",
            " 5   parch        891 non-null    int64  \n",
            " 6   fare         891 non-null    float64\n",
            " 7   embarked     889 non-null    object \n",
            " 8   class        891 non-null    object \n",
            " 9   who          891 non-null    object \n",
            " 10  adult_male   891 non-null    bool   \n",
            " 11  deck         203 non-null    object \n",
            " 12  embark_town  889 non-null    object \n",
            " 13  alive        891 non-null    object \n",
            " 14  alone        891 non-null    bool   \n",
            "dtypes: bool(2), float64(2), int64(4), object(7)\n",
            "memory usage: 92.4+ KB\n",
            "None\n",
            "\n",
            "Missing values per column:\n",
            "deck           688\n",
            "age            177\n",
            "embarked         2\n",
            "embark_town      2\n",
            "sex              0\n",
            "pclass           0\n",
            "survived         0\n",
            "fare             0\n",
            "parch            0\n",
            "sibsp            0\n",
            "class            0\n",
            "adult_male       0\n",
            "dtype: int64\n"
          ]
        }
      ],
      "source": [
        "print(\"Shape:\", titanic.shape)\n",
        "print(\"\\nInfo:\"); print(titanic.info())\n",
        "print(\"\\nMissing values per column:\"); print(titanic.isna().sum().sort_values(ascending=False).head(12))"
      ]
    },
    {
      "cell_type": "markdown",
      "id": "DTRhxvTdGMCo",
      "metadata": {
        "id": "DTRhxvTdGMCo"
      },
      "source": [
        "## A) Data Cleaning & Feature Engineering"
      ]
    },
    {
      "cell_type": "code",
      "execution_count": 101,
      "id": "xjpUAG-VGMCo",
      "metadata": {
        "id": "xjpUAG-VGMCo"
      },
      "outputs": [
        {
          "name": "stderr",
          "output_type": "stream",
          "text": [
            "C:\\Users\\kvmit\\AppData\\Local\\Temp\\ipykernel_4420\\587888411.py:4: FutureWarning: The default of observed=False is deprecated and will be changed to True in a future version of pandas. Pass observed=False to retain current behavior or observed=True to adopt the future default and silence this warning.\n",
            "  age_med = df.groupby(['sex','class'])['age'].transform('median')\n"
          ]
        },
        {
          "data": {
            "text/html": [
              "<div>\n",
              "<style scoped>\n",
              "    .dataframe tbody tr th:only-of-type {\n",
              "        vertical-align: middle;\n",
              "    }\n",
              "\n",
              "    .dataframe tbody tr th {\n",
              "        vertical-align: top;\n",
              "    }\n",
              "\n",
              "    .dataframe thead th {\n",
              "        text-align: right;\n",
              "    }\n",
              "</style>\n",
              "<table border=\"1\" class=\"dataframe\">\n",
              "  <thead>\n",
              "    <tr style=\"text-align: right;\">\n",
              "      <th></th>\n",
              "      <th>survived</th>\n",
              "      <th>pclass</th>\n",
              "      <th>sex</th>\n",
              "      <th>age</th>\n",
              "      <th>sibsp</th>\n",
              "      <th>parch</th>\n",
              "      <th>fare</th>\n",
              "      <th>embarked</th>\n",
              "      <th>class</th>\n",
              "      <th>who</th>\n",
              "      <th>adult_male</th>\n",
              "      <th>deck</th>\n",
              "      <th>embark_town</th>\n",
              "      <th>alive</th>\n",
              "      <th>alone</th>\n",
              "      <th>family_size</th>\n",
              "      <th>fare_pp</th>\n",
              "      <th>age_group</th>\n",
              "    </tr>\n",
              "  </thead>\n",
              "  <tbody>\n",
              "    <tr>\n",
              "      <th>0</th>\n",
              "      <td>0</td>\n",
              "      <td>3</td>\n",
              "      <td>male</td>\n",
              "      <td>22.0</td>\n",
              "      <td>1</td>\n",
              "      <td>0</td>\n",
              "      <td>7.2500</td>\n",
              "      <td>S</td>\n",
              "      <td>Third</td>\n",
              "      <td>man</td>\n",
              "      <td>True</td>\n",
              "      <td>Unknown</td>\n",
              "      <td>Southampton</td>\n",
              "      <td>no</td>\n",
              "      <td>False</td>\n",
              "      <td>2</td>\n",
              "      <td>3.6250</td>\n",
              "      <td>YoungAdult</td>\n",
              "    </tr>\n",
              "    <tr>\n",
              "      <th>1</th>\n",
              "      <td>1</td>\n",
              "      <td>1</td>\n",
              "      <td>female</td>\n",
              "      <td>38.0</td>\n",
              "      <td>1</td>\n",
              "      <td>0</td>\n",
              "      <td>71.2833</td>\n",
              "      <td>C</td>\n",
              "      <td>First</td>\n",
              "      <td>woman</td>\n",
              "      <td>False</td>\n",
              "      <td>C</td>\n",
              "      <td>Cherbourg</td>\n",
              "      <td>yes</td>\n",
              "      <td>False</td>\n",
              "      <td>2</td>\n",
              "      <td>35.6416</td>\n",
              "      <td>MidAge</td>\n",
              "    </tr>\n",
              "    <tr>\n",
              "      <th>2</th>\n",
              "      <td>1</td>\n",
              "      <td>3</td>\n",
              "      <td>female</td>\n",
              "      <td>26.0</td>\n",
              "      <td>0</td>\n",
              "      <td>0</td>\n",
              "      <td>7.9250</td>\n",
              "      <td>S</td>\n",
              "      <td>Third</td>\n",
              "      <td>woman</td>\n",
              "      <td>False</td>\n",
              "      <td>Unknown</td>\n",
              "      <td>Southampton</td>\n",
              "      <td>yes</td>\n",
              "      <td>True</td>\n",
              "      <td>1</td>\n",
              "      <td>7.9250</td>\n",
              "      <td>YoungAdult</td>\n",
              "    </tr>\n",
              "    <tr>\n",
              "      <th>3</th>\n",
              "      <td>1</td>\n",
              "      <td>1</td>\n",
              "      <td>female</td>\n",
              "      <td>35.0</td>\n",
              "      <td>1</td>\n",
              "      <td>0</td>\n",
              "      <td>53.1000</td>\n",
              "      <td>S</td>\n",
              "      <td>First</td>\n",
              "      <td>woman</td>\n",
              "      <td>False</td>\n",
              "      <td>C</td>\n",
              "      <td>Southampton</td>\n",
              "      <td>yes</td>\n",
              "      <td>False</td>\n",
              "      <td>2</td>\n",
              "      <td>26.5500</td>\n",
              "      <td>YoungAdult</td>\n",
              "    </tr>\n",
              "    <tr>\n",
              "      <th>4</th>\n",
              "      <td>0</td>\n",
              "      <td>3</td>\n",
              "      <td>male</td>\n",
              "      <td>35.0</td>\n",
              "      <td>0</td>\n",
              "      <td>0</td>\n",
              "      <td>8.0500</td>\n",
              "      <td>S</td>\n",
              "      <td>Third</td>\n",
              "      <td>man</td>\n",
              "      <td>True</td>\n",
              "      <td>Unknown</td>\n",
              "      <td>Southampton</td>\n",
              "      <td>no</td>\n",
              "      <td>True</td>\n",
              "      <td>1</td>\n",
              "      <td>8.0500</td>\n",
              "      <td>YoungAdult</td>\n",
              "    </tr>\n",
              "  </tbody>\n",
              "</table>\n",
              "</div>"
            ],
            "text/plain": [
              "   survived  pclass     sex   age  sibsp  parch     fare embarked  class  \\\n",
              "0         0       3    male  22.0      1      0   7.2500        S  Third   \n",
              "1         1       1  female  38.0      1      0  71.2833        C  First   \n",
              "2         1       3  female  26.0      0      0   7.9250        S  Third   \n",
              "3         1       1  female  35.0      1      0  53.1000        S  First   \n",
              "4         0       3    male  35.0      0      0   8.0500        S  Third   \n",
              "\n",
              "     who adult_male     deck  embark_town alive  alone  family_size  fare_pp  \\\n",
              "0    man       True  Unknown  Southampton    no  False            2   3.6250   \n",
              "1  woman      False        C    Cherbourg   yes  False            2  35.6416   \n",
              "2  woman      False  Unknown  Southampton   yes   True            1   7.9250   \n",
              "3  woman      False        C  Southampton   yes  False            2  26.5500   \n",
              "4    man       True  Unknown  Southampton    no   True            1   8.0500   \n",
              "\n",
              "    age_group  \n",
              "0  YoungAdult  \n",
              "1      MidAge  \n",
              "2  YoungAdult  \n",
              "3  YoungAdult  \n",
              "4  YoungAdult  "
            ]
          },
          "execution_count": 101,
          "metadata": {},
          "output_type": "execute_result"
        }
      ],
      "source": [
        "df = titanic.copy()\n",
        "for col in ['sex','class','embarked','embark_town','alive','who','deck','alone','adult_male']:\n",
        "    if col in df.columns: df[col] = df[col].astype('category')\n",
        "age_med = df.groupby(['sex','class'])['age'].transform('median')\n",
        "df['age'] = df['age'].fillna(age_med)\n",
        "if df['embark_town'].isna().any():\n",
        "    mode_town = df['embark_town'].mode(dropna=True)\n",
        "    if not mode_town.empty: df['embark_town'] = df['embark_town'].fillna(mode_town.iloc[0])\n",
        "df['family_size'] = df['sibsp'].fillna(0) + df['parch'].fillna(0) + 1\n",
        "df['fare_pp'] = df['fare'] / df['family_size']\n",
        "df['deck'] = df['deck'].cat.add_categories(['Unknown']).fillna('Unknown')\n",
        "bins = [0,12,18,35,50,80]; labels = ['Child','Teen','YoungAdult','MidAge','Senior']\n",
        "df['age_group'] = pd.cut(df['age'], bins=bins, labels=labels, include_lowest=True)\n",
        "df.head()"
      ]
    },
    {
      "cell_type": "markdown",
      "id": "9Ky3kdqjGMCo",
      "metadata": {
        "id": "9Ky3kdqjGMCo"
      },
      "source": [
        "### ✅ Exercise A\n",
        "Check NaNs in `age`/`embark_town`, top `family_size`, % with `fare_pp>20`."
      ]
    },
    {
      "cell_type": "markdown",
      "id": "3XZrBnWTGMCo",
      "metadata": {
        "id": "3XZrBnWTGMCo"
      },
      "source": [
        "**Hints:**\n",
        "- Concept: impute & feature engineer.\n",
        "- API: `groupby().transform('median')`, `.mode()`, `.cut`.\n"
      ]
    },
    {
      "cell_type": "code",
      "execution_count": 102,
      "id": "ifJ9p0G1GMCo",
      "metadata": {
        "colab": {
          "base_uri": "https://localhost:8080/"
        },
        "id": "ifJ9p0G1GMCo",
        "outputId": "011f2d05-1c30-4d01-e680-67b48694b88e"
      },
      "outputs": [
        {
          "name": "stdout",
          "output_type": "stream",
          "text": [
            "Missing after clean:\n",
            " age            0\n",
            "embark_town    0\n",
            "dtype: int64 \n",
            "\n",
            "Most common family sizes:\n",
            " fam_sz\n",
            "1    537\n",
            "2    161\n",
            "3    102\n",
            "4     29\n",
            "6     22\n",
            "Name: count, dtype: int64 \n",
            "\n",
            "Share of passengers with fare per person above 20: 25.36%\n"
          ]
        }
      ],
      "source": [
        "# YOUR WORK: Exercise A\n",
        "\n",
        "titanic['age']=titanic.groupby(['class','sex'])['age'].transform(\n",
        "    lambda v:v.fillna(v.median())\n",
        ")\n",
        "\n",
        "titanic['embark_town']=titanic['embark_town'].fillna(titanic['embark_town'].mode()[0])\n",
        "\n",
        "print(\"Missing after clean:\\n\",titanic[['age','embark_town']].isna().sum(),\"\\n\")\n",
        "\n",
        "titanic['fam_sz']=titanic['sibsp']+titanic['parch']+1\n",
        "print(\"Most common family sizes:\\n\",titanic['fam_sz'].value_counts().head(),\"\\n\")\n",
        "\n",
        "titanic['fare_pp']=titanic['fare']/titanic['fam_sz']\n",
        "pct_high=(titanic['fare_pp']>20).mean()*100\n",
        "print(f\"Share of passengers with fare per person above 20: {pct_high:.2f}%\")\n"
      ]
    },
    {
      "cell_type": "markdown",
      "id": "zAgiqNnyGMCo",
      "metadata": {
        "id": "zAgiqNnyGMCo"
      },
      "source": [
        "## B) Survival Patterns"
      ]
    },
    {
      "cell_type": "code",
      "execution_count": 103,
      "id": "iO8UjhLZGMCo",
      "metadata": {
        "id": "iO8UjhLZGMCo"
      },
      "outputs": [
        {
          "name": "stdout",
          "output_type": "stream",
          "text": [
            "Overall survival rate: 0.384\n"
          ]
        }
      ],
      "source": [
        "overall_survival = df['survived'].mean(); print('Overall survival rate:', round(overall_survival,3))"
      ]
    },
    {
      "cell_type": "code",
      "execution_count": 104,
      "id": "EmUYFu5AGMCo",
      "metadata": {
        "id": "EmUYFu5AGMCo"
      },
      "outputs": [
        {
          "name": "stderr",
          "output_type": "stream",
          "text": [
            "C:\\Users\\kvmit\\AppData\\Local\\Temp\\ipykernel_4420\\3625588530.py:1: FutureWarning: The default of observed=False is deprecated and will be changed to True in a future version of pandas. Pass observed=False to retain current behavior or observed=True to adopt the future default and silence this warning.\n",
            "  surv_by_class = df.groupby('class')['survived'].mean().reindex(['First','Second','Third'])\n"
          ]
        },
        {
          "data": {
            "image/png": "[encoded data removed]",
            "text/plain": [
              "<Figure size 640x480 with 1 Axes>"
            ]
          },
          "metadata": {},
          "output_type": "display_data"
        }
      ],
      "source": [
        "surv_by_class = df.groupby('class')['survived'].mean().reindex(['First','Second','Third'])\n",
        "plt.figure(); plt.bar(surv_by_class.index.astype(str), surv_by_class.values)\n",
        "plt.title('Survival Rate by Class'); plt.xlabel('class'); plt.ylabel('survival rate'); plt.show()"
      ]
    },
    {
      "cell_type": "code",
      "execution_count": 105,
      "id": "kMue6CvPGMCo",
      "metadata": {
        "id": "kMue6CvPGMCo"
      },
      "outputs": [
        {
          "name": "stderr",
          "output_type": "stream",
          "text": [
            "C:\\Users\\kvmit\\AppData\\Local\\Temp\\ipykernel_4420\\271380004.py:1: FutureWarning: The default value of observed=False is deprecated and will change to observed=True in a future version of pandas. Specify observed=False to silence this warning and retain the current behavior\n",
            "  piv = df.pivot_table(index='sex', columns='class', values='survived', aggfunc='mean')\n"
          ]
        },
        {
          "data": {
            "image/png": "[encoded data removed]",
            "text/plain": [
              "<Figure size 640x480 with 2 Axes>"
            ]
          },
          "metadata": {},
          "output_type": "display_data"
        },
        {
          "data": {
            "text/html": [
              "<div>\n",
              "<style scoped>\n",
              "    .dataframe tbody tr th:only-of-type {\n",
              "        vertical-align: middle;\n",
              "    }\n",
              "\n",
              "    .dataframe tbody tr th {\n",
              "        vertical-align: top;\n",
              "    }\n",
              "\n",
              "    .dataframe thead th {\n",
              "        text-align: right;\n",
              "    }\n",
              "</style>\n",
              "<table border=\"1\" class=\"dataframe\">\n",
              "  <thead>\n",
              "    <tr style=\"text-align: right;\">\n",
              "      <th>class</th>\n",
              "      <th>First</th>\n",
              "      <th>Second</th>\n",
              "      <th>Third</th>\n",
              "    </tr>\n",
              "    <tr>\n",
              "      <th>sex</th>\n",
              "      <th></th>\n",
              "      <th></th>\n",
              "      <th></th>\n",
              "    </tr>\n",
              "  </thead>\n",
              "  <tbody>\n",
              "    <tr>\n",
              "      <th>female</th>\n",
              "      <td>0.9681</td>\n",
              "      <td>0.9211</td>\n",
              "      <td>0.5000</td>\n",
              "    </tr>\n",
              "    <tr>\n",
              "      <th>male</th>\n",
              "      <td>0.3689</td>\n",
              "      <td>0.1574</td>\n",
              "      <td>0.1354</td>\n",
              "    </tr>\n",
              "  </tbody>\n",
              "</table>\n",
              "</div>"
            ],
            "text/plain": [
              "class    First  Second   Third\n",
              "sex                           \n",
              "female  0.9681  0.9211  0.5000\n",
              "male    0.3689  0.1574  0.1354"
            ]
          },
          "execution_count": 105,
          "metadata": {},
          "output_type": "execute_result"
        }
      ],
      "source": [
        "piv = df.pivot_table(index='sex', columns='class', values='survived', aggfunc='mean')\n",
        "plt.figure(); plt.imshow(piv.values, aspect='auto')\n",
        "plt.title('Survival Rate by Sex × Class'); plt.xlabel('class'); plt.ylabel('sex')\n",
        "plt.xticks(range(len(piv.columns)), piv.columns.astype(str))\n",
        "plt.yticks(range(len(piv.index)), piv.index.astype(str))\n",
        "plt.colorbar(); plt.show(); piv"
      ]
    },
    {
      "cell_type": "markdown",
      "id": "1rNOSXUYGMCo",
      "metadata": {
        "id": "1rNOSXUYGMCo"
      },
      "source": [
        "### ✅ Exercise B\n",
        "1) Histogram of age. 2) Boxplot fare by class. 3) Bar of survival by age_group."
      ]
    },
    {
      "cell_type": "markdown",
      "id": "g8ieRoQeGMCo",
      "metadata": {
        "id": "g8ieRoQeGMCo"
      },
      "source": [
        "**Hints:**\n",
        "- Concept: univariate + grouped visuals.\n",
        "- API: `plt.hist`, `plt.boxplot`, `groupby().mean` + `plt.bar`.\n"
      ]
    },
    {
      "cell_type": "code",
      "execution_count": 106,
      "id": "lpwhrl5TGMCo",
      "metadata": {
        "colab": {
          "base_uri": "https://localhost:8080/",
          "height": 1000
        },
        "id": "lpwhrl5TGMCo",
        "outputId": "925707b1-0cb1-496e-f38d-56d52110b4c1"
      },
      "outputs": [
        {
          "data": {
            "image/png": "[encoded data removed]",
            "text/plain": [
              "<Figure size 600x400 with 1 Axes>"
            ]
          },
          "metadata": {},
          "output_type": "display_data"
        },
        {
          "data": {
            "image/png": "[encoded data removed]",
            "text/plain": [
              "<Figure size 600x400 with 1 Axes>"
            ]
          },
          "metadata": {},
          "output_type": "display_data"
        },
        {
          "data": {
            "image/png": "[encoded data removed]",
            "text/plain": [
              "<Figure size 600x400 with 1 Axes>"
            ]
          },
          "metadata": {},
          "output_type": "display_data"
        }
      ],
      "source": [
        "# YOUR WORK: Exercise B\n",
        "\n",
        "url=\"https://raw.githubusercontent.com/mwaskom/seaborn-data/master/titanic.csv\"\n",
        "titanic=pd.read_csv(url)\n",
        "\n",
        "plt.figure(figsize=(6,4))\n",
        "plt.hist(titanic['age'].dropna(),bins=20,color='skyblue',edgecolor='black')\n",
        "plt.xlabel(\"Age\")\n",
        "plt.ylabel(\"Number\")\n",
        "plt.title(\"Passenger Age Distribution\")\n",
        "plt.show()\n",
        "\n",
        "plt.figure(figsize=(6,4))\n",
        "fare_cls=[titanic.loc[titanic['class']==c,'fare'].dropna() for c in ['First','Second','Third']]\n",
        "plt.boxplot(fare_cls,tick_labels=['First','Second','Third'])\n",
        "plt.xlabel(\"Class\")\n",
        "plt.ylabel(\"Fare Amount\")\n",
        "plt.title(\"Fare Distribution by Class\")\n",
        "plt.show()\n",
        "\n",
        "bins=[0,12,18,35,50,80]\n",
        "labels=['Child','Teen','Young Adult','Adult','Senior']\n",
        "titanic['age_cat']=pd.cut(titanic['age'],bins=bins,labels=labels,right=False)\n",
        "\n",
        "surv_age=titanic.groupby('age_cat',observed=True)['survived'].mean()\n",
        "\n",
        "plt.figure(figsize=(6,4))\n",
        "plt.bar(surv_age.index.astype(str),surv_age.values,color='salmon',edgecolor='black')\n",
        "plt.xlabel(\"Age Category\")\n",
        "plt.ylabel(\"Survival Probability\")\n",
        "plt.title(\"Survival by Age Category\")\n",
        "plt.show()\n"
      ]
    },
    {
      "cell_type": "markdown",
      "id": "jBMW5ehwGMCp",
      "metadata": {
        "id": "jBMW5ehwGMCp"
      },
      "source": [
        "## C) Subgroup Discovery"
      ]
    },
    {
      "cell_type": "code",
      "execution_count": 107,
      "id": "iNQ1Zae3GMCp",
      "metadata": {
        "id": "iNQ1Zae3GMCp"
      },
      "outputs": [
        {
          "name": "stderr",
          "output_type": "stream",
          "text": [
            "C:\\Users\\kvmit\\AppData\\Local\\Temp\\ipykernel_4420\\1601229680.py:1: FutureWarning: The default of observed=False is deprecated and will be changed to True in a future version of pandas. Pass observed=False to retain current behavior or observed=True to adopt the future default and silence this warning.\n",
            "  grp = (df.groupby(['sex','class','embark_town'])\n"
          ]
        },
        {
          "data": {
            "text/html": [
              "<div>\n",
              "<style scoped>\n",
              "    .dataframe tbody tr th:only-of-type {\n",
              "        vertical-align: middle;\n",
              "    }\n",
              "\n",
              "    .dataframe tbody tr th {\n",
              "        vertical-align: top;\n",
              "    }\n",
              "\n",
              "    .dataframe thead th {\n",
              "        text-align: right;\n",
              "    }\n",
              "</style>\n",
              "<table border=\"1\" class=\"dataframe\">\n",
              "  <thead>\n",
              "    <tr style=\"text-align: right;\">\n",
              "      <th></th>\n",
              "      <th></th>\n",
              "      <th></th>\n",
              "      <th>n</th>\n",
              "      <th>surv_rate</th>\n",
              "    </tr>\n",
              "    <tr>\n",
              "      <th>sex</th>\n",
              "      <th>class</th>\n",
              "      <th>embark_town</th>\n",
              "      <th></th>\n",
              "      <th></th>\n",
              "    </tr>\n",
              "  </thead>\n",
              "  <tbody>\n",
              "    <tr>\n",
              "      <th rowspan=\"4\" valign=\"top\">female</th>\n",
              "      <th rowspan=\"2\" valign=\"top\">First</th>\n",
              "      <th>Cherbourg</th>\n",
              "      <td>43</td>\n",
              "      <td>0.9767</td>\n",
              "    </tr>\n",
              "    <tr>\n",
              "      <th>Southampton</th>\n",
              "      <td>50</td>\n",
              "      <td>0.9600</td>\n",
              "    </tr>\n",
              "    <tr>\n",
              "      <th>Second</th>\n",
              "      <th>Southampton</th>\n",
              "      <td>67</td>\n",
              "      <td>0.9104</td>\n",
              "    </tr>\n",
              "    <tr>\n",
              "      <th>Third</th>\n",
              "      <th>Queenstown</th>\n",
              "      <td>33</td>\n",
              "      <td>0.7273</td>\n",
              "    </tr>\n",
              "    <tr>\n",
              "      <th>male</th>\n",
              "      <th>First</th>\n",
              "      <th>Cherbourg</th>\n",
              "      <td>42</td>\n",
              "      <td>0.4048</td>\n",
              "    </tr>\n",
              "    <tr>\n",
              "      <th>female</th>\n",
              "      <th>Third</th>\n",
              "      <th>Southampton</th>\n",
              "      <td>88</td>\n",
              "      <td>0.3750</td>\n",
              "    </tr>\n",
              "    <tr>\n",
              "      <th rowspan=\"4\" valign=\"top\">male</th>\n",
              "      <th>First</th>\n",
              "      <th>Southampton</th>\n",
              "      <td>79</td>\n",
              "      <td>0.3544</td>\n",
              "    </tr>\n",
              "    <tr>\n",
              "      <th>Third</th>\n",
              "      <th>Cherbourg</th>\n",
              "      <td>43</td>\n",
              "      <td>0.2326</td>\n",
              "    </tr>\n",
              "    <tr>\n",
              "      <th>Second</th>\n",
              "      <th>Southampton</th>\n",
              "      <td>97</td>\n",
              "      <td>0.1546</td>\n",
              "    </tr>\n",
              "    <tr>\n",
              "      <th>Third</th>\n",
              "      <th>Southampton</th>\n",
              "      <td>265</td>\n",
              "      <td>0.1283</td>\n",
              "    </tr>\n",
              "  </tbody>\n",
              "</table>\n",
              "</div>"
            ],
            "text/plain": [
              "                             n  surv_rate\n",
              "sex    class  embark_town                \n",
              "female First  Cherbourg     43     0.9767\n",
              "              Southampton   50     0.9600\n",
              "       Second Southampton   67     0.9104\n",
              "       Third  Queenstown    33     0.7273\n",
              "male   First  Cherbourg     42     0.4048\n",
              "female Third  Southampton   88     0.3750\n",
              "male   First  Southampton   79     0.3544\n",
              "       Third  Cherbourg     43     0.2326\n",
              "       Second Southampton   97     0.1546\n",
              "       Third  Southampton  265     0.1283"
            ]
          },
          "execution_count": 107,
          "metadata": {},
          "output_type": "execute_result"
        }
      ],
      "source": [
        "grp = (df.groupby(['sex','class','embark_town'])\n",
        "         .agg(n=('survived','size'), surv_rate=('survived','mean'))\n",
        "         .query('n >= 25')\n",
        "         .sort_values('surv_rate', ascending=False))\n",
        "grp.head(10)"
      ]
    },
    {
      "cell_type": "markdown",
      "id": "JesqeKjZGMCp",
      "metadata": {
        "id": "JesqeKjZGMCp"
      },
      "source": [
        "### ✅ Exercise C\n",
        "Families with `family_size≥4`: survival by `sex` & `class` (n + rate). Bucket `fare_pp` and compute survival per bucket."
      ]
    },
    {
      "cell_type": "markdown",
      "id": "NGEzxmI2GMCp",
      "metadata": {
        "id": "NGEzxmI2GMCp"
      },
      "source": [
        "**Hints:**\n",
        "- Concept: subgroup analysis with thresholds.\n",
        "- API: `groupby().agg`, `query`, `cut`.\n"
      ]
    },
    {
      "cell_type": "code",
      "execution_count": 108,
      "id": "TDhSYUpmGMCp",
      "metadata": {
        "colab": {
          "base_uri": "https://localhost:8080/"
        },
        "id": "TDhSYUpmGMCp",
        "outputId": "40557af5-0420-4488-d78f-d099fb88e012"
      },
      "outputs": [
        {
          "name": "stdout",
          "output_type": "stream",
          "text": [
            "Survival of passengers in families with 4 or more (split by sex and class)\n",
            "      sex   class  total    rate\n",
            "0  female   First      8  0.7500\n",
            "1  female  Second     11  1.0000\n",
            "2  female   Third     33  0.2424\n",
            "3    male   First      5  0.6000\n",
            "4    male  Second      4  0.2500\n",
            "5    male   Third     30  0.0667 \n",
            "\n",
            "Survival rate by fare per head ranges\n",
            "  fare_grp  survived\n",
            "0     0-10    0.2701\n",
            "1    10-20    0.4351\n",
            "2    20-50    0.5597\n",
            "3   50-100    0.6667\n",
            "4     100+    0.8182\n"
          ]
        }
      ],
      "source": [
        "# YOUR WORK: Exercise C\n",
        "\n",
        "url=\"https://raw.githubusercontent.com/mwaskom/seaborn-data/master/titanic.csv\"\n",
        "titanic=pd.read_csv(url)\n",
        "\n",
        "titanic['fam_sz']=titanic['sibsp']+titanic['parch']+1\n",
        "titanic['fare_per_head']=titanic['fare']/titanic['fam_sz']\n",
        "\n",
        "big_fams=titanic.query(\"fam_sz>=4\")\n",
        "\n",
        "surv_stats=(\n",
        "    big_fams\n",
        "    .groupby(['sex','class'])\n",
        "    .agg(\n",
        "        total=('survived','size'),\n",
        "        rate=('survived','mean')\n",
        "    )\n",
        "    .reset_index()\n",
        ")\n",
        "\n",
        "print(\"Survival of passengers in families with 4 or more (split by sex and class)\")\n",
        "print(surv_stats,\"\\n\")\n",
        "\n",
        "fare_bins=[0,10,20,50,100,600]\n",
        "fare_lbls=['0-10','10-20','20-50','50-100','100+']\n",
        "titanic['fare_grp']=pd.cut(titanic['fare_per_head'],bins=fare_bins,labels=fare_lbls,right=False)\n",
        "\n",
        "fare_surv=(\n",
        "    titanic\n",
        "    .groupby('fare_grp',observed=True)['survived']\n",
        "    .mean()\n",
        "    .reset_index()\n",
        ")\n",
        "\n",
        "print(\"Survival rate by fare per head ranges\")\n",
        "print(fare_surv)\n"
      ]
    },
    {
      "cell_type": "markdown",
      "id": "87VlGwK1GMCp",
      "metadata": {
        "id": "87VlGwK1GMCp"
      },
      "source": [
        "## D) Deliverables"
      ]
    },
    {
      "cell_type": "code",
      "execution_count": 109,
      "id": "FbDiIweOGMCp",
      "metadata": {
        "id": "FbDiIweOGMCp"
      },
      "outputs": [
        {
          "data": {
            "text/plain": [
              "'Saved titanic_top10_survival.html and titanic_top10_survival.csv'"
            ]
          },
          "execution_count": 109,
          "metadata": {},
          "output_type": "execute_result"
        }
      ],
      "source": [
        "top10 = grp.head(10).reset_index()\n",
        "sty = (top10.style.format({'surv_rate':'{:.2%}'}).hide(axis='index'))\n",
        "html = sty.to_html()\n",
        "open('titanic_top10_survival.html','w',encoding='utf-8').write(html)\n",
        "top10.to_csv('titanic_top10_survival.csv', index=False)\n",
        "\"Saved titanic_top10_survival.html and titanic_top10_survival.csv\""
      ]
    },
    {
      "cell_type": "markdown",
      "id": "r0cA67QFGMCp",
      "metadata": {
        "id": "r0cA67QFGMCp"
      },
      "source": [
        "### ✍️ Analysis (Capstone — Titanic) — 3–5 sentences\n",
        "- State your main finding (who/when/context) with one number and one plot reference.\n",
        "- Name one limitation in your approach (bias, leakage, imputation).\n",
        "- Suggest a next step or feature to add.\n",
        "\n",
        "### 🔎 Quick checks\n",
        "- Link the exact cell/table backing your claim.\n",
        "- Confirm deliverables (HTML + CSV) were written.\n",
        "\n",
        "### ➕ Extension (pick one)\n",
        "- Add an extra feature (e.g., `is_child`, z-scored fare) and see if subgroup ranking changes.\n",
        "- Try a different minimum group size and discuss stability.\n",
        "\n",
        "**Rubric (10 pts):** Correctness 3 • Evidence 2 • Clarity 2 • Reproducibility 2 • Exploration 1"
      ]
    },
    {
      "cell_type": "markdown",
      "id": "c116b8ff",
      "metadata": {},
      "source": [
        "The percentage formatting for tip_pct improved readability most by making it clear these are percentage values rather than decimal fractions.\n",
        "\n",
        "A stakeholder would use this HTML report for presentations, sharing with non-technical team members, or embedding in web applications where the visual formatting adds value.\n",
        "\n",
        "One caution is that styled HTML files are larger and less portable than raw data files, and the styling can make it harder to extract the underlying data for further analysis.\n"
      ]
    },
    {
      "cell_type": "code",
      "execution_count": 138,
      "id": "e817573c",
      "metadata": {},
      "outputs": [
        {
          "name": "stdout",
          "output_type": "stream",
          "text": [
            "Survival by sex and class (from Cell 134):\n"
          ]
        },
        {
          "data": {
            "text/html": [
              "<div>\n",
              "<style scoped>\n",
              "    .dataframe tbody tr th:only-of-type {\n",
              "        vertical-align: middle;\n",
              "    }\n",
              "\n",
              "    .dataframe tbody tr th {\n",
              "        vertical-align: top;\n",
              "    }\n",
              "\n",
              "    .dataframe thead th {\n",
              "        text-align: right;\n",
              "    }\n",
              "</style>\n",
              "<table border=\"1\" class=\"dataframe\">\n",
              "  <thead>\n",
              "    <tr style=\"text-align: right;\">\n",
              "      <th></th>\n",
              "      <th>sex</th>\n",
              "      <th>class</th>\n",
              "      <th>total</th>\n",
              "      <th>rate</th>\n",
              "    </tr>\n",
              "  </thead>\n",
              "  <tbody>\n",
              "    <tr>\n",
              "      <th>0</th>\n",
              "      <td>female</td>\n",
              "      <td>First</td>\n",
              "      <td>8</td>\n",
              "      <td>0.7500</td>\n",
              "    </tr>\n",
              "    <tr>\n",
              "      <th>1</th>\n",
              "      <td>female</td>\n",
              "      <td>Second</td>\n",
              "      <td>11</td>\n",
              "      <td>1.0000</td>\n",
              "    </tr>\n",
              "    <tr>\n",
              "      <th>2</th>\n",
              "      <td>female</td>\n",
              "      <td>Third</td>\n",
              "      <td>33</td>\n",
              "      <td>0.2424</td>\n",
              "    </tr>\n",
              "    <tr>\n",
              "      <th>3</th>\n",
              "      <td>male</td>\n",
              "      <td>First</td>\n",
              "      <td>5</td>\n",
              "      <td>0.6000</td>\n",
              "    </tr>\n",
              "    <tr>\n",
              "      <th>4</th>\n",
              "      <td>male</td>\n",
              "      <td>Second</td>\n",
              "      <td>4</td>\n",
              "      <td>0.2500</td>\n",
              "    </tr>\n",
              "    <tr>\n",
              "      <th>5</th>\n",
              "      <td>male</td>\n",
              "      <td>Third</td>\n",
              "      <td>30</td>\n",
              "      <td>0.0667</td>\n",
              "    </tr>\n",
              "  </tbody>\n",
              "</table>\n",
              "</div>"
            ],
            "text/plain": [
              "      sex   class  total    rate\n",
              "0  female   First      8  0.7500\n",
              "1  female  Second     11  1.0000\n",
              "2  female   Third     33  0.2424\n",
              "3    male   First      5  0.6000\n",
              "4    male  Second      4  0.2500\n",
              "5    male   Third     30  0.0667"
            ]
          },
          "metadata": {},
          "output_type": "display_data"
        },
        {
          "name": "stdout",
          "output_type": "stream",
          "text": [
            "\n",
            "Fare per person survival rates (from Cell 134):\n"
          ]
        },
        {
          "data": {
            "text/html": [
              "<div>\n",
              "<style scoped>\n",
              "    .dataframe tbody tr th:only-of-type {\n",
              "        vertical-align: middle;\n",
              "    }\n",
              "\n",
              "    .dataframe tbody tr th {\n",
              "        vertical-align: top;\n",
              "    }\n",
              "\n",
              "    .dataframe thead th {\n",
              "        text-align: right;\n",
              "    }\n",
              "</style>\n",
              "<table border=\"1\" class=\"dataframe\">\n",
              "  <thead>\n",
              "    <tr style=\"text-align: right;\">\n",
              "      <th></th>\n",
              "      <th>fare_grp</th>\n",
              "      <th>survived</th>\n",
              "    </tr>\n",
              "  </thead>\n",
              "  <tbody>\n",
              "    <tr>\n",
              "      <th>0</th>\n",
              "      <td>0-10</td>\n",
              "      <td>0.2701</td>\n",
              "    </tr>\n",
              "    <tr>\n",
              "      <th>1</th>\n",
              "      <td>10-20</td>\n",
              "      <td>0.4351</td>\n",
              "    </tr>\n",
              "    <tr>\n",
              "      <th>2</th>\n",
              "      <td>20-50</td>\n",
              "      <td>0.5597</td>\n",
              "    </tr>\n",
              "    <tr>\n",
              "      <th>3</th>\n",
              "      <td>50-100</td>\n",
              "      <td>0.6667</td>\n",
              "    </tr>\n",
              "    <tr>\n",
              "      <th>4</th>\n",
              "      <td>100+</td>\n",
              "      <td>0.8182</td>\n",
              "    </tr>\n",
              "  </tbody>\n",
              "</table>\n",
              "</div>"
            ],
            "text/plain": [
              "  fare_grp  survived\n",
              "0     0-10    0.2701\n",
              "1    10-20    0.4351\n",
              "2    20-50    0.5597\n",
              "3   50-100    0.6667\n",
              "4     100+    0.8182"
            ]
          },
          "metadata": {},
          "output_type": "display_data"
        },
        {
          "name": "stdout",
          "output_type": "stream",
          "text": [
            "\n",
            "Deliverables check:\n",
            "HTML exists: True\n",
            "CSV exists: True\n"
          ]
        }
      ],
      "source": [
        "### Quick Checks\n",
        "# Link the exact cell/table backing your claim\n",
        "print(\"Survival by sex and class (from Cell 134):\")\n",
        "display(surv_stats)\n",
        "\n",
        "print(\"\\nFare per person survival rates (from Cell 134):\")\n",
        "display(fare_surv)\n",
        "\n",
        "# Confirm deliverables (HTML + CSV) were written\n",
        "import os\n",
        "print(f\"\\nDeliverables check:\")\n",
        "print(f\"HTML exists: {os.path.exists('titanic_top10_survival.html')}\")\n",
        "print(f\"CSV exists: {os.path.exists('titanic_top10_survival.csv')}\")"
      ]
    },
    {
      "cell_type": "code",
      "execution_count": 137,
      "id": "fd0c8b29",
      "metadata": {},
      "outputs": [
        {
          "name": "stdout",
          "output_type": "stream",
          "text": [
            "Survival rates including child status:\n"
          ]
        },
        {
          "data": {
            "text/html": [
              "<div>\n",
              "<style scoped>\n",
              "    .dataframe tbody tr th:only-of-type {\n",
              "        vertical-align: middle;\n",
              "    }\n",
              "\n",
              "    .dataframe tbody tr th {\n",
              "        vertical-align: top;\n",
              "    }\n",
              "\n",
              "    .dataframe thead th {\n",
              "        text-align: right;\n",
              "    }\n",
              "</style>\n",
              "<table border=\"1\" class=\"dataframe\">\n",
              "  <thead>\n",
              "    <tr style=\"text-align: right;\">\n",
              "      <th></th>\n",
              "      <th>sex</th>\n",
              "      <th>class</th>\n",
              "      <th>is_child</th>\n",
              "      <th>total</th>\n",
              "      <th>rate</th>\n",
              "    </tr>\n",
              "  </thead>\n",
              "  <tbody>\n",
              "    <tr>\n",
              "      <th>3</th>\n",
              "      <td>female</td>\n",
              "      <td>Second</td>\n",
              "      <td>True</td>\n",
              "      <td>12</td>\n",
              "      <td>1.0000</td>\n",
              "    </tr>\n",
              "    <tr>\n",
              "      <th>7</th>\n",
              "      <td>male</td>\n",
              "      <td>First</td>\n",
              "      <td>True</td>\n",
              "      <td>4</td>\n",
              "      <td>1.0000</td>\n",
              "    </tr>\n",
              "    <tr>\n",
              "      <th>0</th>\n",
              "      <td>female</td>\n",
              "      <td>First</td>\n",
              "      <td>False</td>\n",
              "      <td>86</td>\n",
              "      <td>0.9767</td>\n",
              "    </tr>\n",
              "    <tr>\n",
              "      <th>2</th>\n",
              "      <td>female</td>\n",
              "      <td>Second</td>\n",
              "      <td>False</td>\n",
              "      <td>64</td>\n",
              "      <td>0.9062</td>\n",
              "    </tr>\n",
              "    <tr>\n",
              "      <th>1</th>\n",
              "      <td>female</td>\n",
              "      <td>First</td>\n",
              "      <td>True</td>\n",
              "      <td>8</td>\n",
              "      <td>0.8750</td>\n",
              "    </tr>\n",
              "    <tr>\n",
              "      <th>9</th>\n",
              "      <td>male</td>\n",
              "      <td>Second</td>\n",
              "      <td>True</td>\n",
              "      <td>11</td>\n",
              "      <td>0.8182</td>\n",
              "    </tr>\n",
              "    <tr>\n",
              "      <th>5</th>\n",
              "      <td>female</td>\n",
              "      <td>Third</td>\n",
              "      <td>True</td>\n",
              "      <td>35</td>\n",
              "      <td>0.5429</td>\n",
              "    </tr>\n",
              "    <tr>\n",
              "      <th>4</th>\n",
              "      <td>female</td>\n",
              "      <td>Third</td>\n",
              "      <td>False</td>\n",
              "      <td>109</td>\n",
              "      <td>0.4862</td>\n",
              "    </tr>\n",
              "    <tr>\n",
              "      <th>6</th>\n",
              "      <td>male</td>\n",
              "      <td>First</td>\n",
              "      <td>False</td>\n",
              "      <td>118</td>\n",
              "      <td>0.3475</td>\n",
              "    </tr>\n",
              "    <tr>\n",
              "      <th>11</th>\n",
              "      <td>male</td>\n",
              "      <td>Third</td>\n",
              "      <td>True</td>\n",
              "      <td>43</td>\n",
              "      <td>0.2326</td>\n",
              "    </tr>\n",
              "  </tbody>\n",
              "</table>\n",
              "</div>"
            ],
            "text/plain": [
              "       sex   class  is_child  total    rate\n",
              "3   female  Second      True     12  1.0000\n",
              "7     male   First      True      4  1.0000\n",
              "0   female   First     False     86  0.9767\n",
              "2   female  Second     False     64  0.9062\n",
              "1   female   First      True      8  0.8750\n",
              "9     male  Second      True     11  0.8182\n",
              "5   female   Third      True     35  0.5429\n",
              "4   female   Third     False    109  0.4862\n",
              "6     male   First     False    118  0.3475\n",
              "11    male   Third      True     43  0.2326"
            ]
          },
          "metadata": {},
          "output_type": "display_data"
        }
      ],
      "source": [
        "## Extension\n",
        "# Add an extra feature (is_child) and see if subgroup ranking changes\n",
        "titanic['is_child'] = titanic['age'] < 18\n",
        "\n",
        "# Re-analyze survival by sex, class, and child status\n",
        "child_surv = (titanic\n",
        "              .groupby(['sex', 'class', 'is_child'])\n",
        "              .agg(total=('survived', 'size'), rate=('survived', 'mean'))\n",
        "              .reset_index()\n",
        "              .sort_values('rate', ascending=False))\n",
        "\n",
        "print(\"Survival rates including child status:\")\n",
        "display(child_surv.head(10))\n"
      ]
    },
    {
      "cell_type": "code",
      "execution_count": null,
      "id": "22893fe7",
      "metadata": {},
      "outputs": [],
      "source": []
    }
  ],
  "metadata": {
    "colab": {
      "provenance": []
    },
    "kernelspec": {
      "display_name": "cse303_ml",
      "language": "python",
      "name": "python3"
    },
    "language_info": {
      "codemirror_mode": {
        "name": "ipython",
        "version": 3
      },
      "file_extension": ".py",
      "mimetype": "text/x-python",
      "name": "python",
      "nbconvert_exporter": "python",
      "pygments_lexer": "ipython3",
      "version": "3.10.18"
    }
  },
  "nbformat": 4,
  "nbformat_minor": 5
}

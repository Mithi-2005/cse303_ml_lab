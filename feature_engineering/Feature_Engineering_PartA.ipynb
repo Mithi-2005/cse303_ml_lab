{
 "cells": [
  {
   "cell_type": "markdown",
   "id": "7b5d3ee0",
   "metadata": {},
   "source": [
    "# 🎯 Feature Engineering — Part A: Individual Concepts (Colab-Ready)\n",
    "\n",
    "**Updated:** 2025-08-22\n",
    "\n",
    "This notebook is designed for **first-time learners**. You will practice each feature engineering step **individually** (no pipelines yet), so you can clearly see *what each step does* and *why it matters*.\n",
    "\n",
    "**What you'll practice:**\n",
    "- Dataset loading & quick audit\n",
    "- Handling missing values (drop, impute)\n",
    "- Scaling & normalization (standardization, min-max, per-row normalization)\n",
    "- Encoding categorical variables (ordinal vs one-hot)\n",
    "- Feature transformations (log, power, polynomial)\n",
    "- Simple dimensionality reduction (PCA) for visualization\n",
    "- Short exercises after each section\n",
    "\n",
    "> Use this Part A first. After you are comfortable, move to **Part B (Pipelines)** to automate and combine steps."
   ]
  },
  {
   "cell_type": "markdown",
   "id": "04499a3f",
   "metadata": {},
   "source": [
    "## 0) Setup"
   ]
  },
  {
   "cell_type": "code",
   "execution_count": 66,
   "id": "d1cd58db",
   "metadata": {},
   "outputs": [],
   "source": [
    "# If running in Google Colab, you can install optional packages here:\n",
    "# !pip install -q statsmodels==0.14.2\n",
    "\n",
    "import numpy as np\n",
    "import pandas as pd\n",
    "import matplotlib.pyplot as plt\n",
    "\n",
    "from sklearn.impute import SimpleImputer, KNNImputer\n",
    "from sklearn.preprocessing import StandardScaler, MinMaxScaler, Normalizer, OrdinalEncoder\n",
    "from sklearn.preprocessing import PolynomialFeatures, PowerTransformer,FunctionTransformer\n",
    "from sklearn.decomposition import PCA\n",
    "from sklearn.metrics import mean_squared_error\n",
    "\n",
    "pd.set_option('display.max_columns', 100)"
   ]
  },
  {
   "cell_type": "markdown",
   "id": "3de06ce7",
   "metadata": {},
   "source": [
    "## 1) Dataset Setup & Quick Audit"
   ]
  },
  {
   "cell_type": "code",
   "execution_count": 67,
   "id": "8fda59e9",
   "metadata": {},
   "outputs": [
    {
     "name": "stdout",
     "output_type": "stream",
     "text": [
      "Shape: (891, 12)\n"
     ]
    },
    {
     "data": {
      "text/html": [
       "<div>\n",
       "<style scoped>\n",
       "    .dataframe tbody tr th:only-of-type {\n",
       "        vertical-align: middle;\n",
       "    }\n",
       "\n",
       "    .dataframe tbody tr th {\n",
       "        vertical-align: top;\n",
       "    }\n",
       "\n",
       "    .dataframe thead th {\n",
       "        text-align: right;\n",
       "    }\n",
       "</style>\n",
       "<table border=\"1\" class=\"dataframe\">\n",
       "  <thead>\n",
       "    <tr style=\"text-align: right;\">\n",
       "      <th></th>\n",
       "      <th>PassengerId</th>\n",
       "      <th>Survived</th>\n",
       "      <th>Pclass</th>\n",
       "      <th>Name</th>\n",
       "      <th>Sex</th>\n",
       "      <th>Age</th>\n",
       "      <th>SibSp</th>\n",
       "      <th>Parch</th>\n",
       "      <th>Ticket</th>\n",
       "      <th>Fare</th>\n",
       "      <th>Cabin</th>\n",
       "      <th>Embarked</th>\n",
       "    </tr>\n",
       "  </thead>\n",
       "  <tbody>\n",
       "    <tr>\n",
       "      <th>0</th>\n",
       "      <td>1</td>\n",
       "      <td>0</td>\n",
       "      <td>3</td>\n",
       "      <td>Braund, Mr. Owen Harris</td>\n",
       "      <td>male</td>\n",
       "      <td>22.0</td>\n",
       "      <td>1</td>\n",
       "      <td>0</td>\n",
       "      <td>A/5 21171</td>\n",
       "      <td>7.2500</td>\n",
       "      <td>NaN</td>\n",
       "      <td>S</td>\n",
       "    </tr>\n",
       "    <tr>\n",
       "      <th>1</th>\n",
       "      <td>2</td>\n",
       "      <td>1</td>\n",
       "      <td>1</td>\n",
       "      <td>Cumings, Mrs. John Bradley (Florence Briggs Th...</td>\n",
       "      <td>female</td>\n",
       "      <td>38.0</td>\n",
       "      <td>1</td>\n",
       "      <td>0</td>\n",
       "      <td>PC 17599</td>\n",
       "      <td>71.2833</td>\n",
       "      <td>C85</td>\n",
       "      <td>C</td>\n",
       "    </tr>\n",
       "    <tr>\n",
       "      <th>2</th>\n",
       "      <td>3</td>\n",
       "      <td>1</td>\n",
       "      <td>3</td>\n",
       "      <td>Heikkinen, Miss. Laina</td>\n",
       "      <td>female</td>\n",
       "      <td>26.0</td>\n",
       "      <td>0</td>\n",
       "      <td>0</td>\n",
       "      <td>STON/O2. 3101282</td>\n",
       "      <td>7.9250</td>\n",
       "      <td>NaN</td>\n",
       "      <td>S</td>\n",
       "    </tr>\n",
       "    <tr>\n",
       "      <th>3</th>\n",
       "      <td>4</td>\n",
       "      <td>1</td>\n",
       "      <td>1</td>\n",
       "      <td>Futrelle, Mrs. Jacques Heath (Lily May Peel)</td>\n",
       "      <td>female</td>\n",
       "      <td>35.0</td>\n",
       "      <td>1</td>\n",
       "      <td>0</td>\n",
       "      <td>113803</td>\n",
       "      <td>53.1000</td>\n",
       "      <td>C123</td>\n",
       "      <td>S</td>\n",
       "    </tr>\n",
       "    <tr>\n",
       "      <th>4</th>\n",
       "      <td>5</td>\n",
       "      <td>0</td>\n",
       "      <td>3</td>\n",
       "      <td>Allen, Mr. William Henry</td>\n",
       "      <td>male</td>\n",
       "      <td>35.0</td>\n",
       "      <td>0</td>\n",
       "      <td>0</td>\n",
       "      <td>373450</td>\n",
       "      <td>8.0500</td>\n",
       "      <td>NaN</td>\n",
       "      <td>S</td>\n",
       "    </tr>\n",
       "  </tbody>\n",
       "</table>\n",
       "</div>"
      ],
      "text/plain": [
       "   PassengerId  Survived  Pclass  \\\n",
       "0            1         0       3   \n",
       "1            2         1       1   \n",
       "2            3         1       3   \n",
       "3            4         1       1   \n",
       "4            5         0       3   \n",
       "\n",
       "                                                Name     Sex   Age  SibSp  \\\n",
       "0                            Braund, Mr. Owen Harris    male  22.0      1   \n",
       "1  Cumings, Mrs. John Bradley (Florence Briggs Th...  female  38.0      1   \n",
       "2                             Heikkinen, Miss. Laina  female  26.0      0   \n",
       "3       Futrelle, Mrs. Jacques Heath (Lily May Peel)  female  35.0      1   \n",
       "4                           Allen, Mr. William Henry    male  35.0      0   \n",
       "\n",
       "   Parch            Ticket     Fare Cabin Embarked  \n",
       "0      0         A/5 21171   7.2500   NaN        S  \n",
       "1      0          PC 17599  71.2833   C85        C  \n",
       "2      0  STON/O2. 3101282   7.9250   NaN        S  \n",
       "3      0            113803  53.1000  C123        S  \n",
       "4      0            373450   8.0500   NaN        S  "
      ]
     },
     "execution_count": 67,
     "metadata": {},
     "output_type": "execute_result"
    }
   ],
   "source": [
    "# Option A: Load Titanic from a stable GitHub mirror (recommended for first run)\n",
    "URL = \"https://raw.githubusercontent.com/datasciencedojo/datasets/master/titanic.csv\"\n",
    "df = pd.read_csv(URL)\n",
    "print(\"Shape:\", df.shape)\n",
    "df.head()"
   ]
  },
  {
   "cell_type": "code",
   "execution_count": 68,
   "id": "bd6588cc",
   "metadata": {},
   "outputs": [],
   "source": [
    "# Option B: Upload your own CSV (uncomment to use in Colab)\n",
    "# from google.colab import files\n",
    "# up = files.upload()  # pick file\n",
    "# import io\n",
    "# df = pd.read_csv(io.BytesIO(up[list(up.keys())[0]]))\n",
    "# print(\"Shape:\", df.shape)\n",
    "# df.head()"
   ]
  },
  {
   "cell_type": "code",
   "execution_count": 69,
   "id": "1020b508",
   "metadata": {},
   "outputs": [
    {
     "name": "stdout",
     "output_type": "stream",
     "text": [
      "\n",
      "Info:\n",
      "<class 'pandas.core.frame.DataFrame'>\n",
      "RangeIndex: 891 entries, 0 to 890\n",
      "Data columns (total 12 columns):\n",
      " #   Column       Non-Null Count  Dtype  \n",
      "---  ------       --------------  -----  \n",
      " 0   PassengerId  891 non-null    int64  \n",
      " 1   Survived     891 non-null    int64  \n",
      " 2   Pclass       891 non-null    int64  \n",
      " 3   Name         891 non-null    object \n",
      " 4   Sex          891 non-null    object \n",
      " 5   Age          714 non-null    float64\n",
      " 6   SibSp        891 non-null    int64  \n",
      " 7   Parch        891 non-null    int64  \n",
      " 8   Ticket       891 non-null    object \n",
      " 9   Fare         891 non-null    float64\n",
      " 10  Cabin        204 non-null    object \n",
      " 11  Embarked     889 non-null    object \n",
      "dtypes: float64(2), int64(5), object(5)\n",
      "memory usage: 83.7+ KB\n",
      "\n",
      "Missing values per column:\n",
      "Cabin          687\n",
      "Age            177\n",
      "Embarked         2\n",
      "PassengerId      0\n",
      "Name             0\n",
      "Pclass           0\n",
      "Survived         0\n",
      "Sex              0\n",
      "Parch            0\n",
      "SibSp            0\n",
      "Fare             0\n",
      "Ticket           0\n",
      "dtype: int64\n",
      "\n",
      "Numeric describe:\n"
     ]
    },
    {
     "data": {
      "text/html": [
       "<div>\n",
       "<style scoped>\n",
       "    .dataframe tbody tr th:only-of-type {\n",
       "        vertical-align: middle;\n",
       "    }\n",
       "\n",
       "    .dataframe tbody tr th {\n",
       "        vertical-align: top;\n",
       "    }\n",
       "\n",
       "    .dataframe thead th {\n",
       "        text-align: right;\n",
       "    }\n",
       "</style>\n",
       "<table border=\"1\" class=\"dataframe\">\n",
       "  <thead>\n",
       "    <tr style=\"text-align: right;\">\n",
       "      <th></th>\n",
       "      <th>count</th>\n",
       "      <th>mean</th>\n",
       "      <th>std</th>\n",
       "      <th>min</th>\n",
       "      <th>25%</th>\n",
       "      <th>50%</th>\n",
       "      <th>75%</th>\n",
       "      <th>max</th>\n",
       "    </tr>\n",
       "  </thead>\n",
       "  <tbody>\n",
       "    <tr>\n",
       "      <th>PassengerId</th>\n",
       "      <td>891.0</td>\n",
       "      <td>446.000000</td>\n",
       "      <td>257.353842</td>\n",
       "      <td>1.00</td>\n",
       "      <td>223.5000</td>\n",
       "      <td>446.0000</td>\n",
       "      <td>668.5</td>\n",
       "      <td>891.0000</td>\n",
       "    </tr>\n",
       "    <tr>\n",
       "      <th>Survived</th>\n",
       "      <td>891.0</td>\n",
       "      <td>0.383838</td>\n",
       "      <td>0.486592</td>\n",
       "      <td>0.00</td>\n",
       "      <td>0.0000</td>\n",
       "      <td>0.0000</td>\n",
       "      <td>1.0</td>\n",
       "      <td>1.0000</td>\n",
       "    </tr>\n",
       "    <tr>\n",
       "      <th>Pclass</th>\n",
       "      <td>891.0</td>\n",
       "      <td>2.308642</td>\n",
       "      <td>0.836071</td>\n",
       "      <td>1.00</td>\n",
       "      <td>2.0000</td>\n",
       "      <td>3.0000</td>\n",
       "      <td>3.0</td>\n",
       "      <td>3.0000</td>\n",
       "    </tr>\n",
       "    <tr>\n",
       "      <th>Age</th>\n",
       "      <td>714.0</td>\n",
       "      <td>29.699118</td>\n",
       "      <td>14.526497</td>\n",
       "      <td>0.42</td>\n",
       "      <td>20.1250</td>\n",
       "      <td>28.0000</td>\n",
       "      <td>38.0</td>\n",
       "      <td>80.0000</td>\n",
       "    </tr>\n",
       "    <tr>\n",
       "      <th>SibSp</th>\n",
       "      <td>891.0</td>\n",
       "      <td>0.523008</td>\n",
       "      <td>1.102743</td>\n",
       "      <td>0.00</td>\n",
       "      <td>0.0000</td>\n",
       "      <td>0.0000</td>\n",
       "      <td>1.0</td>\n",
       "      <td>8.0000</td>\n",
       "    </tr>\n",
       "    <tr>\n",
       "      <th>Parch</th>\n",
       "      <td>891.0</td>\n",
       "      <td>0.381594</td>\n",
       "      <td>0.806057</td>\n",
       "      <td>0.00</td>\n",
       "      <td>0.0000</td>\n",
       "      <td>0.0000</td>\n",
       "      <td>0.0</td>\n",
       "      <td>6.0000</td>\n",
       "    </tr>\n",
       "    <tr>\n",
       "      <th>Fare</th>\n",
       "      <td>891.0</td>\n",
       "      <td>32.204208</td>\n",
       "      <td>49.693429</td>\n",
       "      <td>0.00</td>\n",
       "      <td>7.9104</td>\n",
       "      <td>14.4542</td>\n",
       "      <td>31.0</td>\n",
       "      <td>512.3292</td>\n",
       "    </tr>\n",
       "  </tbody>\n",
       "</table>\n",
       "</div>"
      ],
      "text/plain": [
       "             count        mean         std   min       25%       50%    75%  \\\n",
       "PassengerId  891.0  446.000000  257.353842  1.00  223.5000  446.0000  668.5   \n",
       "Survived     891.0    0.383838    0.486592  0.00    0.0000    0.0000    1.0   \n",
       "Pclass       891.0    2.308642    0.836071  1.00    2.0000    3.0000    3.0   \n",
       "Age          714.0   29.699118   14.526497  0.42   20.1250   28.0000   38.0   \n",
       "SibSp        891.0    0.523008    1.102743  0.00    0.0000    0.0000    1.0   \n",
       "Parch        891.0    0.381594    0.806057  0.00    0.0000    0.0000    0.0   \n",
       "Fare         891.0   32.204208   49.693429  0.00    7.9104   14.4542   31.0   \n",
       "\n",
       "                  max  \n",
       "PassengerId  891.0000  \n",
       "Survived       1.0000  \n",
       "Pclass         3.0000  \n",
       "Age           80.0000  \n",
       "SibSp          8.0000  \n",
       "Parch          6.0000  \n",
       "Fare         512.3292  "
      ]
     },
     "execution_count": 69,
     "metadata": {},
     "output_type": "execute_result"
    }
   ],
   "source": [
    "# Quick audit\n",
    "print(\"\\nInfo:\")\n",
    "df.info()\n",
    "print(\"\\nMissing values per column:\")\n",
    "print(df.isna().sum().sort_values(ascending=False))\n",
    "print(\"\\nNumeric describe:\")\n",
    "df.describe().T"
   ]
  },
  {
   "cell_type": "markdown",
   "id": "84781f19",
   "metadata": {},
   "source": [
    "## 2) Handling Missing Values (Individually)\n",
    "\n",
    "**Goal:** Learn when to **drop** vs **impute**.\n",
    "\n",
    "**Common choices**\n",
    "- Numeric: mean/median\n",
    "- Categorical: most frequent\n",
    "\n",
    "We'll practice on Titanic columns like `Age`, `Embarked`, and `Cabin`."
   ]
  },
  {
   "cell_type": "code",
   "execution_count": 70,
   "id": "865e4694",
   "metadata": {},
   "outputs": [
    {
     "data": {
      "text/plain": [
       "Cabin          687\n",
       "Age            177\n",
       "Embarked         2\n",
       "PassengerId      0\n",
       "Name             0\n",
       "Pclass           0\n",
       "Survived         0\n",
       "Sex              0\n",
       "Parch            0\n",
       "SibSp            0\n",
       "dtype: int64"
      ]
     },
     "execution_count": 70,
     "metadata": {},
     "output_type": "execute_result"
    }
   ],
   "source": [
    "# View null counts\n",
    "df.isna().sum().sort_values(ascending=False).head(10)"
   ]
  },
  {
   "cell_type": "code",
   "execution_count": 71,
   "id": "32ae03bb",
   "metadata": {},
   "outputs": [
    {
     "name": "stdout",
     "output_type": "stream",
     "text": [
      "Original: (891, 12) After drop: (712, 12)\n"
     ]
    }
   ],
   "source": [
    "# 2.1 DROP example (use cautiously)\n",
    "df_drop_rows = df.dropna(subset=['Age', 'Embarked'])  # drop rows where these are null\n",
    "print(\"Original:\", df.shape, \"After drop:\", df_drop_rows.shape)"
   ]
  },
  {
   "cell_type": "code",
   "execution_count": 72,
   "id": "1613fc7c",
   "metadata": {},
   "outputs": [
    {
     "data": {
      "text/plain": [
       "PassengerId    0\n",
       "Survived       0\n",
       "Pclass         0\n",
       "Name           0\n",
       "Sex            0\n",
       "Age            0\n",
       "SibSp          0\n",
       "Parch          0\n",
       "Ticket         0\n",
       "Fare           0\n",
       "dtype: int64"
      ]
     },
     "execution_count": 72,
     "metadata": {},
     "output_type": "execute_result"
    }
   ],
   "source": [
    "# 2.2 SIMPLE IMPUTE example\n",
    "df_imp = df.copy()\n",
    "# Numeric (Age): median\n",
    "df_imp['Age'] = df_imp['Age'].fillna(df_imp['Age'].median())\n",
    "# Categorical (Embarked): most frequent\n",
    "df_imp['Embarked'] = df_imp['Embarked'].fillna(df_imp['Embarked'].mode()[0])\n",
    "\n",
    "# 'Cabin' is very sparse; we can fill with \"Unknown\"\n",
    "df_imp['Cabin'] = df_imp['Cabin'].fillna('Unknown')\n",
    "\n",
    "df_imp.isna().sum().head(10)"
   ]
  },
  {
   "cell_type": "code",
   "execution_count": 73,
   "id": "346a57b5",
   "metadata": {},
   "outputs": [
    {
     "data": {
      "text/html": [
       "<div>\n",
       "<style scoped>\n",
       "    .dataframe tbody tr th:only-of-type {\n",
       "        vertical-align: middle;\n",
       "    }\n",
       "\n",
       "    .dataframe tbody tr th {\n",
       "        vertical-align: top;\n",
       "    }\n",
       "\n",
       "    .dataframe thead th {\n",
       "        text-align: right;\n",
       "    }\n",
       "</style>\n",
       "<table border=\"1\" class=\"dataframe\">\n",
       "  <thead>\n",
       "    <tr style=\"text-align: right;\">\n",
       "      <th></th>\n",
       "      <th>PassengerId</th>\n",
       "      <th>Survived</th>\n",
       "      <th>Pclass</th>\n",
       "      <th>Age</th>\n",
       "      <th>SibSp</th>\n",
       "      <th>Parch</th>\n",
       "      <th>Fare</th>\n",
       "    </tr>\n",
       "  </thead>\n",
       "  <tbody>\n",
       "    <tr>\n",
       "      <th>0</th>\n",
       "      <td>1.0</td>\n",
       "      <td>0.0</td>\n",
       "      <td>3.0</td>\n",
       "      <td>22.0</td>\n",
       "      <td>1.0</td>\n",
       "      <td>0.0</td>\n",
       "      <td>7.2500</td>\n",
       "    </tr>\n",
       "    <tr>\n",
       "      <th>1</th>\n",
       "      <td>2.0</td>\n",
       "      <td>1.0</td>\n",
       "      <td>1.0</td>\n",
       "      <td>38.0</td>\n",
       "      <td>1.0</td>\n",
       "      <td>0.0</td>\n",
       "      <td>71.2833</td>\n",
       "    </tr>\n",
       "    <tr>\n",
       "      <th>2</th>\n",
       "      <td>3.0</td>\n",
       "      <td>1.0</td>\n",
       "      <td>3.0</td>\n",
       "      <td>26.0</td>\n",
       "      <td>0.0</td>\n",
       "      <td>0.0</td>\n",
       "      <td>7.9250</td>\n",
       "    </tr>\n",
       "    <tr>\n",
       "      <th>3</th>\n",
       "      <td>4.0</td>\n",
       "      <td>1.0</td>\n",
       "      <td>1.0</td>\n",
       "      <td>35.0</td>\n",
       "      <td>1.0</td>\n",
       "      <td>0.0</td>\n",
       "      <td>53.1000</td>\n",
       "    </tr>\n",
       "    <tr>\n",
       "      <th>4</th>\n",
       "      <td>5.0</td>\n",
       "      <td>0.0</td>\n",
       "      <td>3.0</td>\n",
       "      <td>35.0</td>\n",
       "      <td>0.0</td>\n",
       "      <td>0.0</td>\n",
       "      <td>8.0500</td>\n",
       "    </tr>\n",
       "  </tbody>\n",
       "</table>\n",
       "</div>"
      ],
      "text/plain": [
       "   PassengerId  Survived  Pclass   Age  SibSp  Parch     Fare\n",
       "0          1.0       0.0     3.0  22.0    1.0    0.0   7.2500\n",
       "1          2.0       1.0     1.0  38.0    1.0    0.0  71.2833\n",
       "2          3.0       1.0     3.0  26.0    0.0    0.0   7.9250\n",
       "3          4.0       1.0     1.0  35.0    1.0    0.0  53.1000\n",
       "4          5.0       0.0     3.0  35.0    0.0    0.0   8.0500"
      ]
     },
     "execution_count": 73,
     "metadata": {},
     "output_type": "execute_result"
    }
   ],
   "source": [
    "# 2.3 KNN Imputation (numeric only demonstration)\n",
    "num_cols = df.select_dtypes(include=['number']).columns.tolist()\n",
    "knn_df = df[num_cols].copy()\n",
    "imputer = KNNImputer(n_neighbors=3)\n",
    "knn_imputed = imputer.fit_transform(knn_df)\n",
    "knn_imputed_df = pd.DataFrame(knn_imputed, columns=num_cols)\n",
    "knn_imputed_df.head()"
   ]
  },
  {
   "cell_type": "code",
   "execution_count": 74,
   "id": "8d195bf2",
   "metadata": {},
   "outputs": [
    {
     "data": {
      "text/plain": [
       "Index(['PassengerId', 'Survived', 'Pclass', 'Name', 'Sex', 'Age', 'SibSp',\n",
       "       'Parch', 'Ticket', 'Fare', 'Cabin', 'Embarked'],\n",
       "      dtype='object')"
      ]
     },
     "execution_count": 74,
     "metadata": {},
     "output_type": "execute_result"
    }
   ],
   "source": [
    "df.columns"
   ]
  },
  {
   "cell_type": "markdown",
   "id": "9902aff5",
   "metadata": {},
   "source": [
    "**📝 Exercise 2**\n",
    "1) Compare **mean vs median** imputation for `Age`. Which preserves the original distribution better?  \n",
    "2) For `Embarked`, try filling with a new category (`'Unknown'`) vs mode. What changes in `value_counts()`?"
   ]
  },
  {
   "cell_type": "markdown",
   "id": "3d04c85a",
   "metadata": {},
   "source": [
    "## Exercise 2\n",
    "1)"
   ]
  },
  {
   "cell_type": "code",
   "execution_count": 75,
   "id": "67f36a2e",
   "metadata": {},
   "outputs": [
    {
     "data": {
      "image/png": "[encoded data removed]",
      "text/plain": [
       "<Figure size 1200x400 with 3 Axes>"
      ]
     },
     "metadata": {},
     "output_type": "display_data"
    }
   ],
   "source": [
    "\n",
    "plt.figure(figsize=(12,4))\n",
    "\n",
    "plt.subplot(1,3,1)\n",
    "plt.hist(df['Age'].dropna(), bins=20, color=\"skyblue\", edgecolor=\"black\")\n",
    "plt.title(\"Original Age Distribution\")\n",
    "\n",
    "\n",
    "plt.subplot(1,3,2)\n",
    "plt.hist(df['Age'].fillna(df['Age'].mean()), bins=20, color=\"yellow\", edgecolor=\"black\")\n",
    "plt.title(\"After Mean Imputation\")\n",
    "\n",
    "\n",
    "plt.subplot(1,3,3)\n",
    "plt.hist(df['Age'].fillna(df['Age'].median()), bins=20, color=\"orange\", edgecolor=\"black\")\n",
    "plt.title(\"After Median Imputation\")\n",
    "\n",
    "plt.tight_layout()\n",
    "plt.show()"
   ]
  },
  {
   "cell_type": "markdown",
   "id": "7590896a",
   "metadata": {},
   "source": [
    "So here median preserves the original data distribution better than mean . Because if we use mean it is getting right skewed."
   ]
  },
  {
   "cell_type": "markdown",
   "id": "74960189",
   "metadata": {},
   "source": [
    "2."
   ]
  },
  {
   "cell_type": "code",
   "execution_count": 76,
   "id": "72807b8d",
   "metadata": {},
   "outputs": [
    {
     "data": {
      "text/plain": [
       "Embarked\n",
       "S    646\n",
       "C    168\n",
       "Q     77\n",
       "Name: count, dtype: int64"
      ]
     },
     "execution_count": 76,
     "metadata": {},
     "output_type": "execute_result"
    }
   ],
   "source": [
    "df['Embarked'].fillna(df['Embarked'].mode()[0]).value_counts()"
   ]
  },
  {
   "cell_type": "code",
   "execution_count": 77,
   "id": "2832d84c",
   "metadata": {},
   "outputs": [
    {
     "data": {
      "text/plain": [
       "Embarked\n",
       "S          644\n",
       "C          168\n",
       "Q           77\n",
       "Unknown      2\n",
       "Name: count, dtype: int64"
      ]
     },
     "execution_count": 77,
     "metadata": {},
     "output_type": "execute_result"
    }
   ],
   "source": [
    "df['Embarked'].fillna('Unknown').value_counts()"
   ]
  },
  {
   "cell_type": "markdown",
   "id": "05e60ee5",
   "metadata": {},
   "source": [
    "So here in Embarked column mode is S so if we fill with mode S category count will increase by 2(Null value count).If we fill with `Unknown` a new category will added. So if we use mode it boosts the majority category but if we use `Unknown` it creates a new category."
   ]
  },
  {
   "cell_type": "markdown",
   "id": "acba27c3",
   "metadata": {},
   "source": [
    "## 3) Scaling & Normalization (Individually)\n",
    "\n",
    "- **Standardization**: z = (x - mean)/std (good for many ML models)\n",
    "- **MinMax scaling**: maps to [0,1] (useful when features have different units)\n",
    "- **Per-row Normalization**: scales each *row vector* to unit norm (useful for text-like frequency vectors)\n",
    "\n",
    "We'll demonstrate on `Fare` and `Age`."
   ]
  },
  {
   "cell_type": "code",
   "execution_count": 78,
   "id": "4c5f5268",
   "metadata": {},
   "outputs": [
    {
     "data": {
      "image/png": "[encoded data removed]",
      "text/plain": [
       "<Figure size 1000x400 with 2 Axes>"
      ]
     },
     "metadata": {},
     "output_type": "display_data"
    }
   ],
   "source": [
    "fig, axes = plt.subplots(1, 2, figsize=(10,4))\n",
    "axes[0].hist(df_imp['Age'].dropna(), bins=30)\n",
    "axes[0].set_title('Age - Raw')\n",
    "axes[1].hist(df_imp['Fare'].dropna(), bins=30)\n",
    "axes[1].set_title('Fare - Raw')\n",
    "plt.show()"
   ]
  },
  {
   "cell_type": "code",
   "execution_count": 79,
   "id": "2196adb4",
   "metadata": {},
   "outputs": [
    {
     "data": {
      "image/png": "[encoded data removed]",
      "text/plain": [
       "<Figure size 1000x400 with 2 Axes>"
      ]
     },
     "metadata": {},
     "output_type": "display_data"
    }
   ],
   "source": [
    "sc_std = StandardScaler()\n",
    "sc_mm  = MinMaxScaler()\n",
    "\n",
    "age_std = sc_std.fit_transform(df_imp[['Age']])\n",
    "fare_mm = sc_mm.fit_transform(df_imp[['Fare']])\n",
    "\n",
    "fig, axes = plt.subplots(1, 2, figsize=(10,4))\n",
    "axes[0].hist(age_std.flatten(), bins=30)\n",
    "axes[0].set_title('Age - Standardized')\n",
    "axes[1].hist(fare_mm.flatten(), bins=30)\n",
    "axes[1].set_title('Fare - MinMax [0,1]')\n",
    "plt.show()"
   ]
  },
  {
   "cell_type": "markdown",
   "id": "34d456b1",
   "metadata": {},
   "source": [
    "**📝 Exercise 3**\n",
    "1) Standardize `Fare` and plot the histogram.  \n",
    "2) Apply **Normalizer** on `[Age, Fare]` rows and check the first 5 normalized vectors."
   ]
  },
  {
   "cell_type": "code",
   "execution_count": 80,
   "id": "33ae00ad",
   "metadata": {},
   "outputs": [
    {
     "data": {
      "text/plain": [
       "([<matplotlib.axis.XTick at 0x1f9460061a0>,\n",
       "  <matplotlib.axis.XTick at 0x1f946005120>,\n",
       "  <matplotlib.axis.XTick at 0x1f945f71cf0>,\n",
       "  <matplotlib.axis.XTick at 0x1f945f72890>,\n",
       "  <matplotlib.axis.XTick at 0x1f945f73100>,\n",
       "  <matplotlib.axis.XTick at 0x1f945f73e80>,\n",
       "  <matplotlib.axis.XTick at 0x1f945f73430>,\n",
       "  <matplotlib.axis.XTick at 0x1f945f70220>,\n",
       "  <matplotlib.axis.XTick at 0x1f94618f790>,\n",
       "  <matplotlib.axis.XTick at 0x1f94618d600>,\n",
       "  <matplotlib.axis.XTick at 0x1f94618d240>],\n",
       " [Text(-1, 0, '−1'),\n",
       "  Text(0, 0, '0'),\n",
       "  Text(1, 0, '1'),\n",
       "  Text(2, 0, '2'),\n",
       "  Text(3, 0, '3'),\n",
       "  Text(4, 0, '4'),\n",
       "  Text(5, 0, '5'),\n",
       "  Text(6, 0, '6'),\n",
       "  Text(7, 0, '7'),\n",
       "  Text(8, 0, '8'),\n",
       "  Text(9, 0, '9')])"
      ]
     },
     "execution_count": 80,
     "metadata": {},
     "output_type": "execute_result"
    },
    {
     "data": {
      "image/png": "[encoded data removed]",
      "text/plain": [
       "<Figure size 640x480 with 1 Axes>"
      ]
     },
     "metadata": {},
     "output_type": "display_data"
    }
   ],
   "source": [
    "fare_std=sc_std.fit_transform(df_imp[['Fare']])\n",
    "\n",
    "plt.hist(fare_std, bins=20,color=\"orangered\", edgecolor=\"black\")\n",
    "plt.title(\"Original Age Distribution\")\n",
    "plt.xticks(range(-1,10))\n",
    "\n"
   ]
  },
  {
   "cell_type": "code",
   "execution_count": 81,
   "id": "54d1cacb",
   "metadata": {},
   "outputs": [
    {
     "data": {
      "text/plain": [
       "array([[0.94975704, 0.31298812],\n",
       "       [0.47041706, 0.88244422],\n",
       "       [0.95655127, 0.29156418],\n",
       "       [0.55033828, 0.83494178],\n",
       "       [0.97455519, 0.22414769]])"
      ]
     },
     "execution_count": 81,
     "metadata": {},
     "output_type": "execute_result"
    }
   ],
   "source": [
    "normalizer=Normalizer()\n",
    "age_fare_nor=normalizer.fit_transform(df_imp[['Age','Fare']])\n",
    "age_fare_nor[:5,:]"
   ]
  },
  {
   "cell_type": "markdown",
   "id": "fdf2e146",
   "metadata": {},
   "source": [
    "## 4) Encoding Categorical Variables (Individually)\n",
    "\n",
    "- **Ordinal/Label encoding**: map categories to integers (assumes order or used with tree models).  \n",
    "- **One-Hot encoding**: binary column per category (no order assumption).\n",
    "\n",
    "We'll use `Sex` and `Embarked` as examples."
   ]
  },
  {
   "cell_type": "code",
   "execution_count": 82,
   "id": "8a961c29",
   "metadata": {},
   "outputs": [
    {
     "data": {
      "text/html": [
       "<div>\n",
       "<style scoped>\n",
       "    .dataframe tbody tr th:only-of-type {\n",
       "        vertical-align: middle;\n",
       "    }\n",
       "\n",
       "    .dataframe tbody tr th {\n",
       "        vertical-align: top;\n",
       "    }\n",
       "\n",
       "    .dataframe thead th {\n",
       "        text-align: right;\n",
       "    }\n",
       "</style>\n",
       "<table border=\"1\" class=\"dataframe\">\n",
       "  <thead>\n",
       "    <tr style=\"text-align: right;\">\n",
       "      <th></th>\n",
       "      <th>Sex_ord</th>\n",
       "      <th>Embarked_ord</th>\n",
       "    </tr>\n",
       "  </thead>\n",
       "  <tbody>\n",
       "    <tr>\n",
       "      <th>0</th>\n",
       "      <td>1.0</td>\n",
       "      <td>2.0</td>\n",
       "    </tr>\n",
       "    <tr>\n",
       "      <th>1</th>\n",
       "      <td>0.0</td>\n",
       "      <td>0.0</td>\n",
       "    </tr>\n",
       "    <tr>\n",
       "      <th>2</th>\n",
       "      <td>0.0</td>\n",
       "      <td>2.0</td>\n",
       "    </tr>\n",
       "    <tr>\n",
       "      <th>3</th>\n",
       "      <td>0.0</td>\n",
       "      <td>2.0</td>\n",
       "    </tr>\n",
       "    <tr>\n",
       "      <th>4</th>\n",
       "      <td>1.0</td>\n",
       "      <td>2.0</td>\n",
       "    </tr>\n",
       "  </tbody>\n",
       "</table>\n",
       "</div>"
      ],
      "text/plain": [
       "   Sex_ord  Embarked_ord\n",
       "0      1.0           2.0\n",
       "1      0.0           0.0\n",
       "2      0.0           2.0\n",
       "3      0.0           2.0\n",
       "4      1.0           2.0"
      ]
     },
     "execution_count": 82,
     "metadata": {},
     "output_type": "execute_result"
    }
   ],
   "source": [
    "# 4.1 Ordinal encoding demo (note: no real order in Sex/Embarked; this is just to illustrate)\n",
    "enc = OrdinalEncoder()\n",
    "ord_demo = df_imp[['Sex','Embarked']].copy()\n",
    "ord_vals = enc.fit_transform(ord_demo)\n",
    "pd.DataFrame(ord_vals, columns=['Sex_ord','Embarked_ord']).head()"
   ]
  },
  {
   "cell_type": "code",
   "execution_count": 83,
   "id": "fb67c353",
   "metadata": {},
   "outputs": [
    {
     "data": {
      "text/html": [
       "<div>\n",
       "<style scoped>\n",
       "    .dataframe tbody tr th:only-of-type {\n",
       "        vertical-align: middle;\n",
       "    }\n",
       "\n",
       "    .dataframe tbody tr th {\n",
       "        vertical-align: top;\n",
       "    }\n",
       "\n",
       "    .dataframe thead th {\n",
       "        text-align: right;\n",
       "    }\n",
       "</style>\n",
       "<table border=\"1\" class=\"dataframe\">\n",
       "  <thead>\n",
       "    <tr style=\"text-align: right;\">\n",
       "      <th></th>\n",
       "      <th>Survived</th>\n",
       "      <th>Age</th>\n",
       "      <th>Fare</th>\n",
       "      <th>Sex_female</th>\n",
       "      <th>Sex_male</th>\n",
       "      <th>Embarked_C</th>\n",
       "      <th>Embarked_Q</th>\n",
       "      <th>Embarked_S</th>\n",
       "    </tr>\n",
       "  </thead>\n",
       "  <tbody>\n",
       "    <tr>\n",
       "      <th>0</th>\n",
       "      <td>0</td>\n",
       "      <td>22.0</td>\n",
       "      <td>7.2500</td>\n",
       "      <td>False</td>\n",
       "      <td>True</td>\n",
       "      <td>False</td>\n",
       "      <td>False</td>\n",
       "      <td>True</td>\n",
       "    </tr>\n",
       "    <tr>\n",
       "      <th>1</th>\n",
       "      <td>1</td>\n",
       "      <td>38.0</td>\n",
       "      <td>71.2833</td>\n",
       "      <td>True</td>\n",
       "      <td>False</td>\n",
       "      <td>True</td>\n",
       "      <td>False</td>\n",
       "      <td>False</td>\n",
       "    </tr>\n",
       "    <tr>\n",
       "      <th>2</th>\n",
       "      <td>1</td>\n",
       "      <td>26.0</td>\n",
       "      <td>7.9250</td>\n",
       "      <td>True</td>\n",
       "      <td>False</td>\n",
       "      <td>False</td>\n",
       "      <td>False</td>\n",
       "      <td>True</td>\n",
       "    </tr>\n",
       "    <tr>\n",
       "      <th>3</th>\n",
       "      <td>1</td>\n",
       "      <td>35.0</td>\n",
       "      <td>53.1000</td>\n",
       "      <td>True</td>\n",
       "      <td>False</td>\n",
       "      <td>False</td>\n",
       "      <td>False</td>\n",
       "      <td>True</td>\n",
       "    </tr>\n",
       "    <tr>\n",
       "      <th>4</th>\n",
       "      <td>0</td>\n",
       "      <td>35.0</td>\n",
       "      <td>8.0500</td>\n",
       "      <td>False</td>\n",
       "      <td>True</td>\n",
       "      <td>False</td>\n",
       "      <td>False</td>\n",
       "      <td>True</td>\n",
       "    </tr>\n",
       "  </tbody>\n",
       "</table>\n",
       "</div>"
      ],
      "text/plain": [
       "   Survived   Age     Fare  Sex_female  Sex_male  Embarked_C  Embarked_Q  \\\n",
       "0         0  22.0   7.2500       False      True       False       False   \n",
       "1         1  38.0  71.2833        True     False        True       False   \n",
       "2         1  26.0   7.9250        True     False       False       False   \n",
       "3         1  35.0  53.1000        True     False       False       False   \n",
       "4         0  35.0   8.0500       False      True       False       False   \n",
       "\n",
       "   Embarked_S  \n",
       "0        True  \n",
       "1       False  \n",
       "2        True  \n",
       "3        True  \n",
       "4        True  "
      ]
     },
     "execution_count": 83,
     "metadata": {},
     "output_type": "execute_result"
    }
   ],
   "source": [
    "# 4.2 One-Hot encoding demo with pandas\n",
    "ohe_embarked = pd.get_dummies(df_imp['Embarked'], prefix='Embarked')\n",
    "ohe_sex = pd.get_dummies(df_imp['Sex'], prefix='Sex')\n",
    "encoded_df = pd.concat([df_imp[['Survived','Age','Fare']], ohe_sex, ohe_embarked], axis=1)\n",
    "encoded_df.head()"
   ]
  },
  {
   "cell_type": "markdown",
   "id": "5be0cd1f",
   "metadata": {},
   "source": [
    "**📝 Exercise 4**\n",
    "1) Compare the **number of features** produced by ordinal vs one-hot for `Embarked`.  \n",
    "2) Why might one-hot be safer for linear models?"
   ]
  },
  {
   "cell_type": "markdown",
   "id": "7a365a8f",
   "metadata": {},
   "source": [
    "1) In ordinal there is no new features added as it labelled (S,Q,C) as (2,1,0) but in OHE it creates three columns and use [0,0,1] for S , [1,0,0] for C etc."
   ]
  },
  {
   "cell_type": "markdown",
   "id": "22bf58c5",
   "metadata": {},
   "source": [
    "2) As we know , generally Ordinal encoding label the categories as [0,1,2....] which imposes an artificial order which cause our model to think 1 is better than 0 which is not correct. SO OHE is safer."
   ]
  },
  {
   "cell_type": "markdown",
   "id": "8c161dfa",
   "metadata": {},
   "source": [
    "## 5) Feature Transformation (Individually)\n",
    "\n",
    "- **Log transform**: t = log1p(x) for right-skewed positive data (e.g., Fare).\n",
    "- **Power transform**: Yeo-Johnson can handle zero/negative values; stabilizes variance.\n",
    "- **Polynomial features**: create interactions/quadratics for simple non-linear modeling.\n",
    "\n",
    "We'll use `Fare` and `Age`."
   ]
  },
  {
   "cell_type": "code",
   "execution_count": 84,
   "id": "1c5012b4",
   "metadata": {},
   "outputs": [
    {
     "data": {
      "image/png": "[encoded data removed]",
      "text/plain": [
       "<Figure size 1000x400 with 2 Axes>"
      ]
     },
     "metadata": {},
     "output_type": "display_data"
    }
   ],
   "source": [
    "# 5.1 Log transform on Fare (positive values)\n",
    "fare_raw = df_imp['Fare'].dropna().values.reshape(-1,1)\n",
    "fare_log = np.log1p(fare_raw)\n",
    "\n",
    "fig, axes = plt.subplots(1, 2, figsize=(10,4))\n",
    "axes[0].hist(fare_raw.flatten(), bins=30)\n",
    "axes[0].set_title('Fare - Raw')\n",
    "axes[1].hist(fare_log.flatten(), bins=30)\n",
    "axes[1].set_title('Fare - log1p')\n",
    "plt.show()"
   ]
  },
  {
   "cell_type": "code",
   "execution_count": 85,
   "id": "c8c34a54",
   "metadata": {},
   "outputs": [
    {
     "data": {
      "image/png": "[encoded data removed]",
      "text/plain": [
       "<Figure size 1000x400 with 2 Axes>"
      ]
     },
     "metadata": {},
     "output_type": "display_data"
    }
   ],
   "source": [
    "# 5.2 Power transform (Yeo-Johnson) on [Age, Fare]\n",
    "pt = PowerTransformer(method='yeo-johnson')\n",
    "af = df_imp[['Age','Fare']].dropna()\n",
    "af_pt = pt.fit_transform(af)\n",
    "\n",
    "fig, axes = plt.subplots(1, 2, figsize=(10,4))\n",
    "axes[0].hist(af['Age'].values, bins=30)\n",
    "axes[0].set_title('Age - Raw')\n",
    "axes[1].hist(af_pt[:,0], bins=30)\n",
    "axes[1].set_title('Age - Yeo-Johnson')\n",
    "plt.show()"
   ]
  },
  {
   "cell_type": "code",
   "execution_count": 86,
   "id": "b4d9c780",
   "metadata": {},
   "outputs": [
    {
     "name": "stdout",
     "output_type": "stream",
     "text": [
      "Original shape: (891, 2)  -> With poly: (891, 5)\n"
     ]
    },
    {
     "data": {
      "text/plain": [
       "array(['Age', 'Fare', 'Age^2', 'Age Fare', 'Fare^2'], dtype=object)"
      ]
     },
     "execution_count": 86,
     "metadata": {},
     "output_type": "execute_result"
    }
   ],
   "source": [
    "# 5.3 Polynomial features on [Age, Fare] (degree=2)\n",
    "poly = PolynomialFeatures(degree=2, include_bias=False)\n",
    "af_poly = poly.fit_transform(af[['Age','Fare']])\n",
    "print(\"Original shape:\", af[['Age','Fare']].shape, \" -> With poly:\", af_poly.shape)\n",
    "poly.get_feature_names_out(['Age','Fare'])[:6]"
   ]
  },
  {
   "cell_type": "code",
   "execution_count": 87,
   "id": "be80804f",
   "metadata": {},
   "outputs": [
    {
     "name": "stdout",
     "output_type": "stream",
     "text": [
      "<class 'pandas.core.frame.DataFrame'>\n",
      "RangeIndex: 891 entries, 0 to 890\n",
      "Data columns (total 12 columns):\n",
      " #   Column       Non-Null Count  Dtype  \n",
      "---  ------       --------------  -----  \n",
      " 0   PassengerId  891 non-null    int64  \n",
      " 1   Survived     891 non-null    int64  \n",
      " 2   Pclass       891 non-null    int64  \n",
      " 3   Name         891 non-null    object \n",
      " 4   Sex          891 non-null    object \n",
      " 5   Age          714 non-null    float64\n",
      " 6   SibSp        891 non-null    int64  \n",
      " 7   Parch        891 non-null    int64  \n",
      " 8   Ticket       891 non-null    object \n",
      " 9   Fare         891 non-null    float64\n",
      " 10  Cabin        204 non-null    object \n",
      " 11  Embarked     889 non-null    object \n",
      "dtypes: float64(2), int64(5), object(5)\n",
      "memory usage: 83.7+ KB\n"
     ]
    }
   ],
   "source": [
    "df.info()"
   ]
  },
  {
   "cell_type": "markdown",
   "id": "86f15002",
   "metadata": {},
   "source": [
    "**📝 Exercise 5**\n",
    "1) Identify one numeric column that is **skewed**. Try both **log** and **power** transforms and compare histograms.  \n",
    "2) With `PolynomialFeatures(2)`, which new terms are created from `Age` and `Fare`?"
   ]
  },
  {
   "cell_type": "code",
   "execution_count": 90,
   "id": "2bbac294",
   "metadata": {},
   "outputs": [
    {
     "data": {
      "text/plain": [
       "(array([678.,   0.,   0.,   0.,   0.,   0.,   0., 118.,   0.,   0.,   0.,\n",
       "         80.,   0.,   0.,   5.,   0.,   4.,   0.,   5.,   1.]),\n",
       " array([0.        , 0.09729551, 0.19459101, 0.29188652, 0.38918203,\n",
       "        0.48647754, 0.58377304, 0.68106855, 0.77836406, 0.87565957,\n",
       "        0.97295507, 1.07025058, 1.16754609, 1.2648416 , 1.3621371 ,\n",
       "        1.45943261, 1.55672812, 1.65402363, 1.75131913, 1.84861464,\n",
       "        1.94591015]),\n",
       " <BarContainer object of 20 artists>)"
      ]
     },
     "execution_count": 90,
     "metadata": {},
     "output_type": "execute_result"
    },
    {
     "data": {
      "image/png": "[encoded data removed]",
      "text/plain": [
       "<Figure size 640x480 with 1 Axes>"
      ]
     },
     "metadata": {},
     "output_type": "display_data"
    }
   ],
   "source": [
    "\n",
    "lt=FunctionTransformer(func=np.log1p)\n",
    "parch_lt=lt.fit_transform(df_imp['Parch'])\n",
    "plt.hist(parch_lt,color='lightgreen',bins=20)"
   ]
  },
  {
   "cell_type": "markdown",
   "id": "8b550f5f",
   "metadata": {},
   "source": [
    "## 6) Simple Dimensionality Reduction (PCA) — Visualization Only\n",
    "\n",
    "We will apply PCA to **numeric** features to reduce to 2D and make a scatter plot colored by `Survived` (if present).\n",
    "\n",
    "> Note: This is for **intuition/visualization** only in Part A."
   ]
  },
  {
   "cell_type": "code",
   "execution_count": 89,
   "id": "888f66b0",
   "metadata": {},
   "outputs": [
    {
     "name": "stdout",
     "output_type": "stream",
     "text": [
      "Explained variance ratios: [0.96165195 0.03587775]\n"
     ]
    },
    {
     "data": {
      "image/png": "[encoded data removed]",
      "text/plain": [
       "<Figure size 600x500 with 1 Axes>"
      ]
     },
     "metadata": {},
     "output_type": "display_data"
    }
   ],
   "source": [
    "# Prepare a numeric-only frame (drop NA for simplicity here)\n",
    "num_only = df_imp.select_dtypes(include=['number']).dropna()\n",
    "y = df_imp.loc[num_only.index, 'Survived'] if 'Survived' in df_imp.columns else None\n",
    "\n",
    "pca = PCA(n_components=2, random_state=42)\n",
    "Z = pca.fit_transform(num_only.values)\n",
    "\n",
    "print(\"Explained variance ratios:\", pca.explained_variance_ratio_)\n",
    "\n",
    "# Plot\n",
    "plt.figure(figsize=(6,5))\n",
    "if y is not None:\n",
    "    # Color by Survived (0/1). Using a simple split to avoid specifying colors.\n",
    "    idx0 = (y.values == 0)\n",
    "    idx1 = (y.values == 1)\n",
    "    plt.scatter(Z[idx0,0], Z[idx0,1], s=10, label='Survived=0')\n",
    "    plt.scatter(Z[idx1,0], Z[idx1,1], s=10, label='Survived=1')\n",
    "    plt.legend()\n",
    "else:\n",
    "    plt.scatter(Z[:,0], Z[:,1], s=10)\n",
    "plt.xlabel('PC1'); plt.ylabel('PC2'); plt.title('PCA (numeric only)')\n",
    "plt.show()"
   ]
  },
  {
   "cell_type": "markdown",
   "id": "ade92af5",
   "metadata": {},
   "source": [
    "**📝 Exercise 6**\n",
    "1) Which **two numeric columns** contribute the most variance before PCA (use `df.var()`)?  \n",
    "2) Try PCA with `n_components=3` and print the cumulative explained variance."
   ]
  },
  {
   "cell_type": "markdown",
   "id": "2d52dd9c",
   "metadata": {},
   "source": [
    "## 7) Consolidated Practice (No Pipelines Yet)\n",
    "\n",
    "Using the operations you've learned, perform a **clean preprocessing** (manually):\n",
    "1) Impute: `Age` (median), `Embarked` (mode), `Cabin` ('Unknown').  \n",
    "2) Scale: standardize `Age` and min-max scale `Fare`.  \n",
    "3) Encode: one-hot `Sex` and `Embarked`.  \n",
    "4) Transform: log1p `Fare`.  \n",
    "5) (Optional) PCA on numeric subset for 2D visualization.\n",
    "\n",
    "Then, answer:\n",
    "- Which step **changed the data distribution** the most?\n",
    "- Which encoding produced **more features**, ordinal or one-hot? Why?\n",
    "- If you trained a simple logistic regression on your manually processed features, what **accuracy** do you get on a 75/25 split? (Optional challenge)"
   ]
  },
  {
   "cell_type": "markdown",
   "id": "6e7413b3",
   "metadata": {},
   "source": [
    "## ✅ What You Should Take Away from Part A\n",
    "\n",
    "- Each step (imputation, scaling, encoding, transforms) has a **clear purpose** and **visible effect**.  \n",
    "- You can now apply them **manually** and reason about their impact.  \n",
    "- Next: move to **Part B (Pipelines)** to **combine & automate** these steps safely (avoid leakage, enable cross-validation, and reproducibility)."
   ]
  }
 ],
 "metadata": {
  "kernelspec": {
   "display_name": "cse303_ml",
   "language": "python",
   "name": "python3"
  },
  "language_info": {
   "codemirror_mode": {
    "name": "ipython",
    "version": 3
   },
   "file_extension": ".py",
   "mimetype": "text/x-python",
   "name": "python",
   "nbconvert_exporter": "python",
   "pygments_lexer": "ipython3",
   "version": "3.10.18"
  }
 },
 "nbformat": 4,
 "nbformat_minor": 5
}
